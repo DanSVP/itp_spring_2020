{
 "cells": [
  {
   "cell_type": "markdown",
   "metadata": {},
   "source": [
    "# Introduction to Python - Lecture 13 (May 14th 2020)\n",
    "\n",
    "## -------------- Pandas and Seaborn to analyze data ---------------\n",
    "\n",
    "This class will focus on:\n",
    "  - Advanced Pandas\n",
    "  - Plotting with Seaborn\n",
    "    \n",
    "## --------------------------------------------------------------------------\n",
    "\n",
    "Links for this class\n",
    "<br>\n",
    "\n",
    " - Stack Overflow: https://stackoverflow.com/c/nyumc-coding-courses/questions\n",
    "\n",
    " - Online Courses Page: http://fenyolab.org/presentations/Bioinformatics_2020/\n",
    "\n",
    "\n",
    "### The packages needed for todays lecture:\n",
    "\n",
    "+ jupyter\n",
    "+ matplotlib\n",
    "+ numpy\n",
    "+ pandas\n",
    "+ seaborn\n",
    "\n",
    "\n",
    "### Links for this lecture\n",
    "\n",
    "- Pandas\n",
    "https://pandas.pydata.org/docs/user_guide/index.html\n",
    "\n",
    "- Matplotlib\n",
    "https://matplotlib.org/\n",
    "\n",
    "- Seaborn\n",
    "https://seaborn.pydata.org/\n",
    "\n",
    "- examples for data science based on Numpy and Panda\n",
    "\n",
    "https://towardsdatascience.com/\n",
    "\n",
    "https://realpython.com/\n",
    "\n",
    "### Cheat sheets\n",
    "\n",
    "+ Pandas\n",
    "<br>                      \n",
    "https://ugoproto.github.io/ugo_py_doc/pdf/pandas-cheat-sheet.pdf\n",
    "https://pandas.pydata.org/Pandas_Cheat_Sheet.pdf\n",
    "\n",
    "\n",
    "+ matplotlib\n",
    "<br>   \n",
    "https://s3.amazonaws.com/assets.datacamp.com/blog_assets/Python_Matplotlib_Cheat_Sheet.pdf\n",
    "\n",
    "\n",
    "+ seaborn\n",
    "<br>   \n",
    "https://s3.amazonaws.com/assets.datacamp.com/blog_assets/Python_Seaborn_Cheat_Sheet.pdf"
   ]
  },
  {
   "cell_type": "markdown",
   "metadata": {},
   "source": [
    "### The Journey so Far\n",
    "\n",
    "In the previous lectures we learned how to load data into a dataframe and then extract specific subsets of data from the dataframe. We also created some plots using matplotlib.\n",
    "\n",
    "Today we will look at more advanced functionality:\n",
    "  + Creating new rows/columns\n",
    "    + Using new data\n",
    "    + Using data in existing columns\n",
    "  + Grouping data\n",
    "  + Aggregating data\n",
    "  + Applying functions accross rows/columns\n",
    "  + Restructuring the table\n",
    "    + Converting a wide format table into a long format\n",
    "    + Converting a long format table into a wide format\n",
    "  + Different types of plots in Seaborn\n",
    "  + Adjusting Color Pallets\n",
    "  + Adjusting figure size\n",
    "    + Using `plt.figure()` for each plot\n",
    "    + Using seaborn rc\n",
    "  + Changing plot aesthetics\n",
    "    \n",
    "Lets start by importing pandas, numpy and matplotlib\n",
    "\n",
    "```python\n",
    "import pandas as pd\n",
    "import numpy as np\n",
    "import matplotlib as plt\n",
    "```"
   ]
  },
  {
   "cell_type": "code",
   "execution_count": null,
   "metadata": {},
   "outputs": [],
   "source": [
    "#write your code here: \n",
    "\n",
    "import pandas as pd\n",
    "import numpy as np\n",
    "import matplotlib.pyplot as plt"
   ]
  },
  {
   "cell_type": "markdown",
   "metadata": {},
   "source": [
    "### Adding New Data\n",
    "\n",
    "\n",
    "```python\n",
    "df = pd.DataFrame({'a': [0,0,0,0], 'b': [1, 1, 1 ,1]})\n",
    "df\n",
    "```\n",
    "\n",
    "##### Adding rows:\n",
    "+ Using append\\(\\)\n",
    "    + The rows must be represented as a dictionary\n",
    "      + key = column\n",
    "      + value is the value\n",
    "    + The ignore index flag must be set\n",
    "    + This operation does not alter the original dataframe\n",
    "\n",
    "```python\n",
    "df = pd.DataFrame({'a': [0,0,0,0], 'b': [1, 1, 1 ,1]})\n",
    "df = df.append({'a': 1, 'b':2}, ignore_index=True)\n",
    "df\n",
    "```\n",
    "\n",
    "+ Using loc\n",
    "    + We can add a new row using `df.loc[\"row_name\"]` or `df.loc[index]`\n",
    "    \n",
    "```python\n",
    "# this will add a row containing zeros\n",
    "df.loc[len(df)] = 0\n",
    "# this will add a row with a=5 and b=6\n",
    "df.loc[len(df)] = [5, 6]\n",
    "# The number of elements in the array need to match the number of columns\n",
    "# df.loc[len(df)] = [1, 2, 3]\n",
    "```\n",
    "  "
   ]
  },
  {
   "cell_type": "code",
   "execution_count": null,
   "metadata": {},
   "outputs": [],
   "source": [
    "#write your code here: \n",
    "\n",
    "df = pd.DataFrame({'a': [0,0,0,0], 'b': [1, 1, 1 ,1]})\n",
    "df = df.append({'a': 1, 'b':2}, ignore_index=True)\n",
    "\n",
    "df.loc[len(df)] = np.nan\n",
    "df.loc[len(df)] = [5, 6]\n",
    "\n",
    "df.loc[10] = 9\n",
    "\n",
    "df.reset_index(drop=True)"
   ]
  },
  {
   "cell_type": "markdown",
   "metadata": {},
   "source": [
    "##### Adding columns:\n",
    "+ Using indexing[]\n",
    "    + Updates the existing DataFrame\n",
    "    + Either it must be assigned to a list with the same number of elements as there are rows\n",
    "    + Or a constant can be assigned\n",
    "\n",
    "```python\n",
    "df = pd.DataFrame({'a': [0,0,0,0], 'b': [1, 1, 1 ,1]})\n",
    "df[\"c\"] = [1,2,3,4]\n",
    "df[\"d\"] = 5\n",
    "df\n",
    "```"
   ]
  },
  {
   "cell_type": "code",
   "execution_count": null,
   "metadata": {},
   "outputs": [],
   "source": [
    "#write your code here: \n",
    "\n",
    "df = pd.DataFrame({'a': [0,0,0,0], 'b': [1, 1, 1 ,1]})\n",
    "df[\"c\"] = [1,2,3,4]\n",
    "df[\"d\"] = 5\n",
    "df"
   ]
  },
  {
   "cell_type": "markdown",
   "metadata": {},
   "source": [
    "+ Using assign()\n",
    "    + Creates a new DataFrame\n",
    "    + A column can be assigned:\n",
    "      + A constant\n",
    "      + A value for each row\n",
    "      + A function that calculates the rows value using another row\n",
    "    \n",
    "```python\n",
    "df = pd.DataFrame({'a': [0,0,0,0], 'b': [1, 1, 1 ,1]})\n",
    "df = df.assign(c=5)\n",
    "df = df.assign(d=[1,2,3,4])\n",
    "df = df.assign(e=lambda x: x['d']**2)\n",
    "df\n",
    "```"
   ]
  },
  {
   "cell_type": "code",
   "execution_count": null,
   "metadata": {},
   "outputs": [],
   "source": [
    "#write your code here: \n",
    "\n",
    "def square(x):\n",
    "    return x['d']**2\n",
    "\n",
    "df = pd.DataFrame({'a': [0,0,0,0], 'b': [1, 1, 1 ,1]})\n",
    "df = df.assign(c=5)\n",
    "df = df.assign(d=[1,2,3,4], g=(6,7,8,9))\n",
    "df = df.assign(e=square)\n",
    "df"
   ]
  },
  {
   "cell_type": "markdown",
   "metadata": {},
   "source": [
    "+ Using insert()\n",
    "    + Is an in place operation\n",
    "    + Requires three positional arguments:\n",
    "      + loc: the index of where to insert the column (0 <= index <= len(df.columns))\n",
    "      + column: the column name\n",
    "      + value: the values to insert. A constant or a list with len(df)\n",
    "\n",
    "```python    \n",
    "df = pd.DataFrame({'a': [0,0,0,0], 'b': [1, 1, 1 ,1]})\n",
    "df.insert(loc=len(df.columns), column='c', value=5)\n",
    "df.insert(loc=len(df.columns), column='d', value=[1, 2, 3, 4])\n",
    "df\n",
    "```"
   ]
  },
  {
   "cell_type": "code",
   "execution_count": null,
   "metadata": {},
   "outputs": [],
   "source": [
    "#write your code here: \n",
    "\n",
    "df = pd.DataFrame({'a': [0,0,0,0], 'b': [1, 1, 1 ,1]})\n",
    "df.insert(loc=len(df.columns), column='c', value=5)\n",
    "df.insert(loc=len(df.columns), column='d', value=[1, 2, 3, 4])\n",
    "\n",
    "df.insert(loc=2, column='e', value=[1, 2, 3, 4])\n",
    "\n",
    "df\n",
    "\n",
    "df[df.columns[::-1]]"
   ]
  },
  {
   "cell_type": "markdown",
   "metadata": {},
   "source": [
    "#### Adding rows / columns using existing data\n",
    "\n",
    "We saw an example of this when adding a column using append.\n",
    "\n",
    "There are many methods of achieving the same result.\n",
    "\n",
    "##### The `agg()` function\n",
    "\n",
    "The `agg()` function will aggregate either rows or columns of the DataFrame.\n",
    "\n",
    "The agg function returns a new DataFrame, so the results need to be saved either into a new dataframe, or into an existing dataframe.\n",
    "\n",
    "+ Adding new columns\n",
    "  + columns are added by using `axis=1`\n",
    "  + You can use a single function to add a single column\n",
    "  + You can also use a list of functions to add multiple columns\n",
    "  + There are built in functions that can be called by passing a string\n",
    "    + mean(): Compute mean of groups\n",
    "    + sum(): Compute sum of group values\n",
    "    + size(): Compute group sizes\n",
    "    + count(): Compute count of group\n",
    "    + std(): Standard deviation of groups\n",
    "    + var(): Compute variance of groups\n",
    "    + sem(): Standard error of the mean of groups\n",
    "    + describe(): Generates descriptive statistics\n",
    "    + first(): Compute first of group values\n",
    "    + last(): Compute last of group values\n",
    "    + nth() : Take nth value, or a subset if n is a list\n",
    "    + min(): Compute min of group values\n",
    "    + max(): Compute max of group values\n",
    "  \n",
    "```python\n",
    "import numpy as np\n",
    "\n",
    "df = pd.DataFrame({'a': [1,1,1,1], 'b': [1, 2, 3 ,4]})\n",
    "df[\"sum\"] = df.agg(sum, axis=0)\n",
    "df[['std', 'sum', 'mean', 'max', 'min']] = df.agg([np.std, 'sum', 'mean', 'max', 'min'], axis=1)\n",
    "df\n",
    "```"
   ]
  },
  {
   "cell_type": "code",
   "execution_count": null,
   "metadata": {},
   "outputs": [],
   "source": [
    "#write your code here: \n",
    "\n",
    "df = pd.DataFrame({'a': [1,1,1,1], 'b': [1, 2, 3 ,4]})\n",
    "\n",
    "df.agg([np.std, np.sum, 'mean', 'max', 'min'], axis='columns')\n",
    "\n",
    "df[\n",
    "    [\n",
    "        'std', \n",
    "        'sum', \n",
    "        'mean', \n",
    "        'max', \n",
    "        'min'\n",
    "    ]\n",
    "] = df.agg([np.std, np.sum, 'mean', 'max', 'min'], axis=1)\n",
    "\n",
    "\n",
    "#df = pd.concat([df,df.agg([np.std, np.sum, 'mean', 'max', 'min'], axis='rows')])\n",
    "\n",
    "df"
   ]
  },
  {
   "cell_type": "markdown",
   "metadata": {},
   "source": [
    "+ Adding new rows\n",
    "  + rows are added by using the `axis=0` argument. If no axis is defined, this is the default\n",
    "  + Asside from the axis everything works exactly the same\n",
    "  + Use `.append()` or `.loc` to add a single row\n",
    "  + Use `.append()` for adding multiple rows\n",
    "  \n",
    "```python\n",
    "df = pd.DataFrame({'a': [1,1,1,1], 'b': [1, 2, 3 ,4]})\n",
    "df.loc['total'] = df.agg(sum, axis=0)\n",
    "df = df.append(df.agg(['min', 'max', 'mean']))\n",
    "df\n",
    "```"
   ]
  },
  {
   "cell_type": "code",
   "execution_count": null,
   "metadata": {},
   "outputs": [],
   "source": [
    "#write your code here: \n",
    "\n",
    "df = pd.DataFrame({'a': [1,1,1,1], 'b': [1, 2, 3 ,4]})\n",
    "\n",
    "df.loc['total'] = df.agg(sum, axis=0)\n",
    "df = df.append(df.agg(['min', 'max', 'mean']))\n",
    "\n",
    "#df = df.append(df.agg(['sum','min', 'max', 'mean']))\n",
    "\n",
    "df"
   ]
  },
  {
   "cell_type": "markdown",
   "metadata": {},
   "source": [
    "##### Using `apply()`\n",
    "\n",
    "Apply and agg are similar, apply can be applied to single values, while agg always acts on a whole row or column\n",
    "\n",
    "\n",
    "```python\n",
    "df = pd.DataFrame({'a': [1,1,1,1], 'b': [1, 2, 3 ,4]})\n",
    "df.apply(np.sqrt)\n",
    "```"
   ]
  },
  {
   "cell_type": "code",
   "execution_count": null,
   "metadata": {},
   "outputs": [],
   "source": [
    "#write your code here: \n",
    "\n",
    "df = pd.DataFrame({'a': [np.nan,1,1,1], 'b': [1, 2, 3 ,4]})\n",
    "df.apply(np.sqrt)\n",
    "\n",
    "#df.isna().sum(axis=0)\n",
    "#df.isna().sum(axis=1)"
   ]
  },
  {
   "cell_type": "markdown",
   "metadata": {},
   "source": [
    "##### Normalizing a column\n",
    "\n",
    "There are many methods that can be applied to normalize a column.\n",
    "\n",
    "This example uses min-max normalization which will normalize the values to lie between 0 and 1\n",
    "\n",
    "```python\n",
    "df = pd.DataFrame({'a': [1,1,1,1], 'b': [1, 2, 3 ,4]})\n",
    "df['b'] = (df['b'] - df['b'].min()) / (df['b'].max() - df['b'].min())\n",
    "df\n",
    "```"
   ]
  },
  {
   "cell_type": "code",
   "execution_count": null,
   "metadata": {},
   "outputs": [],
   "source": [
    "#write your code here: \n",
    "\n",
    "df = pd.DataFrame({'a': [1,1,1,1], 'b': [1, 2, 3 ,4]})\n",
    "\n",
    "#define default plotting parameters for all matplotlib.pyplot objects\n",
    "plt.rcParams['figure.figsize'] = (5, 3)\n",
    "\n",
    "_ = df['b'].plot(kind='bar')\n",
    "plt.show()\n",
    "\n",
    "df['b'] = (df['b'] - df['b'].min()) / (df['b'].max() - df['b'].min())\n",
    "\n",
    "_ = df['b'].plot(kind='bar')\n",
    "plt.show()"
   ]
  },
  {
   "cell_type": "code",
   "execution_count": null,
   "metadata": {},
   "outputs": [],
   "source": [
    "#we can get the same result with the module sklearn (more refined scaler are available)\n",
    "#Install conda install -c anaconda scikit-learn\n",
    "from sklearn import preprocessing\n",
    "\n",
    "# Create a minimum and maximum processor object\n",
    "x = df[['b']].values.astype(float)\n",
    "min_max_scaler = preprocessing.MinMaxScaler()\n",
    "x_scaled = min_max_scaler.fit_transform(x)\n",
    "\n",
    "_ = pd.DataFrame(x_scaled).plot(kind='bar')"
   ]
  },
  {
   "cell_type": "markdown",
   "metadata": {},
   "source": [
    "#### Modifying Rows / Columns\n",
    "\n",
    "Rows and columns can be modified by overwriting their values using [] indexing or .loc indexing\n",
    "\n",
    "```python\n",
    "df = pd.DataFrame({'a': [1,1,1,1], 'b': [1, 2, 3 ,4]})\n",
    "df['a'] = df['a'] + 5\n",
    "df.loc[df['b'] % 2 == 0] = df.loc[df['b'] % 2 == 0] + 1\n",
    "df\n",
    "```"
   ]
  },
  {
   "cell_type": "code",
   "execution_count": null,
   "metadata": {},
   "outputs": [],
   "source": [
    "#write your code here: \n",
    "\n",
    "df = pd.DataFrame({'a': [1,1,1,1], 'b': [1, 2, 3 ,4]})\n",
    "#df['a'] = df['a'] + 5\n",
    "\n",
    "#np.arange(10) % 2\n",
    "#df['b'] % 2 == 0\n",
    "\n",
    "#df.loc[df['b'] % 2 == 0] = df.loc[df['b'] % 2 == 0] + 1\n",
    "\n",
    "df\n",
    "\n"
   ]
  },
  {
   "cell_type": "markdown",
   "metadata": {},
   "source": [
    "### Grouping Data\n",
    "\n",
    "Seaborn comes with some built in dataframes.\n",
    "The flights dataset is a nice example for grouping as it is easy to understand and manipulate.\n",
    "This dataset gives the number of passengers who flew between 1949 and 1960. When loading the dataset no information is given regarding the order of the number of passengers, but this is not important for our purposes.\n",
    "\n",
    "```python\n",
    "import seaborn as sns\n",
    "df = sns.load_dataset('flights')\n",
    "df.tail()\n",
    "```\n"
   ]
  },
  {
   "cell_type": "code",
   "execution_count": null,
   "metadata": {},
   "outputs": [],
   "source": [
    "#write your code here: \n",
    "\n",
    "import seaborn as sns\n",
    "df = sns.load_dataset('flights')\n",
    "df.tail()"
   ]
  },
  {
   "cell_type": "markdown",
   "metadata": {},
   "source": [
    "#### Using groupby\n",
    "###### Finding out how many passengers flew each year\n",
    "\n",
    "On its own, the groupby function does not actually do anything. It needs to be used in conjunction with some form of agregation.\n",
    "\n",
    "```python\n",
    "df.groupby('year')\n",
    "# > <pandas.core.groupby.generic.DataFrameGroupBy object at 0x1164e32e8>\n",
    "```\n",
    "\n",
    "To answer the above question we would like to know the total. To calculate this we can use the `.sum()` function.\n",
    "\n",
    "The dataframe will first be grouped into years, and then each group will be summed.\n",
    "```python\n",
    "df.groupby('year').sum()\n",
    "```"
   ]
  },
  {
   "cell_type": "code",
   "execution_count": null,
   "metadata": {},
   "outputs": [],
   "source": [
    "#write your code here: \n",
    "\n",
    "df.groupby('year').sum()"
   ]
  },
  {
   "cell_type": "markdown",
   "metadata": {},
   "source": [
    "To get a better idea of what is happening we can use the `agg` function.\n",
    "This function will apply a function that reduces the data to a single value.\n",
    "\n",
    "To help visualize the date we can use the `list` function, which will reduce all the values into a single list\n",
    "\n",
    "```python\n",
    "df.groupby('year').agg(list)\n",
    "```"
   ]
  },
  {
   "cell_type": "code",
   "execution_count": null,
   "metadata": {},
   "outputs": [],
   "source": [
    "#write your code here: \n",
    "\n",
    "df.groupby('year').agg(list)"
   ]
  },
  {
   "cell_type": "markdown",
   "metadata": {},
   "source": [
    "This functionality is the same as using `.agg()` on a dataframe. You can use any of the predefined functions that we discussed earlier, multiple agrigation calculations can be applied at the same time.\n",
    "\n",
    "```python\n",
    "df.groupby('year').agg(['sum', 'mean'])\n",
    "```"
   ]
  },
  {
   "cell_type": "code",
   "execution_count": null,
   "metadata": {
    "scrolled": true
   },
   "outputs": [],
   "source": [
    "#write your code here: \n",
    "\n",
    "df.groupby('year').agg(['sum', 'mean', 'max'])"
   ]
  },
  {
   "cell_type": "markdown",
   "metadata": {},
   "source": [
    "###### Finding the average number of passengers per month\n",
    "\n",
    "We can make use of the groupby and mean functions to achieve this.\n",
    "\n",
    "Lets start simple\n",
    "```python\n",
    "df.groupby('month').mean()\n",
    "```\n",
    "\n",
    "What is wrong with this output?"
   ]
  },
  {
   "cell_type": "code",
   "execution_count": null,
   "metadata": {
    "scrolled": true
   },
   "outputs": [],
   "source": [
    "#write your code here: \n",
    "\n",
    "df.groupby('month').mean()"
   ]
  },
  {
   "cell_type": "markdown",
   "metadata": {},
   "source": [
    "To fix this we need to first subset our data and remove columns we would not like to agregate.\n",
    "```python\n",
    "df[[\"month\", \"passengers\"]].groupby('month').mean()\n",
    "```"
   ]
  },
  {
   "cell_type": "code",
   "execution_count": null,
   "metadata": {},
   "outputs": [],
   "source": [
    "#write your code here: \n",
    "\n",
    "df[[\"month\", \"passengers\"]].groupby('month').mean()"
   ]
  },
  {
   "cell_type": "markdown",
   "metadata": {},
   "source": [
    "#### What if we wanted to see the median number of passengers by month in 5 year increments?\n",
    "\n",
    "This is more complicated, we would first need to add a new column defining which 5 year period that year falls into, then we can apply a groupby followed by a median function.\n",
    "\n",
    "```python\n",
    "min_year = df['year'].min()\n",
    "df['5_year_period'] = df.apply(lambda x: (x['year'] - min_year) // 5, axis=1)\n",
    "# This could also be achieved without the apply()\n",
    "# df['5_year_period'] = (df['year'] - df['year'].min()) // 5\n",
    "df\n",
    "```\n",
    "\n",
    "Lets break that down\n",
    "+ `df['year'].min()`\n",
    "  + This returns the earliest year\n",
    "  + If we subtract this from each year it will normalize the years to start from 0\n",
    "+ `df.apply()` will apply a function to the dataframe\n",
    "  + This happens either: \n",
    "    + down columns (axis=0)\n",
    "    + across rows (axis=1) \n",
    "  + The result of apply returns a new dataframe and does not change the original\n",
    "+ `lambda x:`\n",
    "  + `lambda` functions are nameless functions\n",
    "  + `x` is the variable that is passed to the function\n",
    "  + This is neater than defining a function as it can be defined inline\n",
    "    + If the function is complicated it is better to define a function\n",
    "+ `(x['year'] - min_year) // 5`\n",
    "  + `x[year]` is the year in the current row being evaluated\n",
    "  + `//5` is integer/floor division, the remainder is removed and an integer is returned\n",
    "  + This results in 0 for the first 5 years, 1 for the next 5 years and so on"
   ]
  },
  {
   "cell_type": "code",
   "execution_count": null,
   "metadata": {},
   "outputs": [],
   "source": [
    "#write your code here: \n",
    "\n",
    "min_year = df['year'].min()\n",
    "#print('min:', min_year)\n",
    "\n",
    "(np.arange(1945,1970,1)-1945) // 5\n",
    "\n",
    "df['5_year_period'] = df.apply(lambda x: (x['year'] - min_year) // 5, axis=1)\n",
    "\n",
    "df\n",
    "# This could also be achieved without the apply()\n",
    "# df['5_year_period'] = (df['year'] - df['year'].min()) // 5\n",
    "#df"
   ]
  },
  {
   "cell_type": "markdown",
   "metadata": {},
   "source": [
    "Now we can drop the year column and groupby the month and the period. Then we can take the median.\n",
    "\n",
    "```python\n",
    "df.drop(columns=['year']).groupby(['month', '5_year_period']).median()\n",
    "```"
   ]
  },
  {
   "cell_type": "code",
   "execution_count": null,
   "metadata": {},
   "outputs": [],
   "source": [
    "#write your code here: \n",
    "\n",
    "df.drop(columns=['year']).groupby(['month', '5_year_period']).median()"
   ]
  },
  {
   "cell_type": "markdown",
   "metadata": {},
   "source": [
    "##### An alternate approach\n",
    "\n",
    "0, 1, 2 are not very informative columns, instead we should keep this in years.\n",
    "\n",
    "```python\n",
    "df['5_year_period'] = df.apply(lambda x: '{}-{}'.format((x['year'] // 5) * 5, ((x['year'] + 5) // 5) * 5), axis=1)\n",
    "df\n",
    "```"
   ]
  },
  {
   "cell_type": "code",
   "execution_count": null,
   "metadata": {},
   "outputs": [],
   "source": [
    "#write your code here: \n",
    "\n",
    "df['5_year_period'] = df.apply(lambda x: '{}-{}'.format((x['year'] // 5) * 5, ((x['year'] + 5) // 5) * 5), axis=1)\n",
    "df"
   ]
  },
  {
   "cell_type": "code",
   "execution_count": null,
   "metadata": {},
   "outputs": [],
   "source": [
    "#write your code here: \n",
    "\n",
    "df_median = df.drop(columns='year').groupby(['month', '5_year_period']).median()\n",
    "df_median.head(10)"
   ]
  },
  {
   "cell_type": "markdown",
   "metadata": {},
   "source": [
    "We now have a long format table. The reason that this table is in long format is that we have a single passenger count per row in the dataframe. Alternatively, in wide format, each month would have three values. One for each of the 5 year windows.\n",
    "\n",
    "Converting from long format to wide format requires the `pivot()` function.\n",
    "\n",
    "Before we can pivot the table, we need to reset the index using `reset_index()`. This will remove the groupings created by `groupby()`\n",
    "\n",
    "```python\n",
    "df_median = df_median.reset_index()\n",
    "df_median.head()\n",
    "```"
   ]
  },
  {
   "cell_type": "code",
   "execution_count": null,
   "metadata": {},
   "outputs": [],
   "source": [
    "#write your code here: \n",
    "\n",
    "df_median = df_median.reset_index()\n",
    "df_median.head(10)"
   ]
  },
  {
   "cell_type": "markdown",
   "metadata": {},
   "source": [
    "The pivot function has three arguments\n",
    "+ index : string or object, optional\n",
    "  + Column to use to make new frame’s index. If None, uses existing index.\n",
    "\n",
    "+ columns : string or object\n",
    "  + Column to use to make new frame’s columns.\n",
    "\n",
    "+ values : string, object or a list of the previous, optional\n",
    "  + Column(s) to use for populating new frame’s values. If not specified, all remaining columns will be used and the result will have hierarchically indexed columns.\n",
    "\n",
    "In our case, the **month** will be the index, the values will come from **passengers** and the columns are defined by **5_year_period**.\n",
    "\n",
    "```python\n",
    "df_wide = df_median.pivot(index='month', columns='5_year_period', values='passengers')\n",
    "df_wide.head()\n",
    "```"
   ]
  },
  {
   "cell_type": "code",
   "execution_count": null,
   "metadata": {},
   "outputs": [],
   "source": [
    "#write your code here: \n",
    "\n",
    "df_wide = df_median.pivot(index='month', columns='5_year_period', values='passengers')\n",
    "#_ =df_wide.hist(range=[0,600])"
   ]
  },
  {
   "cell_type": "markdown",
   "metadata": {},
   "source": [
    "The header of the table is multidimensional after the pivot operation. To revert the table back to a regular dataframe the index needs to be reset. Another issue is that the index axis is renamed during this process so that needs to be reset as well.\n",
    "\n",
    "```python\n",
    "df_wide = df_wide.reset_index().rename_axis(None, axis=1)\n",
    "df_wide.head()\n",
    "```\n"
   ]
  },
  {
   "cell_type": "code",
   "execution_count": null,
   "metadata": {},
   "outputs": [],
   "source": [
    "#write your code here: \n",
    "\n",
    "df_wide = df_wide.reset_index().rename_axis(None, axis=1)\n",
    "df_wide.head()"
   ]
  },
  {
   "cell_type": "markdown",
   "metadata": {},
   "source": [
    "#### Melting a DataFrame\n",
    "\n",
    "Melt is the reverse operation of pivot. Pivot converts a long format dataframe to a wide format and melt converts a wide format dataframe to a long format.\n",
    "\n",
    "The arguments required by `.melt()` taken from the documentation\n",
    "+ id_vars : tuple, list, or ndarray, optional\n",
    "  + Column(s) to use as identifier variables.\n",
    "\n",
    "+ value_vars : tuple, list, or ndarray, optional\n",
    "  + Column(s) to unpivot. If not specified, uses all columns that are not set as id_vars.\n",
    "\n",
    "+ var_name : scalar\n",
    "  + Name to use for the ‘variable’ column. If None it uses frame.columns.name or ‘variable’.\n",
    "\n",
    "+ value_name : scalar, default ‘value’\n",
    "  + Name to use for the ‘value’ column.\n",
    "\n",
    "+ col_level : int or string, optional\n",
    "  + If columns are a MultiIndex then use this level to melt.\n",
    "  \n",
    "```python\n",
    "df_wide.melt(id_vars=['month'], var_name='5_year_period', value_name='passengers').head()\n",
    "```"
   ]
  },
  {
   "cell_type": "code",
   "execution_count": null,
   "metadata": {},
   "outputs": [],
   "source": [
    "#write your code here: \n",
    "\n",
    "df_wide.melt(id_vars=['month'], var_name='5_year_period', value_name='passengers')"
   ]
  },
  {
   "cell_type": "markdown",
   "metadata": {},
   "source": [
    "## Seaborn\n",
    "\n",
    "Seaborn is statistical plotting library that works well with pandas, its all about shaping your data correctly.\n",
    "\n",
    "Here is the API which lists all the plots:\n",
    "https://seaborn.pydata.org/api.html\n",
    "\n",
    "Here is a gallery which gives some examples of different plots:\n",
    "https://seaborn.pydata.org/examples/index.html\n",
    "\n",
    "They have good tutorials covering most aspects of using the package:\n",
    "https://seaborn.pydata.org/tutorial.html\n",
    "\n"
   ]
  },
  {
   "cell_type": "markdown",
   "metadata": {},
   "source": [
    "#### Importing Seaborn\n",
    "\n",
    "The package needs to be installed into the python environment\n",
    "```shell\n",
    "conda install seaborn\n",
    "```\n",
    "\n",
    "Once the package has been installed it can be imported\n",
    "```python\n",
    "import seaborn as sns\n",
    "```"
   ]
  },
  {
   "cell_type": "code",
   "execution_count": null,
   "metadata": {},
   "outputs": [],
   "source": [
    "#write your code here: \n",
    "\n",
    "import seaborn as sns"
   ]
  },
  {
   "cell_type": "markdown",
   "metadata": {},
   "source": [
    "##### Seaborn plot types\n",
    "\n",
    "In Seaborns API the plots are separated by category.\n",
    "\n",
    "We will go over some of the plots from different categories"
   ]
  },
  {
   "cell_type": "markdown",
   "metadata": {},
   "source": [
    "### Categorical Plots\n",
    "\n",
    "Choosing the right plot for the job.\n",
    "This takes practice and taking the time to think about what you want your plots to convey.\n",
    "\n",
    "#### Count Plots / Bar plots\n",
    "+ count plot: https://seaborn.pydata.org/generated/seaborn.countplot.html#seaborn.countplot\n",
    "+ bar plot: https://seaborn.pydata.org/generated/seaborn.barplot.html#seaborn.barplot\n",
    "\n",
    "With the flights dataset we already have the counts, so we can use a barplot\n",
    "\n",
    "```python\n",
    "sns.barplot(x = '5_year_period', y='passengers', data=df_median)\n",
    "```"
   ]
  },
  {
   "cell_type": "code",
   "execution_count": null,
   "metadata": {},
   "outputs": [],
   "source": [
    "#write your code here: \n",
    "\n",
    "sns.barplot(\n",
    "    x = '5_year_period', \n",
    "    y='passengers', \n",
    "    data=df_median,\n",
    "    ci=\"sd\",\n",
    "    capsize=0.1)"
   ]
  },
  {
   "cell_type": "markdown",
   "metadata": {},
   "source": [
    "##### Box Plots\n",
    "\n",
    "```python\n",
    "sns.boxplot(y='passengers', x='month', data=df)\n",
    "```"
   ]
  },
  {
   "cell_type": "code",
   "execution_count": null,
   "metadata": {},
   "outputs": [],
   "source": [
    "#write your code here: \n",
    "\n",
    "p = sns.boxplot(\n",
    "    y='passengers', \n",
    "    x='month', \n",
    "    data=df)\n",
    "\n",
    "#_ = p.set_xticklabels(p.get_xticklabels(), rotation=45)"
   ]
  },
  {
   "cell_type": "markdown",
   "metadata": {},
   "source": [
    "##### Boxen Plots (Box plots for large datasets)\n",
    "\n",
    "```python\n",
    "sns.boxenplot(y='passengers', x='month', data=df)\n",
    "```"
   ]
  },
  {
   "cell_type": "code",
   "execution_count": null,
   "metadata": {},
   "outputs": [],
   "source": [
    "#write your code here: \n",
    "\n",
    "sns.boxenplot(y='passengers', x='month', data=df)"
   ]
  },
  {
   "cell_type": "markdown",
   "metadata": {},
   "source": [
    "##### Heatmap"
   ]
  },
  {
   "cell_type": "code",
   "execution_count": null,
   "metadata": {},
   "outputs": [],
   "source": [
    "#write your code here: \n",
    "\n",
    "g = sns.heatmap(df_wide.drop(['month'],axis=1))\n",
    "#add the argument cmap to change the palette (ex cmap = \"PiYG\")\n",
    "\n",
    "\n",
    "_ = g.set_yticklabels(df_wide['month'])\n",
    "_ = g.set_yticklabels(g.get_yticklabels(), rotation=45)\n",
    "_ = g.set(xlabel='common xlabel', ylabel='common ylabel', title= 'Number of passengers')\n",
    "plt.show()\n",
    "\n",
    "\n",
    "# df_wide_norm = df_wide.drop(['month'],axis=1).apply(lambda x: x/x.max(), axis=0)\n",
    "# g = sns.heatmap(df_wide_norm)\n",
    "# _ = g.set_yticklabels(df_wide['month'])\n",
    "# _ = g.set_yticklabels(g.get_yticklabels(), rotation=45)\n",
    "# _ = g.set(xlabel='common xlabel', ylabel='common ylabel', title= 'Normalized Number of passengers')\n",
    "# plt.show()"
   ]
  },
  {
   "cell_type": "markdown",
   "metadata": {},
   "source": [
    "##### SwarmPlot\n",
    "\n",
    "This is a categorical scatter plot, but the points are adjusted so that they do not overlap\n",
    "```python\n",
    "sns.swarmplot(y='passengers', x='month', data=df)\n",
    "```"
   ]
  },
  {
   "cell_type": "code",
   "execution_count": null,
   "metadata": {},
   "outputs": [],
   "source": [
    "#write your code here: \n",
    "\n",
    "sns.lineplot(\n",
    "    y='passengers', \n",
    "    x='month', \n",
    "    hue='5_year_period',\n",
    "    data=df_median)\n"
   ]
  },
  {
   "cell_type": "markdown",
   "metadata": {},
   "source": [
    "##### Color Pallets\n",
    "\n",
    "Color is important when you are creating plots. Often the default colors are not the best choice."
   ]
  },
  {
   "cell_type": "code",
   "execution_count": null,
   "metadata": {},
   "outputs": [],
   "source": [
    "#write your code here: \n",
    "\n",
    "sns.barplot(x = '5_year_period', y='passengers', data=df_median)\n",
    "ncol = len(df_median['5_year_period'].unique())\n",
    "\n",
    "sns.palplot(\n",
    "    sns.cubehelix_palette(\n",
    "        n_colors=ncol, \n",
    "        start=-0.05, \n",
    "        rot=0.1, \n",
    "        reverse=True)\n",
    ")\n"
   ]
  },
  {
   "cell_type": "code",
   "execution_count": null,
   "metadata": {},
   "outputs": [],
   "source": [
    "#write your code here: \n",
    "\n",
    "c_pal = sns.cubehelix_palette(\n",
    "    n_colors=3, start=-0.05, rot=0.1, reverse=True\n",
    ")\n",
    "_ = sns.barplot(\n",
    "    x = '5_year_period', y='passengers', data=df_median, palette=c_pal\n",
    ")"
   ]
  },
  {
   "cell_type": "markdown",
   "metadata": {},
   "source": [
    "#### Style control\n",
    "\n",
    "Changing the size of a figure by setting it before we create the plot\n",
    "\n",
    "This requires matplotlib to be imported\n",
    "\n",
    "```python\n",
    "import matplotlib.pyplot as plt\n",
    "```"
   ]
  },
  {
   "cell_type": "code",
   "execution_count": null,
   "metadata": {},
   "outputs": [],
   "source": [
    "import matplotlib.pyplot as plt"
   ]
  },
  {
   "cell_type": "markdown",
   "metadata": {},
   "source": [
    "The size is set by creatign a new figure. The figure function has an arguement `figsize` which can be set using a tuple `(width, height)`\n",
    "\n",
    "```python\n",
    "fig = plt.figure(figsize=(10, 8))\n",
    "\n",
    "c_pal = sns.cubehelix_palette(n_colors=4, start=-0.05, rot=0.1, reverse=True)\n",
    "_ = sns.barplot(x = '5_year_period', y='passengers', data=df_median, palette=c_pal)\n",
    "```"
   ]
  },
  {
   "cell_type": "code",
   "execution_count": null,
   "metadata": {},
   "outputs": [],
   "source": [
    "#write your code here: \n",
    "\n",
    "fig = plt.figure(figsize=(10, 4))\n",
    "\n",
    "c_pal = sns.cubehelix_palette(n_colors=4, start=-0.05, rot=0.1, reverse=True)\n",
    "_ = sns.barplot(x = '5_year_period', y='passengers', data=df_median, palette=c_pal)"
   ]
  },
  {
   "cell_type": "markdown",
   "metadata": {},
   "source": [
    "This can become painful if we are creating many plots. If Seaborn is being used for plotting the default figure size can be set using this command:\n",
    "\n",
    "```python\n",
    "sns.set(rc={'figure.figsize':(11.7,8.27)})\n",
    "```\n",
    "\n",
    "**This only needs to be called once, and is usually defined at the top of a notebook**\n",
    "\n",
    "This also changes the default style of the plots (Notice that the plot now has a gray background and grid lines)\n",
    "\n",
    "\n",
    "Now all plots we create will be that size:\n",
    "\n",
    "```python\n",
    "c_pal = sns.cubehelix_palette(n_colors=4, start=-0.05, rot=0.1, reverse=True)\n",
    "_ = sns.barplot(x = '5_year_period', y='passengers', data=df_median, palette=c_pal)\n",
    "```"
   ]
  },
  {
   "cell_type": "code",
   "execution_count": null,
   "metadata": {},
   "outputs": [],
   "source": [
    "#write your code here: \n",
    "\n",
    "sns.set(rc={'figure.figsize':(11.7,8.27)})\n",
    "\n",
    "fig = plt.figure(figsize=(10, 3))\n",
    "\n",
    "c_pal = sns.cubehelix_palette(n_colors=4, start=-0.05, rot=0.1, reverse=True)\n",
    "_ = sns.barplot(x = '5_year_period', y='passengers', data=df_median, palette=c_pal)"
   ]
  },
  {
   "cell_type": "markdown",
   "metadata": {},
   "source": [
    "#### Rotating the ticks of a plot\n",
    "\n",
    "The ticks in a plot can be rotated using matplotlibs `plt.xticks()`\n",
    "\n",
    "```python\n",
    "c_pal = sns.cubehelix_palette(n_colors=4, start=-0.05, rot=0.1, reverse=True)\n",
    "_ = sns.barplot(x = '5_year_period', y='passengers', data=df_median, palette=c_pal)\n",
    "_ = plt.xticks(rotation=45)\n",
    "```"
   ]
  },
  {
   "cell_type": "code",
   "execution_count": null,
   "metadata": {
    "scrolled": false
   },
   "outputs": [],
   "source": [
    "#write your code here:\n",
    "fig = plt.figure(figsize=(10, 3))\n",
    "\n",
    "c_pal = sns.cubehelix_palette(n_colors=4, start=-0.05, rot=0.1, reverse=True)\n",
    "_ = sns.barplot(x = '5_year_period', y='passengers', data=df_median, palette=c_pal)\n",
    "_ = plt.xticks(rotation=45)"
   ]
  },
  {
   "cell_type": "markdown",
   "metadata": {},
   "source": [
    "#### Seaborn Default Styles\n",
    "\n",
    "Seaborn has five default styles:\n",
    "+ darkgrid\n",
    "+ whitegrid\n",
    "+ dark \n",
    "+ white \n",
    "+ ticks\n",
    "\n",
    "These can be set using the `sns.set_style()` function. This only needs to be set once if the same style is being used.\n",
    "\n",
    "```python\n",
    "sns.set_style('whitegrid')\n",
    "\n",
    "c_pal = sns.cubehelix_palette(n_colors=4, start=-0.05, rot=0.1, reverse=True)\n",
    "_ = sns.barplot(x = '5_year_period', y='passengers', data=df_median, palette=c_pal)\n",
    "_ = plt.xticks(rotation=45)\n",
    "```\n",
    "\n",
    "It is also possible to manually adjust all of the aesthetics:\n",
    "https://seaborn.pydata.org/tutorial/aesthetics.html"
   ]
  },
  {
   "cell_type": "code",
   "execution_count": null,
   "metadata": {},
   "outputs": [],
   "source": [
    "#write your code here:\n",
    "\n",
    "sns.set_style('white')\n",
    "\n",
    "c_pal = sns.cubehelix_palette(n_colors=4, start=-0.05, rot=0.1, reverse=True)\n",
    "_ = sns.barplot(x = '5_year_period', y='passengers', data=df_median, palette=c_pal)\n",
    "_ = plt.xticks(rotation=45)"
   ]
  },
  {
   "cell_type": "markdown",
   "metadata": {},
   "source": [
    "#### Setting plot titles\n",
    "\n",
    "Seaborn does not include functionality for changing plot and axis titles. This is achieved by using matplotlib functionality\n",
    "\n",
    "```python\n",
    "c_pal = sns.cubehelix_palette(n_colors=4, start=-0.05, rot=0.1, reverse=True)\n",
    "g = sns.barplot(x = '5_year_period', y='passengers', data=df_median, palette=c_pal)\n",
    "_ = plt.xticks(rotation=45)\n",
    "\n",
    "g.set_title('Passengers per 5 Year Periods')\n",
    "g.set_xlabel('5 Year Period')\n",
    "```"
   ]
  },
  {
   "cell_type": "code",
   "execution_count": null,
   "metadata": {},
   "outputs": [],
   "source": [
    "#write your code here:\n",
    "\n",
    "fig= plt.figure(figsize=[6,2])\n",
    "\n",
    "c_pal = sns.cubehelix_palette(n_colors=4, start=-0.05, rot=0.1, reverse=True)\n",
    "g = sns.barplot(x = '5_year_period', y='passengers', data=df_median, palette=c_pal)\n",
    "_ = plt.xticks(rotation=45)\n",
    "\n",
    "g.set_title('Passengers per 5 Year Periods')\n",
    "g.set_xlabel('5 Year Period')"
   ]
  },
  {
   "cell_type": "markdown",
   "metadata": {},
   "source": [
    "### drawing relational plots to process signal "
   ]
  },
  {
   "cell_type": "code",
   "execution_count": null,
   "metadata": {},
   "outputs": [],
   "source": [
    "alldata = []\n",
    "nb_points=50\n",
    "for experience_nb in range(5):\n",
    "    x = np.linspace(0,5*np.pi,nb_points)\n",
    "    y = np.sin(x) + np.random.random(nb_points) * 1\n",
    "    data_tuples = list(zip(x,y,['exp%d'%experience_nb]*nb_points))\n",
    "    df = pd.DataFrame(data_tuples, columns=['time','signal','experience'])\n",
    "    alldata.append(df)\n",
    "\n",
    "df=pd.concat(alldata).reset_index(drop=True) #drop=True is used to avoid the creation of a new column with old index\n",
    "\n",
    "alldata\n",
    "\n",
    "_ = sns.relplot(x=\"time\", y=\"signal\", estimator=None, kind=\"line\", data= df, hue = 'experience')\n",
    "\n",
    "_ = sns.relplot(x=\"time\", y=\"signal\", kind=\"line\", ci=\"sd\", data=df)\n"
   ]
  },
  {
   "cell_type": "markdown",
   "metadata": {},
   "source": [
    "### jointplot for 2D densities\n",
    "example Sidewalk Cafe in NYC (data from https://opendata.cityofnewyork.us/)"
   ]
  },
  {
   "cell_type": "code",
   "execution_count": null,
   "metadata": {},
   "outputs": [],
   "source": [
    "#plt.figure(figsize=[5,5])\n",
    "\n",
    "df=pd.read_csv('Sidewalk_Caf_NYC.csv')\n",
    "\n",
    "df = df.loc[df['LONGITUDE'] > -74.5]\n",
    "\n",
    "g = sns.jointplot(x=\"LONGITUDE\", y=\"LATITUDE\", data=df, kind=\"kde\", color=\"m\", n_levels=100)\n",
    "\n",
    "_ = g.plot_joint(plt.scatter, c=\"black\", s=10, linewidth=1, marker=\".\",alpha=0.2)\n",
    "\n",
    "plt.savefig('HelloNYC.pdf', transparent=True)"
   ]
  },
  {
   "cell_type": "code",
   "execution_count": null,
   "metadata": {},
   "outputs": [],
   "source": [
    "# Hand drawn style\n",
    "#plt.xkcd(scale=1, length=100, randomness=2)"
   ]
  }
 ],
 "metadata": {
  "kernelspec": {
   "display_name": "Python 3",
   "language": "python",
   "name": "python3"
  },
  "language_info": {
   "codemirror_mode": {
    "name": "ipython",
    "version": 3
   },
   "file_extension": ".py",
   "mimetype": "text/x-python",
   "name": "python",
   "nbconvert_exporter": "python",
   "pygments_lexer": "ipython3",
   "version": "3.6.9"
  }
 },
 "nbformat": 4,
 "nbformat_minor": 2
}
