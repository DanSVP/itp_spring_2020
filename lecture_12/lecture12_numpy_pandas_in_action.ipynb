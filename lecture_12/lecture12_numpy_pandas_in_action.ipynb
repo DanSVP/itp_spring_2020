{
 "cells": [
  {
   "cell_type": "markdown",
   "metadata": {},
   "source": [
    "# Introduction to Python - Lecture 12 (May 12th 2020)\n",
    "\n",
    "## ---------- Numpy and Pandas in action! ---------\n",
    "\n",
    "This class will focus on:\n",
    "    1. Accessing and Indexing data with Numpy and Pandas\n",
    "    2. Plotting with Matplotlib\n",
    "    3. Exemples on reshaping/filtering/plotting data\n",
    "## -------------------------------------------------------\n",
    "\n",
    "Links for this class\n",
    "<br>\n",
    "\n",
    " - Stack Overflow: https://stackoverflow.com/c/nyumc-coding-courses/questions\n",
    "\n",
    " - Online Courses Page: http://fenyolab.org/presentations/Bioinformatics_2020/\n",
    "\n"
   ]
  },
  {
   "cell_type": "markdown",
   "metadata": {},
   "source": [
    "### Links for this lecture\n",
    "\n",
    "- Numpy and scipy\n",
    "https://scipy-lectures.org/\n",
    "https://docs.scipy.org/doc/numpy/reference/arrays.ndarray.html\n",
    "\n",
    "- Pandas\n",
    "https://pandas.pydata.org/docs/user_guide/index.html\n",
    "\n",
    "- Matplotlib\n",
    "https://matplotlib.org/\n",
    "\n",
    "- examples for data science based on Numpy and Panda\n",
    "https://towardsdatascience.com/\n",
    "https://realpython.com/\n"
   ]
  },
  {
   "cell_type": "markdown",
   "metadata": {},
   "source": [
    "### Cheat sheets\n",
    "\n",
    "+ Numpy\n",
    "<br>                                 \n",
    "https://ugoproto.github.io/ugo_py_doc/pdf/Numpy_Python_Cheat_Sheet.pdf\n",
    "\n",
    "\n",
    "\n",
    "+ Pandas\n",
    "<br>                      \n",
    "https://ugoproto.github.io/ugo_py_doc/pdf/pandas-cheat-sheet.pdf\n",
    "https://pandas.pydata.org/Pandas_Cheat_Sheet.pdf\n",
    "\n",
    "\n",
    "\n",
    "+ matplotlib\n",
    "<br>   \n",
    "https://s3.amazonaws.com/assets.datacamp.com/blog_assets/Python_Matplotlib_Cheat_Sheet.pdf\n",
    "\n",
    "\n",
    "------\n",
    "\n",
    "### Recommended Books\n",
    "\n",
    "+ Vanderplas, Jacob T. **Python data science handbook** : essential tools for working with data. Sebastopol, CA: O'Reilly Media, Inc, 2016. Print.\n"
   ]
  },
  {
   "cell_type": "markdown",
   "metadata": {},
   "source": [
    "## 1. Access the data\n",
    "\n",
    "### 1.1 Access the Elements of an Numpy Array\n",
    "\n",
    "<br>\n"
   ]
  },
  {
   "cell_type": "markdown",
   "metadata": {},
   "source": [
    "##### 1D Array\n",
    "\n",
    "The basic slice syntax is i:j:k where i is the starting index, j is the stopping index, and k is the step\n",
    "\n",
    "syntax **array[i:j:k]**\n",
    "\n",
    "```python    \n",
    "\n",
    "x = np.array([0, 1, 2, 3, 4, 5, 6, 7, 8, 9])\n",
    "\n",
    "x[3]\n",
    "\n",
    "x[3:5]\n",
    "\n",
    "x[3:]\n",
    "\n",
    "x[:-7]\n",
    "\n",
    "x[1:7:2]\n",
    "\n",
    "x[8:2:-2]\n",
    "\n",
    "```"
   ]
  },
  {
   "cell_type": "code",
   "execution_count": null,
   "metadata": {},
   "outputs": [],
   "source": [
    "#type your code here:\n",
    "x = np.array([0, 1, 2, 3, 4, 5, 6, 7, 8, 9])\n",
    "\n",
    "x[1:7]"
   ]
  },
  {
   "cell_type": "markdown",
   "metadata": {},
   "source": [
    "##### 2D Array\n",
    "\n",
    "The general format for indexing is:\n",
    "+ **array[dim_1, dim_2, dim_3, ..., dim_n]**\n",
    "+ The format for each dimension follow this format\n",
    "  + **start:end:step**\n",
    "+ These can be combined like this:\n",
    "  + **array[start:end:step, start:end:step, ..., start:end:step]**\n",
    "  \n",
    "So given a 2D array here are some indexing examples\n",
    "```python\n",
    "lst = np.array(\n",
    "    [\n",
    "        [1, 2, 3],\n",
    "        [4, 5, 6],\n",
    "        [7, 8, 9],\n",
    "    ]\n",
    ")\n",
    "```\n",
    "\n",
    "##### Pulling out the first row\n",
    "```python\n",
    "lst[0]\n",
    "```\n",
    "\n",
    "##### Pulling out the last row\n",
    "```python\n",
    "lst[-1]\n",
    "```\n",
    "\n",
    "##### Pulling out the first column (This returns a row vector)\n",
    "```python\n",
    "lst[:, 0]\n",
    "```\n",
    "\n",
    "##### Pulling out the first column (This returns a column vector)\n",
    "```python\n",
    "lst[:, 0:1]\n",
    "```\n",
    "\n",
    "**Just like regular lists, a single index drops a single dimension, using ranges maintains dimensions.**"
   ]
  },
  {
   "cell_type": "code",
   "execution_count": null,
   "metadata": {},
   "outputs": [],
   "source": [
    "#type your code here:\n",
    "\n",
    "lst = np.array(\n",
    "    [\n",
    "        [1, 2, 3],\n",
    "        [4, 5, 6],\n",
    "        [7, 8, 9],\n",
    "    ]\n",
    ")\n",
    "\n",
    "lst = np.arange(25).reshape(5,5)\n",
    "\n",
    "print(lst)\n",
    "lst[2:,1]"
   ]
  },
  {
   "cell_type": "markdown",
   "metadata": {},
   "source": [
    "### 1.2 Access the Elements/fields of a Pandas DataFrame"
   ]
  },
  {
   "cell_type": "markdown",
   "metadata": {},
   "source": [
    "#### Accessing rows from the dataframe\n",
    "\n",
    "Rows are accessed using either **loc** or **iloc**\n",
    "\n",
    "###### iloc\n",
    "+ This will access rows depending on their integer index\n",
    "+ The first row will have index 0\n",
    "+ Then next will have index 1, ...\n",
    "+ To extract the first row you would use the following command\n",
    "    + This will return a series containing the information from that row\n",
    "```python\n",
    "df.iloc[0]\n",
    "```\n",
    "+ To extract multiple rows you can pass a list of indices\n",
    "    + This will return a dataframe containing the specified rows\n",
    "    + The dataframe will be in the order of the indicies\n",
    "      + \\[0, 1, 2\\] - original order\n",
    "      + \\[2, 1, 0\\] - reversed\n",
    "      + \\[0, 0, 1\\] - repeats\n",
    "      \n",
    "```python\n",
    "df.iloc[[0, 1, 2]]\n",
    "```"
   ]
  },
  {
   "cell_type": "code",
   "execution_count": null,
   "metadata": {},
   "outputs": [],
   "source": [
    "#type your code here:\n",
    "\n",
    "data = {\n",
    "    'Tree1': {'girth': 8.3, 'height': 70, 'volume': 10.3},\n",
    "    'Tree2': {'girth': 8.6, 'height': 65, 'volume': 10.3},\n",
    "    'Tree3': {'girth': 8.8, 'height': 63, 'volume': 10.2}\n",
    "}\n",
    "\n",
    "df = pd.DataFrame.from_dict(data, orient='index')\n",
    "\n",
    "\n",
    "df.iloc[[0,1,2]]"
   ]
  },
  {
   "cell_type": "code",
   "execution_count": null,
   "metadata": {},
   "outputs": [],
   "source": [
    "#type your code here:\n",
    "\n",
    "#Avoid duplicates!\n",
    "df.iloc[list(set([0,1,1]))]\n",
    "#df.iloc[[0,1,1]].drop_duplicates()"
   ]
  },
  {
   "cell_type": "markdown",
   "metadata": {},
   "source": [
    "###### loc\n",
    "\n",
    "Various arguments will work with loc to extract rows from a dataframe\n",
    "\n",
    "+ A single index label\n",
    "    + Returns a series for that specific **row**\n",
    "    ```python\n",
    "df.loc[\"Tree2\"]\n",
    "    ```\n",
    "+ A list of index labels\n",
    "    + Returns a dataframe containing those **rows**\n",
    "    ```python\n",
    "df.loc[[\"Tree1\", \"Tree3\"]]\n",
    "    ```\n",
    "+ A boolean list\n",
    "    + Returns a dataframe for **rows** that are labeled true\n",
    "      + The number of booleans should match the number of rows\n",
    "      + row 0 - False\n",
    "      + row 1 - True\n",
    "      + row 2 - False\n",
    "    ```python\n",
    "df.loc[[False, True, False]]\n",
    "    ```"
   ]
  },
  {
   "cell_type": "code",
   "execution_count": null,
   "metadata": {},
   "outputs": [],
   "source": [
    "#type your code here:\n",
    "\n",
    "\n",
    "print(df.loc[[\"Tree1\", \"Tree3\"]])\n",
    "\n",
    "print(df.loc[[False, True, False]])\n",
    "\n",
    "print( df[['volume']] == 10.3)"
   ]
  },
  {
   "cell_type": "code",
   "execution_count": null,
   "metadata": {},
   "outputs": [],
   "source": [
    "#type your code here:\n",
    "\n",
    "print(df)\n",
    "\n",
    "# print(df.loc[[True, True, False]])\n",
    "\n",
    "# filter1 = df['volume'] == 10.3\n",
    "# filter2 = df['girth'] > 8.5\n",
    "\n",
    "# print(list(filter1))\n",
    "# print(list(filter2))\n",
    "\n",
    "# df.loc[filter1]"
   ]
  },
  {
   "cell_type": "markdown",
   "metadata": {},
   "source": [
    "##### Boolean masks (example: [True, True, False, True]) are a powerful tool to filter Arrays and Dataframe"
   ]
  },
  {
   "cell_type": "code",
   "execution_count": null,
   "metadata": {},
   "outputs": [],
   "source": [
    "#type your code here:\n",
    "\n",
    "\n",
    "s1 = np.arange(0,10,1)>3\n",
    "s2 = np.arange(0,10,1)>6\n",
    "\n",
    "\n",
    "print('serie 1  :', s1)\n",
    "print('serie 2  :', s2)\n",
    "\n",
    "\n",
    "print('\\nresult  &:',s1 & s2)\n",
    "print('\\nresult  |:',s1 | s2)\n",
    "\n"
   ]
  },
  {
   "cell_type": "code",
   "execution_count": null,
   "metadata": {},
   "outputs": [],
   "source": [
    "#type your code here:\n",
    "\n",
    "print(df)\n",
    "print(df.loc[[True, True, False]])\n",
    "\n",
    "df.loc[filter1 & filter2]\n"
   ]
  },
  {
   "cell_type": "markdown",
   "metadata": {},
   "source": [
    "## 2. Plots with Matplotlib"
   ]
  },
  {
   "cell_type": "markdown",
   "metadata": {},
   "source": [
    "Matplotlib is a plotting library for the Python programming language and its numerical mathematics extension NumPy.\n",
    "\n",
    "Matplotlib was originally written by John D. Hunter, has an active development community, and is distributed under a BSD-style license. Michael Droettboom was nominated as matplotlib's lead developer shortly before John Hunter's death in August 2012, and further joined by Thomas Caswell.\n",
    "\n",
    "As of 23 June 2017, matplotlib 2.0.x supports Python versions 2.7 through 3.6. Python3 support started with Matplotlib 1.2. Matplotlib 1.4 is the last version to support Python 2.6.\n",
    "\n",
    "Matplotlib has pledged to not support Python 2 past 2020 by signing the Python 3 Statement.\n",
    "\n",
    "Source: https://en.wikipedia.org/wiki/Matplotlib"
   ]
  },
  {
   "cell_type": "markdown",
   "metadata": {},
   "source": [
    "### What can Matplotlib Plot\n",
    "\n",
    "Short answer: Everything\n",
    "\n",
    "Longer answer: Some plots will require more work than other."
   ]
  },
  {
   "cell_type": "markdown",
   "metadata": {},
   "source": [
    "### Why use Matplotlib\n",
    "\n",
    "Matplotlib is extremely customizable. They provide a framework for generating plots, after the plots have been generated every aspect of the figure can be customized.\n",
    "\n",
    "Due to this flexibility, many other packages extend Matplotlib such as Seaborn."
   ]
  },
  {
   "cell_type": "markdown",
   "metadata": {},
   "source": [
    "### Installing Matplotlib\n",
    "Matplotlib is not included in the standard python packages so it will need to be installed.\n",
    "\n",
    "```bash\n",
    "conda install matplotlib\n",
    "pip install matplotlib\n",
    "```\n",
    "\n",
    "### Importing Matplotlib\n",
    "Matplotlib is not imported as a whole, instead only the pyplot sub-module is imported. This module contains commands for manipulating figures. It is standard practice to name this import **plt**.\n",
    "\n",
    "```python\n",
    "import matplotlib.pyplot as plt\n",
    "```\n",
    "\n",
    "### Backends and Renderes\n",
    "Matplotlib uses different backends for rendering figures. The backend can be changed for different circumstances, but generally can be left with the default. The backend determines which application matplotlib will open to view the figures.\n",
    "\n",
    "The renderer determines the format of the rendered images eg: svg, png, ps, pdf etc...\n",
    "\n",
    "When drawing figures within a jupyter notebook a magic function needs to be called so that the figures will appear in the notebook.\n",
    "\n",
    "```python\n",
    "%matplotlib inline\n",
    "```\n",
    "\n",
    "This is generally called at the end of the import cell at the top of the notebook.\n",
    "I will also import numpy as we will make use of it throught this section. We will also need to set the seed before generating random numbers so that our random numbers will be the same.\n",
    "\n",
    "```python\n",
    "import matplotlib.pyplot as plt\n",
    "import numpy as np\n",
    "\n",
    "%matplotlib inline\n",
    "```"
   ]
  },
  {
   "cell_type": "code",
   "execution_count": null,
   "metadata": {},
   "outputs": [],
   "source": [
    "#type your code here:\n",
    "\n",
    "import matplotlib.pyplot as plt\n",
    "import numpy as np\n",
    "\n",
    "%matplotlib inline"
   ]
  },
  {
   "cell_type": "markdown",
   "metadata": {},
   "source": [
    "### A simple plot\n",
    "\n",
    "We can use numpy to generate some a 1D list of random values and visualize this list.\n",
    "\n",
    "```python\n",
    "np.random.seed(123454321)\n",
    "values = np.random.normal(0, 1, size=400)\n",
    "plt.plot(values)\n",
    "```"
   ]
  },
  {
   "cell_type": "code",
   "execution_count": null,
   "metadata": {},
   "outputs": [],
   "source": [
    "#type your code here:\n",
    "\n",
    "np.random.seed(123454320)\n",
    "\n",
    "values = np.random.normal(0, 1, size=400)\n",
    "_ = plt.plot(values)\n",
    "#_ = plt.plot(values[::-1]+10)\n"
   ]
  },
  {
   "cell_type": "markdown",
   "metadata": {},
   "source": [
    "The `plot` function will always generate a **line** plot. If a 1D list is provided, the values within the list will determine the y coordinate and the index of the value will determine the x coordinate.\n",
    "\n",
    "Why does the output show something simlar to this before the plot?\n",
    "+ \\[<matplotlib.lines.Line2D at 0x115a04438>\\]\n",
    "\n",
    "The reason is that every function in python returns something, plot returns a list of lines.\n",
    "When working in Jupyter the output from the last function/variable is always printed in the cell. In this case that output is the result from running plt.plot(values).\n",
    "\n",
    "To fix this we need to save the result of that function. In python it is a standard practice to save unused values as an underscore.\n",
    "\n",
    "```python\n",
    "_ = plt.plot(values)\n",
    "```"
   ]
  },
  {
   "cell_type": "markdown",
   "metadata": {},
   "source": [
    "### 2.1 Providing x coordinates for the list of values\n",
    "\n",
    "As previously stated, if a list of coordinates is not provided, the index of each value will act as the x-coordinate.\n",
    "\n",
    "If you would like to map the values to x coordinates then a second list must be provided to the plot function with the same number of elements as the list of values.\n",
    "\n",
    "```python\n",
    "plt.plot(x_list, y_list)\n",
    "```\n",
    "\n",
    "If the lists are not of equal length then a **ValueError** will be thrown.\n",
    "\n",
    "`ValueError: x and y must have same first dimension, but have shapes (399,) and (400,)`\n",
    "\n",
    "#### What does the following line of code do?\n",
    "```python\n",
    "_ = plt.plot(np.linspace(-5, 5, len(values)), values)\n",
    "```"
   ]
  },
  {
   "cell_type": "code",
   "execution_count": null,
   "metadata": {},
   "outputs": [],
   "source": [
    "#type your code here:\n",
    "\n",
    "_ = plt.plot(np.linspace(-5, 5, len(values)), values)"
   ]
  },
  {
   "cell_type": "markdown",
   "metadata": {},
   "source": [
    "### Adding additional lines to the plot and different plot styles\n",
    "\n",
    "Additional lines can be plotted by calling the `plt.plot()` function again with the list of new values.\n",
    "\n",
    "```python\n",
    "np.random.seed(123454321)\n",
    "line_1 = np.random.normal(0, 1, size=400)\n",
    "line_2 = np.random.normal(50, 10, size=400)\n",
    "\n",
    "_ = plt.plot(line_1)\n",
    "_ = plt.plot(line_2)\n",
    "```\n",
    "\n",
    "**styles**\n",
    "\n",
    "- color or c\tany matplotlib color\n",
    "\n",
    "- linestyle or ls\t[ '-' | '--' | '-.' | ':' | 'steps' | ...]\n",
    "\n",
    "- linewidth or lw\tfloat value in points\n",
    "\n",
    "- marker\t     [ '+' | ',' | '.' | '1' | '2' | '3' | '4' ]\n",
    "\n",
    "- markersize or ms\tfloat\n",
    "\n",
    "- markevery\t[ None | integer | (startind, stride) ]\n",
    "\n"
   ]
  },
  {
   "cell_type": "code",
   "execution_count": null,
   "metadata": {},
   "outputs": [],
   "source": [
    "#type your code here:\n",
    "\n",
    "fig = plt.figure(figsize=[15,3])\n",
    "np.random.seed(123454321)\n",
    "\n",
    "line_1 = np.random.normal(0, 1, size=400)[0:100]\n",
    "line_2 = np.random.normal(50, 10, size=400)[0:100]\n",
    "\n",
    "plt.plot(line_1, color='red', marker='.',linestyle='')\n",
    "plt.plot(line_2, color='lightblue', linewidth=4, linestyle='-',markevery =2, marker='+', markersize=20)\n",
    "\n",
    "plt.title(\"title\")\n",
    "plt.xlabel(\"xlabel\")\n",
    "_ = plt.ylabel(\"ylabel\")"
   ]
  },
  {
   "cell_type": "markdown",
   "metadata": {},
   "source": [
    "### Generating separate plots within the same code block\n",
    "\n",
    "What if instead of showing both lines on the same plot we would like to show two separate plots?\n",
    "\n",
    "To fix this we can use the `plt.show()` function. This function will take the currently plot and render it. Once it has been rendered the plot is cleared so that another figure can be rendered.\n",
    "\n",
    "```python\n",
    "np.random.seed(123454321)\n",
    "line_1 = np.random.normal(0, 1, size=400)\n",
    "line_2 = np.random.normal(50, 10, size=400)\n",
    "\n",
    "_ = plt.plot(line_1)\n",
    "plt.show()\n",
    "_ = plt.plot(line_2)\n",
    "plt.show()\n",
    "```"
   ]
  },
  {
   "cell_type": "code",
   "execution_count": null,
   "metadata": {},
   "outputs": [],
   "source": [
    "#type your code here:\n",
    "\n",
    "#np.random.seed(123454321)\n",
    "line_1 = np.random.normal(0, 1, size=400)\n",
    "line_2 = np.random.normal(50, 10, size=400)\n",
    "\n",
    "def horiz_lines(line):\n",
    "    plt.hlines(line.mean(),0,len(line), linewidth=5, zorder=3)\n",
    "    plt.hlines(line.mean()+line.std()/2,0,len(line))\n",
    "    plt.hlines(line.mean()-line.std()/2,0,len(line))\n",
    "    \n",
    "\n",
    "_ = plt.plot(line_1)\n",
    "plt.xticks(np.arange(0,400,30))\n",
    "horiz_lines(line_1)\n",
    "plt.show()\n",
    "_ = plt.plot(line_2)\n",
    "#horiz_lines(line_2)\n",
    "plt.show()"
   ]
  },
  {
   "cell_type": "markdown",
   "metadata": {},
   "source": [
    "#### Simplifying the previous example\n",
    "\n",
    "The two separate lines can be stored in a single 2D variable.\n",
    "```python\n",
    "# [ \n",
    "#    [a_0, b_0], \n",
    "#    [a_1, b_1],\n",
    "#    [a_2, b_2],\n",
    "#      ..., \n",
    "#    [a_n, b_n]\n",
    "# ]\n",
    "```\n",
    "\n",
    "Numpy can normally generate multidimensional data using tuples to separate parameters.\n",
    "\n",
    "In this example the **size** argument is important as we gave 2D tuples, so the size needs to be 2D.\n",
    "\n",
    "```python\n",
    "np.random.seed(123454321)\n",
    "# sample 400 points from two different distributions\n",
    "# dist_1: mean=0 std=1\n",
    "# dist_2: mean=50 std=10\n",
    "points = np.random.normal((0,50), (1,10), size=(400,2))\n",
    "points\n",
    "```\n",
    "\n",
    "And then to plot those points we can pass the single variable\n",
    "```python\n",
    "_ = plt.plot(points)\n",
    "```"
   ]
  },
  {
   "cell_type": "code",
   "execution_count": null,
   "metadata": {},
   "outputs": [],
   "source": [
    "#type your code here:\n",
    "\n",
    "np.random.seed(123454321)\n",
    "points = np.random.normal((0,50), (1,10), size=(400,2))\n",
    "\n",
    "points=points#[1:10:2,:]\n",
    "\n",
    "#_ = plt.plot(points)\n",
    "_ = plt.plot(points.transpose())\n",
    "plt.show()\n"
   ]
  },
  {
   "cell_type": "markdown",
   "metadata": {},
   "source": [
    "#### Scatter plots & Numpy indexing\n",
    "\n",
    "We could think about the points array as being x, y coordinates for plotting a scatter plot.\n",
    "\n",
    "Unfortunately if we try to plot the points we get an error due to the scatter function requiring two arguments.\n",
    "\n",
    "```python\n",
    "plt.scatter(points)\n",
    "```"
   ]
  },
  {
   "cell_type": "code",
   "execution_count": null,
   "metadata": {},
   "outputs": [],
   "source": [
    "#type your code here:\n",
    "\n",
    "print(points.shape, points[:,0].shape)\n",
    "\n",
    "_ = plt.scatter(points[:,0], points[:,1],marker='.')\n",
    "plt.show()\n",
    "\n"
   ]
  },
  {
   "cell_type": "markdown",
   "metadata": {},
   "source": [
    "### Example: Histogram"
   ]
  },
  {
   "cell_type": "code",
   "execution_count": null,
   "metadata": {},
   "outputs": [],
   "source": [
    "#type your code here:\n",
    "\n",
    "_ = plt.hist(points[:,0],bins=50, range=[-6,6])\n",
    "plt.xlabel('xlabel')\n",
    "plt.ylabel('ylabel')\n",
    "plt.show()"
   ]
  },
  {
   "cell_type": "markdown",
   "metadata": {},
   "source": [
    "## 1. Examples"
   ]
  },
  {
   "cell_type": "markdown",
   "metadata": {},
   "source": [
    "### Example: 2D - rgb image\n",
    "\n",
    "#### Generate random image data (channels, width, height)\n",
    "We can generate random noise using the `np.random.randint()` function.\n",
    "Color images generally have 3 or 4 channels depending on if they are transparent or not.\n",
    "+ They will always have red, green, and blue value for each x, y coordinate.\n",
    "+ These values range from 0-255\n",
    "+ 255 is the largest number that can be made from 8 bits\n",
    "  + 11111111\n",
    "  + 128 + 64 + 32 + 16 + 8 + 4 + 2 + 1\n",
    "\n",
    "##### Lets create some random data\n",
    "```python\n",
    "width = 10\n",
    "height = 10\n",
    "channels = 3\n",
    "img = np.random.randint(0, 255, (channels, width, height), dtype=np.uint8)\n",
    "print(img)\n",
    "```"
   ]
  },
  {
   "cell_type": "code",
   "execution_count": null,
   "metadata": {},
   "outputs": [],
   "source": [
    "#type your code here:\n",
    "\n",
    "width = 10\n",
    "height = 10\n",
    "channels = 3\n",
    "img = np.random.randint(0, 255, (channels, width, height), dtype=np.uint8)\n",
    "print(img)"
   ]
  },
  {
   "cell_type": "markdown",
   "metadata": {},
   "source": [
    "#### Viewing images with Matplotlib\n",
    "\n",
    "Pyplot has a specific function for viewing images called `imshow()`\n",
    "\n",
    "If we try to plug our image into imshow we will get an error.\n",
    "+ imshow expects a matrix of shape (width, height, channels)\n",
    "+ Our img is of the shape (channels, width, height)\n",
    "\n",
    "To fix this we need to rearrange the order of our dimensions\n",
    "\n",
    "+ `img.shape` -> (1, 10, 10)\n",
    "+ 'img = img.transpose(1, 2, 0).shape' -> (10, 10, 1)\n",
    "\n",
    "#### Plotting the data:\n",
    "```python\n",
    "img = img.transpose(1, 2, 0)\n",
    "plt.imshow(img)\n",
    "```"
   ]
  },
  {
   "cell_type": "code",
   "execution_count": null,
   "metadata": {},
   "outputs": [],
   "source": [
    "#type your code here:\n",
    "\n",
    "img = img.transpose(1, 2, 0)\n",
    "\n",
    "_ = plt.imshow(img)\n"
   ]
  },
  {
   "cell_type": "markdown",
   "metadata": {},
   "source": [
    "#### Plotting a single channel\n",
    "\n",
    "We can use indexing to plot only a single channel from the image\n",
    "\n",
    "```python\n",
    "plt.imshow(img[:,:,0])\n",
    "```"
   ]
  },
  {
   "cell_type": "code",
   "execution_count": null,
   "metadata": {},
   "outputs": [],
   "source": [
    "_ = plt.imshow(img[:, :,2])"
   ]
  },
  {
   "cell_type": "markdown",
   "metadata": {},
   "source": [
    "### Example: Add text and legend"
   ]
  },
  {
   "cell_type": "code",
   "execution_count": null,
   "metadata": {},
   "outputs": [],
   "source": [
    "#type your code here:\n",
    "\n",
    "x = np.linspace(0, 1, 101)\n",
    "\n",
    "y1 = np.sin(x * np.pi / 2)\n",
    "y2 = np.cos(x * np.pi / 2)\n",
    "_ = plt.plot(x, y1, label='sin')\n",
    "_ = plt.plot(x, y2, label='cos')\n",
    "_ = plt.text(0.08, 0.2, 'sin')\n",
    "_ = plt.text(0.9, 0.2, 'cos')\n",
    "_ = plt.legend()"
   ]
  },
  {
   "cell_type": "markdown",
   "metadata": {},
   "source": [
    "### Example: Smooth a curve\n",
    "\n",
    "The **convolution operator** is often seen in signal processing, where it models the effect of a linear time-invariant system on a signal.\n",
    "\n",
    "https://docs.scipy.org/doc/numpy/reference/generated/numpy.convolve.html"
   ]
  },
  {
   "cell_type": "code",
   "execution_count": null,
   "metadata": {
    "scrolled": true
   },
   "outputs": [],
   "source": [
    "#type your code here:\n",
    "\n",
    "x = np.linspace(0,2*np.pi,100)\n",
    "y = np.sin(x) + np.random.random(100) * 0.8\n",
    "\n",
    "\n",
    "def smooth(y, box_pts):\n",
    "    box = np.ones(box_pts)/box_pts\n",
    "    y_smooth = np.convolve(y, box, mode='same')\n",
    "    return y_smooth\n",
    "\n",
    "\n",
    "_ = plt.plot(x, y,'o')\n",
    "_ = plt.plot(x, smooth(y,3), 'r-', lw=2)\n",
    "_ = plt.plot(x, smooth(y,19), 'g-', lw=4)\n",
    "\n"
   ]
  },
  {
   "cell_type": "markdown",
   "metadata": {},
   "source": [
    " ### Example: Fit a curve"
   ]
  },
  {
   "cell_type": "code",
   "execution_count": null,
   "metadata": {},
   "outputs": [],
   "source": [
    "#type your code here:\n",
    "\n",
    "#example from Scipy\n",
    "from scipy.optimize import curve_fit\n",
    "\n",
    "def func(x, a, b, c):\n",
    "    return a * np.exp(-b * x) + c\n",
    "\n",
    "xdata = np.linspace(0, 4, 50)\n",
    "y = func(xdata, 2.5, 1.3, 0.5)\n",
    "np.random.seed(1729)\n",
    "\n",
    "y_noise = 0.2 * np.random.normal(size=xdata.size)\n",
    "ydata = y + y_noise\n",
    "\n",
    "plt.plot(xdata, ydata, 'b-', label='data')\n",
    "popt, pcov = curve_fit(func, xdata, ydata)\n",
    "print('Fitting Parameters:', popt)\n",
    "\n",
    "plt.plot(xdata, func(xdata, *popt), 'r-',\n",
    "         label='fit: a=%5.3f, b=%5.3f, c=%5.3f' % tuple(popt))\n",
    "\n",
    "plt.xlabel('x')\n",
    "plt.ylabel('y')\n",
    "plt.legend()\n",
    "plt.show()\n"
   ]
  },
  {
   "cell_type": "markdown",
   "metadata": {},
   "source": [
    "\n",
    "\n",
    "\n",
    "## Exemple: Toughest Sport: 60 sports ranked across 10 skills\n",
    "\n",
    "ESPN identified 10 categories, or skills, that go into athleticism, and then asked eight panelists to assign a number from 1 to 10 to the demands each sport makes of each of those 10 skills. By totalling and averaging their responses, we arrived at a degree-of-difficulty number for each sport on a 1 to 100 scale. That number places the difficulty of performing each sport in context with the other sports we rated.\n",
    "\n",
    "\n",
    "- ENDURANCE: The ability to continue to perform a skill or action for long periods of time. Example: Lance Armstrong\n",
    "- STRENGTH: The ability to produce force. Example: NFL linebackers.\n",
    "- POWER: The ability to produce strength in the shortest possible time. Example: Barry Bonds.\n",
    "- SPEED: The ability to move quickly. Example: Marion Jones, Maurice Green.\n",
    "- AGILITY: The ability to change direction quickly. Example: Derek Jeter, Mia Hamm.\n",
    "- FLEXIBILITY: The ability to stretch the joints across a large range of motion. Example: Gymnasts, divers.\n",
    "- NERVE: The ability to overcome fear. Example: High-board divers, race-car drivers, ski jumpers.\n",
    "- DURABILITY: The ability to withstand physical punishment over a long period of time. Example: NBA/NHL players.\n",
    "- HAND-EYE COORDINATION: The ability to react quickly to sensory perception. \n",
    "- ANALYTIC APTITUDE: The ability to evaluate and react appropriately to strategic situations.\n",
    "\n",
    "http://www.espn.com/espn/page2/sportSkills?sort=endurance#grid\n",
    "\n",
    "\n",
    "```python\n",
    "import pandas as pd\n",
    "df = pd.read_excel('https://query.data.world/s/wvouyfvsfnog3bpso66ndbgln3s4y5')\n",
    "```"
   ]
  },
  {
   "cell_type": "code",
   "execution_count": null,
   "metadata": {},
   "outputs": [],
   "source": [
    "#type your code here:\n",
    "\n",
    "import pandas as pd\n",
    "df = pd.read_excel('https://query.data.world/s/wvouyfvsfnog3bpso66ndbgln3s4y5')\n",
    "df=df.set_index('SPORT')\n",
    "\n",
    "df=df.iloc[1:20,2:8]  # select row and columns\n",
    "\n",
    "df"
   ]
  },
  {
   "cell_type": "code",
   "execution_count": null,
   "metadata": {},
   "outputs": [],
   "source": [
    "#type your code here:\n",
    "\n",
    "#Panda DataFrames have their own plotting methods\n",
    "_ = df.apply(np.mean, axis=1).hist() #average per line\n",
    "plt.title(\"average per sport\")\n",
    "plt.show()\n",
    "\n",
    "_ = df.apply(np.mean, axis=0).hist() #average per column\n",
    "plt.title(\"average per aptitute\")\n",
    "plt.show()\n",
    "\n",
    "# Histogram can be called as a function plt.hist() or a method df.hist()\n",
    "#plt.hist(df.apply(np.mean, axis=0))\n",
    "#plt.title(\"average per aptitute\")\n",
    "#plt.show\n",
    "\n",
    "_ = df.hist()\n",
    "plt.show()\n"
   ]
  }
 ],
 "metadata": {
  "kernelspec": {
   "display_name": "Python 3.7.4 64-bit ('anaconda3': virtualenv)",
   "language": "python",
   "name": "python37464bitanaconda3virtualenv930baec3962941479849760ca321bb8f"
  },
  "language_info": {
   "codemirror_mode": {
    "name": "ipython",
    "version": 3
   },
   "file_extension": ".py",
   "mimetype": "text/x-python",
   "name": "python",
   "nbconvert_exporter": "python",
   "pygments_lexer": "ipython3",
   "version": "3.7.4"
  }
 },
 "nbformat": 4,
 "nbformat_minor": 2
}
