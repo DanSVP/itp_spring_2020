{
 "cells": [
  {
   "cell_type": "markdown",
   "metadata": {},
   "source": [
    "# Introduction to Python - Lecture 07 (April 24th 2020)\n",
    "\n",
    "#   **  ---------- Functions ---------  **\n",
    "** - links for this class **\n",
    "\n",
    "Stack Overflow:       \n",
    "https://stackoverflow.com/c/nyumc-coding-courses/questions\n",
    "\n",
    "Online Courses Page:\n",
    "http://fenyolab.org/presentations/Bioinformatics_2020/\n",
    "\n",
    "\n",
    "** - some useful documentation **\n",
    "\n",
    "https://en.wikipedia.org/wiki/Functional_programming\n",
    "\n",
    "https://eng.libretexts.org/Bookshelves/Computer_Science/Book%3A_Python_for_Everybody_(Severance)/04%3A_Functions\n",
    "\n",
    "https://docs.python.org/3/howto/functional.html\n",
    "\n",
    "http://www.pythonlearn.com/book_007.pdf\n",
    "(chapter 4)\n",
    "\n",
    "#   **  ------------------------------  **"
   ],
   "execution_count": null,
   "outputs": []
  },
  {
   "cell_type": "markdown",
   "metadata": {},
   "source": [
    "## 1. Introduction: why do we need functions?\n",
    "\n",
    "because you are already ably to write a python >100 lines script/program! \n",
    "\n",
    "So your code should be: \n",
    "- clean/organised\n",
    "- easy to understand\n",
    "- versatile / modular\n",
    "- efficient (no repetitions)\n",
    "- robust to errors and easy to test\n",
    "- portable (python versions, ...)\n",
    "- re-usable"
   ]
  },
  {
   "cell_type": "markdown",
   "metadata": {},
   "source": [
    "## 2. Function Calls\n",
    "\n",
    "### input x -> function f -> output f(x)\n",
    "\n",
    "**function_name(arguments)**\n",
    "\n",
    "\n",
    "\n",
    "We have already used used many functions such as:\n",
    "\n",
    "```python\n",
    "len([1, 2, 3])\n",
    "type(32)\n",
    "str(3.14159)\n",
    "upper('big')\n",
    "range(0,9)\n",
    "print('I am an argument')\n",
    "```"
   ],
   "execution_count": null,
   "outputs": []
  },
  {
   "cell_type": "code",
   "execution_count": null,
   "metadata": {},
   "outputs": [],
   "source": [
    "# type your code here:\n",
    "help(len)"
   ]
  },
  {
   "cell_type": "markdown",
   "metadata": {},
   "source": [
    "## 3. Built-In Functions\n",
    "\n",
    "Python has build in functions which are always available\n",
    "\n",
    "+ These are functions which solve common problems\n",
    "\n",
    "```python\n",
    "number_list = [5, 2, 1, 4, 0, 3]\n",
    "max(number_list)\n",
    "min(number_list)\n",
    "len(number_list)\n",
    "range(start, end, step)\n",
    "```\n",
    "\n",
    "+ There are many more of these than are listed above\n",
    "\n",
    "abs()\n",
    "bool()\t\n",
    "complex()\n",
    "dict()\n",
    "enumerate()\n",
    "filter()\n",
    "float()\n",
    "format()\n",
    "help()\n",
    "int()\n",
    "len()\n",
    "\n",
    "list()\tReturns a list\n",
    "\n",
    "max()\tReturns the largest item in an iterable\n",
    "\n",
    "min()\tReturns the smallest item in an iterable\n",
    "\n",
    "open()\tOpens a file and returns a file object\n",
    "\n",
    "print()\tPrints to the standard output device\n",
    "\n",
    "range()\tReturns a sequence of numbers, starting from 0 and increments by 1 (by default)\n",
    "\n",
    "set()\tReturns a new set object\n",
    "\n",
    "sorted()\tReturns a sorted list\n",
    "\n",
    "str()\tReturns a string object\n",
    "\n",
    "sum()\tSums the items of an iterator\n",
    "\n",
    "tuple()\tReturns a tuple\n",
    "\n",
    "islower()\tReturns True if all characters in the string are lower case\n",
    "\n",
    "isnumeric()\tReturns True if all characters in the string are numeric\n",
    "\n",
    "join()\tJoins the elements of an iterable to the end of the string\n",
    "\n",
    "lower()\tConverts a string into lower case\n",
    "\n",
    "** ... any many more **\n",
    "\n",
    "** ... and even more in all python library! **\n",
    "\n",
    "ex: build-in functions in the library os\n",
    "https://docs.python.org/3/library/os.html\n",
    "\n"
   ],
   "execution_count": null,
   "outputs": []
  },
  {
   "cell_type": "code",
   "execution_count": 45,
   "metadata": {},
   "outputs": [
    {
     "output_type": "execute_result",
     "data": {
      "text/plain": "6"
     },
     "metadata": {},
     "execution_count": 45
    }
   ],
   "source": [
    "# type your code here:\n",
    "number_list = [5, 2, 1, 4, 0, 3]\n",
    "max(number_list)\n",
    "min(number_list)\n",
    "range(1, 9)\n",
    "len(number_list)"
   ]
  },
  {
   "cell_type": "markdown",
   "metadata": {},
   "source": [
    "** Don't get confused between Functions and Methods**\n",
    "\n",
    "```python\n",
    "help(str)\n",
    "```\n",
    "\n",
    "- A **function** is a piece of code that is called by name. It operates on given arguments.\n",
    "\n",
    "#print() is a function\n",
    "```python\n",
    "print('big')\n",
    "```\n",
    "\n",
    "\n",
    "\n",
    "- A **method** is a piece of code that is called by a name that is associated with an object. \n",
    "A method is implicitly passed the object on which it was called.\n",
    "A method is able to operate on data that is contained within the object (instance of a class).\n",
    "\n",
    "#upper() and find() are methods\n",
    "```python\n",
    "'big'.upper()\n",
    "'banana'.find('an')\n",
    "```\n"
   ]
  },
  {
   "cell_type": "markdown",
   "metadata": {},
   "source": [
    "## 4. User Defined Functions\n",
    "\n",
    "```python\n",
    "# general syntax\n",
    "def function_name(arguments):    # arguments <=> parameters <=> inputs\n",
    "    statement_1\n",
    "    ...               # Function body\n",
    "    statement_n\n",
    "    return <value>    # optional; default=None\n",
    "```\n",
    "+ <font color='#AA00AA'>**def**</font> is a reserved word, it lets python know that a function is being defined.\n",
    "You can create new functions using a function definition.\n",
    "+ **<font color='#0000AA'>function_name</font>** can be any non reserved word\n",
    "    + Some common naming guidelines:\n",
    "        - use self explaining names\n",
    "        - avoid overly long names\n",
    "+ <font color='#00AA00'>arguments</font> are variables which are required by the function\n",
    "+ <font color='#00AA00'>indentation</font> marks the end of the function\n",
    "\n",
    "### Example 1\n",
    "```python\n",
    "def say_hello(name):\n",
    "    print(\"Hello\",name)\n",
    "    \n",
    "say_hello(\"Dave\")\n",
    "\n",
    "\n",
    "names = ['Dave', 'John', 'Jane', 'Mary']\n",
    "for name in names:\n",
    "    result = say_hello(name)\n",
    "    print(result)\n",
    "```\n",
    "\n",
    "### Example 2\n",
    "```python\n",
    "\n",
    "\n",
    "```\n",
    "\n",
    "###Example 3 \n",
    "```python\n",
    "\n",
    "sort\n",
    "\n",
    "```"
   ]
  },
  {
   "cell_type": "code",
   "execution_count": 73,
   "metadata": {},
   "outputs": [
    {
     "output_type": "stream",
     "name": "stdout",
     "text": "Hello David\nHow are you, Emily?\n"
    }
   ],
   "source": [
    "# type your code here:\n",
    "def say_hello(myname, yourname):\n",
    "    \"\"\"Comment 1: This function \n",
    "    \"\"\"\n",
    "    print(\"Hello\",name1)\n",
    "\n",
    "    #Comment2: \n",
    "    print(\"How are you, \"+ name2+ \"?\")\n",
    "\n",
    "say_hello(\"David\",\"Emily\")"
   ]
  },
  {
   "cell_type": "code",
   "execution_count": 74,
   "metadata": {},
   "outputs": [],
   "source": [
    "# type your code here:\n",
    ""
   ]
  },
  {
   "cell_type": "markdown",
   "metadata": {},
   "source": [
    "## return\n",
    "\n",
    "** input x -> function f -> output f(x) **\n",
    "\n",
    "\n",
    "**return** is a keyword which indicates that a value that is returned back when the function is invoked\n",
    "```python\n",
    "def add(a, b):\n",
    "    sum_ = a + b\n",
    "    return sum_\n",
    "\n",
    "result = add(2, 4) \n",
    "print(result)\n",
    "```\n",
    "\n",
    "The return keyword allows the results of functions to be used later in the program\n",
    "\n",
    "If return is not specified the function will return None\n",
    "```python\n",
    "def no_return():\n",
    "    print('I\\'m inside the function')  # Notice the escaping mechanism. You may use double quotes for string.\n",
    "print(no_return())\n",
    "```"
   ]
  },
  {
   "cell_type": "code",
   "execution_count": 75,
   "metadata": {},
   "outputs": [],
   "source": [
    "# type your code here:\n",
    "\n",
    ""
   ]
  },
  {
   "cell_type": "markdown",
   "metadata": {},
   "source": [
    "## 5. Order Matters\n",
    "\n",
    "+ Functions must be defined before they are used\n",
    "+ The following code will produce a ‘NameError’\n",
    "+ When add is called in the first statement the function does not yet exist\n",
    "\n",
    "```python\n",
    "add2(1, 2)\n",
    "\n",
    "def add2(a, b):\n",
    "    sum = a+b\n",
    "\treturn sum\n",
    "```"
   ],
   "execution_count": null,
   "outputs": []
  },
  {
   "cell_type": "code",
   "execution_count": 76,
   "metadata": {},
   "outputs": [],
   "source": [
    "# type your code here:\n",
    "\n",
    "\n",
    ""
   ]
  },
  {
   "cell_type": "markdown",
   "metadata": {},
   "source": [
    "## 6. Arguments by keyword vs position\n",
    "\n",
    "```python\n",
    "def print_full_name(name='John', surname='Doe'):\n",
    "    print(name, sur)\n",
    "\t\n",
    "print_full_name()\n",
    "print_full_name('David', 'Smith')\n",
    "print_full_name(surname='Jenkins')\n",
    "print_full_name(surname='Mills', name='Adam')\n",
    "```\n",
    "+ Keyword works well for documentation\n",
    "+ Set default values\n",
    "+ The order of the arguments does not matter if keywords are used\n",
    "+ Do not need all arguments as default values are used. Useful when the functions require a lot of inputs and defaults work well for most of them."
   ],
   "execution_count": null,
   "outputs": []
  },
  {
   "cell_type": "code",
   "execution_count": 77,
   "metadata": {},
   "outputs": [],
   "source": [
    "# type your code here:\n",
    ""
   ]
  },
  {
   "cell_type": "code",
   "execution_count": null,
   "metadata": {
    "collapsed": true,
    "jupyter": {
     "outputs_hidden": true
    }
   },
   "outputs": [],
   "source": []
  },
  {
   "cell_type": "markdown",
   "metadata": {},
   "source": [
    "### Mixed positional, kw arguments, mutable default arguments\n",
    "\n",
    "![link](https://upload.wikimedia.org/wikipedia/commons/8/84/Pi_30K.gif)\n",
    "https://upload.wikimedia.org/wikipedia/commons/8/84/Pi_30K.gif\n",
    "\n",
    "```python\n",
    "# Ex. Monte carlo simulation to compute the value of pi\n",
    "# https://en.wikipedia.org/wiki/Monte_Carlo_method\n",
    "#\n",
    "#         area of quarter circle    (1/4)*pi*r^2      pi*r^2\n",
    "# ratio = ----------------------- = -------------- = --------\n",
    "#              area of square            r^2          4r^2\n",
    "\n",
    "#            pi\n",
    "# ratio =   ---\n",
    "#            4\n",
    "# 4 * ratio = pi\n",
    "import random\n",
    "\n",
    "def get_random_point(r=1):\n",
    "    x = random.random() * r\n",
    "    y = random.random() * r\n",
    "    return x, y\n",
    "\n",
    "def in_circle(x, y, r=1):\n",
    "    return x**2 + y**2 <= r ** 2\n",
    "\n",
    "\n",
    "iterations = 10000000\n",
    "count_in_circle = 0\n",
    "for idx in range(iterations):\n",
    "    x, y = get_random_point()\n",
    "    if in_circle(x, y):\n",
    "        count_in_circle += 1\n",
    "print('After {} iterations, value of pi is: {}'.format(iterations, 4* count_in_circle/iterations))\n",
    "```"
   ],
   "execution_count": null,
   "outputs": []
  },
  {
   "cell_type": "code",
   "execution_count": 78,
   "metadata": {},
   "outputs": [
    {
     "output_type": "stream",
     "name": "stdout",
     "text": "After 0 iterations, value of pi is: 0.04\nAfter 1 iterations, value of pi is: 0.08\nAfter 2 iterations, value of pi is: 0.12\nAfter 3 iterations, value of pi is: 0.16\nAfter 4 iterations, value of pi is: 0.2\nAfter 5 iterations, value of pi is: 0.24\nAfter 6 iterations, value of pi is: 0.28\nAfter 7 iterations, value of pi is: 0.32\nAfter 8 iterations, value of pi is: 0.36\nAfter 9 iterations, value of pi is: 0.4\nAfter 10 iterations, value of pi is: 0.44\nAfter 11 iterations, value of pi is: 0.48\nAfter 12 iterations, value of pi is: 0.52\nAfter 13 iterations, value of pi is: 0.56\nAfter 14 iterations, value of pi is: 0.6\nAfter 15 iterations, value of pi is: 0.64\nAfter 16 iterations, value of pi is: 0.68\nAfter 17 iterations, value of pi is: 0.72\nAfter 18 iterations, value of pi is: 0.76\nAfter 19 iterations, value of pi is: 0.8\nAfter 20 iterations, value of pi is: 0.84\nAfter 21 iterations, value of pi is: 0.88\nAfter 22 iterations, value of pi is: 0.92\nAfter 23 iterations, value of pi is: 0.96\nAfter 24 iterations, value of pi is: 1.0\nAfter 25 iterations, value of pi is: 1.04\nAfter 26 iterations, value of pi is: 1.08\nAfter 27 iterations, value of pi is: 1.12\nAfter 28 iterations, value of pi is: 1.16\nAfter 29 iterations, value of pi is: 1.2\nAfter 30 iterations, value of pi is: 1.24\nAfter 31 iterations, value of pi is: 1.28\nAfter 32 iterations, value of pi is: 1.32\nAfter 33 iterations, value of pi is: 1.36\nAfter 34 iterations, value of pi is: 1.4\nAfter 35 iterations, value of pi is: 1.44\nAfter 36 iterations, value of pi is: 1.48\nAfter 37 iterations, value of pi is: 1.52\nAfter 38 iterations, value of pi is: 1.56\nAfter 39 iterations, value of pi is: 1.6\nAfter 40 iterations, value of pi is: 1.64\nAfter 41 iterations, value of pi is: 1.68\nAfter 42 iterations, value of pi is: 1.72\nAfter 43 iterations, value of pi is: 1.76\nAfter 44 iterations, value of pi is: 1.8\nAfter 45 iterations, value of pi is: 1.84\nAfter 46 iterations, value of pi is: 1.88\nAfter 47 iterations, value of pi is: 1.92\nAfter 48 iterations, value of pi is: 1.96\nAfter 49 iterations, value of pi is: 2.0\nAfter 50 iterations, value of pi is: 2.04\nAfter 51 iterations, value of pi is: 2.08\nAfter 52 iterations, value of pi is: 2.12\nAfter 53 iterations, value of pi is: 2.16\nAfter 54 iterations, value of pi is: 2.2\nAfter 55 iterations, value of pi is: 2.24\nAfter 56 iterations, value of pi is: 2.28\nAfter 57 iterations, value of pi is: 2.32\nAfter 58 iterations, value of pi is: 2.36\nAfter 59 iterations, value of pi is: 2.4\nAfter 60 iterations, value of pi is: 2.44\nAfter 61 iterations, value of pi is: 2.48\nAfter 62 iterations, value of pi is: 2.52\nAfter 63 iterations, value of pi is: 2.56\nAfter 64 iterations, value of pi is: 2.6\nAfter 65 iterations, value of pi is: 2.64\nAfter 66 iterations, value of pi is: 2.68\nAfter 67 iterations, value of pi is: 2.72\nAfter 68 iterations, value of pi is: 2.76\nAfter 69 iterations, value of pi is: 2.8\nAfter 70 iterations, value of pi is: 2.84\nAfter 71 iterations, value of pi is: 2.88\nAfter 72 iterations, value of pi is: 2.92\nAfter 73 iterations, value of pi is: 2.96\nAfter 74 iterations, value of pi is: 3.0\nAfter 75 iterations, value of pi is: 3.04\nAfter 76 iterations, value of pi is: 3.08\nAfter 77 iterations, value of pi is: 3.12\nAfter 78 iterations, value of pi is: 3.16\nAfter 79 iterations, value of pi is: 3.2\nAfter 80 iterations, value of pi is: 3.24\nAfter 81 iterations, value of pi is: 3.28\nAfter 82 iterations, value of pi is: 3.32\nAfter 83 iterations, value of pi is: 3.36\nAfter 84 iterations, value of pi is: 3.4\nAfter 85 iterations, value of pi is: 3.44\nAfter 86 iterations, value of pi is: 3.48\nAfter 87 iterations, value of pi is: 3.52\nAfter 88 iterations, value of pi is: 3.56\nAfter 89 iterations, value of pi is: 3.6\nAfter 90 iterations, value of pi is: 3.64\nAfter 91 iterations, value of pi is: 3.68\nAfter 92 iterations, value of pi is: 3.72\nAfter 93 iterations, value of pi is: 3.76\nAfter 94 iterations, value of pi is: 3.8\nAfter 95 iterations, value of pi is: 3.84\nAfter 96 iterations, value of pi is: 3.88\nAfter 97 iterations, value of pi is: 3.92\nAfter 98 iterations, value of pi is: 3.96\nAfter 99 iterations, value of pi is: 4.0\n"
    }
   ],
   "source": [
    "import random\n",
    "\n",
    "def get_random_point(r=1):\n",
    "    x = random.random() * r\n",
    "    y = random.random() * r\n",
    "    return x, y\n",
    "\n",
    "def in_circle(x, y, r=1):\n",
    "    return x**2 + y**2 <= r ** 2\n",
    "\n",
    "\n",
    "iterations = 100\n",
    "count_in_circle = 0\n",
    "for idx in range(iterations):\n",
    "    x, y = get_random_point()\n",
    "    if in_circle(x, y, r=5):\n",
    "        count_in_circle += 1\n",
    "    print('After {} iterations, value of pi is: {}'.format(idx, 4* count_in_circle/iterations))\n",
    ""
   ]
  },
  {
   "cell_type": "code",
   "execution_count": 79,
   "metadata": {},
   "outputs": [],
   "source": [
    "def func(a, b, kw1=0):\n",
    "    pass"
   ]
  },
  {
   "cell_type": "markdown",
   "metadata": {},
   "source": [
    "## 7. Scope\n",
    "\n",
    "The scope of a variable refers to region / location / zone in the code where the variable is valid and can be used.\n",
    "\n",
    "In this example the variable is defined inside a function. It will not be accessable from outside of the function as the variable is out of scope.\n",
    "\n",
    "```python\n",
    "def print_something():\n",
    "    internal_var = 5\n",
    "    print(internal_var)\n",
    "print_something()\n",
    "print(internal_var)\n",
    "```"
   ],
   "execution_count": null,
   "outputs": []
  },
  {
   "cell_type": "code",
   "execution_count": 80,
   "metadata": {},
   "outputs": [
    {
     "output_type": "stream",
     "name": "stdout",
     "text": "5\n"
    },
    {
     "output_type": "error",
     "ename": "NameError",
     "evalue": "name 'internal_var' is not defined",
     "traceback": [
      "\u001b[0;31m---------------------------------------------------------------------------\u001b[0m",
      "\u001b[0;31mNameError\u001b[0m                                 Traceback (most recent call last)",
      "\u001b[0;32m<ipython-input-80-58839424f02a>\u001b[0m in \u001b[0;36m<module>\u001b[0;34m\u001b[0m\n\u001b[1;32m      3\u001b[0m     \u001b[0mprint\u001b[0m\u001b[0;34m(\u001b[0m\u001b[0minternal_var\u001b[0m\u001b[0;34m)\u001b[0m\u001b[0;34m\u001b[0m\u001b[0;34m\u001b[0m\u001b[0m\n\u001b[1;32m      4\u001b[0m \u001b[0mprint_something\u001b[0m\u001b[0;34m(\u001b[0m\u001b[0;34m)\u001b[0m\u001b[0;34m\u001b[0m\u001b[0;34m\u001b[0m\u001b[0m\n\u001b[0;32m----> 5\u001b[0;31m \u001b[0mprint\u001b[0m\u001b[0;34m(\u001b[0m\u001b[0minternal_var\u001b[0m\u001b[0;34m)\u001b[0m\u001b[0;34m\u001b[0m\u001b[0;34m\u001b[0m\u001b[0m\n\u001b[0m",
      "\u001b[0;31mNameError\u001b[0m: name 'internal_var' is not defined"
     ]
    }
   ],
   "source": [
    "def print_something():\n",
    "    internal_var = 5\n",
    "    print(internal_var)\n",
    "print_something()\n",
    "print(internal_var)"
   ]
  },
  {
   "cell_type": "markdown",
   "metadata": {},
   "source": [
    "It is possible for a variable that is declared outside of a function, to be used inside function body? Yes, but only if the variable is defined before the function is called.\n",
    "\n",
    "```python\n",
    "a = 10\n",
    "def print_something():\n",
    "    print('inside function', id(a), a)\n",
    "print_something()\n",
    "print('outside function', id(a), a)\n",
    "```"
   ],
   "execution_count": null,
   "outputs": []
  },
  {
   "cell_type": "code",
   "execution_count": 81,
   "metadata": {},
   "outputs": [
    {
     "output_type": "stream",
     "name": "stdout",
     "text": "inside function 4421453728 10\noutside function 4421453728 10\n"
    }
   ],
   "source": [
    "a = 10\n",
    "def print_something():\n",
    "    print('inside function', id(a), a)\n",
    "print_something()\n",
    "print('outside function', id(a), a)"
   ]
  },
  {
   "cell_type": "markdown",
   "metadata": {},
   "source": [
    "If a new value is assigned to an external variable inside the function body, a **new local variable** will be created with the same name that temporarily masks external variable while we're within the function scope.\n",
    "\n",
    "```python\n",
    "a = 10\n",
    "def print_something():\n",
    "    a = 5\n",
    "    print('inside function', id(a), a)\n",
    "print_something()\n",
    "print('outside function', id(a), a)\n",
    "```"
   ],
   "execution_count": null,
   "outputs": []
  },
  {
   "cell_type": "code",
   "execution_count": 82,
   "metadata": {},
   "outputs": [
    {
     "output_type": "error",
     "ename": "UnboundLocalError",
     "evalue": "local variable 'a' referenced before assignment",
     "traceback": [
      "\u001b[0;31m---------------------------------------------------------------------------\u001b[0m",
      "\u001b[0;31mUnboundLocalError\u001b[0m                         Traceback (most recent call last)",
      "\u001b[0;32m<ipython-input-82-984f0af7031a>\u001b[0m in \u001b[0;36m<module>\u001b[0;34m\u001b[0m\n\u001b[1;32m      4\u001b[0m     \u001b[0ma\u001b[0m \u001b[0;34m=\u001b[0m \u001b[0;36m5\u001b[0m\u001b[0;34m\u001b[0m\u001b[0;34m\u001b[0m\u001b[0m\n\u001b[1;32m      5\u001b[0m     \u001b[0mprint\u001b[0m\u001b[0;34m(\u001b[0m\u001b[0;34m'inside function'\u001b[0m\u001b[0;34m,\u001b[0m \u001b[0mid\u001b[0m\u001b[0;34m(\u001b[0m\u001b[0ma\u001b[0m\u001b[0;34m)\u001b[0m\u001b[0;34m,\u001b[0m \u001b[0ma\u001b[0m\u001b[0;34m)\u001b[0m\u001b[0;34m\u001b[0m\u001b[0;34m\u001b[0m\u001b[0m\n\u001b[0;32m----> 6\u001b[0;31m \u001b[0mprint_something\u001b[0m\u001b[0;34m(\u001b[0m\u001b[0;34m)\u001b[0m\u001b[0;34m\u001b[0m\u001b[0;34m\u001b[0m\u001b[0m\n\u001b[0m\u001b[1;32m      7\u001b[0m \u001b[0mprint\u001b[0m\u001b[0;34m(\u001b[0m\u001b[0;34m'outside function'\u001b[0m\u001b[0;34m,\u001b[0m \u001b[0mid\u001b[0m\u001b[0;34m(\u001b[0m\u001b[0ma\u001b[0m\u001b[0;34m)\u001b[0m\u001b[0;34m,\u001b[0m \u001b[0ma\u001b[0m\u001b[0;34m)\u001b[0m\u001b[0;34m\u001b[0m\u001b[0;34m\u001b[0m\u001b[0m\n",
      "\u001b[0;32m<ipython-input-82-984f0af7031a>\u001b[0m in \u001b[0;36mprint_something\u001b[0;34m()\u001b[0m\n\u001b[1;32m      1\u001b[0m \u001b[0ma\u001b[0m \u001b[0;34m=\u001b[0m \u001b[0;36m10\u001b[0m\u001b[0;34m\u001b[0m\u001b[0;34m\u001b[0m\u001b[0m\n\u001b[1;32m      2\u001b[0m \u001b[0;32mdef\u001b[0m \u001b[0mprint_something\u001b[0m\u001b[0;34m(\u001b[0m\u001b[0;34m)\u001b[0m\u001b[0;34m:\u001b[0m\u001b[0;34m\u001b[0m\u001b[0;34m\u001b[0m\u001b[0m\n\u001b[0;32m----> 3\u001b[0;31m     \u001b[0mprint\u001b[0m\u001b[0;34m(\u001b[0m\u001b[0;34m'inside function'\u001b[0m\u001b[0;34m,\u001b[0m \u001b[0mid\u001b[0m\u001b[0;34m(\u001b[0m\u001b[0ma\u001b[0m\u001b[0;34m)\u001b[0m\u001b[0;34m,\u001b[0m \u001b[0ma\u001b[0m\u001b[0;34m)\u001b[0m\u001b[0;34m\u001b[0m\u001b[0;34m\u001b[0m\u001b[0m\n\u001b[0m\u001b[1;32m      4\u001b[0m     \u001b[0ma\u001b[0m \u001b[0;34m=\u001b[0m \u001b[0;36m5\u001b[0m\u001b[0;34m\u001b[0m\u001b[0;34m\u001b[0m\u001b[0m\n\u001b[1;32m      5\u001b[0m     \u001b[0mprint\u001b[0m\u001b[0;34m(\u001b[0m\u001b[0;34m'inside function'\u001b[0m\u001b[0;34m,\u001b[0m \u001b[0mid\u001b[0m\u001b[0;34m(\u001b[0m\u001b[0ma\u001b[0m\u001b[0;34m)\u001b[0m\u001b[0;34m,\u001b[0m \u001b[0ma\u001b[0m\u001b[0;34m)\u001b[0m\u001b[0;34m\u001b[0m\u001b[0;34m\u001b[0m\u001b[0m\n",
      "\u001b[0;31mUnboundLocalError\u001b[0m: local variable 'a' referenced before assignment"
     ]
    }
   ],
   "source": [
    "a = 10\n",
    "def print_something():\n",
    "    print('inside function', id(a), a)\n",
    "    a = 5\n",
    "    print('inside function', id(a), a)\n",
    "print_something()\n",
    "print('outside function', id(a), a)"
   ]
  },
  {
   "cell_type": "markdown",
   "metadata": {},
   "source": [
    "Any attempt to modify the value of a variable declared outside of the function will result in an error as the values are read only.\n",
    "\n",
    "```python\n",
    "a = 10\n",
    "def print_something():\n",
    "    a += 1\n",
    "    print('in function', id(a), a)\n",
    "print_something()\n",
    "print('out function', id(a), a)\n",
    "```"
   ],
   "execution_count": null,
   "outputs": []
  },
  {
   "cell_type": "code",
   "execution_count": 83,
   "metadata": {},
   "outputs": [
    {
     "output_type": "error",
     "ename": "UnboundLocalError",
     "evalue": "local variable 'a' referenced before assignment",
     "traceback": [
      "\u001b[0;31m---------------------------------------------------------------------------\u001b[0m",
      "\u001b[0;31mUnboundLocalError\u001b[0m                         Traceback (most recent call last)",
      "\u001b[0;32m<ipython-input-83-b10f65d745c8>\u001b[0m in \u001b[0;36m<module>\u001b[0;34m\u001b[0m\n\u001b[1;32m      3\u001b[0m     \u001b[0ma\u001b[0m \u001b[0;34m+=\u001b[0m \u001b[0;36m1\u001b[0m\u001b[0;34m\u001b[0m\u001b[0;34m\u001b[0m\u001b[0m\n\u001b[1;32m      4\u001b[0m     \u001b[0mprint\u001b[0m\u001b[0;34m(\u001b[0m\u001b[0;34m'in function'\u001b[0m\u001b[0;34m,\u001b[0m \u001b[0mid\u001b[0m\u001b[0;34m(\u001b[0m\u001b[0ma\u001b[0m\u001b[0;34m)\u001b[0m\u001b[0;34m,\u001b[0m \u001b[0ma\u001b[0m\u001b[0;34m)\u001b[0m\u001b[0;34m\u001b[0m\u001b[0;34m\u001b[0m\u001b[0m\n\u001b[0;32m----> 5\u001b[0;31m \u001b[0mprint_something\u001b[0m\u001b[0;34m(\u001b[0m\u001b[0;34m)\u001b[0m\u001b[0;34m\u001b[0m\u001b[0;34m\u001b[0m\u001b[0m\n\u001b[0m\u001b[1;32m      6\u001b[0m \u001b[0mprint\u001b[0m\u001b[0;34m(\u001b[0m\u001b[0;34m'out function'\u001b[0m\u001b[0;34m,\u001b[0m \u001b[0mid\u001b[0m\u001b[0;34m(\u001b[0m\u001b[0ma\u001b[0m\u001b[0;34m)\u001b[0m\u001b[0;34m,\u001b[0m \u001b[0ma\u001b[0m\u001b[0;34m)\u001b[0m\u001b[0;34m\u001b[0m\u001b[0;34m\u001b[0m\u001b[0m\n",
      "\u001b[0;32m<ipython-input-83-b10f65d745c8>\u001b[0m in \u001b[0;36mprint_something\u001b[0;34m()\u001b[0m\n\u001b[1;32m      1\u001b[0m \u001b[0ma\u001b[0m \u001b[0;34m=\u001b[0m \u001b[0;36m10\u001b[0m\u001b[0;34m\u001b[0m\u001b[0;34m\u001b[0m\u001b[0m\n\u001b[1;32m      2\u001b[0m \u001b[0;32mdef\u001b[0m \u001b[0mprint_something\u001b[0m\u001b[0;34m(\u001b[0m\u001b[0;34m)\u001b[0m\u001b[0;34m:\u001b[0m\u001b[0;34m\u001b[0m\u001b[0;34m\u001b[0m\u001b[0m\n\u001b[0;32m----> 3\u001b[0;31m     \u001b[0ma\u001b[0m \u001b[0;34m+=\u001b[0m \u001b[0;36m1\u001b[0m\u001b[0;34m\u001b[0m\u001b[0;34m\u001b[0m\u001b[0m\n\u001b[0m\u001b[1;32m      4\u001b[0m     \u001b[0mprint\u001b[0m\u001b[0;34m(\u001b[0m\u001b[0;34m'in function'\u001b[0m\u001b[0;34m,\u001b[0m \u001b[0mid\u001b[0m\u001b[0;34m(\u001b[0m\u001b[0ma\u001b[0m\u001b[0;34m)\u001b[0m\u001b[0;34m,\u001b[0m \u001b[0ma\u001b[0m\u001b[0;34m)\u001b[0m\u001b[0;34m\u001b[0m\u001b[0;34m\u001b[0m\u001b[0m\n\u001b[1;32m      5\u001b[0m \u001b[0mprint_something\u001b[0m\u001b[0;34m(\u001b[0m\u001b[0;34m)\u001b[0m\u001b[0;34m\u001b[0m\u001b[0;34m\u001b[0m\u001b[0m\n",
      "\u001b[0;31mUnboundLocalError\u001b[0m: local variable 'a' referenced before assignment"
     ]
    }
   ],
   "source": [
    "a = 10\n",
    "def print_something():\n",
    "    a += 1\n",
    "    print('in function', id(a), a)\n",
    "print_something()\n",
    "print('out function', id(a), a)"
   ]
  },
  {
   "cell_type": "markdown",
   "metadata": {},
   "source": [
    "** global keyword **\n",
    "- this can be used to refer to external variables and modify them within a function's scope\n",
    "\n",
    "```python\n",
    "a = 10\n",
    "def print_something():\n",
    "    global a    # declare that we're going to use the global variable a defined outside the function\n",
    "    a += 1\n",
    "    print('inside function', id(a), a)\n",
    "print_something()\n",
    "print('outside function', id(a), a)\n",
    "```"
   ],
   "execution_count": null,
   "outputs": []
  },
  {
   "cell_type": "markdown",
   "metadata": {},
   "source": [
    "#### Changing mutable types\n",
    "\n",
    "```python\n",
    "a = ['a', 'b']\n",
    "def print_something(a):\n",
    "    a.append('c')\n",
    "    print('inside function', id(a), a)\n",
    "    return a\n",
    "a = print_something(a)\n",
    "print('outside function', id(a), a)\n",
    "```"
   ],
   "execution_count": null,
   "outputs": []
  },
  {
   "cell_type": "code",
   "execution_count": 84,
   "metadata": {},
   "outputs": [
    {
     "output_type": "stream",
     "name": "stdout",
     "text": "inside function 4492105416 ['a', 'b', 'c']\noutside function 4492105416 ['a', 'b', 'c']\n"
    }
   ],
   "source": [
    "a = ['a', 'b']\n",
    "def print_something(a):\n",
    "    a.append('c')\n",
    "    print('inside function', id(a), a)\n",
    "    return a\n",
    "a = print_something(a)\n",
    "print('outside function', id(a), a)"
   ]
  },
  {
   "cell_type": "markdown",
   "metadata": {},
   "source": [
    "## 8. Why Use Functions\n",
    "\n",
    "+ Code organization: easier to understand and read later\n",
    "+ Code reusability: supply different inputs to function\n",
    "+ Easy to update/modify\n",
    "\n",
    "## Some Design Considerations\n",
    "\n",
    "+ Name functions appropriately\n",
    "+ Keep them short and easy to understand\n",
    "+ Should have a single purpose\n",
    "    - One function doing 10 things is bad\n",
    "    - Rather have 10 smaller functions"
   ],
   "execution_count": null,
   "outputs": []
  },
  {
   "cell_type": "markdown",
   "metadata": {},
   "source": [
    "## 8. Unpacking\n",
    "\\*&lt;sequential_type&gt;\n",
    "\n",
    "+ Unpacking is the process of converting a sequence into individual values.\n",
    "+ We have seen examples of this when we covered string formatting at the start of the lecture.\n",
    "+ Another example was seen when a dictionary item is assigned to two variables in a for loop.\n",
    "\n",
    "```python\n",
    "d = {'a': 1, 'b': 2}\n",
    "for key, value in d.items():\n",
    "    print(key, value)\n",
    "\n",
    "# tuple unpacking\n",
    "key, value = ('a', 1)\n",
    "```\n",
    "\n",
    "+ It is possible to force python to unpack a sequential type into individual values.\n",
    "+ To do this we add a **<font color='blue'>\\*</font>** before the sequential type\n",
    "\n",
    "```python\n",
    "# Raises TypeError exception\n",
    "# Check documentation: TypeError?\n",
    "def print_sum(a, b, c, d):\n",
    "    print('a: {}, b: {}, c: {}, d: {}'.format(a, b, c, d) )\n",
    "    print('Sum: {}'.format(a + b + c + d))\n",
    "li = [1, 2, 3, 4]\n",
    "print_sum(li)\n",
    "\n",
    "def print_sum(a, b, c, d):\n",
    "    print('a: {}, b: {}, c: {}, d: {}'.format(a, b, c, d) )\n",
    "    print('Sum: {}'.format(a + b + c + d))\n",
    "li = [1, 2, 3, 4]\n",
    "print_sum(*li)      # unpacks list into 4 values, that are assigned to individual arguments of function\n",
    "```\n"
   ],
   "execution_count": null,
   "outputs": []
  },
  {
   "cell_type": "code",
   "execution_count": 85,
   "metadata": {},
   "outputs": [
    {
     "output_type": "stream",
     "name": "stdout",
     "text": "a: 1, b: 2, c: 3, d: 4\nSum: 10\n"
    }
   ],
   "source": [
    "def print_sum(a, b, c, d):\n",
    "    print('a: {}, b: {}, c: {}, d: {}'.format(a, b, c, d) )\n",
    "    print('Sum: {}'.format(a + b + c + d))\n",
    "li = [1, 2, 3, 4]\n",
    "print_sum(*li)"
   ]
  },
  {
   "cell_type": "markdown",
   "metadata": {},
   "source": [
    "##  9. Variable number of argument with \\*args, \\*\\*kwargs\n",
    "\n",
    "Sometimes it is not possible to know in advance how many arguments are going to be passed to a function.\n",
    "This is solved by using \\*args for ordered arguments and \\*\\*kwargs for keyword arguments.\n",
    "\n",
    "+ many of the set comparison methods allow you to pass a variable number of sets to the method\n",
    "+ set.intesection(*[sets])\n",
    "```python\n",
    "set_a = set(['a', 'b', 'c', 'd'])\n",
    "set_b = set(['a', 'z'])\n",
    "set_c = set(['a', 'b', 'c'])\n",
    "set_d = set(['a', 'c'])\n",
    "print(set_a.intersection(set_b))\n",
    "print(set_a.intersection(set_c, set_d))\n",
    "print(set_a.intersection(set_b, set_c, set_d))\n",
    "```\n",
    "+ \\*args\n",
    "```python\n",
    "def print_list(v1, v2, *args):\n",
    "    print(v1, v2, args)\n",
    "    for arg in args:\n",
    "        print(arg)\n",
    "print_list(*[1, 2, 3, 4, 5])\n",
    "```\n",
    "+ Lets create a function which adds n numbers together\n",
    "    + add \\*args to the argument list\n",
    "    + \\*args converts all additional arguments into a tuple\n",
    "\n",
    "```python\n",
    "def sum_numbers(a, b, *rest):\n",
    "    sum_ = a+b\n",
    "    for val in rest:\n",
    "        print('sum: {} + value: {}'.format(sum_, val))\n",
    "        sum_ += val\n",
    "    return sum_\n",
    "```\n",
    "\n",
    "+ \\*\\*kwargs is identical except that it uses keyword arguments and stores them in a dictionary instead of a tuple.\n",
    "\n",
    "```python\n",
    "def print_student_grades(**kwargs):\n",
    "    for key, value in kwargs.items():\n",
    "        print('{} got {}'.format(key, value))\n",
    "print_student_grades(amy=5, mark=3, john=4, jackie=4)\n",
    "\n",
    "# function(positional, kw_args, *args, **kwargs)\n",
    "```\n",
    "\n",
    "#### <font color='blue'>Note</font>: while 'args' and 'kwargs' are standard name to receive variable arguments / keyword arguments, you can use any domain-specific, meaningful name"
   ],
   "execution_count": null,
   "outputs": []
  },
  {
   "cell_type": "code",
   "execution_count": 86,
   "metadata": {},
   "outputs": [
    {
     "output_type": "stream",
     "name": "stdout",
     "text": "(1, 2, 3, 4, 5)\n1\n2\n3\n4\n5\n"
    }
   ],
   "source": [
    "def print_list(*args):\n",
    "    print(args)\n",
    "    for arg in args:\n",
    "        print(arg)\n",
    "print_list(*[1, 2, 3, 4, 5])"
   ]
  },
  {
   "cell_type": "code",
   "execution_count": 87,
   "metadata": {},
   "outputs": [
    {
     "output_type": "stream",
     "name": "stdout",
     "text": "[(0, 'even'), (1, 'odd'), (2, 'even'), (3, 'odd'), (4, 'even'), (5, 'odd'), (6, 'even'), (7, 'odd'), (8, 'even'), (9, 'odd'), (10, 'even'), (11, 'odd'), (12, 'even'), (13, 'odd'), (14, 'even'), (15, 'odd'), (16, 'even'), (17, 'odd'), (18, 'even'), (19, 'odd'), (20, 'even'), (21, 'odd'), (22, 'even'), (23, 'odd'), (24, 'even'), (25, 'odd'), (26, 'even'), (27, 'odd'), (28, 'even'), (29, 'odd'), (30, 'even'), (31, 'odd'), (32, 'even'), (33, 'odd'), (34, 'even'), (35, 'odd'), (36, 'even'), (37, 'odd'), (38, 'even'), (39, 'odd'), (40, 'even'), (41, 'odd'), (42, 'even'), (43, 'odd'), (44, 'even'), (45, 'odd'), (46, 'even'), (47, 'odd'), (48, 'even'), (49, 'odd'), (50, 'even'), (51, 'odd'), (52, 'even'), (53, 'odd'), (54, 'even'), (55, 'odd'), (56, 'even'), (57, 'odd'), (58, 'even'), (59, 'odd'), (60, 'even'), (61, 'odd'), (62, 'even'), (63, 'odd'), (64, 'even'), (65, 'odd'), (66, 'even'), (67, 'odd'), (68, 'even'), (69, 'odd'), (70, 'even'), (71, 'odd'), (72, 'even'), (73, 'odd'), (74, 'even'), (75, 'odd'), (76, 'even'), (77, 'odd'), (78, 'even'), (79, 'odd'), (80, 'even'), (81, 'odd'), (82, 'even'), (83, 'odd'), (84, 'even'), (85, 'odd'), (86, 'even'), (87, 'odd'), (88, 'even'), (89, 'odd'), (90, 'even'), (91, 'odd'), (92, 'even'), (93, 'odd'), (94, 'even'), (95, 'odd'), (96, 'even'), (97, 'odd'), (98, 'even'), (99, 'odd')]\n"
    }
   ],
   "source": [
    "def find_even(*args):\n",
    "#     print(args)\n",
    "    result = []\n",
    "    for tmp in args:\n",
    "        if tmp % 2 == 0:\n",
    "            result.append((tmp, 'even'))\n",
    "        else:\n",
    "            result.append((tmp, 'odd'))\n",
    "    return result\n",
    "\n",
    "print(find_even(*range(100)))"
   ]
  },
  {
   "cell_type": "markdown",
   "metadata": {},
   "source": [
    "## Thank you!!"
   ]
  },
  {
   "cell_type": "code",
   "execution_count": null,
   "metadata": {},
   "outputs": [],
   "source": []
  },
  {
   "cell_type": "markdown",
   "metadata": {},
   "source": [
    "## Python Recursive Function\n",
    "\n",
    "In Python, we know that a function can call other functions. It is even possible for the function to call itself. These type of construct are termed as recursive functions.\n",
    "\n",
    "Following is an example of a recursive function to find the factorial of an integer.\n",
    "\n",
    "Factorial of a number is the product of all the integers from 1 to that number. For example, the factorial of 6 (denoted as 6!) is 1 * 2 * 3 * 4 * 5 * 6 = 720"
   ]
  },
  {
   "cell_type": "code",
   "execution_count": 88,
   "metadata": {},
   "outputs": [
    {
     "output_type": "stream",
     "name": "stdout",
     "text": "The factorial of 4 is 24\n"
    }
   ],
   "source": [
    "def calc_factorial(x):\n",
    "    \"\"\"This is a recursive function\n",
    "    to find the factorial of an integer\"\"\"\n",
    "\n",
    "    if x == 1:\n",
    "        return 1\n",
    "    else:\n",
    "        return (x * calc_factorial(x-1))\n",
    "\n",
    "\n",
    "num = 4\n",
    "print(\"The factorial of\", num, \"is\", calc_factorial(num))"
   ]
  },
  {
   "cell_type": "markdown",
   "metadata": {},
   "source": [
    "## Functions in actions ... where should I start\n",
    "\n",
    "Think well about how you can divide the problem in different task\n",
    "\n",
    "Don't assume that what is clear in your code today will be as simple in a couple of days, months, years, ... or to somebody else!\n",
    "\n",
    "Some good practice is important. Divide your code as the folowing\n",
    "- import liibraries\n",
    "- definition of variables\n",
    "- Functions\n",
    "- run\n"
   ]
  },
  {
   "cell_type": "code",
   "execution_count": null,
   "metadata": {},
   "outputs": [],
   "source": []
  },
  {
   "cell_type": "code",
   "execution_count": null,
   "metadata": {},
   "outputs": [],
   "source": []
  }
 ],
 "metadata": {
  "kernelspec": {
   "display_name": "Python 3",
   "language": "python",
   "name": "python3"
  },
  "language_info": {
   "codemirror_mode": {
    "name": "ipython",
    "version": 3
   },
   "file_extension": ".py",
   "mimetype": "text/x-python",
   "name": "python",
   "nbconvert_exporter": "python",
   "pygments_lexer": "ipython3",
   "version": "3.7.4-final"
  }
 },
 "nbformat": 4,
 "nbformat_minor": 4
}