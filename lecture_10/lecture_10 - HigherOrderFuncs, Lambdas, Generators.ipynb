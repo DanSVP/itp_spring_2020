{
 "cells": [
  {
   "cell_type": "markdown",
   "metadata": {
    "slideshow": {
     "slide_type": "notes"
    }
   },
   "source": [
    "# Introduction to Programming - 05 May 2020\n",
    "### Agenda for today:\n",
    "\n",
    "+ higher order functions (map, filter, reduce)\n",
    "+ a little bit on generators\n",
    "+ anonymous (lambda) functions and examples\n",
    "+ use all of the above for some data analysis\n"
   ]
  },
  {
   "cell_type": "markdown",
   "metadata": {},
   "source": [
    "### Recap on functions\n",
    "- So far, we have learned to write functions as a way to **generalize some operation** so we don't have to write the same code repeatedly. For example, sum(x, y) function performs addition over **any** input numbers. \n",
    "- Functions can take in objects as arguments, which so far have always been e.g. `lists, ints or strings`.\n",
    "\n",
    "\n",
    "```python\n",
    "def greeting(names=['John', 'Doe']):\n",
    "    greet = 'Hello ' + ' '.join(names)\n",
    "    print(greet)\n",
    "```\n",
    "### Higher order functions\n",
    "- Functions themselves however are also objects, so they can also be passed as an argument to a function.\n",
    "- Functions that expect another function as one of their arguments are called **higher order functions**. You already know some higher order functions which take a function as an argument to decide how to order values in a sequence:\n",
    "    - `max`\n",
    "    - `sorted`\n",
    "    \n",
    "    \n",
    "```python\n",
    "def digit_sum(someint):\n",
    "    \"\"\"\n",
    "    Returns the digit sum of an integer:\n",
    "    digitsum(158) -> 1 + 5 + 8 -> 14\n",
    "    \"\"\"\n",
    "    digits = [int(digit) for digit in str(someint)]\n",
    "    return sum(digits)\n",
    "\n",
    "numbers = [11, 9, 23000]\n",
    "print(max(numbers, key=digit_sum))\n",
    "print(sorted(numbers, key=digit_sum))\n",
    "\n",
    "def gc_fraction(dna):\n",
    "    \"\"\"\n",
    "    Returns the gc percentage of a string:\n",
    "    gc_percentage(ACgt) = 0.5    \n",
    "    \"\"\"\n",
    "    dna = dna.lower()\n",
    "    gc_content = dna.count('g') + dna.count('c')\n",
    "    gc_frac = gc_content / len(dna)\n",
    "    return gc_frac\n",
    "\n",
    "primers = ['AGACGTC', 'ACGTTT', 'AATACTATGATACTATG']\n",
    "print(max(primers, key=gc_fraction))\n",
    "print(sorted(primers, key=gc_fraction))\n",
    "```"
   ]
  },
  {
   "cell_type": "code",
   "execution_count": 10,
   "metadata": {},
   "outputs": [
    {
     "name": "stdout",
     "output_type": "stream",
     "text": [
      "Out of [11, 9, 23000, 152], the number with the largest digit sum is 9\n",
      "\n",
      "[11, 9, 23000, 152] sorted by digit sum is [11, 23000, 152, 9]\n"
     ]
    }
   ],
   "source": [
    "def digit_sum(someint):\n",
    "    \"\"\"\n",
    "    Returns the digit sum of an integer:\n",
    "    digitsum(158) -> 1 + 5 + 8\n",
    "    \"\"\"\n",
    "    digits = [int(digit) for digit in str(someint)]\n",
    "    return sum(digits)\n",
    "\n",
    "numbers = [11, 9, 23000, 152]\n",
    "print(f'Out of {numbers}, the number with the largest digit sum is {max(numbers, key=digit_sum)}\\n')\n",
    "print(f'{numbers} sorted by digit sum is {sorted(numbers, key=digit_sum)}')"
   ]
  },
  {
   "cell_type": "code",
   "execution_count": 6,
   "metadata": {},
   "outputs": [
    {
     "name": "stdout",
     "output_type": "stream",
     "text": [
      "AGACGTC\n",
      "['ACGTTT', 'AATACTACGGGTGATACTATG', 'AGACGTC']\n"
     ]
    }
   ],
   "source": [
    "def gc_fraction(dna):\n",
    "    \"\"\"\n",
    "    Returns the gc percentage of a string:\n",
    "    gc_percentage(ACgt) = 0.5    \n",
    "    \"\"\"\n",
    "    dna = dna.lower()\n",
    "    gc_content = dna.count('g') + dna.count('c')\n",
    "    gc_frac = gc_content / len(dna)\n",
    "    return gc_frac\n",
    "\n",
    "primers = ['AGACGTC', 'ACGTTT', 'AATACTACGGGTGATACTATG']\n",
    "print(max(primers, key=gc_fraction))\n",
    "print(sorted(primers, key=gc_fraction))"
   ]
  },
  {
   "cell_type": "markdown",
   "metadata": {},
   "source": [
    "- Higher-order functions can be used to build powerful abstractions that **generalize over processes**:\n",
    "    - Ex. formatting of time / plot style/ printing style; user authentication in web applications, connecting to a database etc.\n",
    "    - helps achieve:\n",
    "        - **modularity** - break functionality into re-usable pieces; easier to read, test, debug\n",
    "        - **composability** - you’ll write a number of functions with varying inputs and outputs. Some of these functions will be unavoidably specialized to a particular application, but others will be useful in a wide variety of programs. For example:\n",
    "            - a function that takes a directory path and returns all the image files in the directory\n",
    "            - more general, a function that takes a directory and a function and applies that function to all files in that directory\n",
    "\n",
    "Example:\n",
    "```python\n",
    "def print_capitalized_greeting(name):\n",
    "    print(f\"Hello {name.upper()}!\")\n",
    "def print_lower_case_greeting(name):\n",
    "    print(f\"Hello {name.lower()}!\")\n",
    "def print_title_case_greeting(name):\n",
    "    print(f\"Hello {name.title()}!\")\n",
    "my_name = \"Methos\"\n",
    "\n",
    "print_capitalized_greeting(my_name)\n",
    "print_lower_case_greeting(my_name)\n",
    "print_title_case_greeting(my_name)\n",
    "```\n",
    "More generalized:\n",
    "```python\n",
    "def print_greeting(name, method):\n",
    "    print(f\"Hello {method(name)}!\")\n",
    "def capitalize(name):\n",
    "    return name.upper()\n",
    "def lower_case(name):\n",
    "    return name.lower()\n",
    "def title_case(name):\n",
    "    return name.title()\n",
    "\n",
    "my_name = \"MeThOS\"\n",
    "print_greeting(my_name, capitalize)\n",
    "print_greeting(my_name, lower_case)\n",
    "print_greeting(my_name, title_case)\n",
    "```"
   ]
  },
  {
   "cell_type": "code",
   "execution_count": 16,
   "metadata": {},
   "outputs": [
    {
     "name": "stdout",
     "output_type": "stream",
     "text": [
      "Hello METHOS!\n",
      "Hello methos!\n",
      "Hello Methos!\n"
     ]
    }
   ],
   "source": [
    "def print_capitalized_greeting(name):\n",
    "    print(f\"Hello {name.upper()}!\")\n",
    "def print_lower_case_greeting(name):\n",
    "    print(f\"Hello {name.lower()}!\")\n",
    "def print_title_case_greeting(name):\n",
    "    print(f\"Hello {name.title()}!\")\n",
    "my_name = \"Methos\"\n",
    "\n",
    "print_capitalized_greeting(my_name)\n",
    "print_lower_case_greeting(my_name)\n",
    "print_title_case_greeting(my_name)"
   ]
  },
  {
   "cell_type": "code",
   "execution_count": 17,
   "metadata": {},
   "outputs": [
    {
     "name": "stdout",
     "output_type": "stream",
     "text": [
      "Hello METHOS!\n",
      "Hello methos!\n",
      "Hello Methos!\n"
     ]
    }
   ],
   "source": [
    "def print_greeting(name, method):\n",
    "    print(f\"Hello {method(name)}!\")\n",
    "def capitalize(name):\n",
    "    return name.upper()\n",
    "def lower_case(name):\n",
    "    return name.lower()\n",
    "def title_case(name):\n",
    "    return name.title()\n",
    "\n",
    "my_name = \"MeThOS\"\n",
    "print_greeting(my_name, capitalize)\n",
    "print_greeting(my_name, lower_case)\n",
    "print_greeting(my_name, title_case)\n"
   ]
  },
  {
   "cell_type": "markdown",
   "metadata": {},
   "source": [
    "### **<font color='blue'>Anonymous (lambda) functions</font>**\n",
    "- useful shortcut for small functions to be created at run-time like the string formatting functions in the greetings example\n",
    "- single expression, the value of which is returned \n",
    "- for more complex logic, use regular functions defined using the **def** keyword\n",
    "- **Syntax**:\n",
    "\n",
    "```python\n",
    "lambda x, y, ..., *args, **kwargs: <expression>    # return value: value of <expression>\n",
    "```\n",
    "\n",
    "```python\n",
    "def print_greeting(name, method):\n",
    "    print(f\"Hello {method(name)}!\")\n",
    "\n",
    "# capitalize = lambda name: name.upper()\n",
    "# lower_case = lambda name: name.lower()\n",
    "# title_case = lambda name: name.title()\n",
    "    \n",
    "my_name = \"MeThOS\"\n",
    "print_greeting(my_name, lambda name: name.upper())\n",
    "print_greeting(my_name, lambda name: name.lower())\n",
    "print_greeting(my_name, lambda name: name.title())\n",
    "```"
   ]
  },
  {
   "cell_type": "code",
   "execution_count": 18,
   "metadata": {},
   "outputs": [
    {
     "name": "stdout",
     "output_type": "stream",
     "text": [
      "Hello METHOS!\n",
      "Hello methos!\n",
      "Hello Methos!\n"
     ]
    }
   ],
   "source": [
    "def print_greeting(name, method):\n",
    "    print(f\"Hello {method(name)}!\")\n",
    "\n",
    "my_name = \"MeThOS\"\n",
    "print_greeting(my_name, lambda name: name.upper())\n",
    "print_greeting(my_name, lambda name: name.lower())\n",
    "print_greeting(my_name, lambda name: name.title())"
   ]
  },
  {
   "cell_type": "markdown",
   "metadata": {},
   "source": [
    "### More examples of lambdas\n",
    "\n",
    "- **Sorting complex objects**:\n",
    "\n",
    "```python\n",
    "# Example: list of genes and transcript counts:\n",
    "x = [('gene_1', 2), ('gene_2', 4), ('gene_3', 1), ('gene_4', 3)]\n",
    "x.sort()\n",
    "print(x)\n",
    "x.sort(key=lambda z: z[1])      # Sort list objects (tuples) using 2nd item as the key\n",
    "print(x)\n",
    "```\n",
    "\n",
    "```python\n",
    "# Ex\n",
    "import pprint\n",
    "x = [{'firstname': 'Frodo', 'lastname': 'Took'}, \n",
    "     {'firstname': 'Samwise', 'lastname': 'Brandybuck'}, \n",
    "     {'firstname': 'Pippin', 'lastname': 'Gamgee'}, \n",
    "     {'firstname': 'Merry', 'lastname': 'Baggins'}]\n",
    "x.sort(key=lambda name: name['firstname'])  # Sort list objects (dicts) using  value for\n",
    "                                            # 'firstname' as the sorting key\n",
    "pprint.pprint(x)\n",
    "x.sort(key=lambda name: name['lastname'])   # Sort list objects by value for 'lastname'\n",
    "pprint.pprint(x)\n",
    "```  \n",
    "<br/> "
   ]
  },
  {
   "cell_type": "code",
   "execution_count": 2,
   "metadata": {},
   "outputs": [
    {
     "name": "stdout",
     "output_type": "stream",
     "text": [
      "[('gene_1', 2), ('gene_2', 4), ('gene_3', 1), ('gene_4', 3)]\n",
      "[('gene_3', 1), ('gene_1', 2), ('gene_4', 3), ('gene_2', 4)]\n"
     ]
    }
   ],
   "source": [
    "# Example: list of genes and transcript counts:\n",
    "x = [('gene_1', 2), ('gene_2', 4), ('gene_3', 1), ('gene_4', 3)]\n",
    "x.sort()\n",
    "print(x)\n",
    "x.sort(key=lambda z: z[1])      # Sort list objects (tuples) using 2nd item as the key\n",
    "print(x)"
   ]
  },
  {
   "cell_type": "code",
   "execution_count": 1,
   "metadata": {},
   "outputs": [
    {
     "name": "stdout",
     "output_type": "stream",
     "text": [
      "[{'firstname': 'Frodo', 'lastname': 'Took'},\n",
      " {'firstname': 'Merry', 'lastname': 'Baggins'},\n",
      " {'firstname': 'Pippin', 'lastname': 'Gamgee'},\n",
      " {'firstname': 'Samwise', 'lastname': 'Brandybuck'}]\n",
      "[{'firstname': 'Merry', 'lastname': 'Baggins'},\n",
      " {'firstname': 'Samwise', 'lastname': 'Brandybuck'},\n",
      " {'firstname': 'Pippin', 'lastname': 'Gamgee'},\n",
      " {'firstname': 'Frodo', 'lastname': 'Took'}]\n"
     ]
    }
   ],
   "source": [
    "# Ex\n",
    "import pprint\n",
    "x = [{'firstname': 'Frodo', 'lastname': 'Took'}, \n",
    "     {'firstname': 'Samwise', 'lastname': 'Brandybuck'}, \n",
    "     {'firstname': 'Pippin', 'lastname': 'Gamgee'}, \n",
    "     {'firstname': 'Merry', 'lastname': 'Baggins'}]\n",
    "x.sort(key=lambda name: name['firstname'])  # Sort list objects (dicts) using  value for\n",
    "                                            # 'firstname' as the sorting key\n",
    "pprint.pprint(x)\n",
    "x.sort(key=lambda name: name['lastname'])   # Sort list objects by value for 'lastname'\n",
    "pprint.pprint(x)"
   ]
  },
  {
   "cell_type": "markdown",
   "metadata": {},
   "source": [
    "- **Grouping complex objects**:\n",
    "\n",
    "```python\n",
    "import itertools\n",
    "city_list = [('Decatur', 'AL'), ('Huntsville', 'AL'), ('Selma', 'AL'),\n",
    "             ('Anchorage', 'AK'), ('Nome', 'AK'),\n",
    "             ('Flagstaff', 'AZ'), ('Phoenix', 'AZ'), ('Tucson', 'AZ')]\n",
    "\n",
    "def get_state(city_state):\n",
    "    return city_state[1]\n",
    "\n",
    "groups = itertools.groupby(city_list, get_state)\n",
    "## or use lambdas\n",
    "# groups = itertools.groupby(city_list, lambda city_state: city_state[1])\n",
    "for group, group_iter in groups:\n",
    "    print(group, list(group_iter))\n",
    "```\n",
    "\n",
    "#### Note: you may still like to use regular functions here, if the the logic is complex"
   ]
  },
  {
   "cell_type": "code",
   "execution_count": 110,
   "metadata": {},
   "outputs": [
    {
     "name": "stdout",
     "output_type": "stream",
     "text": [
      "AL [('Decatur', 'AL'), ('Huntsville', 'AL'), ('Selma', 'AL')]\n",
      "AK [('Anchorage', 'AK'), ('Nome', 'AK')]\n",
      "AZ [('Flagstaff', 'AZ'), ('Phoenix', 'AZ'), ('Tucson', 'AZ')]\n"
     ]
    }
   ],
   "source": [
    "import itertools\n",
    "city_list = [('Decatur', 'AL'), ('Huntsville', 'AL'), ('Selma', 'AL'),\n",
    "             ('Anchorage', 'AK'), ('Nome', 'AK'),\n",
    "             ('Flagstaff', 'AZ'), ('Phoenix', 'AZ'), ('Tucson', 'AZ')]\n",
    "\n",
    "def get_state(city_state):\n",
    "    return city_state[1]\n",
    "\n",
    "groups = itertools.groupby(city_list, get_state)\n",
    "## or use lambdas\n",
    "# groups = itertools.groupby(city_list, lambda city_state: city_state[1])\n",
    "for group, group_iter in groups:\n",
    "    print(group, list(group_iter))"
   ]
  },
  {
   "cell_type": "markdown",
   "metadata": {},
   "source": [
    "## Some built-in higher-order functions often used with iterables\n",
    "\n",
    "### <font color='blue'>map</font>:\n",
    "- Apply a function - any function- to each element of an iterable (a very common operation on an iterable's output)\n",
    "    - For example, given a list of strings, you might want to strip off leading/trailing whitespaces or log transform each value in a list of numbers\n",
    "- **map** generalizes the process of **transforming** a whole collection (both the data/collection as well as the transformation function are provided as arguments).\n",
    "- **Syntax**:\n",
    "\n",
    "```python\n",
    "map(f, iterA, iterB, ...)\n",
    "    # iterA, iterB, etc. are iterables, that provide a sequence of values\n",
    "    # returns a generator (lazy obj) over the sequence\n",
    "    # f(iterA[0],iterB[0],...), f(iterA[1],iterB[1],...), f(iterA[2],iterB[2],...), ...\n",
    "help(map)\n",
    "```\n",
    "- **map** returns a `generator`, a type of lazy object which `yield`s values one at a time as we ask for them.\n",
    "    - generators are iterables, so we can give **map** another **map** object as input\n",
    "    - we can ask the generator to yield the next item using the `next` function --> many higher-order functions will do this for us automatically\n",
    "    - a generator has no length, i.e. it does not know how many items it has\n",
    "    - we cannot index a generator - but the itertools library gives us a function called `islice` which produces a  generator with the slice we are asking for.\n",
    "    - we can only iterate over a generator once! This is unlike range, which is also lazy but can both be indexed and iterated over repeatedly.\n",
    "    - asking a generator for items until it can yield no more items is called `consuming` a generator. We will often use the `list()` function for this. \n",
    "    \n",
    "    \n",
    "```python\n",
    "# Ex. 1\n",
    "from math import sqrt\n",
    "x = [1,2,3,4]\n",
    "result = map(sqrt, x)\n",
    "print(type(result), result)      # lazy map object; great for working w/ large iterables\n",
    "print(list(result))              # forcefully expand lazy map results object\n",
    "                                 # or use in for loop context\n",
    "```\n",
    "\n",
    "```python\n",
    "# Ex. 2\n",
    "def upper(s):\n",
    "    return s.upper()\n",
    "print(list(map(upper, ['sentence', 'fragment'])))\n",
    "```\n",
    "\n",
    "Let's take a look at an example from a previous lecture that we can rewrite with map:\n",
    "```python\n",
    "# dot product of 2 vectors\n",
    "vector_1 = [1, 2, 3, 4]\n",
    "vector_2 = [5, 6, 7, 8]\n",
    "dot = 0.0\n",
    "for idx in range(len(vector_1)):\n",
    "    dot += vector_1[idx]*vector_2[idx]\n",
    "print(\"dot product of {} and {} is: {}\".format(vector_1, vector_2, dot))\n",
    "```\n",
    "```python\n",
    "# dot product of 2 vectors\n",
    "vector_1 = [1, 2, 3, 4]\n",
    "vector_2 = [5, 6, 7, 8]\n",
    "dot = sum( map(lambda el1, el2: el1 * el2, vector_1, vector_2) ) #in python 3.8 we can use math.prod instead of this lambda function\n",
    "print(\"dot product of {} and {} is: {}\".format(vector_1, vector_2, dot))\n",
    "```"
   ]
  },
  {
   "cell_type": "code",
   "execution_count": 20,
   "metadata": {},
   "outputs": [],
   "source": [
    "# import random\n",
    "# vector_1_test = random.choices(range(0,10), k=10000000)\n",
    "# vector_2_test = random.choices(range(0,10), k=10000000)"
   ]
  },
  {
   "cell_type": "code",
   "execution_count": 21,
   "metadata": {},
   "outputs": [
    {
     "name": "stdout",
     "output_type": "stream",
     "text": [
      "1.24 s ± 54.1 ms per loop (mean ± std. dev. of 7 runs, 1 loop each)\n"
     ]
    }
   ],
   "source": [
    "# # %%timeit\n",
    "# # This is benchmarking code\n",
    "# dot = 0\n",
    "# for idx in range(len(vector_1_test)):\n",
    "#     dot += vector_1_test[idx]*vector_2_test[idx]"
   ]
  },
  {
   "cell_type": "code",
   "execution_count": 22,
   "metadata": {},
   "outputs": [
    {
     "name": "stdout",
     "output_type": "stream",
     "text": [
      "1.04 s ± 48.5 ms per loop (mean ± std. dev. of 7 runs, 1 loop each)\n"
     ]
    }
   ],
   "source": [
    "# # %%timeit\n",
    "# # This is benchmarking code\n",
    "# dot = sum(\n",
    "#     map( lambda el1, el2: el1 * el2, #in python 3.8 we can use math.prod instead of this lambda function\n",
    "#         vector_1_test, vector_2_test\n",
    "#     )\n",
    "# )"
   ]
  },
  {
   "cell_type": "code",
   "execution_count": 13,
   "metadata": {},
   "outputs": [
    {
     "name": "stdout",
     "output_type": "stream",
     "text": [
      "dot product of [1, 2, 3, 4] and [5, 6, 7, 8] is: 70\n"
     ]
    }
   ],
   "source": [
    "# dot product of 2 vectors\n",
    "vector_1 = [1, 2, 3, 4]\n",
    "vector_2 = [5, 6, 7, 8]\n",
    "dot = sum(\n",
    "    map( lambda el1, el2: el1 * el2, #in python 3.8 we can use math.prod instead of this lambda function\n",
    "        vector_1, vector_2\n",
    "    )\n",
    ")\n",
    "print(\"dot product of {} and {} is: {}\".format(vector_1, vector_2, dot))"
   ]
  },
  {
   "cell_type": "markdown",
   "metadata": {},
   "source": [
    "We can also use map in conjunction with the functions `any()` and `all()` to check a boolean condition on all of our data.<br>\n",
    "This comes up quite often when we need to quickly sanity-check our data. In the following example, we have only 3 items in a list but most of the time we'll have hundreds or thousands, so being able to check if any or all of them fulfill some condition is faster than looking at the whole list.\n",
    "\n",
    "Additionally, this is also computationally faster - any and all will give an answer as soon as they can, i.e.\n",
    "+ when `any` encounters the first `True`, it returns `True`\n",
    "+ when `all` encounters the first `False`, it returns `False`\n",
    "\n",
    "Meaning in our case that any won't consume all of our map generator object - only as much as it needs for an answer!\n",
    "\n",
    "Let's assume a program made DNA primers for a massive PCR experiment you're designing. <br>\n",
    "You want to quickly check if the GC percentage of any or all of them is below 0.5:\n",
    "```python\n",
    "def gc_fraction(dna):\n",
    "    \"\"\"\n",
    "    Returns the gc percentage of a string:\n",
    "    gc_percentage(ACgt) = 0.5    \n",
    "    \"\"\"\n",
    "    dna = dna.lower()\n",
    "    gc_content = dna.count('g') + dna.count('c')\n",
    "    gc_frac = gc_content / len(dna)\n",
    "    return gc_frac\n",
    "\n",
    "primers = ['AGACGTC', 'ACGTTT', 'AATACTACGGGTGATACTATG']\n",
    "any(map(lambda prims: gc_fraction(prims) < 0.5,  primers))\n",
    "all(map(lambda prims: gc_fraction(prims) < 0.5,  primers))\n",
    "```\n",
    "\n",
    "Note that map can take as input any iterables, even another map:\n",
    "```python\n",
    "any(map(lambda frac: frac < 0.5,  map(gc_fraction, primers)))\n",
    "any(map(lambda frac: frac < 0.5,  map(gc_fraction, primers)))\n",
    "```"
   ]
  },
  {
   "cell_type": "code",
   "execution_count": 23,
   "metadata": {},
   "outputs": [],
   "source": [
    "def gc_fraction(dna):\n",
    "    \"\"\"\n",
    "    Returns the gc percentage of a string:\n",
    "    gc_percentage(ACgt) = 0.5    \n",
    "    \"\"\"\n",
    "    dna = dna.lower()\n",
    "    gc_content = dna.count('g') + dna.count('c')\n",
    "    gc_frac = gc_content / len(dna)\n",
    "    return gc_frac\n",
    "\n",
    "primers = ['AGACGTC', 'ACGTTT', 'AATACTACGGGTGATACTATG']"
   ]
  },
  {
   "cell_type": "code",
   "execution_count": 35,
   "metadata": {},
   "outputs": [
    {
     "data": {
      "text/plain": [
       "True"
      ]
     },
     "execution_count": 35,
     "metadata": {},
     "output_type": "execute_result"
    }
   ],
   "source": [
    "any(map(lambda prims: gc_fraction(prims) < 0.5,  primers))"
   ]
  },
  {
   "cell_type": "code",
   "execution_count": 36,
   "metadata": {},
   "outputs": [
    {
     "data": {
      "text/plain": [
       "False"
      ]
     },
     "execution_count": 36,
     "metadata": {},
     "output_type": "execute_result"
    }
   ],
   "source": [
    "all(map(lambda prims: gc_fraction(prims) < 0.5,  primers))"
   ]
  },
  {
   "cell_type": "markdown",
   "metadata": {},
   "source": [
    "### <font color='blue'>filter</font>\n",
    "- Another common higher-order operation on elements of an iterator: select a subset of elements that meet some condition\n",
    "- **Syntax**: \n",
    "```python\n",
    "filter(predicate, iter)\n",
    "# predicate is a function that returns the truth value of some condition (w.r.t. input); must take a single value as input\n",
    "# returns an iterator over all the sequence elements that meet the condition defined by the predicate\n",
    "```\n",
    "\n",
    "```python\n",
    "def is_even(x):\n",
    "    return (x % 2) == 0\n",
    "print(list(filter(is_even, range(10))))\n",
    "\n",
    "# or use lambdas\n",
    "#list(filter(lambda x: (x % 2) == 0, range(10)))\n",
    "```"
   ]
  },
  {
   "cell_type": "code",
   "execution_count": null,
   "metadata": {},
   "outputs": [],
   "source": []
  },
  {
   "cell_type": "markdown",
   "metadata": {},
   "source": [
    "### <font color='blue'>reduce</font>\n",
    "+ Another common higher-order operation: **cumulatively** performs an operation on all the iterable’s elements\n",
    "+ ***reduce / aggregate*** an iterable to a single object\n",
    "+ **Syntax**:\n",
    "```python\n",
    "import functools\n",
    "functools.reduce(func, iter, [initial_value])\n",
    "help(reduce)\n",
    "```\n",
    "    - func must be a function that takes two elements and returns a single value\n",
    "    - it takes the first two elements A and B returned by iter and calculates func(A, B). It then requests the third element, C, calculates func(func(A, B), C), combines this result with the fourth element returned, and continues until the iterable is exhausted. \n",
    "\n",
    "\n",
    "+ Ex:\n",
    "\n",
    "```python\n",
    "from functools import reduce\n",
    "def sum_(a, b):\n",
    "    print('args received: ', a, b)\n",
    "    return a+b\n",
    "    \n",
    "x = [1,2,3,4]\n",
    "result = reduce(sum_, x)\n",
    "# result = reduce(lambda a, b: a+b, x)\n",
    "print(result)\n",
    "\n",
    "#  [1, 2, 3, 4]\n",
    "#    \\/\n",
    "#    [3, 3, 4]\n",
    "#      \\/\n",
    "#     [6, 4]\n",
    "#       \\/\n",
    "#      [10]\n",
    "```"
   ]
  },
  {
   "cell_type": "code",
   "execution_count": 4,
   "metadata": {},
   "outputs": [
    {
     "name": "stdout",
     "output_type": "stream",
     "text": [
      "args received:  1 2\n",
      "args received:  3 3\n",
      "args received:  6 4\n",
      "10\n"
     ]
    }
   ],
   "source": [
    "from functools import reduce\n",
    "def sum_(a, b):\n",
    "    print('args received: ', a, b)\n",
    "    return a+b\n",
    "\n",
    "x = [1,2,3,4]\n",
    "result = reduce(sum_, x)\n",
    "# result = reduce(lambda a, b: a+b, x)\n",
    "print(result)"
   ]
  },
  {
   "cell_type": "markdown",
   "metadata": {},
   "source": [
    "+ ***reduce*** can also optionally take an initial value. If the initial value is supplied, it’s used as a starting point and func(initial_value, A) is the first calculation.\n",
    "\n",
    "```python\n",
    "x = [1,2,3,4]\n",
    "print(reduce(lambda a, b: a+b, x, 100))\n",
    "\n",
    "#  100  [1, 2, 3, 4]\n",
    "#     \\ /\n",
    "#     [101, 2, 3, 4]\n",
    "#        \\ /\n",
    "#        [103, 3, 4]\n",
    "#           \\ /\n",
    "#           [106, 4]\n",
    "#              \\ /\n",
    "#             [110]\n",
    "```"
   ]
  },
  {
   "cell_type": "code",
   "execution_count": 5,
   "metadata": {},
   "outputs": [
    {
     "name": "stdout",
     "output_type": "stream",
     "text": [
      "110\n"
     ]
    }
   ],
   "source": [
    "x = [1,2,3,4]\n",
    "print(reduce(lambda a, b: a+b, x, 100))"
   ]
  },
  {
   "cell_type": "markdown",
   "metadata": {},
   "source": [
    "#### Note: \n",
    "- Check out <font color='blue'>***functools***</font> and <font color='blue'>***itertools***</font> modules for more on these types of generic higer-order functions and processes.\n",
    "- Resources:\n",
    "    https://docs.python.org/3.6/howto/functional.html"
   ]
  },
  {
   "cell_type": "markdown",
   "metadata": {},
   "source": [
    "## Putting it all together\n",
    "\n",
    "Combined, `map`, `filter` and other generator functions allow us to do relatively complex tasks in few lines of code.\n",
    "\n",
    "+ Building (or transforming) lists with for loops and if statements\n",
    "    - same as ***map*** and ***filter*** discussed above (try out a few examples)\n",
    "\n",
    "Example: \n",
    "\n",
    "*Give the sum of the square of all numbers that are below 1000 and are divisible by both 5 and 3:*\n",
    "\n",
    "```python\n",
    "# Solution with For-loops\n",
    "sum_ = 0\n",
    "for number in range(1,1001):\n",
    "    if number % 5 == 0:\n",
    "        if number % 3 == 0:\n",
    "            sum_ += number ** 2\n",
    "sum_\n",
    "```\n",
    "Nested for-loops can be challenging to read, and difficult to break up into several loops without losing a lot of performance.\n",
    "For this reason some programmers prefer to make use of map and filter instead where possible without too much of a headache:\n",
    "\n",
    "```python\n",
    "sum(\n",
    "    map(lambda x: x**2, \n",
    "        filter(lambda x: x%3==0, \n",
    "               filter(lambda x: x%5==0, range(1,1001)\n",
    "                     )\n",
    "              )\n",
    "       )\n",
    ")\n",
    "```\n"
   ]
  },
  {
   "cell_type": "markdown",
   "metadata": {},
   "source": [
    "### Let's analyse some more real data\n",
    "I've downloaded `Film_Permits.csv` from [NYC Open Data](https://data.cityofnewyork.us/City-Government/Film-Permits/tg4x-b46p). \n",
    "We will answer the following questions:\n",
    "+ What type of events are in the data set?\n",
    "+ What is the average/ median length of a shooting permit by burrough? What's the standard deviation?\n",
    "\n",
    "First, let's read in the data with the csv module:"
   ]
  },
  {
   "cell_type": "code",
   "execution_count": 49,
   "metadata": {},
   "outputs": [
    {
     "data": {
      "text/plain": [
       "OrderedDict([('EventID', '446040'),\n",
       "             ('EventType', 'Shooting Permit'),\n",
       "             ('StartDateTime', '10/19/2018 02:00:00 PM'),\n",
       "             ('EndDateTime', '10/20/2018 04:00:00 AM'),\n",
       "             ('EnteredOn', '10/16/2018 11:57:27 AM'),\n",
       "             ('EventAgency', \"Mayor's Office of Film, Theatre & Broadcasting\"),\n",
       "             ('ParkingHeld',\n",
       "              'THOMPSON STREET between PRINCE STREET and SPRING STREET,  SPRING STREET between WOOSTER STREET and 6TH AVENUE,  SPRING STREET between THOMPSON STREET and 6TH AVENUE,  6TH AVENUE between VANDAM STREET and BROOME STREET,  SULLIVAN STREET between WEST HOUSTON STREET and PRINCE STREET,  PRINCE STREET between SULLIVAN STREET and 6 AVENUE'),\n",
       "             ('Borough', 'Manhattan'),\n",
       "             ('CommunityBoard(s)', '2'),\n",
       "             ('PolicePrecinct(s)', '1'),\n",
       "             ('Category', 'Television'),\n",
       "             ('SubCategoryName', 'Cable-episodic'),\n",
       "             ('Country', 'United States of America'),\n",
       "             ('ZipCode(s)', '10012')])"
      ]
     },
     "execution_count": 49,
     "metadata": {},
     "output_type": "execute_result"
    }
   ],
   "source": [
    "import csv\n",
    "\n",
    "with open('Film_Permits.csv') as f:\n",
    "    film_data = list(csv.DictReader(f))\n",
    "\n",
    "film_data[0]"
   ]
  },
  {
   "cell_type": "markdown",
   "metadata": {},
   "source": [
    "### What type of events are in the data set?"
   ]
  },
  {
   "cell_type": "code",
   "execution_count": 48,
   "metadata": {},
   "outputs": [
    {
     "data": {
      "text/plain": [
       "{'DCAS Prep/Shoot/Wrap Permit',\n",
       " 'Rigging Permit',\n",
       " 'Shooting Permit',\n",
       " 'Theater Load in and Load Outs'}"
      ]
     },
     "execution_count": 48,
     "metadata": {},
     "output_type": "execute_result"
    }
   ],
   "source": [
    "set(map(lambda event: event['EventType'], film_data))"
   ]
  },
  {
   "cell_type": "markdown",
   "metadata": {},
   "source": [
    "### What is the average/ median length of a shooting permit by borough? What's the standard deviation?\n",
    "Thinking process:\n",
    "+ filter data to only include shooting permits\n",
    "+ group data by borough\n",
    "+ parse start and end time of permits and calculate time difference in days\n",
    "+ calculate aggregate statistics for each borough"
   ]
  },
  {
   "cell_type": "markdown",
   "metadata": {},
   "source": [
    "To test an algorithm I want to apply to all my data, I usually pick one of the observations in my data to test on. <br>\n",
    "I tend to name it dummy because I will make tons of mistakes and that's ok:"
   ]
  },
  {
   "cell_type": "code",
   "execution_count": 79,
   "metadata": {},
   "outputs": [
    {
     "data": {
      "text/plain": [
       "OrderedDict([('EventID', '446040'),\n",
       "             ('EventType', 'Shooting Permit'),\n",
       "             ('StartDateTime', '10/19/2018 02:00:00 PM'),\n",
       "             ('EndDateTime', '10/20/2018 04:00:00 AM'),\n",
       "             ('EnteredOn', '10/16/2018 11:57:27 AM'),\n",
       "             ('EventAgency', \"Mayor's Office of Film, Theatre & Broadcasting\"),\n",
       "             ('ParkingHeld',\n",
       "              'THOMPSON STREET between PRINCE STREET and SPRING STREET,  SPRING STREET between WOOSTER STREET and 6TH AVENUE,  SPRING STREET between THOMPSON STREET and 6TH AVENUE,  6TH AVENUE between VANDAM STREET and BROOME STREET,  SULLIVAN STREET between WEST HOUSTON STREET and PRINCE STREET,  PRINCE STREET between SULLIVAN STREET and 6 AVENUE'),\n",
       "             ('Borough', 'Manhattan'),\n",
       "             ('CommunityBoard(s)', '2'),\n",
       "             ('PolicePrecinct(s)', '1'),\n",
       "             ('Category', 'Television'),\n",
       "             ('SubCategoryName', 'Cable-episodic'),\n",
       "             ('Country', 'United States of America'),\n",
       "             ('ZipCode(s)', '10012')])"
      ]
     },
     "execution_count": 79,
     "metadata": {},
     "output_type": "execute_result"
    }
   ],
   "source": [
    "dummy = film_data[0]\n",
    "dummy"
   ]
  },
  {
   "cell_type": "code",
   "execution_count": 52,
   "metadata": {},
   "outputs": [],
   "source": [
    "from statistics import mean, median, stdev\n",
    "from itertools import groupby"
   ]
  },
  {
   "cell_type": "markdown",
   "metadata": {},
   "source": [
    "Through the imports we already covered the aggregate statistics and the groupby, filter is a builtin.\n",
    "\n",
    "But part of this question requires us to handle dates and times so we'll use the `datetime` module for that. We won't get super in-depth on datetimes here, but I wanted to show my process. \n",
    "\n",
    "I used this handy [guide on custom datetime string formats](https://www.journaldev.com/23365/python-string-to-datetime-strptime#python-strptime-format-directives) to come up with the `film_datetime_frmt` string to decode the datetimes in this dataset"
   ]
  },
  {
   "cell_type": "code",
   "execution_count": 77,
   "metadata": {},
   "outputs": [],
   "source": [
    "from datetime import datetime"
   ]
  },
  {
   "cell_type": "code",
   "execution_count": 154,
   "metadata": {},
   "outputs": [
    {
     "name": "stdout",
     "output_type": "stream",
     "text": [
      "The shooting permit lasted 26.0 hours\n"
     ]
    }
   ],
   "source": [
    "#'10/19/2018 02:00:00 PM'\n",
    "film_datetime_frmt = '%m/%d/%Y %H:%M:%S %p' \n",
    "\n",
    "dummy_timediff = datetime.strptime(dummy['EndDateTime'], film_datetime_frmt) - \\\n",
    "                    datetime.strptime(dummy['StartDateTime'], film_datetime_frmt)\n",
    "\n",
    "seconds_in_an_hour = 60 * 60\n",
    "\n",
    "print(f'The shooting permit lasted {dummy_timediff.total_seconds() / seconds_in_an_hour:.3} hours')"
   ]
  },
  {
   "cell_type": "markdown",
   "metadata": {},
   "source": [
    "Ok, let's turn this into a function that takes in a row and returns the time difference in days:"
   ]
  },
  {
   "cell_type": "code",
   "execution_count": 155,
   "metadata": {},
   "outputs": [
    {
     "data": {
      "text/plain": [
       "26.0"
      ]
     },
     "execution_count": 155,
     "metadata": {},
     "output_type": "execute_result"
    }
   ],
   "source": [
    "from datetime import datetime\n",
    "def timediff(event, datetime_frmt='%m/%d/%Y %H:%M:%S %p', seconds_divider=( 60 * 60) ):\n",
    "    \"\"\"\n",
    "    Takes an event orderedDict and returns the time difference in seconds divided by seconds_divider.\n",
    "    By default this returns time in hours.\n",
    "    \"\"\"\n",
    "    start_datetime = datetime.strptime(event['StartDateTime'], datetime_frmt)\n",
    "    end_datetime = datetime.strptime(event['EndDateTime'], datetime_frmt)\n",
    "    time_diff = end_datetime - start_datetime\n",
    "    return (time_diff.total_seconds() / seconds_divider)\n",
    "timediff(dummy)"
   ]
  },
  {
   "cell_type": "markdown",
   "metadata": {},
   "source": [
    "From here, we can put it all together:"
   ]
  },
  {
   "cell_type": "code",
   "execution_count": 157,
   "metadata": {},
   "outputs": [],
   "source": [
    "filtered_film_data = filter(lambda event: event['EventType'] == 'Shooting Permit', film_data)\n",
    "\n",
    "grouped_film_data = groupby(\n",
    "    sorted(filtered_film_data, key=lambda event: event['Borough']), \n",
    "    key=lambda event: event['Borough'])\n",
    "\n",
    "permit_time_by_borough = dict(\n",
    "    map(lambda grouped: (grouped[0], list(map(timediff, grouped[1])) ),\n",
    "        grouped_film_data)\n",
    ")"
   ]
  },
  {
   "cell_type": "code",
   "execution_count": 158,
   "metadata": {},
   "outputs": [
    {
     "data": {
      "text/plain": [
       "{'Bronx': {'mean': 7.728938452851496,\n",
       "  'median': 4.0,\n",
       "  'stdev': 9.923332421251596},\n",
       " 'Brooklyn': {'mean': 6.89942192431819,\n",
       "  'median': 3.0,\n",
       "  'stdev': 14.021060218510298},\n",
       " 'Manhattan': {'mean': 10.676383811173112,\n",
       "  'median': 3.0,\n",
       "  'stdev': 84.52045519386384},\n",
       " 'Queens': {'mean': 7.646902021975164,\n",
       "  'median': 4.0,\n",
       "  'stdev': 17.542569475933117},\n",
       " 'Staten Island': {'mean': 8.553664036076663,\n",
       "  'median': 4.0,\n",
       "  'stdev': 9.757654576797563}}"
      ]
     },
     "execution_count": 158,
     "metadata": {},
     "output_type": "execute_result"
    }
   ],
   "source": [
    "{borough:{\n",
    "    'mean': mean(timedeltas),\n",
    "    'median': median(timedeltas),\n",
    "    'stdev': stdev(timedeltas)\n",
    "         } \n",
    " for borough, timedeltas in permit_time_by_borough.items()}\n",
    "    "
   ]
  },
  {
   "cell_type": "markdown",
   "metadata": {},
   "source": [
    "## Conclusions\n",
    "\n",
    "Today we learned:\n",
    "+ about some higher-order functions, especially `map` and `filter`\n",
    "+ how we can use these higher-order functions in conjunction with the `itertools` module to answer complex questions about our data with relatively little code\n",
    "+ a little bit about generators, there is a section with a little more on generators for the extra curious at the end.\n",
    "\n",
    "In our data analysis example, you may have noticed that we had to jump through some hoops to analyze the tabular data from our csv file. Next lecture, we will learn about two packages that are core to data analysis in python and abstract away lots of the hoops we have to jump through in regular python, while also being ~100x faster. Those two libraries are `numpy` and `pandas` - definitely **don't miss the next lecture!**\n",
    "\n",
    "Finally, here are some of my favorite python talks, again for the extra curious:\n",
    "#### Useful talks\n",
    "- [Transforming Code into Beautiful, Idiomatic Python - Raymond Hettinger](https://www.youtube.com/watch?v=OSGv2VnC0go)\n",
    "- [Losing your loops with numpy - Jake Vanderplas](https://www.youtube.com/watch?v=EEUXKG97YRw)\n",
    "\n",
    "#### Interesting talks\n",
    "\n",
    "- [Modern Dictionaries - Raymond Hettinger](https://www.youtube.com/watch?v=p33CVV29OG8)\n",
    "- [Does Code Quality Matter - James Powell](https://www.youtube.com/watch?v=QuTmLeWL3C0)\n",
    "- [Principles of Reporting Systems | It's About Time we Talked About Bitemporality - James Powell](https://www.youtube.com/watch?v=6Wf221t8WO8)\n",
    "- [The Web is Terrifying! Using the PyData stack to spy on the spies - Sarah Bird](https://pyvideo.org/europython-2018/the-web-is-terrifying-using-the-pydata-stack-to-spy-on-the-spies.html)"
   ]
  },
  {
   "cell_type": "markdown",
   "metadata": {},
   "source": [
    "### #ExtraCredit Generators\n",
    "The following section explains more about generators - for those interested, feel free to read on but this is not required knowledge:\n",
    "- simple and powerful tool for creating iterators, including infinitely large iterators\n",
    "- very useful for efficient processing of 'big' data - lazy by nature\n",
    "- written like regular functions but use a **\"yield\"** statement in stead of \"return\" - this returns a datum and suspends the generator\n",
    "- calling `next(<gen>)` on the generator object resumes the generator where it left off (it remembers all the data values and which statement was last executed)\n",
    "- If you want to learn more about generators, [watch this excellent talk by James Powell @dontusethiscode](https://youtu.be/_facl0cNX6g) for an introduction on the fundamentals of generators (follow the accompanying notebook [here](https://github.com/dutc/generators/blob/master/Generator%20Showcase.ipynb)) and his [more advanced talk on generators](https://youtu.be/RdhoN4VVqq8). Don't worry if you don't understand everything!\n",
    "\n",
    "```python\n",
    "# Ex. 1: simple counter (infinite sequence generator) --> already implemented in itertools.count()\n",
    "def counter(start=0):\n",
    "    current = start\n",
    "    while True:\n",
    "        yield current\n",
    "        current += 1\n",
    "\n",
    "# Finite sequence    -> raises StopIteration when finished\n",
    "def counter(size=5):\n",
    "    current = 0\n",
    "    while current < size:\n",
    "        yield current\n",
    "        current += 1\n",
    "\n",
    "# limited fibonacci number generator\n",
    "def fib_finite(n=10):\n",
    "    a,b = 0,1\n",
    "    while a < n:\n",
    "        yield a\n",
    "        a,b = b, a+b\n",
    "\n",
    "# Infinite fibonacci number generator\n",
    "def fib():\n",
    "    a,b = 0,1\n",
    "    while True:\n",
    "        yield a\n",
    "        a,b = b, a+b\n",
    "\n",
    "```"
   ]
  },
  {
   "cell_type": "markdown",
   "metadata": {},
   "source": [
    "Let's the first 10 Fibonacci numbers that are divisible by 3:"
   ]
  },
  {
   "cell_type": "code",
   "execution_count": 159,
   "metadata": {},
   "outputs": [],
   "source": [
    "from itertools import islice\n",
    "def fib():\n",
    "    a,b = 0,1\n",
    "    while True:\n",
    "        yield a\n",
    "        a,b = b, a+b"
   ]
  },
  {
   "cell_type": "code",
   "execution_count": 44,
   "metadata": {},
   "outputs": [
    {
     "data": {
      "text/plain": [
       "[0, 3, 21, 144, 987, 6765, 46368, 317811, 2178309, 14930352]"
      ]
     },
     "execution_count": 44,
     "metadata": {},
     "output_type": "execute_result"
    }
   ],
   "source": [
    "n = 10\n",
    "list(\n",
    "    islice(\n",
    "        filter(lambda i: i%3==0, fib()),\n",
    "        n)\n",
    ")"
   ]
  },
  {
   "cell_type": "markdown",
   "metadata": {},
   "source": [
    "`itertools.islice` let's us slice any iterables, including generators, the way we're used to with lists:\n",
    "```python\n",
    "some_list[start:stop:step]\n",
    "```\n",
    "turns into:\n",
    "```python\n",
    "itertools.islice(some_generator, start, stop, step)\n",
    "```\n",
    "Combined with some other tools, this can give us this monster of a one-liner called `nwise` that turns any iterable efficiently into a generator of overlapping windows of size n - [taken from @dontusethiscode and his excellent talk](https://www.youtube.com/watch?v=RdhoN4VVqq8).\n",
    "\n",
    "Window functions are useful for calculating windowed averages and other windowed statistics. We use these windowed statistics to get a sense of overall trends over time in very noisy data."
   ]
  },
  {
   "cell_type": "code",
   "execution_count": 164,
   "metadata": {},
   "outputs": [
    {
     "name": "stdout",
     "output_type": "stream",
     "text": [
      "The whole iterable is [1, 2, 3, 4]\n",
      "The window at index 0 is: (1, 2)\n",
      "The window at index 1 is: (2, 3)\n",
      "The window at index 2 is: (3, 4)\n",
      "The window at index 3 is: (4, None)\n"
     ]
    }
   ],
   "source": [
    "from itertools import tee, islice, zip_longest\n",
    "nwise = lambda g, n=2: zip_longest(*(islice(g, i, None) for i,g in enumerate(tee(g,n))))\n",
    "\n",
    "print(f'The whole iterable is {list(range(1,5))}')\n",
    "for index, window in enumerate(nwise(range(1,5), n=2)):\n",
    "    print(f'The window at index {index} is: {window}')"
   ]
  },
  {
   "cell_type": "markdown",
   "metadata": {},
   "source": [
    "So to disassemble this into parts:\n",
    "```python\n",
    "nwise = lambda g, n=2: zip_longest(\n",
    "    *(islice(g, i, None) for i,g in \n",
    "                                     enumerate(tee(g,n))))\n",
    "```\n",
    "\n",
    "`itertools.tee` produces n generators that are copies of g. It does so in a very memory and computationally-efficient way, reusing values.\n",
    "`enumerate` enumerates these generators.\n",
    "```python\n",
    "enumerate(tee(g,n))\n",
    "```\n",
    "\n",
    "This next bit generates an islice that starts at index `i`, where `i` is the index returned by enumerate. \n",
    "Together with the previous bit, this gives us a collection of n generator-like objects g. Let's take a look at what that would look like with n=3:\n",
    "+ g0: $it_{0}, it_{1}, ... it_{n}$\n",
    "+ g1: $it_{1}, it_{2}, ... it_{n}$\n",
    "+ g2: $it_{2}, it_{3}, ... it_{n}$\n",
    "\n",
    "```python\n",
    "    islice(g, i, None) for i,g in \n",
    "\n",
    "```\n",
    "Finally `zip_longest` creates a generator-like object that takes the next item from each of those three generators (g0, g1, g2) and returns a tuple of the three values. Unlike `zip`, this will keep returning tuples of length three until the longest iterable - in this case g0 - is exhausted, not the shortest. Missing values will be padded with `None`s:\n",
    "+  1st item: $it_{0}, it_{1}, it_{2}$\n",
    "+  2nd item: $it_{1}, it_{2}, it_{3}$\n",
    "+  3rd item: $it_{2}, it_{3}, it_{4}$\n",
    "+ ...\n",
    "+  3rd to last item: $it_{n-2}, it_{n-1}, it_{n}$\n",
    "+  2nd to last item: $it_{n-1}, it_{n}, None$\n",
    "+  last item: $it_{n}, None, None$\n",
    "\n",
    "\n",
    "\n",
    "```python\n",
    "zip_longest(*\n",
    "```\n",
    "The * just unpacks the tuple of generators returned by:\n",
    "```python\n",
    "(islice(g, i, None) for i,g in \n",
    "                                     enumerate(tee(g,n)))\n",
    "```\n",
    "So it turns `zip_longest((g0, g1, g2))` into `zip_longest(g0, g1, g2)`"
   ]
  },
  {
   "cell_type": "code",
   "execution_count": null,
   "metadata": {},
   "outputs": [],
   "source": []
  }
 ],
 "metadata": {
  "anaconda-cloud": {},
  "kernelspec": {
   "display_name": "Python 3",
   "language": "python",
   "name": "python3"
  },
  "language_info": {
   "codemirror_mode": {
    "name": "ipython",
    "version": 3
   },
   "file_extension": ".py",
   "mimetype": "text/x-python",
   "name": "python",
   "nbconvert_exporter": "python",
   "pygments_lexer": "ipython3",
   "version": "3.6.10"
  }
 },
 "nbformat": 4,
 "nbformat_minor": 4
}
