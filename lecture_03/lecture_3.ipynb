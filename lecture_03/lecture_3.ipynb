{
 "cells": [
  {
   "cell_type": "markdown",
   "metadata": {},
   "source": [
    "# Introduction to Python - 09 April 2020\n",
    "\n",
    "## <font color='blue'>Logistics:</font>\n",
    "        \n",
    "+ **Assignments**\n",
    "    - Will go out weekly on Tuesdays\n",
    "    - Solutions will be posted the following Tuesday\n",
    "            \n",
    "\n",
    "## Story so far...\n",
    "+ primitive python objects / data-types and operations (numbers, strings)\n",
    "+ logical / boolean operators\n",
    "+ variables and variable naming conventions (pep8, reserved keywords)\n",
    "+ expressions and simple statements (assignment)\n",
    "+ misc (comments, mutability)\n",
    "<br />\n",
    "\n",
    "## Today - Python Statements:\n",
    "\n",
    "- Compound statements: if/else conditionals\n",
    "- User input\n",
    "- Conditional Execution\n",
    "- Some common patterns of usage\n",
    "\n",
    "---"
   ]
  },
  {
   "cell_type": "markdown",
   "metadata": {},
   "source": [
    "## Structural hierarchy of a python program:\n",
    "\n",
    "+ Python program at its most basic is a **sequence** of **valid** Python statements that have been crafted to do a specific task.\n",
    "    - statement-based procedural language, that uses:\n",
    "        - **expressions** to create and process python objects\n",
    "        - **statements** to code the larger logic of a program’s operation and controling how the objects interact with each another as well as with their environment\n",
    "    - For ex.:\n",
    "    ```python\n",
    "    # python's execution model\n",
    "    a = 10     # 10 is a primitive expression, evaluates to itself\n",
    "    b = 20\n",
    "    x = a + b  # arithmetic expression embedded in an assignment statement\n",
    "    print(x)\n",
    "    ```\n",
    "+ (Complex) Programs <-- modules <-- **statements <-- expressions**\n",
    "+ Python Statements are of different types, and have their own specific syntax - rules that define its structure.\n",
    "    - simple: https://docs.python.org/3/reference/simple_stmts.html\n",
    "        - general rule is that the end of a line indicates end of statement (some exceptions)\n",
    "    - compound: https://docs.python.org/3/reference/compound_stmts.html\n",
    "<br/>\n",
    "\n",
    "#### Extras:\n",
    "- Python online documentation: https://docs.python.org/3/index.html"
   ]
  },
  {
   "cell_type": "code",
   "execution_count": null,
   "metadata": {},
   "outputs": [],
   "source": []
  },
  {
   "cell_type": "markdown",
   "metadata": {},
   "source": [
    "--------\n",
    "\n",
    "# Compound Statements\n",
    "\n",
    "## Control Flow Statements\n",
    "\n",
    "+ if else statements - branching operation\n",
    "+ repeated execution (covered later)"
   ]
  },
  {
   "cell_type": "markdown",
   "metadata": {
    "nbpresent": {
     "id": "de212318-45be-40b4-a1da-10679f3221e7"
    }
   },
   "source": [
    "## Logical Operations\n",
    "### Boolean expressions\n",
    "\n",
    "A boolean expressions is an expression that will either evaluate to True or False.\n",
    "\n",
    "|Operator|Expression|Comparison|\n",
    "|---|---|---|\n",
    "|==|x **==** y|is x equal to y?|\n",
    "|!=|x **!=** y|is x not equal to y?|\n",
    "|<|x **<** y|is x less than y?|\n",
    "|>|x **>** y|is x greater than y?|\n",
    "|<=|x **<=** y|is x less than or equal to y?|\n",
    "|>=|x **>=** y|is x greater than or equal to y?|\n",
    "|is|x **is** y|is x, y?|"
   ]
  },
  {
   "cell_type": "markdown",
   "metadata": {
    "nbpresent": {
     "id": "c7daedd8-1ce1-4e5f-ba0a-c4e8194dff50"
    }
   },
   "source": [
    "```python\n",
    "x = 5\n",
    "y = 10\n",
    "print (x,'==',y,'\\t:', x == y)\n",
    "print (x,'!=',y,'\\t:', x != y)\n",
    "print (x,'<',y,' \\t:', x < y)\n",
    "print (x,'>',y,' \\t:', x > y)\n",
    "print (x,'<=',y,'\\t:', x <= y)\n",
    "print (x,'>=',y,'\\t:', x >= y)\n",
    "print (x,'is',y,'\\t:', x is y)\n",
    "print ('type(x == y) : \\t', type(x==y))\n",
    "```"
   ]
  },
  {
   "cell_type": "code",
   "execution_count": null,
   "metadata": {},
   "outputs": [],
   "source": []
  },
  {
   "cell_type": "markdown",
   "metadata": {},
   "source": [
    "### Logical Operators\n",
    "\n",
    "There are three logical operators **_and_**, **_or_** and **_not_**.\n",
    "\n",
    "+ **and** Operator\n",
    "\n",
    "|x|y|x and y|\n",
    "|---|---|---|\n",
    "|False|False|False|\n",
    "|False|True|False|\n",
    "|True|False|False|\n",
    "|True|True|True|\n",
    "\n",
    "+ **or** Operator\n",
    "\n",
    "|x|y|x or y|\n",
    "|---|---|---|\n",
    "|False|False|False|\n",
    "|False|True|True|\n",
    "|True|False|True|\n",
    "|True|True|True|\n",
    "\n",
    "+ **not** Operator\n",
    "\n",
    "|x|not x|\n",
    "|---|---|\n",
    "|False|True|\n",
    "|True|False|"
   ]
  },
  {
   "cell_type": "markdown",
   "metadata": {
    "nbpresent": {
     "id": "4068ad08-f15b-4151-b90b-1f3ece860aa0"
    }
   },
   "source": [
    "#### Example\n",
    "\n",
    "The following code evaluates 2 boolean expressions\n",
    "\n",
    "+ whether the number is even\n",
    " + n%2 == 0\n",
    "+ whether the number is positive\n",
    " + n > 0\n",
    "\n",
    "Using the 2 boolean expressions 2 logical expressions are evaluated\n",
    "\n",
    "+ whether the number is even and positive\n",
    " + n%2 == 0 and n > 0\n",
    "+ whether the number is even or positive\n",
    " + n%2 == 0 or n > 0"
   ]
  },
  {
   "cell_type": "markdown",
   "metadata": {
    "nbpresent": {
     "id": "f03f841d-c6e6-4b59-aa30-d84e189b9847"
    }
   },
   "source": [
    "```python\n",
    "num = 5\n",
    "\n",
    "print ('positive_even :', num)\n",
    "print ('\\tBoolean Expressions')\n",
    "print ('\\t\\t', num, '% 2 == 0 \\t\\t\\t:', num%2 == 0)\n",
    "print ('\\t\\t', num, '> 0 \\t\\t\\t\\t:', num > 0)\n",
    "print ('\\tLogical Expressions')\n",
    "print ('\\t\\t', num, '% 2 == 0 and',num,'> 0 \\t\\t:', num%2 == 0 and num > 0)\n",
    "print ('\\t\\t', num, '% 2 == 0 or',num,'> 0 \\t\\t:', num%2 == 0 or num > 0)\n",
    "```"
   ]
  },
  {
   "cell_type": "code",
   "execution_count": null,
   "metadata": {
    "nbpresent": {
     "id": "e3df99d2-b145-4907-ab95-27633b2e80df"
    }
   },
   "outputs": [],
   "source": []
  },
  {
   "cell_type": "markdown",
   "metadata": {
    "nbpresent": {
     "id": "f09898cd-6bb7-47b6-aee1-c06a7b4399a9"
    }
   },
   "source": [
    "## User Input\n",
    "\n",
    "Allows your programs to be dynamic.\n",
    "\n",
    "**Methods**\n",
    "+ input()\n",
    "+ command line arguments (covered later)\n",
    "+ reading from files (covered later)\n",
    "+ ...\n",
    "\n",
    "### input()\n",
    "+ This method will create a prompt in the console.\n",
    "+ The user can then input their data\n",
    "\n",
    "**Usage**\n",
    "```python\n",
    "variable_to_hold_input = input('message to show user')\n",
    "print (variable_to_hold_input)\n",
    "```"
   ]
  },
  {
   "cell_type": "code",
   "execution_count": null,
   "metadata": {},
   "outputs": [],
   "source": []
  },
  {
   "cell_type": "markdown",
   "metadata": {},
   "source": [
    "### Practice\n",
    "\n",
    "Questions:\n",
    "+ What happens if you add a string and an integer?\n",
    "+ What is the type of the result of dividing two integers?\n",
    "+ Assign two different integers to two separate variables. Add them together and store the result in a third variable.\n",
    "+ Now use the **input()** method to get two integers from the user instead. Print the result of adding the two integers.\n",
    "  + Is this the result you expected?\n",
    "+ What does **'A' < 'a'** return? Why do you think this is the case?\n",
    "+ Is '**False and True or not True and False**' the same as '**(False and True) or not (True and False)**'? Why?\n",
    "+ What does **'foobar'.capitalize().upper().lower()** output? Why?"
   ]
  },
  {
   "cell_type": "code",
   "execution_count": null,
   "metadata": {},
   "outputs": [],
   "source": []
  },
  {
   "cell_type": "markdown",
   "metadata": {
    "nbpresent": {
     "id": "2e321cc5-e0d9-4342-8cc2-5d0c593d8c30"
    }
   },
   "source": [
    "\n",
    "---------\n",
    "\n",
    "# Practice\n",
    "+ https://www.hackerrank.com/domains/python/py-introduction\n",
    "+ https://codecombat.com/\n",
    "\n",
    "# Free Stuff\n",
    "https://education.github.com/pack\n"
   ]
  },
  {
   "cell_type": "markdown",
   "metadata": {},
   "source": [
    "## Conditional Execution - Branching operation\n",
    "\n",
    "In order to write usefull programs you need to be able to control which statements are executed. This is achieved using **~if~** statements.\n",
    "\n",
    "**~if~** statements have the following format\n",
    "\n",
    "```python\n",
    "if <expression>:           # header\n",
    "    <statement block>      # statement block\n",
    "```\n",
    "\n",
    "![alt text](http://www.openbookproject.net/books/bpp4awd/_images/flowchart_if_only.png)\n",
    "\n",
    "Note that the **statement block** is indented (leading white spaces). Physical indentation is how Python determines how long a compound/nested statement block lasts. Here, it separates code that should be executed by the if statement and code that is executed regardless of the statement.\n",
    "\n",
    "In the following code **statement1** and **statement2** are only executed if the **expression** is true. **statement3** will be executed regardless of the if statement.\n",
    "\n",
    "```python\n",
    "if <expression>:\n",
    "    statement1\n",
    "    statement2\n",
    "statement3\n",
    "```\n",
    "\n",
    "**Notes on indentation:**\n",
    "- be consistent (within block, and preferably within whole program) - **syntax rule**\n",
    "- convention is use single tab or 4 white spaces (configurable in most integrated dev environments - IDEs), although anything else consistent will work too.\n",
    "- don't mix tabs and spaces - can cause major readability issues if someone else's editor is set to display tabs differently than yours.\n",
    "\n",
    "```python\n",
    "if True:\n",
    "    print ('Hello') # 4 spaces\n",
    "    print ('Hello') # 1 tab (this is bad. Use one of the other)\n",
    "```\n",
    "\n",
    "The following code will result in an error as the spaces are inconsistant\n",
    "\n",
    "```python\n",
    "if True:\n",
    "    print ('Hello') # 4 spaces\n",
    "     print ('Hello') # 5 spaces\n",
    "```\n",
    "\n",
    "The following code is valid but not preferred due to different indentations in different code blocks\n",
    "\n",
    "```python\n",
    "if True:\n",
    "    print ('Hello') # 4 spaces\n",
    "    print ('Hello') # 5 spaces\n",
    "        \n",
    "x = 10\n",
    "if x > 5:\n",
    "        print('large number')\n",
    "```"
   ]
  },
  {
   "cell_type": "code",
   "execution_count": null,
   "metadata": {},
   "outputs": [],
   "source": []
  },
  {
   "cell_type": "markdown",
   "metadata": {},
   "source": [
    "## Alternate execution/Branching\n",
    "```python\n",
    "if <expression>:\n",
    "    <statement_1>\n",
    "else:\n",
    "    <statement_2>\n",
    "```\n",
    "![alt text](http://www.openbookproject.net/books/bpp4awd/_images/flowchart_if_else.png)\n",
    "\n",
    "```python\n",
    "val = int(input('Enter a number: '))    # Note the typecasting\n",
    "if val % 2 == 0:\n",
    "    print('You entered an even number')\n",
    "else:\n",
    "    print('You entered an odd number')\n",
    "```\n",
    "    "
   ]
  },
  {
   "cell_type": "code",
   "execution_count": null,
   "metadata": {},
   "outputs": [],
   "source": []
  },
  {
   "cell_type": "markdown",
   "metadata": {},
   "source": [
    "## Multiple tests (chaining)\n",
    "```python\n",
    "if x < y:\n",
    "    STATEMENTS_A\n",
    "elif x > y:\n",
    "    STATEMENTS_B\n",
    "else:\n",
    "    STATEMENTS_C\n",
    "```\n",
    "\n",
    "![alt text](http://www.openbookproject.net/books/bpp4awd/_images/flowchart_chained_conditional.png)\n",
    "\n",
    "```python\n",
    "val = int(input('Enter a number: '))    # Note the typecasting\n",
    "if val % 2 == 0 and val >= 0:\n",
    "    print('You entered an even positive number')\n",
    "elif val % 2 == 0 and val < 0:\n",
    "    print('You entered an even negative number')\n",
    "else:\n",
    "    print('You entered an odd number)\n",
    "```"
   ]
  },
  {
   "cell_type": "code",
   "execution_count": null,
   "metadata": {},
   "outputs": [],
   "source": []
  },
  {
   "cell_type": "markdown",
   "metadata": {},
   "source": [
    "## Nested conditionals\n",
    "```python\n",
    "if a > b:\n",
    "    STATEMENTS_A\n",
    "else:\n",
    "    if x > y:\n",
    "        STATEMENTS_B\n",
    "    else:\n",
    "        STATEMENTS_C\n",
    "```\n",
    "\n",
    "![alt text](http://www.openbookproject.net/books/bpp4awd/_images/flowchart_nested_conditional.png)\n",
    "\n",
    "#### Example:\n",
    "```python\n",
    "disease = int(input('Enter disease state (1 or 0): '))    # Every value in python has a \"Truth\" value\n",
    "if not disease:\n",
    "    print('no drug required')\n",
    "else:\n",
    "    xyz_expr_count = int(input('Enter xyz_expr_count: '))\n",
    "    if 0 < xyz_expr_count <= 4:\n",
    "        print('give drug A')\n",
    "    elif 4 < xyz_expr_count <= 10:\n",
    "        print('give drug B')\n",
    "    else:\n",
    "        print('give drug C')\n",
    "```\n",
    "**Note:** You may flip the if condition around"
   ]
  },
  {
   "cell_type": "code",
   "execution_count": null,
   "metadata": {
    "collapsed": true,
    "jupyter": {
     "outputs_hidden": true
    }
   },
   "outputs": [],
   "source": []
  },
  {
   "cell_type": "markdown",
   "metadata": {},
   "source": [
    "### Example: Lets build a calculator --> <font color='blue'>Run in Jupyter, cmdline and Atom</font>"
   ]
  },
  {
   "cell_type": "code",
   "execution_count": 3,
   "metadata": {},
   "outputs": [],
   "source": []
  }
 ],
 "metadata": {
  "anaconda-cloud": {},
  "kernelspec": {
   "display_name": "Python 3",
   "language": "python",
   "name": "python3"
  },
  "language_info": {
   "codemirror_mode": {
    "name": "ipython",
    "version": 3
   },
   "file_extension": ".py",
   "mimetype": "text/x-python",
   "name": "python",
   "nbconvert_exporter": "python",
   "pygments_lexer": "ipython3",
   "version": "3.7.7"
  }
 },
 "nbformat": 4,
 "nbformat_minor": 4
}
