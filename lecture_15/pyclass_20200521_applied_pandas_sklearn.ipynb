{
 "cells": [
  {
   "cell_type": "code",
   "execution_count": 1,
   "metadata": {},
   "outputs": [],
   "source": [
    "#!pip install cptac"
   ]
  },
  {
   "cell_type": "code",
   "execution_count": 41,
   "metadata": {},
   "outputs": [],
   "source": [
    "# Import the standard things we will need\n",
    "import pandas as pd\n",
    "import numpy as np\n",
    "import matplotlib.pyplot as plt\n",
    "import seaborn as sns\n",
    "from sklearn import decomposition, model_selection, preprocessing, linear_model, impute\n",
    "from sklearn.metrics import accuracy_score, roc_curve, auc, confusion_matrix\n",
    "\n",
    "\n",
    "# Make the seaborn plots a little prettier, make the font arial, \n",
    "# the backgrounds style white and the default fonts a little bigger. \n",
    "sns.set(font = 'arial', style = 'white', font_scale = 1.3)\n",
    "\n",
    "# Prevent bits of the figures from getting cut off when saving. \n",
    "# This is my single favorite line of code. \n",
    "import matplotlib\n",
    "matplotlib.rcParams.update({'savefig.bbox': 'tight'})"
   ]
  },
  {
   "cell_type": "markdown",
   "metadata": {},
   "source": [
    "# Import data from CPTAC"
   ]
  },
  {
   "cell_type": "markdown",
   "metadata": {},
   "source": [
    "We are going to get data in the way described by the tutorials for this package here:  \n",
    "https://github.com/PayneLab/cptac/tree/master/docs\n",
    "\n",
    "These datasets come as pandas dataframes, beautifully normalized and processed. "
   ]
  },
  {
   "cell_type": "code",
   "execution_count": 3,
   "metadata": {},
   "outputs": [
    {
     "name": "stdout",
     "output_type": "stream",
     "text": [
      "Available datasets:\n",
      "\n",
      "Dataset name                               Description     Data reuse status  \\\n",
      "                                                                               \n",
      "Brca                                     breast cancer       no restrictions   \n",
      "Ccrcc         clear cell renal cell carcinoma (kidney)       no restrictions   \n",
      "Colon                                colorectal cancer       no restrictions   \n",
      "Endometrial            endometrial carcinoma (uterine)       no restrictions   \n",
      "Gbm                                       glioblastoma   publication embargo   \n",
      "Hnscc                                    head and neck  password access only   \n",
      "Lscc                      lung squamous cell carcinoma  password access only   \n",
      "Luad                               lung adenocarcinoma   publication embargo   \n",
      "Ovarian               high grade serous ovarian cancer       no restrictions   \n",
      "\n",
      "Dataset name                              Publication link  \n",
      "                                                            \n",
      "Brca                                           unpublished  \n",
      "Ccrcc         https://www.ncbi.nlm.nih.gov/pubmed/31675502  \n",
      "Colon         https://www.ncbi.nlm.nih.gov/pubmed/31031003  \n",
      "Endometrial   https://www.ncbi.nlm.nih.gov/pubmed/32059776  \n",
      "Gbm                                            unpublished  \n",
      "Hnscc                                          unpublished  \n",
      "Lscc                                           unpublished  \n",
      "Luad                                           unpublished  \n",
      "Ovarian       https://www.ncbi.nlm.nih.gov/pubmed/27372738  \n"
     ]
    },
    {
     "name": "stderr",
     "output_type": "stream",
     "text": [
      "cptac warning: Your version of cptac (0.7.5) is out-of-date. Latest is 0.8.0. Please run 'pip install --upgrade cptac' to update it. (/Users/lili/anaconda3/envs/pythonclass/lib/python3.7/site-packages/ipykernel_launcher.py, line 1)\n"
     ]
    }
   ],
   "source": [
    "import cptac\n",
    "cptac.list_datasets()"
   ]
  },
  {
   "cell_type": "markdown",
   "metadata": {},
   "source": [
    "# Get some Data"
   ]
  },
  {
   "cell_type": "code",
   "execution_count": 4,
   "metadata": {},
   "outputs": [
    {
     "name": "stdout",
     "output_type": "stream",
     "text": [
      "                                                \r"
     ]
    }
   ],
   "source": [
    "cptac.download(dataset=\"endometrial\")\n",
    "en = cptac.Endometrial()"
   ]
  },
  {
   "cell_type": "code",
   "execution_count": 67,
   "metadata": {},
   "outputs": [
    {
     "data": {
      "text/plain": [
       "dict_keys(['Adjacent_normal', 'Enriched_normal', 'Myometrium_normal', 'Tumor'])"
      ]
     },
     "execution_count": 67,
     "metadata": {},
     "output_type": "execute_result"
    }
   ],
   "source": [
    "clin_data = en.get_clinical()\n",
    "sample_types = clin_data.groupby('Proteomics_Tumor_Normal').groups\n",
    "sample_types.keys()"
   ]
  },
  {
   "cell_type": "code",
   "execution_count": 48,
   "metadata": {},
   "outputs": [],
   "source": [
    "sample_annotations = en.get_derived_molecular()\n",
    "df = en.get_proteomics()"
   ]
  },
  {
   "cell_type": "code",
   "execution_count": 49,
   "metadata": {},
   "outputs": [
    {
     "data": {
      "text/html": [
       "<div>\n",
       "<style scoped>\n",
       "    .dataframe tbody tr th:only-of-type {\n",
       "        vertical-align: middle;\n",
       "    }\n",
       "\n",
       "    .dataframe tbody tr th {\n",
       "        vertical-align: top;\n",
       "    }\n",
       "\n",
       "    .dataframe thead th {\n",
       "        text-align: right;\n",
       "    }\n",
       "</style>\n",
       "<table border=\"1\" class=\"dataframe\">\n",
       "  <thead>\n",
       "    <tr style=\"text-align: right;\">\n",
       "      <th>Name</th>\n",
       "      <th>Estrogen_Receptor</th>\n",
       "      <th>Estrogen_Receptor_%</th>\n",
       "      <th>Progesterone_Receptor</th>\n",
       "      <th>Progesterone_Receptor_%</th>\n",
       "      <th>MLH1</th>\n",
       "      <th>MLH2</th>\n",
       "      <th>MSH6</th>\n",
       "      <th>PMS2</th>\n",
       "      <th>p53</th>\n",
       "      <th>Other_IHC_specify</th>\n",
       "      <th>...</th>\n",
       "      <th>Log2_variant_total</th>\n",
       "      <th>Log2_SNP_total</th>\n",
       "      <th>Log2_INDEL_total</th>\n",
       "      <th>Genomics_subtype</th>\n",
       "      <th>Mutation_signature_C&gt;A</th>\n",
       "      <th>Mutation_signature_C&gt;G</th>\n",
       "      <th>Mutation_signature_C&gt;T</th>\n",
       "      <th>Mutation_signature_T&gt;C</th>\n",
       "      <th>Mutation_signature_T&gt;A</th>\n",
       "      <th>Mutation_signature_T&gt;G</th>\n",
       "    </tr>\n",
       "    <tr>\n",
       "      <th>Patient_ID</th>\n",
       "      <th></th>\n",
       "      <th></th>\n",
       "      <th></th>\n",
       "      <th></th>\n",
       "      <th></th>\n",
       "      <th></th>\n",
       "      <th></th>\n",
       "      <th></th>\n",
       "      <th></th>\n",
       "      <th></th>\n",
       "      <th></th>\n",
       "      <th></th>\n",
       "      <th></th>\n",
       "      <th></th>\n",
       "      <th></th>\n",
       "      <th></th>\n",
       "      <th></th>\n",
       "      <th></th>\n",
       "      <th></th>\n",
       "      <th></th>\n",
       "      <th></th>\n",
       "    </tr>\n",
       "  </thead>\n",
       "  <tbody>\n",
       "    <tr>\n",
       "      <th>C3L-00006</th>\n",
       "      <td>Cannot be determined</td>\n",
       "      <td>NaN</td>\n",
       "      <td>Cannot be determined</td>\n",
       "      <td>NaN</td>\n",
       "      <td>Intact nuclear expression</td>\n",
       "      <td>Intact nuclear expression</td>\n",
       "      <td>Loss of nuclear expression</td>\n",
       "      <td>Intact nuclear expression</td>\n",
       "      <td>Cannot be determined</td>\n",
       "      <td>NaN</td>\n",
       "      <td>...</td>\n",
       "      <td>10.062046</td>\n",
       "      <td>9.984418</td>\n",
       "      <td>5.832890</td>\n",
       "      <td>MSI-H</td>\n",
       "      <td>8.300395</td>\n",
       "      <td>1.482213</td>\n",
       "      <td>72.529644</td>\n",
       "      <td>14.426877</td>\n",
       "      <td>1.383399</td>\n",
       "      <td>1.877470</td>\n",
       "    </tr>\n",
       "    <tr>\n",
       "      <th>C3L-00008</th>\n",
       "      <td>Cannot be determined</td>\n",
       "      <td>NaN</td>\n",
       "      <td>Cannot be determined</td>\n",
       "      <td>NaN</td>\n",
       "      <td>Intact nuclear expression</td>\n",
       "      <td>Intact nuclear expression</td>\n",
       "      <td>Intact nuclear expression</td>\n",
       "      <td>Loss of nuclear expression</td>\n",
       "      <td>Cannot be determined</td>\n",
       "      <td>NaN</td>\n",
       "      <td>...</td>\n",
       "      <td>8.861087</td>\n",
       "      <td>8.330917</td>\n",
       "      <td>7.169925</td>\n",
       "      <td>MSI-H</td>\n",
       "      <td>14.641745</td>\n",
       "      <td>2.803738</td>\n",
       "      <td>64.485981</td>\n",
       "      <td>15.264798</td>\n",
       "      <td>0.934579</td>\n",
       "      <td>1.869159</td>\n",
       "    </tr>\n",
       "    <tr>\n",
       "      <th>C3L-00032</th>\n",
       "      <td>Cannot be determined</td>\n",
       "      <td>NaN</td>\n",
       "      <td>Cannot be determined</td>\n",
       "      <td>NaN</td>\n",
       "      <td>Intact nuclear expression</td>\n",
       "      <td>Intact nuclear expression</td>\n",
       "      <td>Intact nuclear expression</td>\n",
       "      <td>Intact nuclear expression</td>\n",
       "      <td>Cannot be determined</td>\n",
       "      <td>NaN</td>\n",
       "      <td>...</td>\n",
       "      <td>5.321928</td>\n",
       "      <td>5.000000</td>\n",
       "      <td>3.169925</td>\n",
       "      <td>CNV_low</td>\n",
       "      <td>16.129032</td>\n",
       "      <td>3.225806</td>\n",
       "      <td>70.967742</td>\n",
       "      <td>3.225806</td>\n",
       "      <td>3.225806</td>\n",
       "      <td>3.225806</td>\n",
       "    </tr>\n",
       "    <tr>\n",
       "      <th>C3L-00090</th>\n",
       "      <td>Cannot be determined</td>\n",
       "      <td>NaN</td>\n",
       "      <td>Cannot be determined</td>\n",
       "      <td>NaN</td>\n",
       "      <td>Intact nuclear expression</td>\n",
       "      <td>Intact nuclear expression</td>\n",
       "      <td>Intact nuclear expression</td>\n",
       "      <td>Intact nuclear expression</td>\n",
       "      <td>Cannot be determined</td>\n",
       "      <td>NaN</td>\n",
       "      <td>...</td>\n",
       "      <td>5.672425</td>\n",
       "      <td>5.523562</td>\n",
       "      <td>2.584963</td>\n",
       "      <td>CNV_low</td>\n",
       "      <td>17.777778</td>\n",
       "      <td>8.888889</td>\n",
       "      <td>62.222222</td>\n",
       "      <td>8.888889</td>\n",
       "      <td>2.222222</td>\n",
       "      <td>0.000000</td>\n",
       "    </tr>\n",
       "    <tr>\n",
       "      <th>C3L-00098</th>\n",
       "      <td>Cannot be determined</td>\n",
       "      <td>NaN</td>\n",
       "      <td>Cannot be determined</td>\n",
       "      <td>NaN</td>\n",
       "      <td>Intact nuclear expression</td>\n",
       "      <td>Intact nuclear expression</td>\n",
       "      <td>Intact nuclear expression</td>\n",
       "      <td>Intact nuclear expression</td>\n",
       "      <td>Normal</td>\n",
       "      <td>NaN</td>\n",
       "      <td>...</td>\n",
       "      <td>6.108524</td>\n",
       "      <td>5.954196</td>\n",
       "      <td>3.000000</td>\n",
       "      <td>CNV_high</td>\n",
       "      <td>9.836066</td>\n",
       "      <td>13.114754</td>\n",
       "      <td>62.295082</td>\n",
       "      <td>3.278689</td>\n",
       "      <td>8.196721</td>\n",
       "      <td>3.278689</td>\n",
       "    </tr>\n",
       "  </tbody>\n",
       "</table>\n",
       "<p>5 rows × 125 columns</p>\n",
       "</div>"
      ],
      "text/plain": [
       "Name           Estrogen_Receptor  Estrogen_Receptor_% Progesterone_Receptor  \\\n",
       "Patient_ID                                                                    \n",
       "C3L-00006   Cannot be determined                  NaN  Cannot be determined   \n",
       "C3L-00008   Cannot be determined                  NaN  Cannot be determined   \n",
       "C3L-00032   Cannot be determined                  NaN  Cannot be determined   \n",
       "C3L-00090   Cannot be determined                  NaN  Cannot be determined   \n",
       "C3L-00098   Cannot be determined                  NaN  Cannot be determined   \n",
       "\n",
       "Name        Progesterone_Receptor_%                       MLH1  \\\n",
       "Patient_ID                                                       \n",
       "C3L-00006                       NaN  Intact nuclear expression   \n",
       "C3L-00008                       NaN  Intact nuclear expression   \n",
       "C3L-00032                       NaN  Intact nuclear expression   \n",
       "C3L-00090                       NaN  Intact nuclear expression   \n",
       "C3L-00098                       NaN  Intact nuclear expression   \n",
       "\n",
       "Name                             MLH2                        MSH6  \\\n",
       "Patient_ID                                                          \n",
       "C3L-00006   Intact nuclear expression  Loss of nuclear expression   \n",
       "C3L-00008   Intact nuclear expression   Intact nuclear expression   \n",
       "C3L-00032   Intact nuclear expression   Intact nuclear expression   \n",
       "C3L-00090   Intact nuclear expression   Intact nuclear expression   \n",
       "C3L-00098   Intact nuclear expression   Intact nuclear expression   \n",
       "\n",
       "Name                              PMS2                   p53  \\\n",
       "Patient_ID                                                     \n",
       "C3L-00006    Intact nuclear expression  Cannot be determined   \n",
       "C3L-00008   Loss of nuclear expression  Cannot be determined   \n",
       "C3L-00032    Intact nuclear expression  Cannot be determined   \n",
       "C3L-00090    Intact nuclear expression  Cannot be determined   \n",
       "C3L-00098    Intact nuclear expression                Normal   \n",
       "\n",
       "Name       Other_IHC_specify  ... Log2_variant_total  Log2_SNP_total  \\\n",
       "Patient_ID                    ...                                      \n",
       "C3L-00006                NaN  ...          10.062046        9.984418   \n",
       "C3L-00008                NaN  ...           8.861087        8.330917   \n",
       "C3L-00032                NaN  ...           5.321928        5.000000   \n",
       "C3L-00090                NaN  ...           5.672425        5.523562   \n",
       "C3L-00098                NaN  ...           6.108524        5.954196   \n",
       "\n",
       "Name        Log2_INDEL_total  Genomics_subtype  Mutation_signature_C>A  \\\n",
       "Patient_ID                                                               \n",
       "C3L-00006           5.832890             MSI-H                8.300395   \n",
       "C3L-00008           7.169925             MSI-H               14.641745   \n",
       "C3L-00032           3.169925           CNV_low               16.129032   \n",
       "C3L-00090           2.584963           CNV_low               17.777778   \n",
       "C3L-00098           3.000000          CNV_high                9.836066   \n",
       "\n",
       "Name        Mutation_signature_C>G  Mutation_signature_C>T  \\\n",
       "Patient_ID                                                   \n",
       "C3L-00006                 1.482213               72.529644   \n",
       "C3L-00008                 2.803738               64.485981   \n",
       "C3L-00032                 3.225806               70.967742   \n",
       "C3L-00090                 8.888889               62.222222   \n",
       "C3L-00098                13.114754               62.295082   \n",
       "\n",
       "Name        Mutation_signature_T>C  Mutation_signature_T>A  \\\n",
       "Patient_ID                                                   \n",
       "C3L-00006                14.426877                1.383399   \n",
       "C3L-00008                15.264798                0.934579   \n",
       "C3L-00032                 3.225806                3.225806   \n",
       "C3L-00090                 8.888889                2.222222   \n",
       "C3L-00098                 3.278689                8.196721   \n",
       "\n",
       "Name        Mutation_signature_T>G  \n",
       "Patient_ID                          \n",
       "C3L-00006                 1.877470  \n",
       "C3L-00008                 1.869159  \n",
       "C3L-00032                 3.225806  \n",
       "C3L-00090                 0.000000  \n",
       "C3L-00098                 3.278689  \n",
       "\n",
       "[5 rows x 125 columns]"
      ]
     },
     "execution_count": 49,
     "metadata": {},
     "output_type": "execute_result"
    }
   ],
   "source": [
    "sample_annotations.head()"
   ]
  },
  {
   "cell_type": "code",
   "execution_count": 7,
   "metadata": {},
   "outputs": [
    {
     "data": {
      "text/html": [
       "<div>\n",
       "<style scoped>\n",
       "    .dataframe tbody tr th:only-of-type {\n",
       "        vertical-align: middle;\n",
       "    }\n",
       "\n",
       "    .dataframe tbody tr th {\n",
       "        vertical-align: top;\n",
       "    }\n",
       "\n",
       "    .dataframe thead th {\n",
       "        text-align: right;\n",
       "    }\n",
       "</style>\n",
       "<table border=\"1\" class=\"dataframe\">\n",
       "  <thead>\n",
       "    <tr style=\"text-align: right;\">\n",
       "      <th>Name</th>\n",
       "      <th>A1BG</th>\n",
       "      <th>A2M</th>\n",
       "      <th>A2ML1</th>\n",
       "      <th>A4GALT</th>\n",
       "      <th>AAAS</th>\n",
       "      <th>AACS</th>\n",
       "      <th>AADAT</th>\n",
       "      <th>AAED1</th>\n",
       "      <th>AAGAB</th>\n",
       "      <th>AAK1</th>\n",
       "      <th>...</th>\n",
       "      <th>ZSWIM8</th>\n",
       "      <th>ZSWIM9</th>\n",
       "      <th>ZW10</th>\n",
       "      <th>ZWILCH</th>\n",
       "      <th>ZWINT</th>\n",
       "      <th>ZXDC</th>\n",
       "      <th>ZYG11B</th>\n",
       "      <th>ZYX</th>\n",
       "      <th>ZZEF1</th>\n",
       "      <th>ZZZ3</th>\n",
       "    </tr>\n",
       "    <tr>\n",
       "      <th>Patient_ID</th>\n",
       "      <th></th>\n",
       "      <th></th>\n",
       "      <th></th>\n",
       "      <th></th>\n",
       "      <th></th>\n",
       "      <th></th>\n",
       "      <th></th>\n",
       "      <th></th>\n",
       "      <th></th>\n",
       "      <th></th>\n",
       "      <th></th>\n",
       "      <th></th>\n",
       "      <th></th>\n",
       "      <th></th>\n",
       "      <th></th>\n",
       "      <th></th>\n",
       "      <th></th>\n",
       "      <th></th>\n",
       "      <th></th>\n",
       "      <th></th>\n",
       "      <th></th>\n",
       "    </tr>\n",
       "  </thead>\n",
       "  <tbody>\n",
       "    <tr>\n",
       "      <th>C3L-00006</th>\n",
       "      <td>-1.180</td>\n",
       "      <td>-0.8630</td>\n",
       "      <td>-0.802</td>\n",
       "      <td>0.222</td>\n",
       "      <td>0.2560</td>\n",
       "      <td>0.6650</td>\n",
       "      <td>1.2800</td>\n",
       "      <td>-0.3390</td>\n",
       "      <td>0.412</td>\n",
       "      <td>-0.664</td>\n",
       "      <td>...</td>\n",
       "      <td>-0.08770</td>\n",
       "      <td>NaN</td>\n",
       "      <td>0.0229</td>\n",
       "      <td>0.1090</td>\n",
       "      <td>NaN</td>\n",
       "      <td>-0.332</td>\n",
       "      <td>-0.43300</td>\n",
       "      <td>-1.020</td>\n",
       "      <td>-0.1230</td>\n",
       "      <td>-0.0859</td>\n",
       "    </tr>\n",
       "    <tr>\n",
       "      <th>C3L-00008</th>\n",
       "      <td>-0.685</td>\n",
       "      <td>-1.0700</td>\n",
       "      <td>-0.684</td>\n",
       "      <td>0.984</td>\n",
       "      <td>0.1350</td>\n",
       "      <td>0.3340</td>\n",
       "      <td>1.3000</td>\n",
       "      <td>0.1390</td>\n",
       "      <td>1.330</td>\n",
       "      <td>-0.367</td>\n",
       "      <td>...</td>\n",
       "      <td>-0.03560</td>\n",
       "      <td>NaN</td>\n",
       "      <td>0.3630</td>\n",
       "      <td>1.0700</td>\n",
       "      <td>0.737</td>\n",
       "      <td>-0.564</td>\n",
       "      <td>-0.00461</td>\n",
       "      <td>-1.130</td>\n",
       "      <td>-0.0757</td>\n",
       "      <td>-0.4730</td>\n",
       "    </tr>\n",
       "    <tr>\n",
       "      <th>C3L-00032</th>\n",
       "      <td>-0.528</td>\n",
       "      <td>-1.3200</td>\n",
       "      <td>0.435</td>\n",
       "      <td>NaN</td>\n",
       "      <td>-0.2400</td>\n",
       "      <td>1.0400</td>\n",
       "      <td>-0.0213</td>\n",
       "      <td>-0.0479</td>\n",
       "      <td>0.419</td>\n",
       "      <td>-0.500</td>\n",
       "      <td>...</td>\n",
       "      <td>0.00112</td>\n",
       "      <td>-0.1450</td>\n",
       "      <td>0.0105</td>\n",
       "      <td>-0.1160</td>\n",
       "      <td>NaN</td>\n",
       "      <td>0.151</td>\n",
       "      <td>-0.07400</td>\n",
       "      <td>-0.540</td>\n",
       "      <td>0.3200</td>\n",
       "      <td>-0.4190</td>\n",
       "    </tr>\n",
       "    <tr>\n",
       "      <th>C3L-00090</th>\n",
       "      <td>-1.670</td>\n",
       "      <td>-1.1900</td>\n",
       "      <td>-0.443</td>\n",
       "      <td>0.243</td>\n",
       "      <td>-0.0993</td>\n",
       "      <td>0.7570</td>\n",
       "      <td>0.7400</td>\n",
       "      <td>-0.9290</td>\n",
       "      <td>0.229</td>\n",
       "      <td>-0.223</td>\n",
       "      <td>...</td>\n",
       "      <td>0.07250</td>\n",
       "      <td>-0.0552</td>\n",
       "      <td>-0.0714</td>\n",
       "      <td>0.0933</td>\n",
       "      <td>0.156</td>\n",
       "      <td>-0.398</td>\n",
       "      <td>-0.07520</td>\n",
       "      <td>-0.797</td>\n",
       "      <td>-0.0301</td>\n",
       "      <td>-0.4670</td>\n",
       "    </tr>\n",
       "    <tr>\n",
       "      <th>C3L-00098</th>\n",
       "      <td>-0.374</td>\n",
       "      <td>-0.0206</td>\n",
       "      <td>-0.537</td>\n",
       "      <td>0.311</td>\n",
       "      <td>0.3750</td>\n",
       "      <td>0.0131</td>\n",
       "      <td>-1.1000</td>\n",
       "      <td>NaN</td>\n",
       "      <td>0.565</td>\n",
       "      <td>-0.101</td>\n",
       "      <td>...</td>\n",
       "      <td>-0.17600</td>\n",
       "      <td>NaN</td>\n",
       "      <td>-1.2200</td>\n",
       "      <td>-0.5620</td>\n",
       "      <td>0.937</td>\n",
       "      <td>-0.646</td>\n",
       "      <td>0.20700</td>\n",
       "      <td>-1.850</td>\n",
       "      <td>-0.1760</td>\n",
       "      <td>0.0513</td>\n",
       "    </tr>\n",
       "  </tbody>\n",
       "</table>\n",
       "<p>5 rows × 10999 columns</p>\n",
       "</div>"
      ],
      "text/plain": [
       "Name         A1BG     A2M  A2ML1  A4GALT    AAAS    AACS   AADAT   AAED1  \\\n",
       "Patient_ID                                                                 \n",
       "C3L-00006  -1.180 -0.8630 -0.802   0.222  0.2560  0.6650  1.2800 -0.3390   \n",
       "C3L-00008  -0.685 -1.0700 -0.684   0.984  0.1350  0.3340  1.3000  0.1390   \n",
       "C3L-00032  -0.528 -1.3200  0.435     NaN -0.2400  1.0400 -0.0213 -0.0479   \n",
       "C3L-00090  -1.670 -1.1900 -0.443   0.243 -0.0993  0.7570  0.7400 -0.9290   \n",
       "C3L-00098  -0.374 -0.0206 -0.537   0.311  0.3750  0.0131 -1.1000     NaN   \n",
       "\n",
       "Name        AAGAB   AAK1  ...   ZSWIM8  ZSWIM9    ZW10  ZWILCH  ZWINT   ZXDC  \\\n",
       "Patient_ID                ...                                                  \n",
       "C3L-00006   0.412 -0.664  ... -0.08770     NaN  0.0229  0.1090    NaN -0.332   \n",
       "C3L-00008   1.330 -0.367  ... -0.03560     NaN  0.3630  1.0700  0.737 -0.564   \n",
       "C3L-00032   0.419 -0.500  ...  0.00112 -0.1450  0.0105 -0.1160    NaN  0.151   \n",
       "C3L-00090   0.229 -0.223  ...  0.07250 -0.0552 -0.0714  0.0933  0.156 -0.398   \n",
       "C3L-00098   0.565 -0.101  ... -0.17600     NaN -1.2200 -0.5620  0.937 -0.646   \n",
       "\n",
       "Name         ZYG11B    ZYX   ZZEF1    ZZZ3  \n",
       "Patient_ID                                  \n",
       "C3L-00006  -0.43300 -1.020 -0.1230 -0.0859  \n",
       "C3L-00008  -0.00461 -1.130 -0.0757 -0.4730  \n",
       "C3L-00032  -0.07400 -0.540  0.3200 -0.4190  \n",
       "C3L-00090  -0.07520 -0.797 -0.0301 -0.4670  \n",
       "C3L-00098   0.20700 -1.850 -0.1760  0.0513  \n",
       "\n",
       "[5 rows x 10999 columns]"
      ]
     },
     "execution_count": 7,
     "metadata": {},
     "output_type": "execute_result"
    }
   ],
   "source": [
    "df.head()"
   ]
  },
  {
   "cell_type": "code",
   "execution_count": 8,
   "metadata": {},
   "outputs": [
    {
     "data": {
      "text/html": [
       "<div>\n",
       "<style scoped>\n",
       "    .dataframe tbody tr th:only-of-type {\n",
       "        vertical-align: middle;\n",
       "    }\n",
       "\n",
       "    .dataframe tbody tr th {\n",
       "        vertical-align: top;\n",
       "    }\n",
       "\n",
       "    .dataframe thead th {\n",
       "        text-align: right;\n",
       "    }\n",
       "</style>\n",
       "<table border=\"1\" class=\"dataframe\">\n",
       "  <thead>\n",
       "    <tr style=\"text-align: right;\">\n",
       "      <th>Name</th>\n",
       "      <th>A1BG</th>\n",
       "      <th>A2M</th>\n",
       "      <th>A2ML1</th>\n",
       "      <th>A4GALT</th>\n",
       "      <th>AAAS</th>\n",
       "      <th>AACS</th>\n",
       "      <th>AADAT</th>\n",
       "      <th>AAED1</th>\n",
       "      <th>AAGAB</th>\n",
       "      <th>AAK1</th>\n",
       "      <th>...</th>\n",
       "      <th>ZSWIM8</th>\n",
       "      <th>ZSWIM9</th>\n",
       "      <th>ZW10</th>\n",
       "      <th>ZWILCH</th>\n",
       "      <th>ZWINT</th>\n",
       "      <th>ZXDC</th>\n",
       "      <th>ZYG11B</th>\n",
       "      <th>ZYX</th>\n",
       "      <th>ZZEF1</th>\n",
       "      <th>ZZZ3</th>\n",
       "    </tr>\n",
       "    <tr>\n",
       "      <th>Patient_ID</th>\n",
       "      <th></th>\n",
       "      <th></th>\n",
       "      <th></th>\n",
       "      <th></th>\n",
       "      <th></th>\n",
       "      <th></th>\n",
       "      <th></th>\n",
       "      <th></th>\n",
       "      <th></th>\n",
       "      <th></th>\n",
       "      <th></th>\n",
       "      <th></th>\n",
       "      <th></th>\n",
       "      <th></th>\n",
       "      <th></th>\n",
       "      <th></th>\n",
       "      <th></th>\n",
       "      <th></th>\n",
       "      <th></th>\n",
       "      <th></th>\n",
       "      <th></th>\n",
       "    </tr>\n",
       "  </thead>\n",
       "  <tbody>\n",
       "    <tr>\n",
       "      <th>C3L-00769.N</th>\n",
       "      <td>0.581</td>\n",
       "      <td>-0.784</td>\n",
       "      <td>0.4180</td>\n",
       "      <td>-0.123</td>\n",
       "      <td>-0.2490</td>\n",
       "      <td>-0.845</td>\n",
       "      <td>-0.12100</td>\n",
       "      <td>0.352</td>\n",
       "      <td>-0.482</td>\n",
       "      <td>0.327</td>\n",
       "      <td>...</td>\n",
       "      <td>0.14500</td>\n",
       "      <td>NaN</td>\n",
       "      <td>-0.283</td>\n",
       "      <td>-0.454</td>\n",
       "      <td>NaN</td>\n",
       "      <td>0.5570</td>\n",
       "      <td>0.186</td>\n",
       "      <td>1.58</td>\n",
       "      <td>-0.1590</td>\n",
       "      <td>0.4000</td>\n",
       "    </tr>\n",
       "    <tr>\n",
       "      <th>C3L-01248</th>\n",
       "      <td>-0.286</td>\n",
       "      <td>-0.511</td>\n",
       "      <td>1.0700</td>\n",
       "      <td>-0.459</td>\n",
       "      <td>-0.1520</td>\n",
       "      <td>0.154</td>\n",
       "      <td>-0.00265</td>\n",
       "      <td>0.205</td>\n",
       "      <td>-0.137</td>\n",
       "      <td>0.437</td>\n",
       "      <td>...</td>\n",
       "      <td>0.29400</td>\n",
       "      <td>-0.518</td>\n",
       "      <td>-0.132</td>\n",
       "      <td>-0.755</td>\n",
       "      <td>-0.0709</td>\n",
       "      <td>-0.3550</td>\n",
       "      <td>0.140</td>\n",
       "      <td>1.72</td>\n",
       "      <td>0.1780</td>\n",
       "      <td>-0.0803</td>\n",
       "    </tr>\n",
       "    <tr>\n",
       "      <th>C3N-00326</th>\n",
       "      <td>-0.579</td>\n",
       "      <td>-0.765</td>\n",
       "      <td>-0.0906</td>\n",
       "      <td>1.580</td>\n",
       "      <td>-0.0755</td>\n",
       "      <td>1.290</td>\n",
       "      <td>-0.02560</td>\n",
       "      <td>-0.590</td>\n",
       "      <td>0.457</td>\n",
       "      <td>-0.548</td>\n",
       "      <td>...</td>\n",
       "      <td>0.25300</td>\n",
       "      <td>-0.294</td>\n",
       "      <td>0.248</td>\n",
       "      <td>0.126</td>\n",
       "      <td>-0.0217</td>\n",
       "      <td>-1.6900</td>\n",
       "      <td>-0.144</td>\n",
       "      <td>-0.19</td>\n",
       "      <td>0.3530</td>\n",
       "      <td>-0.2450</td>\n",
       "    </tr>\n",
       "    <tr>\n",
       "      <th>C3L-00932.N</th>\n",
       "      <td>0.801</td>\n",
       "      <td>-0.429</td>\n",
       "      <td>-0.1710</td>\n",
       "      <td>1.790</td>\n",
       "      <td>0.0292</td>\n",
       "      <td>-0.703</td>\n",
       "      <td>-0.05350</td>\n",
       "      <td>-0.319</td>\n",
       "      <td>-0.580</td>\n",
       "      <td>0.348</td>\n",
       "      <td>...</td>\n",
       "      <td>-0.00145</td>\n",
       "      <td>0.520</td>\n",
       "      <td>-0.430</td>\n",
       "      <td>-0.926</td>\n",
       "      <td>-0.3280</td>\n",
       "      <td>0.0225</td>\n",
       "      <td>0.219</td>\n",
       "      <td>1.34</td>\n",
       "      <td>-0.0792</td>\n",
       "      <td>0.4270</td>\n",
       "    </tr>\n",
       "    <tr>\n",
       "      <th>C3L-00930.N</th>\n",
       "      <td>0.886</td>\n",
       "      <td>0.854</td>\n",
       "      <td>NaN</td>\n",
       "      <td>NaN</td>\n",
       "      <td>-0.5170</td>\n",
       "      <td>-0.841</td>\n",
       "      <td>-0.14100</td>\n",
       "      <td>0.811</td>\n",
       "      <td>-0.179</td>\n",
       "      <td>0.785</td>\n",
       "      <td>...</td>\n",
       "      <td>0.22700</td>\n",
       "      <td>NaN</td>\n",
       "      <td>-0.318</td>\n",
       "      <td>-0.587</td>\n",
       "      <td>NaN</td>\n",
       "      <td>-0.3910</td>\n",
       "      <td>0.426</td>\n",
       "      <td>2.37</td>\n",
       "      <td>0.3240</td>\n",
       "      <td>-0.0181</td>\n",
       "    </tr>\n",
       "  </tbody>\n",
       "</table>\n",
       "<p>5 rows × 10999 columns</p>\n",
       "</div>"
      ],
      "text/plain": [
       "Name          A1BG    A2M   A2ML1  A4GALT    AAAS   AACS    AADAT  AAED1  \\\n",
       "Patient_ID                                                                 \n",
       "C3L-00769.N  0.581 -0.784  0.4180  -0.123 -0.2490 -0.845 -0.12100  0.352   \n",
       "C3L-01248   -0.286 -0.511  1.0700  -0.459 -0.1520  0.154 -0.00265  0.205   \n",
       "C3N-00326   -0.579 -0.765 -0.0906   1.580 -0.0755  1.290 -0.02560 -0.590   \n",
       "C3L-00932.N  0.801 -0.429 -0.1710   1.790  0.0292 -0.703 -0.05350 -0.319   \n",
       "C3L-00930.N  0.886  0.854     NaN     NaN -0.5170 -0.841 -0.14100  0.811   \n",
       "\n",
       "Name         AAGAB   AAK1  ...   ZSWIM8  ZSWIM9   ZW10  ZWILCH   ZWINT  \\\n",
       "Patient_ID                 ...                                           \n",
       "C3L-00769.N -0.482  0.327  ...  0.14500     NaN -0.283  -0.454     NaN   \n",
       "C3L-01248   -0.137  0.437  ...  0.29400  -0.518 -0.132  -0.755 -0.0709   \n",
       "C3N-00326    0.457 -0.548  ...  0.25300  -0.294  0.248   0.126 -0.0217   \n",
       "C3L-00932.N -0.580  0.348  ... -0.00145   0.520 -0.430  -0.926 -0.3280   \n",
       "C3L-00930.N -0.179  0.785  ...  0.22700     NaN -0.318  -0.587     NaN   \n",
       "\n",
       "Name           ZXDC  ZYG11B   ZYX   ZZEF1    ZZZ3  \n",
       "Patient_ID                                         \n",
       "C3L-00769.N  0.5570   0.186  1.58 -0.1590  0.4000  \n",
       "C3L-01248   -0.3550   0.140  1.72  0.1780 -0.0803  \n",
       "C3N-00326   -1.6900  -0.144 -0.19  0.3530 -0.2450  \n",
       "C3L-00932.N  0.0225   0.219  1.34 -0.0792  0.4270  \n",
       "C3L-00930.N -0.3910   0.426  2.37  0.3240 -0.0181  \n",
       "\n",
       "[5 rows x 10999 columns]"
      ]
     },
     "execution_count": 8,
     "metadata": {},
     "output_type": "execute_result"
    }
   ],
   "source": [
    "df.sample(5)"
   ]
  },
  {
   "cell_type": "code",
   "execution_count": 9,
   "metadata": {},
   "outputs": [
    {
     "name": "stdout",
     "output_type": "stream",
     "text": [
      "Index([], dtype='object', name='Patient_ID')\n",
      "Index([], dtype='object', name='Name')\n"
     ]
    }
   ],
   "source": [
    "# Lets check for sample duplicates and gene duplicates\n",
    "print(df.index[df.index.duplicated()])\n",
    "print(df.columns[df.columns.duplicated()])\n",
    "\n",
    "# All good!"
   ]
  },
  {
   "cell_type": "code",
   "execution_count": 10,
   "metadata": {},
   "outputs": [
    {
     "data": {
      "text/plain": [
       "Index(['Sample_ID', 'Sample_Tumor_Normal', 'Proteomics_Tumor_Normal',\n",
       "       'Country', 'Histologic_Grade_FIGO', 'Myometrial_invasion_Specify',\n",
       "       'Histologic_type', 'Treatment_naive', 'Tumor_purity',\n",
       "       'Path_Stage_Primary_Tumor-pT', 'Path_Stage_Reg_Lymph_Nodes-pN',\n",
       "       'Clin_Stage_Dist_Mets-cM', 'Path_Stage_Dist_Mets-pM',\n",
       "       'tumor_Stage-Pathological', 'FIGO_stage', 'LVSI', 'BMI', 'Age',\n",
       "       'Diabetes', 'Race', 'Ethnicity', 'Gender', 'Tumor_Site',\n",
       "       'Tumor_Site_Other', 'Tumor_Focality', 'Tumor_Size_cm',\n",
       "       'Num_full_term_pregnancies'],\n",
       "      dtype='object', name='Name')"
      ]
     },
     "execution_count": 10,
     "metadata": {},
     "output_type": "execute_result"
    }
   ],
   "source": [
    "# This all the info we have on the tumors\n",
    "sample_annotations.columns"
   ]
  },
  {
   "cell_type": "markdown",
   "metadata": {},
   "source": [
    "# Getting to know the data: visualization\n",
    "\n",
    "This data is already column normalized (adjusted for coverage) and row normalized to some extent (everything is represented as the log2 of s fold change compared to a standard)\n",
    "\n",
    "Let's make sure the look of the data matches what we expect. "
   ]
  },
  {
   "cell_type": "code",
   "execution_count": 11,
   "metadata": {},
   "outputs": [
    {
     "data": {
      "text/plain": [
       "(144, 10999)"
      ]
     },
     "execution_count": 11,
     "metadata": {},
     "output_type": "execute_result"
    }
   ],
   "source": [
    "df.shape"
   ]
  },
  {
   "cell_type": "code",
   "execution_count": 12,
   "metadata": {},
   "outputs": [
    {
     "data": {
      "text/plain": [
       "<matplotlib.axes._subplots.AxesSubplot at 0x11f335a58>"
      ]
     },
     "execution_count": 12,
     "metadata": {},
     "output_type": "execute_result"
    },
    {
     "data": {
      "image/png": "[encoded data removed]",
      "text/plain": [
       "<Figure size 432x288 with 1 Axes>"
      ]
     },
     "metadata": {},
     "output_type": "display_data"
    }
   ],
   "source": [
    "sns.distplot(df.mean())\n",
    "plt.xlabel('log2 mean gene expression')\n",
    "plt.ylabel('proportion of samples')"
   ]
  },
  {
   "cell_type": "code",
   "execution_count": 15,
   "metadata": {},
   "outputs": [
    {
     "data": {
      "text/plain": [
       "Text(0, 0.5, 'proportion of samples')"
      ]
     },
     "execution_count": 15,
     "metadata": {},
     "output_type": "execute_result"
    },
    {
     "data": {
      "image/png": "[encoded data removed]",
      "text/plain": [
       "<Figure size 432x288 with 1 Axes>"
      ]
     },
     "metadata": {},
     "output_type": "display_data"
    }
   ],
   "source": [
    "for gene, col in df.sample(25, axis=1).iteritems():\n",
    "    sns.distplot(col)\n",
    "    \n",
    "plt.xlabel('log2 expression value')\n",
    "plt.ylabel('proportion of samples')\n",
    "# Row normalization looks good    "
   ]
  },
  {
   "cell_type": "code",
   "execution_count": 16,
   "metadata": {},
   "outputs": [
    {
     "data": {
      "text/plain": [
       "Text(0, 0.5, 'proportion of genes')"
      ]
     },
     "execution_count": 16,
     "metadata": {},
     "output_type": "execute_result"
    },
    {
     "data": {
      "image/png": "[encoded data removed]",
      "text/plain": [
       "<Figure size 432x288 with 1 Axes>"
      ]
     },
     "metadata": {},
     "output_type": "display_data"
    }
   ],
   "source": [
    "for sample, row in df.iterrows():\n",
    "    sns.distplot(row)\n",
    "plt.xlabel('log2 expression value')\n",
    "plt.ylabel('proportion of genes')"
   ]
  },
  {
   "cell_type": "code",
   "execution_count": 17,
   "metadata": {},
   "outputs": [
    {
     "data": {
      "text/plain": [
       "(0.0, 350.0)"
      ]
     },
     "execution_count": 17,
     "metadata": {},
     "output_type": "execute_result"
    },
    {
     "data": {
      "image/png": "[encoded data removed]",
      "text/plain": [
       "<Figure size 432x288 with 1 Axes>"
      ]
     },
     "metadata": {},
     "output_type": "display_data"
    }
   ],
   "source": [
    "# Let's check the distribution of missing values per gene\n",
    "sns.distplot(df.isnull().sum(), kde=False, bins=144)\n",
    "plt.ylim(0, 350)\n",
    "# Interesting pattern!"
   ]
  },
  {
   "cell_type": "code",
   "execution_count": 18,
   "metadata": {},
   "outputs": [
    {
     "data": {
      "text/html": [
       "<div>\n",
       "<style scoped>\n",
       "    .dataframe tbody tr th:only-of-type {\n",
       "        vertical-align: middle;\n",
       "    }\n",
       "\n",
       "    .dataframe tbody tr th {\n",
       "        vertical-align: top;\n",
       "    }\n",
       "\n",
       "    .dataframe thead th {\n",
       "        text-align: right;\n",
       "    }\n",
       "</style>\n",
       "<table border=\"1\" class=\"dataframe\">\n",
       "  <thead>\n",
       "    <tr style=\"text-align: right;\">\n",
       "      <th>Name</th>\n",
       "      <th>Proteomics_TMT_batch</th>\n",
       "      <th>Proteomics_TMT_plex</th>\n",
       "      <th>Proteomics_TMT_channel</th>\n",
       "      <th>Proteomics_Parent_Sample_IDs</th>\n",
       "      <th>Proteomics_Aliquot_ID</th>\n",
       "      <th>Proteomics_OCT</th>\n",
       "      <th>WXS_normal_sample_type</th>\n",
       "      <th>WXS_normal_filename</th>\n",
       "      <th>WXS_normal_UUID</th>\n",
       "      <th>WXS_tumor_sample_type</th>\n",
       "      <th>...</th>\n",
       "      <th>RNAseq_R1_sample_type</th>\n",
       "      <th>RNAseq_R1_filename</th>\n",
       "      <th>RNAseq_R1_UUID</th>\n",
       "      <th>RNAseq_R2_sample_type</th>\n",
       "      <th>RNAseq_R2_filename</th>\n",
       "      <th>RNAseq_R2_UUID</th>\n",
       "      <th>miRNAseq_sample_type</th>\n",
       "      <th>miRNAseq_UUID</th>\n",
       "      <th>Methylation_available</th>\n",
       "      <th>Methylation_quality</th>\n",
       "    </tr>\n",
       "    <tr>\n",
       "      <th>Patient_ID</th>\n",
       "      <th></th>\n",
       "      <th></th>\n",
       "      <th></th>\n",
       "      <th></th>\n",
       "      <th></th>\n",
       "      <th></th>\n",
       "      <th></th>\n",
       "      <th></th>\n",
       "      <th></th>\n",
       "      <th></th>\n",
       "      <th></th>\n",
       "      <th></th>\n",
       "      <th></th>\n",
       "      <th></th>\n",
       "      <th></th>\n",
       "      <th></th>\n",
       "      <th></th>\n",
       "      <th></th>\n",
       "      <th></th>\n",
       "      <th></th>\n",
       "      <th></th>\n",
       "    </tr>\n",
       "  </thead>\n",
       "  <tbody>\n",
       "    <tr>\n",
       "      <th>C3L-00006</th>\n",
       "      <td>2</td>\n",
       "      <td>5</td>\n",
       "      <td>128N</td>\n",
       "      <td>C3L-00006-01</td>\n",
       "      <td>CPT0001460012</td>\n",
       "      <td>No</td>\n",
       "      <td>Blood_normal</td>\n",
       "      <td>92b5e534-6cb0-43eb-8147-ce7d18526f5e_gdc_realn...</td>\n",
       "      <td>53dbb4d6-ce9d-4145-a33a-0c4d67e655df</td>\n",
       "      <td>Tumor</td>\n",
       "      <td>...</td>\n",
       "      <td>Tumor</td>\n",
       "      <td>170802_UNC31-K00269_0072_AHK3GVBBXX_TAGCTT_S17...</td>\n",
       "      <td>8a1efc47-1c29-417f-a425-cdbd09565dcb</td>\n",
       "      <td>Tumor</td>\n",
       "      <td>170802_UNC31-K00269_0072_AHK3GVBBXX_TAGCTT_S17...</td>\n",
       "      <td>8c3fe9b7-7acd-4867-8d9c-a8e5d1516eda</td>\n",
       "      <td>Tumor</td>\n",
       "      <td>37bcba98-1094-459e-83ae-c23a602416fb</td>\n",
       "      <td>YES</td>\n",
       "      <td>PASS</td>\n",
       "    </tr>\n",
       "    <tr>\n",
       "      <th>C3L-00008</th>\n",
       "      <td>4</td>\n",
       "      <td>16</td>\n",
       "      <td>130N</td>\n",
       "      <td>C3L-00008-01</td>\n",
       "      <td>CPT0001300009</td>\n",
       "      <td>No</td>\n",
       "      <td>Blood_normal</td>\n",
       "      <td>243bfb3c-d06b-4de5-a6c3-7fa7e2c5fb74_gdc_realn...</td>\n",
       "      <td>90257622-6bcc-43e7-a04f-f7397975d038</td>\n",
       "      <td>Tumor</td>\n",
       "      <td>...</td>\n",
       "      <td>Tumor</td>\n",
       "      <td>170802_UNC31-K00269_0072_AHK3GVBBXX_GGCTAC_S22...</td>\n",
       "      <td>555725e8-cba5-4676-9b0a-80100cbf9f47</td>\n",
       "      <td>Tumor</td>\n",
       "      <td>170802_UNC31-K00269_0072_AHK3GVBBXX_GGCTAC_S22...</td>\n",
       "      <td>15235b12-b67a-4678-acc4-ed03d642bd5e</td>\n",
       "      <td>Tumor</td>\n",
       "      <td>492b50d8-ec35-46e7-a65d-06512aaee394</td>\n",
       "      <td>YES</td>\n",
       "      <td>PASS</td>\n",
       "    </tr>\n",
       "    <tr>\n",
       "      <th>C3L-00032</th>\n",
       "      <td>1</td>\n",
       "      <td>2</td>\n",
       "      <td>131</td>\n",
       "      <td>C3L-00032-01</td>\n",
       "      <td>CPT0001420009</td>\n",
       "      <td>No</td>\n",
       "      <td>Blood_normal</td>\n",
       "      <td>97e153c1-7be4-4d7b-9d30-9545b56e6ddb_gdc_realn...</td>\n",
       "      <td>75a4369c-5247-427d-aabc-3157d08f2d8f</td>\n",
       "      <td>Tumor</td>\n",
       "      <td>...</td>\n",
       "      <td>Tumor</td>\n",
       "      <td>170802_UNC31-K00269_0072_AHK3GVBBXX_GTCCGC_S18...</td>\n",
       "      <td>9ae968f3-691d-4db3-9977-1ab3e5af9085</td>\n",
       "      <td>Tumor</td>\n",
       "      <td>170802_UNC31-K00269_0072_AHK3GVBBXX_GTCCGC_S18...</td>\n",
       "      <td>423b6b09-02aa-4f47-9241-f75c1dad1161</td>\n",
       "      <td>Tumor</td>\n",
       "      <td>1794ff56-db2d-4d1a-8758-cab7fe3d98c1</td>\n",
       "      <td>YES</td>\n",
       "      <td>PASS</td>\n",
       "    </tr>\n",
       "    <tr>\n",
       "      <th>C3L-00090</th>\n",
       "      <td>3</td>\n",
       "      <td>12</td>\n",
       "      <td>129C</td>\n",
       "      <td>C3L-00090-01</td>\n",
       "      <td>CPT0001140003</td>\n",
       "      <td>No</td>\n",
       "      <td>Blood_normal</td>\n",
       "      <td>7959d3f4-80cb-45f5-99ea-248ac2059877_gdc_realn...</td>\n",
       "      <td>d74368b7-1924-4c44-8079-1858f7ebf85a</td>\n",
       "      <td>Tumor</td>\n",
       "      <td>...</td>\n",
       "      <td>Tumor</td>\n",
       "      <td>170802_UNC31-K00269_0072_AHK3GVBBXX_GAGTGG_S10...</td>\n",
       "      <td>8ce5618d-9ff6-40f9-aeea-8d8e1633ae38</td>\n",
       "      <td>Tumor</td>\n",
       "      <td>170802_UNC31-K00269_0072_AHK3GVBBXX_GAGTGG_S10...</td>\n",
       "      <td>06d3fd4a-a623-4146-8500-4f1f17235253</td>\n",
       "      <td>Tumor</td>\n",
       "      <td>a6524c2d-d7dd-4629-980e-b45dbdc92c49</td>\n",
       "      <td>YES</td>\n",
       "      <td>PASS</td>\n",
       "    </tr>\n",
       "    <tr>\n",
       "      <th>C3L-00098</th>\n",
       "      <td>4</td>\n",
       "      <td>14</td>\n",
       "      <td>129N</td>\n",
       "      <td>C3L-00098-02</td>\n",
       "      <td>CPT0000980012</td>\n",
       "      <td>No</td>\n",
       "      <td>Blood_normal</td>\n",
       "      <td>0f46b9b0-6bff-4156-b505-669d72cc9428_gdc_realn...</td>\n",
       "      <td>b58bdcce-b807-4958-814d-3576dee3ae0c</td>\n",
       "      <td>Tumor</td>\n",
       "      <td>...</td>\n",
       "      <td>Tumor</td>\n",
       "      <td>170802_UNC31-K00269_0072_AHK3GVBBXX_TTAGGC_S8_...</td>\n",
       "      <td>31252ba9-e052-4b77-809a-f936379ae00c</td>\n",
       "      <td>Tumor</td>\n",
       "      <td>170802_UNC31-K00269_0072_AHK3GVBBXX_TTAGGC_S8_...</td>\n",
       "      <td>23be22ae-de50-4d74-a7c0-c890adbc662a</td>\n",
       "      <td>NaN</td>\n",
       "      <td>NaN</td>\n",
       "      <td>YES</td>\n",
       "      <td>PASS</td>\n",
       "    </tr>\n",
       "  </tbody>\n",
       "</table>\n",
       "<p>5 rows × 26 columns</p>\n",
       "</div>"
      ],
      "text/plain": [
       "Name        Proteomics_TMT_batch  Proteomics_TMT_plex Proteomics_TMT_channel  \\\n",
       "Patient_ID                                                                     \n",
       "C3L-00006                      2                    5                   128N   \n",
       "C3L-00008                      4                   16                   130N   \n",
       "C3L-00032                      1                    2                    131   \n",
       "C3L-00090                      3                   12                   129C   \n",
       "C3L-00098                      4                   14                   129N   \n",
       "\n",
       "Name       Proteomics_Parent_Sample_IDs Proteomics_Aliquot_ID Proteomics_OCT  \\\n",
       "Patient_ID                                                                     \n",
       "C3L-00006                  C3L-00006-01         CPT0001460012             No   \n",
       "C3L-00008                  C3L-00008-01         CPT0001300009             No   \n",
       "C3L-00032                  C3L-00032-01         CPT0001420009             No   \n",
       "C3L-00090                  C3L-00090-01         CPT0001140003             No   \n",
       "C3L-00098                  C3L-00098-02         CPT0000980012             No   \n",
       "\n",
       "Name       WXS_normal_sample_type  \\\n",
       "Patient_ID                          \n",
       "C3L-00006            Blood_normal   \n",
       "C3L-00008            Blood_normal   \n",
       "C3L-00032            Blood_normal   \n",
       "C3L-00090            Blood_normal   \n",
       "C3L-00098            Blood_normal   \n",
       "\n",
       "Name                                      WXS_normal_filename  \\\n",
       "Patient_ID                                                      \n",
       "C3L-00006   92b5e534-6cb0-43eb-8147-ce7d18526f5e_gdc_realn...   \n",
       "C3L-00008   243bfb3c-d06b-4de5-a6c3-7fa7e2c5fb74_gdc_realn...   \n",
       "C3L-00032   97e153c1-7be4-4d7b-9d30-9545b56e6ddb_gdc_realn...   \n",
       "C3L-00090   7959d3f4-80cb-45f5-99ea-248ac2059877_gdc_realn...   \n",
       "C3L-00098   0f46b9b0-6bff-4156-b505-669d72cc9428_gdc_realn...   \n",
       "\n",
       "Name                             WXS_normal_UUID WXS_tumor_sample_type  ...  \\\n",
       "Patient_ID                                                              ...   \n",
       "C3L-00006   53dbb4d6-ce9d-4145-a33a-0c4d67e655df                 Tumor  ...   \n",
       "C3L-00008   90257622-6bcc-43e7-a04f-f7397975d038                 Tumor  ...   \n",
       "C3L-00032   75a4369c-5247-427d-aabc-3157d08f2d8f                 Tumor  ...   \n",
       "C3L-00090   d74368b7-1924-4c44-8079-1858f7ebf85a                 Tumor  ...   \n",
       "C3L-00098   b58bdcce-b807-4958-814d-3576dee3ae0c                 Tumor  ...   \n",
       "\n",
       "Name       RNAseq_R1_sample_type  \\\n",
       "Patient_ID                         \n",
       "C3L-00006                  Tumor   \n",
       "C3L-00008                  Tumor   \n",
       "C3L-00032                  Tumor   \n",
       "C3L-00090                  Tumor   \n",
       "C3L-00098                  Tumor   \n",
       "\n",
       "Name                                       RNAseq_R1_filename  \\\n",
       "Patient_ID                                                      \n",
       "C3L-00006   170802_UNC31-K00269_0072_AHK3GVBBXX_TAGCTT_S17...   \n",
       "C3L-00008   170802_UNC31-K00269_0072_AHK3GVBBXX_GGCTAC_S22...   \n",
       "C3L-00032   170802_UNC31-K00269_0072_AHK3GVBBXX_GTCCGC_S18...   \n",
       "C3L-00090   170802_UNC31-K00269_0072_AHK3GVBBXX_GAGTGG_S10...   \n",
       "C3L-00098   170802_UNC31-K00269_0072_AHK3GVBBXX_TTAGGC_S8_...   \n",
       "\n",
       "Name                              RNAseq_R1_UUID RNAseq_R2_sample_type  \\\n",
       "Patient_ID                                                               \n",
       "C3L-00006   8a1efc47-1c29-417f-a425-cdbd09565dcb                 Tumor   \n",
       "C3L-00008   555725e8-cba5-4676-9b0a-80100cbf9f47                 Tumor   \n",
       "C3L-00032   9ae968f3-691d-4db3-9977-1ab3e5af9085                 Tumor   \n",
       "C3L-00090   8ce5618d-9ff6-40f9-aeea-8d8e1633ae38                 Tumor   \n",
       "C3L-00098   31252ba9-e052-4b77-809a-f936379ae00c                 Tumor   \n",
       "\n",
       "Name                                       RNAseq_R2_filename  \\\n",
       "Patient_ID                                                      \n",
       "C3L-00006   170802_UNC31-K00269_0072_AHK3GVBBXX_TAGCTT_S17...   \n",
       "C3L-00008   170802_UNC31-K00269_0072_AHK3GVBBXX_GGCTAC_S22...   \n",
       "C3L-00032   170802_UNC31-K00269_0072_AHK3GVBBXX_GTCCGC_S18...   \n",
       "C3L-00090   170802_UNC31-K00269_0072_AHK3GVBBXX_GAGTGG_S10...   \n",
       "C3L-00098   170802_UNC31-K00269_0072_AHK3GVBBXX_TTAGGC_S8_...   \n",
       "\n",
       "Name                              RNAseq_R2_UUID miRNAseq_sample_type  \\\n",
       "Patient_ID                                                              \n",
       "C3L-00006   8c3fe9b7-7acd-4867-8d9c-a8e5d1516eda                Tumor   \n",
       "C3L-00008   15235b12-b67a-4678-acc4-ed03d642bd5e                Tumor   \n",
       "C3L-00032   423b6b09-02aa-4f47-9241-f75c1dad1161                Tumor   \n",
       "C3L-00090   06d3fd4a-a623-4146-8500-4f1f17235253                Tumor   \n",
       "C3L-00098   23be22ae-de50-4d74-a7c0-c890adbc662a                  NaN   \n",
       "\n",
       "Name                               miRNAseq_UUID Methylation_available  \\\n",
       "Patient_ID                                                               \n",
       "C3L-00006   37bcba98-1094-459e-83ae-c23a602416fb                   YES   \n",
       "C3L-00008   492b50d8-ec35-46e7-a65d-06512aaee394                   YES   \n",
       "C3L-00032   1794ff56-db2d-4d1a-8758-cab7fe3d98c1                   YES   \n",
       "C3L-00090   a6524c2d-d7dd-4629-980e-b45dbdc92c49                   YES   \n",
       "C3L-00098                                    NaN                   YES   \n",
       "\n",
       "Name       Methylation_quality  \n",
       "Patient_ID                      \n",
       "C3L-00006                 PASS  \n",
       "C3L-00008                 PASS  \n",
       "C3L-00032                 PASS  \n",
       "C3L-00090                 PASS  \n",
       "C3L-00098                 PASS  \n",
       "\n",
       "[5 rows x 26 columns]"
      ]
     },
     "execution_count": 18,
     "metadata": {},
     "output_type": "execute_result"
    }
   ],
   "source": [
    "# This periodicity can be explained from the experimental design:\n",
    "\n",
    "exp_des = en.get_experimental_design()\n",
    "exp_des.head()"
   ]
  },
  {
   "cell_type": "code",
   "execution_count": 19,
   "metadata": {},
   "outputs": [
    {
     "data": {
      "text/plain": [
       "17    9\n",
       "8     9\n",
       "3     9\n",
       "4     9\n",
       "5     9\n",
       "6     9\n",
       "7     9\n",
       "9     9\n",
       "12    9\n",
       "14    9\n",
       "1     9\n",
       "16    8\n",
       "13    8\n",
       "15    8\n",
       "2     8\n",
       "10    7\n",
       "11    6\n",
       "Name: Proteomics_TMT_plex, dtype: int64"
      ]
     },
     "execution_count": 19,
     "metadata": {},
     "output_type": "execute_result"
    }
   ],
   "source": [
    "exp_des['Proteomics_TMT_plex'].value_counts()\n",
    "# This traslates to 9 instances of 17, 9 instances of 8, etc.\n",
    "# When a protein isn't detected it's not detected for that whole plex, hence the periodicity of the missing values.\n",
    "# NB This function is EXTREMELY helpful for making sure that categorical table has the correct values in it. "
   ]
  },
  {
   "cell_type": "code",
   "execution_count": 45,
   "metadata": {},
   "outputs": [
    {
     "name": "stdout",
     "output_type": "stream",
     "text": [
      "Just the vector:\n",
      "0     True\n",
      "1     True\n",
      "2    True \n",
      "3     True\n",
      "4     True\n",
      "dtype: object\n",
      "\n",
      "Value counts:\n",
      "True     2\n",
      "True     2\n",
      "True     1\n",
      "dtype: int64\n",
      "\n",
      "[<class 'bool'>, <class 'str'>, <class 'str'>]\n"
     ]
    }
   ],
   "source": [
    "# Quick tanget about value_counts()\n",
    "\n",
    "temp = pd.Series(['True', True, 'True ', True, 'True'])\n",
    "print('Just the vector:')\n",
    "print(temp)\n",
    "print()\n",
    "print('Value counts:')\n",
    "print(temp.value_counts())\n",
    "print()\n",
    "print([type(val) for val in temp.value_counts().index])"
   ]
  },
  {
   "cell_type": "markdown",
   "metadata": {},
   "source": [
    "# Defining biological questions to decide on a machine learning approach\n",
    "\n",
    "Endometrial cancer subtypes are defined from genomics--DNA sequencing--based on the pattern of mutations. Do these subtypes really represent functional differences at the protein level? Specifically focusing on the micro-satellite instability-high (MSI-H) subtype. \n",
    "+ Can we make a classifier that can predict the MSI-H subtype based on protein expression?\n",
    "\n",
    "We want to design an *in situ* hybridization (ISH) experiment that can find MSI-H cases. \n",
    "+ What protein expression features are the most predictive of MSI-H genomic phenotype?\n",
    "\n",
    "Let's use machine learning with sklearn to answer these questions"
   ]
  },
  {
   "cell_type": "markdown",
   "metadata": {},
   "source": [
    "# Scikit-learn\n",
    "\n",
    "## Preprocessing\n",
    "\n",
    "1. We don't want to predict on features withmany missing values, it is more likely to be over fitting. **Remove features with many missing values**. \n",
    "\n",
    "2. Features without much variation are unlikely to be informative, and will just add to the curse of dimensionality. **Remove features with low variance**. \n",
    "\n",
    "3. Most ML algorithms cannot tolerate any missing values. **Impute remaining missing values**"
   ]
  },
  {
   "cell_type": "code",
   "execution_count": 26,
   "metadata": {},
   "outputs": [],
   "source": [
    "data = df.copy()"
   ]
  },
  {
   "cell_type": "code",
   "execution_count": 90,
   "metadata": {},
   "outputs": [
    {
     "data": {
      "text/plain": [
       "(144, 10998)"
      ]
     },
     "execution_count": 90,
     "metadata": {},
     "output_type": "execute_result"
    }
   ],
   "source": [
    "data.shape"
   ]
  },
  {
   "cell_type": "code",
   "execution_count": 92,
   "metadata": {},
   "outputs": [],
   "source": [
    "data = data.dropna(thresh=int(len(data)*0.5), axis=1)"
   ]
  },
  {
   "cell_type": "code",
   "execution_count": 93,
   "metadata": {},
   "outputs": [],
   "source": [
    "model = impute.KNNImputer(n_neighbors=3)\n",
    "imputed_data = model.fit_transform(data)\n",
    "imputed_data = pd.DataFrame(imputed_data, index=data.index, columns=data.columns)"
   ]
  },
  {
   "cell_type": "code",
   "execution_count": 57,
   "metadata": {},
   "outputs": [],
   "source": [
    "sample_annotations.loc[sample_annotations['Genomics_subtype'].isnull(), 'Genomics_subtype'] = 'Normal tissue'"
   ]
  },
  {
   "cell_type": "code",
   "execution_count": 58,
   "metadata": {},
   "outputs": [
    {
     "data": {
      "text/plain": [
       "Text(57.355033791666685, 0.5, 'PC1 - 0.07 explained variance')"
      ]
     },
     "execution_count": 58,
     "metadata": {},
     "output_type": "execute_result"
    },
    {
     "data": {
      "image/png": "[encoded data removed]",
      "text/plain": [
       "<Figure size 498.855x360 with 1 Axes>"
      ]
     },
     "metadata": {},
     "output_type": "display_data"
    }
   ],
   "source": [
    "pca = decomposition.PCA(n_components=2)\n",
    "pca_transformed = pca.fit_transform(imputed_data)\n",
    "pca_transformed = pd.DataFrame(pca_transformed, index=imputed_data.index, columns=['PC1', 'PC2'])\n",
    "pca_transformed = pd.concat([pca_transformed, sample_annotations[['Genomics_subtype']]], axis=1)\n",
    "\n",
    "sns.lmplot(x='PC1', y='PC2', data=pca_transformed, hue='Genomics_subtype', fit_reg=False)\n",
    "plt.xlabel('PC1 - %.2f explained variance'  % pca.explained_variance_ratio_[0])\n",
    "plt.ylabel('PC1 - %.2f explained variance'  % pca.explained_variance_ratio_[1])"
   ]
  },
  {
   "cell_type": "code",
   "execution_count": 68,
   "metadata": {},
   "outputs": [
    {
     "data": {
      "text/plain": [
       "Text(53.179157055555564, 0.5, 'PC1 - 0.09 explained variance')"
      ]
     },
     "execution_count": 68,
     "metadata": {},
     "output_type": "execute_result"
    },
    {
     "data": {
      "image/png": "[encoded data removed]",
      "text/plain": [
       "<Figure size 476.98x360 with 1 Axes>"
      ]
     },
     "metadata": {},
     "output_type": "display_data"
    }
   ],
   "source": [
    "# Removing normal samples. They're adding HUGE variation in the data without a lot of information. \n",
    "tumors = imputed_data.loc[sample_types['Tumor']]\n",
    "pca = decomposition.PCA(n_components=2)\n",
    "pca_transformed = pca.fit_transform(tumors)\n",
    "pca_transformed = pd.DataFrame(pca_transformed, index=tumors.index, columns=['PC1', 'PC2'])\n",
    "pca_transformed = pd.concat([pca_transformed, sample_annotations[['Genomics_subtype']]], join='inner', axis=1)\n",
    "\n",
    "sns.lmplot(x='PC1', y='PC2', data=pca_transformed, hue='Genomics_subtype', fit_reg=False)\n",
    "plt.xlabel('PC1 - %.2f explained variance'  % pca.explained_variance_ratio_[0])\n",
    "plt.ylabel('PC1 - %.2f explained variance'  % pca.explained_variance_ratio_[1])"
   ]
  },
  {
   "cell_type": "markdown",
   "metadata": {},
   "source": [
    "### PCA doesn't make this problem look easy. "
   ]
  },
  {
   "cell_type": "code",
   "execution_count": 119,
   "metadata": {},
   "outputs": [],
   "source": [
    "# Let's go back and make sure that the TUMORS have at least 50% values there. \n",
    "\n",
    "temp = data.loc[sample_types['Tumor']].dropna(thresh=int(len(data)*0.5), axis=1)\n",
    "\n",
    "model = impute.KNNImputer(n_neighbors=3)\n",
    "tumors = model.fit_transform(temp)\n",
    "tumors = pd.DataFrame(tumors, index=temp.index, columns=temp.columns)"
   ]
  },
  {
   "cell_type": "code",
   "execution_count": 121,
   "metadata": {},
   "outputs": [
    {
     "data": {
      "text/plain": [
       "[<matplotlib.lines.Line2D at 0x12fa54da0>]"
      ]
     },
     "execution_count": 121,
     "metadata": {},
     "output_type": "execute_result"
    },
    {
     "data": {
      "image/png": "[encoded data removed]",
      "text/plain": [
       "<Figure size 432x288 with 1 Axes>"
      ]
     },
     "metadata": {},
     "output_type": "display_data"
    }
   ],
   "source": [
    "ax = sns.distplot(tumors.std())\n",
    "plt.plot([0.3, 0.3], ax.get_ylim())"
   ]
  },
  {
   "cell_type": "code",
   "execution_count": 122,
   "metadata": {},
   "outputs": [],
   "source": [
    "# let's take genes with a std > 0.3\n",
    "\n",
    "tumors = tumors.loc[:, (tumors.std()> 0.3)]"
   ]
  },
  {
   "cell_type": "code",
   "execution_count": 123,
   "metadata": {},
   "outputs": [
    {
     "data": {
      "text/plain": [
       "(95, 7357)"
      ]
     },
     "execution_count": 123,
     "metadata": {},
     "output_type": "execute_result"
    }
   ],
   "source": [
    "tumors.shape"
   ]
  },
  {
   "cell_type": "markdown",
   "metadata": {},
   "source": [
    "### Let's see how well logitistic regression does. "
   ]
  },
  {
   "cell_type": "code",
   "execution_count": 124,
   "metadata": {},
   "outputs": [
    {
     "data": {
      "text/plain": [
       "Patient_ID\n",
       "C3L-00006     True\n",
       "C3L-00008     True\n",
       "C3L-00032    False\n",
       "C3L-00090    False\n",
       "C3L-00098    False\n",
       "             ...  \n",
       "C3N-01520     True\n",
       "C3N-01521    False\n",
       "C3N-01537    False\n",
       "C3N-01802    False\n",
       "C3N-01825    False\n",
       "Name: Genomics_subtype, Length: 95, dtype: bool"
      ]
     },
     "execution_count": 124,
     "metadata": {},
     "output_type": "execute_result"
    }
   ],
   "source": [
    "labels = (sample_annotations.loc[tumors.index, 'Genomics_subtype'] == 'MSI-H')\n",
    "labels"
   ]
  },
  {
   "cell_type": "code",
   "execution_count": 125,
   "metadata": {},
   "outputs": [
    {
     "name": "stdout",
     "output_type": "stream",
     "text": [
      "(76, 7357)\n",
      "(19, 7357)\n",
      "(76,)\n",
      "(19,)\n"
     ]
    }
   ],
   "source": [
    "X_train, X_test, y_train, y_test = model_selection.train_test_split(\n",
    "    tumors, labels, test_size=0.2\n",
    ")\n",
    "print(X_train.shape)\n",
    "print(X_test.shape)\n",
    "print(y_train.shape)\n",
    "print(y_test.shape)"
   ]
  },
  {
   "cell_type": "code",
   "execution_count": 126,
   "metadata": {},
   "outputs": [
    {
     "name": "stdout",
     "output_type": "stream",
     "text": [
      "0.9473684210526315\n"
     ]
    }
   ],
   "source": [
    "# create a new logistic regression model\n",
    "# There are many different solvers: \n",
    "# .  https://scikit-learn.org/stable/modules/generated/sklearn.linear_model.LogisticRegression.html\n",
    "#   They all have their strenghts/weaknesses\n",
    "classifier = linear_model.LogisticRegression(random_state=0, solver='lbfgs')\n",
    "\n",
    "\n",
    "# train the model using the training data\n",
    "classifier.fit(X_train, y_train)\n",
    "\n",
    "\n",
    "# now that the model has been trained, predict the classes in the test set\n",
    "pred = classifier.predict(X_test)\n",
    "\n",
    "\n",
    "# predict outputs labels, decision_function outputs the confidence scores\n",
    "y_scores = classifier.decision_function(X_test)\n",
    "\n",
    "\n",
    "# print the accuracy sum(predicted == actual) / len(labels)\n",
    "print(accuracy_score(y_test, pred))"
   ]
  },
  {
   "cell_type": "code",
   "execution_count": 127,
   "metadata": {},
   "outputs": [
    {
     "data": {
      "text/plain": [
       "0.9473684210526315"
      ]
     },
     "execution_count": 127,
     "metadata": {},
     "output_type": "execute_result"
    }
   ],
   "source": [
    "# scoring the model will return the accuracy\n",
    "# this uses the test features and test labels\n",
    "classifier.score(X_test, y_test)"
   ]
  },
  {
   "cell_type": "code",
   "execution_count": 131,
   "metadata": {},
   "outputs": [],
   "source": [
    "# the roc curve function takes the true labels and confidence scores\n",
    "#  do not use the predicted labels as this will not calculate the correct curve\n",
    "fpr, tpr, _ = roc_curve(y_test, y_scores)\n",
    "# auc is caculated using the false positive rate and true positive rate\n",
    "roc_auc = auc(fpr, tpr)"
   ]
  },
  {
   "cell_type": "markdown",
   "metadata": {},
   "source": [
    "# Visualize results"
   ]
  },
  {
   "cell_type": "code",
   "execution_count": 132,
   "metadata": {},
   "outputs": [
    {
     "data": {
      "image/png": "[encoded data removed]",
      "text/plain": [
       "<Figure size 432x288 with 1 Axes>"
      ]
     },
     "metadata": {},
     "output_type": "display_data"
    }
   ],
   "source": [
    "# FROM SKLEARN DOCS: https://scikit-learn.org/stable/auto_examples/model_selection/plot_roc.html#sphx-glr-auto-examples-model-selection-plot-roc-py\n",
    "# Plot the ROC curve using the previously calculated values\n",
    "\n",
    "plt.figure()\n",
    "lw = 2\n",
    "plt.plot(fpr, tpr, color='blue',\n",
    "         lw=lw, label='ROC curve (area = %0.2f)' % roc_auc)\n",
    "\n",
    "plt.xlim([0.0, 1.0])\n",
    "plt.ylim([0.0, 1.05])\n",
    "plt.xlabel('False Positive Rate')\n",
    "plt.ylabel('True Positive Rate')\n",
    "plt.title('Receiver operating characteristic example')\n",
    "plt.legend(loc=\"lower right\")\n",
    "plt.show()"
   ]
  },
  {
   "cell_type": "markdown",
   "metadata": {},
   "source": [
    "https://scikit-learn.org/stable/auto_examples/model_selection/plot_roc.html\n",
    "\n",
    "Now we have a classifier that can predict MSI-H status from protein expression data. That's great! "
   ]
  },
  {
   "cell_type": "markdown",
   "metadata": {},
   "source": [
    "# Question 2: what features are the most predictive?\n",
    "\n",
    "We could use these for a ISH experiment"
   ]
  },
  {
   "cell_type": "code",
   "execution_count": 135,
   "metadata": {},
   "outputs": [
    {
     "data": {
      "text/plain": [
       "(95, 7357)"
      ]
     },
     "execution_count": 135,
     "metadata": {},
     "output_type": "execute_result"
    }
   ],
   "source": [
    "tumors.shape"
   ]
  },
  {
   "cell_type": "code",
   "execution_count": 134,
   "metadata": {},
   "outputs": [
    {
     "data": {
      "text/plain": [
       "(1, 7357)"
      ]
     },
     "execution_count": 134,
     "metadata": {},
     "output_type": "execute_result"
    }
   ],
   "source": [
    "classifier.coef_.shape"
   ]
  },
  {
   "cell_type": "code",
   "execution_count": 146,
   "metadata": {},
   "outputs": [
    {
     "data": {
      "text/html": [
       "<div>\n",
       "<style scoped>\n",
       "    .dataframe tbody tr th:only-of-type {\n",
       "        vertical-align: middle;\n",
       "    }\n",
       "\n",
       "    .dataframe tbody tr th {\n",
       "        vertical-align: top;\n",
       "    }\n",
       "\n",
       "    .dataframe thead th {\n",
       "        text-align: right;\n",
       "    }\n",
       "</style>\n",
       "<table border=\"1\" class=\"dataframe\">\n",
       "  <thead>\n",
       "    <tr style=\"text-align: right;\">\n",
       "      <th></th>\n",
       "      <th>coefficients</th>\n",
       "    </tr>\n",
       "    <tr>\n",
       "      <th>Name</th>\n",
       "      <th></th>\n",
       "    </tr>\n",
       "  </thead>\n",
       "  <tbody>\n",
       "    <tr>\n",
       "      <th>MLH1</th>\n",
       "      <td>-0.102271</td>\n",
       "    </tr>\n",
       "    <tr>\n",
       "      <th>WIF1</th>\n",
       "      <td>-0.088200</td>\n",
       "    </tr>\n",
       "    <tr>\n",
       "      <th>PMS2</th>\n",
       "      <td>-0.077638</td>\n",
       "    </tr>\n",
       "    <tr>\n",
       "      <th>EPM2AIP1</th>\n",
       "      <td>-0.071198</td>\n",
       "    </tr>\n",
       "    <tr>\n",
       "      <th>PMS1</th>\n",
       "      <td>-0.065207</td>\n",
       "    </tr>\n",
       "    <tr>\n",
       "      <th>...</th>\n",
       "      <td>...</td>\n",
       "    </tr>\n",
       "    <tr>\n",
       "      <th>ACTA1</th>\n",
       "      <td>0.057541</td>\n",
       "    </tr>\n",
       "    <tr>\n",
       "      <th>ADH1C</th>\n",
       "      <td>0.061982</td>\n",
       "    </tr>\n",
       "    <tr>\n",
       "      <th>S100A1</th>\n",
       "      <td>0.071931</td>\n",
       "    </tr>\n",
       "    <tr>\n",
       "      <th>AKR1B10</th>\n",
       "      <td>0.078095</td>\n",
       "    </tr>\n",
       "    <tr>\n",
       "      <th>RPL22L1</th>\n",
       "      <td>0.193599</td>\n",
       "    </tr>\n",
       "  </tbody>\n",
       "</table>\n",
       "<p>7357 rows × 1 columns</p>\n",
       "</div>"
      ],
      "text/plain": [
       "          coefficients\n",
       "Name                  \n",
       "MLH1         -0.102271\n",
       "WIF1         -0.088200\n",
       "PMS2         -0.077638\n",
       "EPM2AIP1     -0.071198\n",
       "PMS1         -0.065207\n",
       "...                ...\n",
       "ACTA1         0.057541\n",
       "ADH1C         0.061982\n",
       "S100A1        0.071931\n",
       "AKR1B10       0.078095\n",
       "RPL22L1       0.193599\n",
       "\n",
       "[7357 rows x 1 columns]"
      ]
     },
     "execution_count": 146,
     "metadata": {},
     "output_type": "execute_result"
    }
   ],
   "source": [
    "coefficients = pd.DataFrame(classifier.coef_.T, index=tumors.columns, columns=['coefficients'])\n",
    "coefficients.sort_values('coefficients')\n",
    "# This ordered list of genes would be a good input for a GSEA analysis. "
   ]
  },
  {
   "cell_type": "code",
   "execution_count": 172,
   "metadata": {},
   "outputs": [
    {
     "name": "stdout",
     "output_type": "stream",
     "text": [
      "['MLH1', 'WIF1', 'PMS2', 'EPM2AIP1', 'PMS1', 'YBX2', 'TUBB2B', 'THSD4', 'VSNL1', 'LDAH']\n",
      "['SERPINA5', 'HAPLN3', 'CALB1', 'COPS9', 'GPX2', 'ACTA1', 'ADH1C', 'S100A1', 'AKR1B10', 'RPL22L1']\n"
     ]
    }
   ],
   "source": [
    "top_negative_predictors = list(coefficients.sort_values('coefficients').index[0:10])\n",
    "print(top_negative_predictors)\n",
    "\n",
    "top_positive_predictors = list(coefficients.sort_values('coefficients').index[-10:])\n",
    "print(top_positive_predictors)\n",
    "\n",
    "genes_to_show = top_negative_predictors + top_positive_predictors"
   ]
  },
  {
   "cell_type": "code",
   "execution_count": 173,
   "metadata": {},
   "outputs": [
    {
     "name": "stdout",
     "output_type": "stream",
     "text": [
      "dict_keys(['MSI-H', 'CNV_low', 'CNV_high', 'POLE', 'Normal tissue'])\n"
     ]
    },
    {
     "data": {
      "text/plain": [
       "<seaborn.matrix.ClusterGrid at 0x14b1bcb70>"
      ]
     },
     "execution_count": 173,
     "metadata": {},
     "output_type": "execute_result"
    },
    {
     "data": {
      "image/png": "[encoded data removed]",
      "text/plain": [
       "<Figure size 360x72 with 1 Axes>"
      ]
     },
     "metadata": {},
     "output_type": "display_data"
    },
    {
     "data": {
      "image/png": "[encoded data removed]",
      "text/plain": [
       "<Figure size 720x720 with 5 Axes>"
      ]
     },
     "metadata": {},
     "output_type": "display_data"
    }
   ],
   "source": [
    "cmap = sns.diverging_palette(220, 10, as_cmap=True)\n",
    "cmap.set_bad('#BDBDBD')\n",
    "cmap.set_over('#9E031A')\n",
    "cmap.set_under('#0C4A60')\n",
    "\n",
    "subtypes = sample_annotations['Genomics_subtype'].unique()\n",
    "colors = dict(zip(subtypes, sns.color_palette(n_colors=len(subtypes)).as_hex()))\n",
    "\n",
    "col_order = sample_annotations['Genomics_subtype'].sort_values().index\n",
    "\n",
    "print(colors.keys())\n",
    "sns.palplot(colors.values())\n",
    "sns.clustermap(\n",
    "    imputed_data.loc[col_order, genes_to_show],\n",
    "    row_colors=sample_annotations[['Genomics_subtype']].replace(colors), \n",
    "    col_cluster=False, \n",
    "    row_cluster=False,\n",
    "    cmap=cmap,\n",
    "    vmin=-2.5, vmax=2.5,\n",
    ")"
   ]
  },
  {
   "cell_type": "markdown",
   "metadata": {},
   "source": [
    "## Cool! We re-discovered MLH1 missing expression as a marker. RPL22L1 looks like a good positive marker. "
   ]
  }
 ],
 "metadata": {
  "kernelspec": {
   "display_name": "Python 3",
   "language": "python",
   "name": "python3"
  },
  "language_info": {
   "codemirror_mode": {
    "name": "ipython",
    "version": 3
   },
   "file_extension": ".py",
   "mimetype": "text/x-python",
   "name": "python",
   "nbconvert_exporter": "python",
   "pygments_lexer": "ipython3",
   "version": "3.7.0"
  }
 },
 "nbformat": 4,
 "nbformat_minor": 4
}
