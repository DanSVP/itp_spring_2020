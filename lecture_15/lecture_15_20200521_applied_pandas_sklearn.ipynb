{
 "cells": [
  {
   "cell_type": "markdown",
   "metadata": {},
   "source": [
    "# Python 2020 class\n",
    "## Applied python/pandas/numpy/seaborn: Machine learning with proteomics\n",
    "\n",
    "Lecture 15, Lili Blumenberg, May 19th, 2020. \n",
    "\n",
    "Notebook and data available at: https://github.com/MarkGrivainis/itp_spring_2020/tree/lecture_15\n",
    "\n",
    "Environment requirements:\n",
    "pandas  \n",
    "numpy  \n",
    "scipy  \n",
    "seaborn  \n",
    "matplotlib  \n",
    "scikit-learn  \n",
    "cptac  \n",
    "\n",
    "We will be exploring an normalized semi-quantitative proteomics data set from endometrial cancer. The experiment is RNA-seq from mouse T-cells that have been challenged different numbers of times with peptides to simulate exhaustion. "
   ]
  },
  {
   "cell_type": "markdown",
   "metadata": {},
   "source": [
    "### First lets grab the notebook:\n",
    "```bash\n",
    "git add .\n",
    "git commit -m ‘my changes’\n",
    "git fetch\n",
    "git checkout lecture/14\n",
    "```"
   ]
  },
  {
   "cell_type": "code",
   "execution_count": 40,
   "metadata": {},
   "outputs": [],
   "source": [
    "# Import the standard things we will need\n",
    "import pandas as pd\n",
    "import numpy as np\n",
    "import matplotlib.pyplot as plt\n",
    "import seaborn as sns\n",
    "from sklearn import decomposition, model_selection, preprocessing, linear_model, impute\n",
    "from sklearn.metrics import accuracy_score, roc_curve, auc, confusion_matrix\n",
    "\n",
    "\n",
    "# Make the seaborn plots a little prettier, make the font arial, \n",
    "# the backgrounds style white and the default fonts a little bigger. \n",
    "sns.set(font = 'arial', style = 'white', font_scale = 1.3)\n",
    "\n",
    "# Prevent bits of the figures from getting cut off when saving. \n",
    "# This is my single favorite line of code. \n",
    "import matplotlib\n",
    "matplotlib.rcParams.update({'savefig.bbox': 'tight'})"
   ]
  },
  {
   "cell_type": "markdown",
   "metadata": {},
   "source": [
    "# Import data from CPTAC"
   ]
  },
  {
   "cell_type": "markdown",
   "metadata": {},
   "source": [
    "We are going to get data in the way described by the tutorials for this package here:  \n",
    "https://github.com/PayneLab/cptac/tree/master/docs\n",
    "\n",
    "These datasets come as pandas dataframes, beautifully normalized and processed. "
   ]
  },
  {
   "cell_type": "code",
   "execution_count": 41,
   "metadata": {},
   "outputs": [
    {
     "name": "stdout",
     "output_type": "stream",
     "text": [
      "Available datasets:\n",
      "\n",
      "Dataset name                               Description     Data reuse status  \\\n",
      "                                                                               \n",
      "Brca                                     breast cancer       no restrictions   \n",
      "Ccrcc         clear cell renal cell carcinoma (kidney)       no restrictions   \n",
      "Colon                                colorectal cancer       no restrictions   \n",
      "Endometrial            endometrial carcinoma (uterine)       no restrictions   \n",
      "Gbm                                       glioblastoma   publication embargo   \n",
      "Hnscc                                    head and neck  password access only   \n",
      "Lscc                      lung squamous cell carcinoma  password access only   \n",
      "Luad                               lung adenocarcinoma   publication embargo   \n",
      "Ovarian               high grade serous ovarian cancer       no restrictions   \n",
      "\n",
      "Dataset name                              Publication link  \n",
      "                                                            \n",
      "Brca                                           unpublished  \n",
      "Ccrcc         https://www.ncbi.nlm.nih.gov/pubmed/31675502  \n",
      "Colon         https://www.ncbi.nlm.nih.gov/pubmed/31031003  \n",
      "Endometrial   https://www.ncbi.nlm.nih.gov/pubmed/32059776  \n",
      "Gbm                                            unpublished  \n",
      "Hnscc                                          unpublished  \n",
      "Lscc                                           unpublished  \n",
      "Luad                                           unpublished  \n",
      "Ovarian       https://www.ncbi.nlm.nih.gov/pubmed/27372738  \n"
     ]
    }
   ],
   "source": [
    "import cptac\n",
    "cptac.list_datasets()"
   ]
  },
  {
   "cell_type": "markdown",
   "metadata": {},
   "source": [
    "# Get some Data"
   ]
  },
  {
   "cell_type": "code",
   "execution_count": 42,
   "metadata": {},
   "outputs": [
    {
     "name": "stdout",
     "output_type": "stream",
     "text": [
      "                                                \r"
     ]
    }
   ],
   "source": [
    "cptac.download(dataset=\"endometrial\")\n",
    "en = cptac.Endometrial()"
   ]
  },
  {
   "cell_type": "code",
   "execution_count": 4,
   "metadata": {},
   "outputs": [
    {
     "data": {
      "text/plain": [
       "dict_keys(['Adjacent_normal', 'Enriched_normal', 'Myometrium_normal', 'Tumor'])"
      ]
     },
     "execution_count": 4,
     "metadata": {},
     "output_type": "execute_result"
    }
   ],
   "source": [
    "clin_data = en.get_clinical()\n",
    "sample_types = clin_data.groupby('Proteomics_Tumor_Normal').groups\n",
    "sample_types.keys()"
   ]
  },
  {
   "cell_type": "code",
   "execution_count": 73,
   "metadata": {},
   "outputs": [
    {
     "data": {
      "text/plain": [
       "Index(['C3L-00006', 'C3L-00008', 'C3L-00032', 'C3L-00090', 'C3L-00098',\n",
       "       'C3L-00136', 'C3L-00137', 'C3L-00139', 'C3L-00143', 'C3L-00145',\n",
       "       'C3L-00156', 'C3L-00161', 'C3L-00358', 'C3L-00361', 'C3L-00362',\n",
       "       'C3L-00413', 'C3L-00449', 'C3L-00563', 'C3L-00586', 'C3L-00601',\n",
       "       'C3L-00605', 'C3L-00767', 'C3L-00769', 'C3L-00770', 'C3L-00771',\n",
       "       'C3L-00780', 'C3L-00781', 'C3L-00905', 'C3L-00918', 'C3L-00921',\n",
       "       'C3L-00932', 'C3L-00942', 'C3L-00946', 'C3L-00947', 'C3L-00949',\n",
       "       'C3L-00961', 'C3L-00963', 'C3L-01246', 'C3L-01248', 'C3L-01249',\n",
       "       'C3L-01252', 'C3L-01256', 'C3L-01257', 'C3L-01275', 'C3L-01282',\n",
       "       'C3L-01304', 'C3L-01307', 'C3L-01311', 'C3L-01312', 'C3L-01744',\n",
       "       'C3L-01925', 'C3N-00151', 'C3N-00200', 'C3N-00321', 'C3N-00322',\n",
       "       'C3N-00323', 'C3N-00324', 'C3N-00326', 'C3N-00328', 'C3N-00333',\n",
       "       'C3N-00334', 'C3N-00335', 'C3N-00337', 'C3N-00339', 'C3N-00340',\n",
       "       'C3N-00377', 'C3N-00379', 'C3N-00383', 'C3N-00386', 'C3N-00388',\n",
       "       'C3N-00389', 'C3N-00729', 'C3N-00734', 'C3N-00743', 'C3N-00836',\n",
       "       'C3N-00847', 'C3N-00848', 'C3N-00850', 'C3N-00858', 'C3N-00866',\n",
       "       'C3N-00880', 'C3N-01003', 'C3N-01211', 'C3N-01212', 'C3N-01217',\n",
       "       'C3N-01219', 'C3N-01267', 'C3N-01346', 'C3N-01349', 'C3N-01510',\n",
       "       'C3N-01520', 'C3N-01521', 'C3N-01537', 'C3N-01802', 'C3N-01825'],\n",
       "      dtype='object', name='Patient_ID')"
      ]
     },
     "execution_count": 73,
     "metadata": {},
     "output_type": "execute_result"
    }
   ],
   "source": [
    "sample_types['Tumor']"
   ]
  },
  {
   "cell_type": "code",
   "execution_count": 5,
   "metadata": {},
   "outputs": [],
   "source": [
    "sample_annotations = en.get_derived_molecular()\n",
    "df = en.get_proteomics()"
   ]
  },
  {
   "cell_type": "code",
   "execution_count": 6,
   "metadata": {},
   "outputs": [
    {
     "data": {
      "text/html": [
       "<div>\n",
       "<style scoped>\n",
       "    .dataframe tbody tr th:only-of-type {\n",
       "        vertical-align: middle;\n",
       "    }\n",
       "\n",
       "    .dataframe tbody tr th {\n",
       "        vertical-align: top;\n",
       "    }\n",
       "\n",
       "    .dataframe thead th {\n",
       "        text-align: right;\n",
       "    }\n",
       "</style>\n",
       "<table border=\"1\" class=\"dataframe\">\n",
       "  <thead>\n",
       "    <tr style=\"text-align: right;\">\n",
       "      <th>Name</th>\n",
       "      <th>Estrogen_Receptor</th>\n",
       "      <th>Estrogen_Receptor_%</th>\n",
       "      <th>Progesterone_Receptor</th>\n",
       "      <th>Progesterone_Receptor_%</th>\n",
       "      <th>MLH1</th>\n",
       "      <th>MLH2</th>\n",
       "      <th>MSH6</th>\n",
       "      <th>PMS2</th>\n",
       "      <th>p53</th>\n",
       "      <th>Other_IHC_specify</th>\n",
       "      <th>...</th>\n",
       "      <th>Log2_variant_total</th>\n",
       "      <th>Log2_SNP_total</th>\n",
       "      <th>Log2_INDEL_total</th>\n",
       "      <th>Genomics_subtype</th>\n",
       "      <th>Mutation_signature_C&gt;A</th>\n",
       "      <th>Mutation_signature_C&gt;G</th>\n",
       "      <th>Mutation_signature_C&gt;T</th>\n",
       "      <th>Mutation_signature_T&gt;C</th>\n",
       "      <th>Mutation_signature_T&gt;A</th>\n",
       "      <th>Mutation_signature_T&gt;G</th>\n",
       "    </tr>\n",
       "    <tr>\n",
       "      <th>Patient_ID</th>\n",
       "      <th></th>\n",
       "      <th></th>\n",
       "      <th></th>\n",
       "      <th></th>\n",
       "      <th></th>\n",
       "      <th></th>\n",
       "      <th></th>\n",
       "      <th></th>\n",
       "      <th></th>\n",
       "      <th></th>\n",
       "      <th></th>\n",
       "      <th></th>\n",
       "      <th></th>\n",
       "      <th></th>\n",
       "      <th></th>\n",
       "      <th></th>\n",
       "      <th></th>\n",
       "      <th></th>\n",
       "      <th></th>\n",
       "      <th></th>\n",
       "      <th></th>\n",
       "    </tr>\n",
       "  </thead>\n",
       "  <tbody>\n",
       "    <tr>\n",
       "      <th>C3L-00006</th>\n",
       "      <td>Cannot be determined</td>\n",
       "      <td>NaN</td>\n",
       "      <td>Cannot be determined</td>\n",
       "      <td>NaN</td>\n",
       "      <td>Intact nuclear expression</td>\n",
       "      <td>Intact nuclear expression</td>\n",
       "      <td>Loss of nuclear expression</td>\n",
       "      <td>Intact nuclear expression</td>\n",
       "      <td>Cannot be determined</td>\n",
       "      <td>NaN</td>\n",
       "      <td>...</td>\n",
       "      <td>10.062046</td>\n",
       "      <td>9.984418</td>\n",
       "      <td>5.832890</td>\n",
       "      <td>MSI-H</td>\n",
       "      <td>8.300395</td>\n",
       "      <td>1.482213</td>\n",
       "      <td>72.529644</td>\n",
       "      <td>14.426877</td>\n",
       "      <td>1.383399</td>\n",
       "      <td>1.877470</td>\n",
       "    </tr>\n",
       "    <tr>\n",
       "      <th>C3L-00008</th>\n",
       "      <td>Cannot be determined</td>\n",
       "      <td>NaN</td>\n",
       "      <td>Cannot be determined</td>\n",
       "      <td>NaN</td>\n",
       "      <td>Intact nuclear expression</td>\n",
       "      <td>Intact nuclear expression</td>\n",
       "      <td>Intact nuclear expression</td>\n",
       "      <td>Loss of nuclear expression</td>\n",
       "      <td>Cannot be determined</td>\n",
       "      <td>NaN</td>\n",
       "      <td>...</td>\n",
       "      <td>8.861087</td>\n",
       "      <td>8.330917</td>\n",
       "      <td>7.169925</td>\n",
       "      <td>MSI-H</td>\n",
       "      <td>14.641745</td>\n",
       "      <td>2.803738</td>\n",
       "      <td>64.485981</td>\n",
       "      <td>15.264798</td>\n",
       "      <td>0.934579</td>\n",
       "      <td>1.869159</td>\n",
       "    </tr>\n",
       "    <tr>\n",
       "      <th>C3L-00032</th>\n",
       "      <td>Cannot be determined</td>\n",
       "      <td>NaN</td>\n",
       "      <td>Cannot be determined</td>\n",
       "      <td>NaN</td>\n",
       "      <td>Intact nuclear expression</td>\n",
       "      <td>Intact nuclear expression</td>\n",
       "      <td>Intact nuclear expression</td>\n",
       "      <td>Intact nuclear expression</td>\n",
       "      <td>Cannot be determined</td>\n",
       "      <td>NaN</td>\n",
       "      <td>...</td>\n",
       "      <td>5.321928</td>\n",
       "      <td>5.000000</td>\n",
       "      <td>3.169925</td>\n",
       "      <td>CNV_low</td>\n",
       "      <td>16.129032</td>\n",
       "      <td>3.225806</td>\n",
       "      <td>70.967742</td>\n",
       "      <td>3.225806</td>\n",
       "      <td>3.225806</td>\n",
       "      <td>3.225806</td>\n",
       "    </tr>\n",
       "    <tr>\n",
       "      <th>C3L-00090</th>\n",
       "      <td>Cannot be determined</td>\n",
       "      <td>NaN</td>\n",
       "      <td>Cannot be determined</td>\n",
       "      <td>NaN</td>\n",
       "      <td>Intact nuclear expression</td>\n",
       "      <td>Intact nuclear expression</td>\n",
       "      <td>Intact nuclear expression</td>\n",
       "      <td>Intact nuclear expression</td>\n",
       "      <td>Cannot be determined</td>\n",
       "      <td>NaN</td>\n",
       "      <td>...</td>\n",
       "      <td>5.672425</td>\n",
       "      <td>5.523562</td>\n",
       "      <td>2.584963</td>\n",
       "      <td>CNV_low</td>\n",
       "      <td>17.777778</td>\n",
       "      <td>8.888889</td>\n",
       "      <td>62.222222</td>\n",
       "      <td>8.888889</td>\n",
       "      <td>2.222222</td>\n",
       "      <td>0.000000</td>\n",
       "    </tr>\n",
       "    <tr>\n",
       "      <th>C3L-00098</th>\n",
       "      <td>Cannot be determined</td>\n",
       "      <td>NaN</td>\n",
       "      <td>Cannot be determined</td>\n",
       "      <td>NaN</td>\n",
       "      <td>Intact nuclear expression</td>\n",
       "      <td>Intact nuclear expression</td>\n",
       "      <td>Intact nuclear expression</td>\n",
       "      <td>Intact nuclear expression</td>\n",
       "      <td>Normal</td>\n",
       "      <td>NaN</td>\n",
       "      <td>...</td>\n",
       "      <td>6.108524</td>\n",
       "      <td>5.954196</td>\n",
       "      <td>3.000000</td>\n",
       "      <td>CNV_high</td>\n",
       "      <td>9.836066</td>\n",
       "      <td>13.114754</td>\n",
       "      <td>62.295082</td>\n",
       "      <td>3.278689</td>\n",
       "      <td>8.196721</td>\n",
       "      <td>3.278689</td>\n",
       "    </tr>\n",
       "  </tbody>\n",
       "</table>\n",
       "<p>5 rows × 125 columns</p>\n",
       "</div>"
      ],
      "text/plain": [
       "Name           Estrogen_Receptor  Estrogen_Receptor_% Progesterone_Receptor  \\\n",
       "Patient_ID                                                                    \n",
       "C3L-00006   Cannot be determined                  NaN  Cannot be determined   \n",
       "C3L-00008   Cannot be determined                  NaN  Cannot be determined   \n",
       "C3L-00032   Cannot be determined                  NaN  Cannot be determined   \n",
       "C3L-00090   Cannot be determined                  NaN  Cannot be determined   \n",
       "C3L-00098   Cannot be determined                  NaN  Cannot be determined   \n",
       "\n",
       "Name        Progesterone_Receptor_%                       MLH1  \\\n",
       "Patient_ID                                                       \n",
       "C3L-00006                       NaN  Intact nuclear expression   \n",
       "C3L-00008                       NaN  Intact nuclear expression   \n",
       "C3L-00032                       NaN  Intact nuclear expression   \n",
       "C3L-00090                       NaN  Intact nuclear expression   \n",
       "C3L-00098                       NaN  Intact nuclear expression   \n",
       "\n",
       "Name                             MLH2                        MSH6  \\\n",
       "Patient_ID                                                          \n",
       "C3L-00006   Intact nuclear expression  Loss of nuclear expression   \n",
       "C3L-00008   Intact nuclear expression   Intact nuclear expression   \n",
       "C3L-00032   Intact nuclear expression   Intact nuclear expression   \n",
       "C3L-00090   Intact nuclear expression   Intact nuclear expression   \n",
       "C3L-00098   Intact nuclear expression   Intact nuclear expression   \n",
       "\n",
       "Name                              PMS2                   p53  \\\n",
       "Patient_ID                                                     \n",
       "C3L-00006    Intact nuclear expression  Cannot be determined   \n",
       "C3L-00008   Loss of nuclear expression  Cannot be determined   \n",
       "C3L-00032    Intact nuclear expression  Cannot be determined   \n",
       "C3L-00090    Intact nuclear expression  Cannot be determined   \n",
       "C3L-00098    Intact nuclear expression                Normal   \n",
       "\n",
       "Name       Other_IHC_specify  ... Log2_variant_total  Log2_SNP_total  \\\n",
       "Patient_ID                    ...                                      \n",
       "C3L-00006                NaN  ...          10.062046        9.984418   \n",
       "C3L-00008                NaN  ...           8.861087        8.330917   \n",
       "C3L-00032                NaN  ...           5.321928        5.000000   \n",
       "C3L-00090                NaN  ...           5.672425        5.523562   \n",
       "C3L-00098                NaN  ...           6.108524        5.954196   \n",
       "\n",
       "Name        Log2_INDEL_total  Genomics_subtype  Mutation_signature_C>A  \\\n",
       "Patient_ID                                                               \n",
       "C3L-00006           5.832890             MSI-H                8.300395   \n",
       "C3L-00008           7.169925             MSI-H               14.641745   \n",
       "C3L-00032           3.169925           CNV_low               16.129032   \n",
       "C3L-00090           2.584963           CNV_low               17.777778   \n",
       "C3L-00098           3.000000          CNV_high                9.836066   \n",
       "\n",
       "Name        Mutation_signature_C>G  Mutation_signature_C>T  \\\n",
       "Patient_ID                                                   \n",
       "C3L-00006                 1.482213               72.529644   \n",
       "C3L-00008                 2.803738               64.485981   \n",
       "C3L-00032                 3.225806               70.967742   \n",
       "C3L-00090                 8.888889               62.222222   \n",
       "C3L-00098                13.114754               62.295082   \n",
       "\n",
       "Name        Mutation_signature_T>C  Mutation_signature_T>A  \\\n",
       "Patient_ID                                                   \n",
       "C3L-00006                14.426877                1.383399   \n",
       "C3L-00008                15.264798                0.934579   \n",
       "C3L-00032                 3.225806                3.225806   \n",
       "C3L-00090                 8.888889                2.222222   \n",
       "C3L-00098                 3.278689                8.196721   \n",
       "\n",
       "Name        Mutation_signature_T>G  \n",
       "Patient_ID                          \n",
       "C3L-00006                 1.877470  \n",
       "C3L-00008                 1.869159  \n",
       "C3L-00032                 3.225806  \n",
       "C3L-00090                 0.000000  \n",
       "C3L-00098                 3.278689  \n",
       "\n",
       "[5 rows x 125 columns]"
      ]
     },
     "execution_count": 6,
     "metadata": {},
     "output_type": "execute_result"
    }
   ],
   "source": [
    "sample_annotations.head()"
   ]
  },
  {
   "cell_type": "code",
   "execution_count": 7,
   "metadata": {},
   "outputs": [
    {
     "data": {
      "text/html": [
       "<div>\n",
       "<style scoped>\n",
       "    .dataframe tbody tr th:only-of-type {\n",
       "        vertical-align: middle;\n",
       "    }\n",
       "\n",
       "    .dataframe tbody tr th {\n",
       "        vertical-align: top;\n",
       "    }\n",
       "\n",
       "    .dataframe thead th {\n",
       "        text-align: right;\n",
       "    }\n",
       "</style>\n",
       "<table border=\"1\" class=\"dataframe\">\n",
       "  <thead>\n",
       "    <tr style=\"text-align: right;\">\n",
       "      <th>Name</th>\n",
       "      <th>A1BG</th>\n",
       "      <th>A2M</th>\n",
       "      <th>A2ML1</th>\n",
       "      <th>A4GALT</th>\n",
       "      <th>AAAS</th>\n",
       "      <th>AACS</th>\n",
       "      <th>AADAT</th>\n",
       "      <th>AAED1</th>\n",
       "      <th>AAGAB</th>\n",
       "      <th>AAK1</th>\n",
       "      <th>...</th>\n",
       "      <th>ZSWIM8</th>\n",
       "      <th>ZSWIM9</th>\n",
       "      <th>ZW10</th>\n",
       "      <th>ZWILCH</th>\n",
       "      <th>ZWINT</th>\n",
       "      <th>ZXDC</th>\n",
       "      <th>ZYG11B</th>\n",
       "      <th>ZYX</th>\n",
       "      <th>ZZEF1</th>\n",
       "      <th>ZZZ3</th>\n",
       "    </tr>\n",
       "    <tr>\n",
       "      <th>Patient_ID</th>\n",
       "      <th></th>\n",
       "      <th></th>\n",
       "      <th></th>\n",
       "      <th></th>\n",
       "      <th></th>\n",
       "      <th></th>\n",
       "      <th></th>\n",
       "      <th></th>\n",
       "      <th></th>\n",
       "      <th></th>\n",
       "      <th></th>\n",
       "      <th></th>\n",
       "      <th></th>\n",
       "      <th></th>\n",
       "      <th></th>\n",
       "      <th></th>\n",
       "      <th></th>\n",
       "      <th></th>\n",
       "      <th></th>\n",
       "      <th></th>\n",
       "      <th></th>\n",
       "    </tr>\n",
       "  </thead>\n",
       "  <tbody>\n",
       "    <tr>\n",
       "      <th>C3L-00006</th>\n",
       "      <td>-1.180</td>\n",
       "      <td>-0.8630</td>\n",
       "      <td>-0.802</td>\n",
       "      <td>0.222</td>\n",
       "      <td>0.2560</td>\n",
       "      <td>0.6650</td>\n",
       "      <td>1.2800</td>\n",
       "      <td>-0.3390</td>\n",
       "      <td>0.412</td>\n",
       "      <td>-0.664</td>\n",
       "      <td>...</td>\n",
       "      <td>-0.08770</td>\n",
       "      <td>NaN</td>\n",
       "      <td>0.0229</td>\n",
       "      <td>0.1090</td>\n",
       "      <td>NaN</td>\n",
       "      <td>-0.332</td>\n",
       "      <td>-0.43300</td>\n",
       "      <td>-1.020</td>\n",
       "      <td>-0.1230</td>\n",
       "      <td>-0.0859</td>\n",
       "    </tr>\n",
       "    <tr>\n",
       "      <th>C3L-00008</th>\n",
       "      <td>-0.685</td>\n",
       "      <td>-1.0700</td>\n",
       "      <td>-0.684</td>\n",
       "      <td>0.984</td>\n",
       "      <td>0.1350</td>\n",
       "      <td>0.3340</td>\n",
       "      <td>1.3000</td>\n",
       "      <td>0.1390</td>\n",
       "      <td>1.330</td>\n",
       "      <td>-0.367</td>\n",
       "      <td>...</td>\n",
       "      <td>-0.03560</td>\n",
       "      <td>NaN</td>\n",
       "      <td>0.3630</td>\n",
       "      <td>1.0700</td>\n",
       "      <td>0.737</td>\n",
       "      <td>-0.564</td>\n",
       "      <td>-0.00461</td>\n",
       "      <td>-1.130</td>\n",
       "      <td>-0.0757</td>\n",
       "      <td>-0.4730</td>\n",
       "    </tr>\n",
       "    <tr>\n",
       "      <th>C3L-00032</th>\n",
       "      <td>-0.528</td>\n",
       "      <td>-1.3200</td>\n",
       "      <td>0.435</td>\n",
       "      <td>NaN</td>\n",
       "      <td>-0.2400</td>\n",
       "      <td>1.0400</td>\n",
       "      <td>-0.0213</td>\n",
       "      <td>-0.0479</td>\n",
       "      <td>0.419</td>\n",
       "      <td>-0.500</td>\n",
       "      <td>...</td>\n",
       "      <td>0.00112</td>\n",
       "      <td>-0.1450</td>\n",
       "      <td>0.0105</td>\n",
       "      <td>-0.1160</td>\n",
       "      <td>NaN</td>\n",
       "      <td>0.151</td>\n",
       "      <td>-0.07400</td>\n",
       "      <td>-0.540</td>\n",
       "      <td>0.3200</td>\n",
       "      <td>-0.4190</td>\n",
       "    </tr>\n",
       "    <tr>\n",
       "      <th>C3L-00090</th>\n",
       "      <td>-1.670</td>\n",
       "      <td>-1.1900</td>\n",
       "      <td>-0.443</td>\n",
       "      <td>0.243</td>\n",
       "      <td>-0.0993</td>\n",
       "      <td>0.7570</td>\n",
       "      <td>0.7400</td>\n",
       "      <td>-0.9290</td>\n",
       "      <td>0.229</td>\n",
       "      <td>-0.223</td>\n",
       "      <td>...</td>\n",
       "      <td>0.07250</td>\n",
       "      <td>-0.0552</td>\n",
       "      <td>-0.0714</td>\n",
       "      <td>0.0933</td>\n",
       "      <td>0.156</td>\n",
       "      <td>-0.398</td>\n",
       "      <td>-0.07520</td>\n",
       "      <td>-0.797</td>\n",
       "      <td>-0.0301</td>\n",
       "      <td>-0.4670</td>\n",
       "    </tr>\n",
       "    <tr>\n",
       "      <th>C3L-00098</th>\n",
       "      <td>-0.374</td>\n",
       "      <td>-0.0206</td>\n",
       "      <td>-0.537</td>\n",
       "      <td>0.311</td>\n",
       "      <td>0.3750</td>\n",
       "      <td>0.0131</td>\n",
       "      <td>-1.1000</td>\n",
       "      <td>NaN</td>\n",
       "      <td>0.565</td>\n",
       "      <td>-0.101</td>\n",
       "      <td>...</td>\n",
       "      <td>-0.17600</td>\n",
       "      <td>NaN</td>\n",
       "      <td>-1.2200</td>\n",
       "      <td>-0.5620</td>\n",
       "      <td>0.937</td>\n",
       "      <td>-0.646</td>\n",
       "      <td>0.20700</td>\n",
       "      <td>-1.850</td>\n",
       "      <td>-0.1760</td>\n",
       "      <td>0.0513</td>\n",
       "    </tr>\n",
       "  </tbody>\n",
       "</table>\n",
       "<p>5 rows × 10999 columns</p>\n",
       "</div>"
      ],
      "text/plain": [
       "Name         A1BG     A2M  A2ML1  A4GALT    AAAS    AACS   AADAT   AAED1  \\\n",
       "Patient_ID                                                                 \n",
       "C3L-00006  -1.180 -0.8630 -0.802   0.222  0.2560  0.6650  1.2800 -0.3390   \n",
       "C3L-00008  -0.685 -1.0700 -0.684   0.984  0.1350  0.3340  1.3000  0.1390   \n",
       "C3L-00032  -0.528 -1.3200  0.435     NaN -0.2400  1.0400 -0.0213 -0.0479   \n",
       "C3L-00090  -1.670 -1.1900 -0.443   0.243 -0.0993  0.7570  0.7400 -0.9290   \n",
       "C3L-00098  -0.374 -0.0206 -0.537   0.311  0.3750  0.0131 -1.1000     NaN   \n",
       "\n",
       "Name        AAGAB   AAK1  ...   ZSWIM8  ZSWIM9    ZW10  ZWILCH  ZWINT   ZXDC  \\\n",
       "Patient_ID                ...                                                  \n",
       "C3L-00006   0.412 -0.664  ... -0.08770     NaN  0.0229  0.1090    NaN -0.332   \n",
       "C3L-00008   1.330 -0.367  ... -0.03560     NaN  0.3630  1.0700  0.737 -0.564   \n",
       "C3L-00032   0.419 -0.500  ...  0.00112 -0.1450  0.0105 -0.1160    NaN  0.151   \n",
       "C3L-00090   0.229 -0.223  ...  0.07250 -0.0552 -0.0714  0.0933  0.156 -0.398   \n",
       "C3L-00098   0.565 -0.101  ... -0.17600     NaN -1.2200 -0.5620  0.937 -0.646   \n",
       "\n",
       "Name         ZYG11B    ZYX   ZZEF1    ZZZ3  \n",
       "Patient_ID                                  \n",
       "C3L-00006  -0.43300 -1.020 -0.1230 -0.0859  \n",
       "C3L-00008  -0.00461 -1.130 -0.0757 -0.4730  \n",
       "C3L-00032  -0.07400 -0.540  0.3200 -0.4190  \n",
       "C3L-00090  -0.07520 -0.797 -0.0301 -0.4670  \n",
       "C3L-00098   0.20700 -1.850 -0.1760  0.0513  \n",
       "\n",
       "[5 rows x 10999 columns]"
      ]
     },
     "execution_count": 7,
     "metadata": {},
     "output_type": "execute_result"
    }
   ],
   "source": [
    "df.head()"
   ]
  },
  {
   "cell_type": "code",
   "execution_count": 8,
   "metadata": {},
   "outputs": [
    {
     "data": {
      "text/html": [
       "<div>\n",
       "<style scoped>\n",
       "    .dataframe tbody tr th:only-of-type {\n",
       "        vertical-align: middle;\n",
       "    }\n",
       "\n",
       "    .dataframe tbody tr th {\n",
       "        vertical-align: top;\n",
       "    }\n",
       "\n",
       "    .dataframe thead th {\n",
       "        text-align: right;\n",
       "    }\n",
       "</style>\n",
       "<table border=\"1\" class=\"dataframe\">\n",
       "  <thead>\n",
       "    <tr style=\"text-align: right;\">\n",
       "      <th>Name</th>\n",
       "      <th>A1BG</th>\n",
       "      <th>A2M</th>\n",
       "      <th>A2ML1</th>\n",
       "      <th>A4GALT</th>\n",
       "      <th>AAAS</th>\n",
       "      <th>AACS</th>\n",
       "      <th>AADAT</th>\n",
       "      <th>AAED1</th>\n",
       "      <th>AAGAB</th>\n",
       "      <th>AAK1</th>\n",
       "      <th>...</th>\n",
       "      <th>ZSWIM8</th>\n",
       "      <th>ZSWIM9</th>\n",
       "      <th>ZW10</th>\n",
       "      <th>ZWILCH</th>\n",
       "      <th>ZWINT</th>\n",
       "      <th>ZXDC</th>\n",
       "      <th>ZYG11B</th>\n",
       "      <th>ZYX</th>\n",
       "      <th>ZZEF1</th>\n",
       "      <th>ZZZ3</th>\n",
       "    </tr>\n",
       "    <tr>\n",
       "      <th>Patient_ID</th>\n",
       "      <th></th>\n",
       "      <th></th>\n",
       "      <th></th>\n",
       "      <th></th>\n",
       "      <th></th>\n",
       "      <th></th>\n",
       "      <th></th>\n",
       "      <th></th>\n",
       "      <th></th>\n",
       "      <th></th>\n",
       "      <th></th>\n",
       "      <th></th>\n",
       "      <th></th>\n",
       "      <th></th>\n",
       "      <th></th>\n",
       "      <th></th>\n",
       "      <th></th>\n",
       "      <th></th>\n",
       "      <th></th>\n",
       "      <th></th>\n",
       "      <th></th>\n",
       "    </tr>\n",
       "  </thead>\n",
       "  <tbody>\n",
       "    <tr>\n",
       "      <th>C3N-00386</th>\n",
       "      <td>-0.979</td>\n",
       "      <td>-1.1100</td>\n",
       "      <td>0.774</td>\n",
       "      <td>-1.16</td>\n",
       "      <td>-0.0186</td>\n",
       "      <td>0.447</td>\n",
       "      <td>0.849</td>\n",
       "      <td>-0.239</td>\n",
       "      <td>0.2540</td>\n",
       "      <td>0.127</td>\n",
       "      <td>...</td>\n",
       "      <td>0.5190</td>\n",
       "      <td>-0.650</td>\n",
       "      <td>0.298</td>\n",
       "      <td>0.489</td>\n",
       "      <td>0.0383</td>\n",
       "      <td>0.283</td>\n",
       "      <td>-0.451</td>\n",
       "      <td>-0.659</td>\n",
       "      <td>0.0534</td>\n",
       "      <td>0.3010</td>\n",
       "    </tr>\n",
       "    <tr>\n",
       "      <th>C3N-01211</th>\n",
       "      <td>-0.636</td>\n",
       "      <td>-0.3710</td>\n",
       "      <td>0.973</td>\n",
       "      <td>NaN</td>\n",
       "      <td>0.6370</td>\n",
       "      <td>-0.166</td>\n",
       "      <td>-0.122</td>\n",
       "      <td>0.232</td>\n",
       "      <td>0.3790</td>\n",
       "      <td>-0.195</td>\n",
       "      <td>...</td>\n",
       "      <td>-0.4160</td>\n",
       "      <td>-0.751</td>\n",
       "      <td>0.179</td>\n",
       "      <td>0.658</td>\n",
       "      <td>0.4700</td>\n",
       "      <td>0.270</td>\n",
       "      <td>-0.148</td>\n",
       "      <td>-0.139</td>\n",
       "      <td>-0.0299</td>\n",
       "      <td>0.1310</td>\n",
       "    </tr>\n",
       "    <tr>\n",
       "      <th>C3L-00361</th>\n",
       "      <td>-1.340</td>\n",
       "      <td>-1.8700</td>\n",
       "      <td>-0.258</td>\n",
       "      <td>NaN</td>\n",
       "      <td>0.1290</td>\n",
       "      <td>2.560</td>\n",
       "      <td>1.030</td>\n",
       "      <td>-0.396</td>\n",
       "      <td>-0.0763</td>\n",
       "      <td>-0.476</td>\n",
       "      <td>...</td>\n",
       "      <td>0.0330</td>\n",
       "      <td>-0.419</td>\n",
       "      <td>0.327</td>\n",
       "      <td>0.103</td>\n",
       "      <td>NaN</td>\n",
       "      <td>0.638</td>\n",
       "      <td>-0.514</td>\n",
       "      <td>-1.420</td>\n",
       "      <td>0.2180</td>\n",
       "      <td>-0.0611</td>\n",
       "    </tr>\n",
       "    <tr>\n",
       "      <th>C3L-01744</th>\n",
       "      <td>-0.506</td>\n",
       "      <td>-0.2170</td>\n",
       "      <td>-1.180</td>\n",
       "      <td>-1.00</td>\n",
       "      <td>0.1390</td>\n",
       "      <td>0.654</td>\n",
       "      <td>0.789</td>\n",
       "      <td>-0.547</td>\n",
       "      <td>0.4970</td>\n",
       "      <td>-0.241</td>\n",
       "      <td>...</td>\n",
       "      <td>0.0542</td>\n",
       "      <td>-0.678</td>\n",
       "      <td>0.345</td>\n",
       "      <td>0.886</td>\n",
       "      <td>1.5100</td>\n",
       "      <td>-0.621</td>\n",
       "      <td>-0.245</td>\n",
       "      <td>-1.020</td>\n",
       "      <td>0.2680</td>\n",
       "      <td>-0.0204</td>\n",
       "    </tr>\n",
       "    <tr>\n",
       "      <th>C3L-01246.N</th>\n",
       "      <td>0.671</td>\n",
       "      <td>0.0618</td>\n",
       "      <td>NaN</td>\n",
       "      <td>NaN</td>\n",
       "      <td>-0.1100</td>\n",
       "      <td>-1.370</td>\n",
       "      <td>-0.549</td>\n",
       "      <td>0.313</td>\n",
       "      <td>-0.7910</td>\n",
       "      <td>0.213</td>\n",
       "      <td>...</td>\n",
       "      <td>-0.2970</td>\n",
       "      <td>NaN</td>\n",
       "      <td>-0.457</td>\n",
       "      <td>-0.912</td>\n",
       "      <td>NaN</td>\n",
       "      <td>0.202</td>\n",
       "      <td>0.393</td>\n",
       "      <td>1.360</td>\n",
       "      <td>0.0936</td>\n",
       "      <td>0.2980</td>\n",
       "    </tr>\n",
       "  </tbody>\n",
       "</table>\n",
       "<p>5 rows × 10999 columns</p>\n",
       "</div>"
      ],
      "text/plain": [
       "Name          A1BG     A2M  A2ML1  A4GALT    AAAS   AACS  AADAT  AAED1  \\\n",
       "Patient_ID                                                               \n",
       "C3N-00386   -0.979 -1.1100  0.774   -1.16 -0.0186  0.447  0.849 -0.239   \n",
       "C3N-01211   -0.636 -0.3710  0.973     NaN  0.6370 -0.166 -0.122  0.232   \n",
       "C3L-00361   -1.340 -1.8700 -0.258     NaN  0.1290  2.560  1.030 -0.396   \n",
       "C3L-01744   -0.506 -0.2170 -1.180   -1.00  0.1390  0.654  0.789 -0.547   \n",
       "C3L-01246.N  0.671  0.0618    NaN     NaN -0.1100 -1.370 -0.549  0.313   \n",
       "\n",
       "Name          AAGAB   AAK1  ...  ZSWIM8  ZSWIM9   ZW10  ZWILCH   ZWINT   ZXDC  \\\n",
       "Patient_ID                  ...                                                 \n",
       "C3N-00386    0.2540  0.127  ...  0.5190  -0.650  0.298   0.489  0.0383  0.283   \n",
       "C3N-01211    0.3790 -0.195  ... -0.4160  -0.751  0.179   0.658  0.4700  0.270   \n",
       "C3L-00361   -0.0763 -0.476  ...  0.0330  -0.419  0.327   0.103     NaN  0.638   \n",
       "C3L-01744    0.4970 -0.241  ...  0.0542  -0.678  0.345   0.886  1.5100 -0.621   \n",
       "C3L-01246.N -0.7910  0.213  ... -0.2970     NaN -0.457  -0.912     NaN  0.202   \n",
       "\n",
       "Name         ZYG11B    ZYX   ZZEF1    ZZZ3  \n",
       "Patient_ID                                  \n",
       "C3N-00386    -0.451 -0.659  0.0534  0.3010  \n",
       "C3N-01211    -0.148 -0.139 -0.0299  0.1310  \n",
       "C3L-00361    -0.514 -1.420  0.2180 -0.0611  \n",
       "C3L-01744    -0.245 -1.020  0.2680 -0.0204  \n",
       "C3L-01246.N   0.393  1.360  0.0936  0.2980  \n",
       "\n",
       "[5 rows x 10999 columns]"
      ]
     },
     "execution_count": 8,
     "metadata": {},
     "output_type": "execute_result"
    }
   ],
   "source": [
    "df.sample(5)"
   ]
  },
  {
   "cell_type": "code",
   "execution_count": 9,
   "metadata": {},
   "outputs": [
    {
     "name": "stdout",
     "output_type": "stream",
     "text": [
      "Index([], dtype='object', name='Patient_ID')\n",
      "Index([], dtype='object', name='Name')\n"
     ]
    }
   ],
   "source": [
    "# Lets check for sample duplicates and gene duplicates\n",
    "print(df.index[df.index.duplicated()])\n",
    "print(df.columns[df.columns.duplicated()])\n",
    "\n",
    "# All good!"
   ]
  },
  {
   "cell_type": "code",
   "execution_count": 10,
   "metadata": {},
   "outputs": [
    {
     "data": {
      "text/plain": [
       "Index(['Estrogen_Receptor', 'Estrogen_Receptor_%', 'Progesterone_Receptor',\n",
       "       'Progesterone_Receptor_%', 'MLH1', 'MLH2', 'MSH6', 'PMS2', 'p53',\n",
       "       'Other_IHC_specify',\n",
       "       ...\n",
       "       'Log2_variant_total', 'Log2_SNP_total', 'Log2_INDEL_total',\n",
       "       'Genomics_subtype', 'Mutation_signature_C>A', 'Mutation_signature_C>G',\n",
       "       'Mutation_signature_C>T', 'Mutation_signature_T>C',\n",
       "       'Mutation_signature_T>A', 'Mutation_signature_T>G'],\n",
       "      dtype='object', name='Name', length=125)"
      ]
     },
     "execution_count": 10,
     "metadata": {},
     "output_type": "execute_result"
    }
   ],
   "source": [
    "# This all the info we have on the tumors\n",
    "sample_annotations.columns"
   ]
  },
  {
   "cell_type": "markdown",
   "metadata": {},
   "source": [
    "# Getting to know the data: visualization\n",
    "\n",
    "This data is already column normalized (adjusted for coverage) and row normalized to some extent (everything is represented as the log2 of s fold change compared to a standard)\n",
    "\n",
    "Let's make sure the look of the data matches what we expect. "
   ]
  },
  {
   "cell_type": "code",
   "execution_count": 44,
   "metadata": {},
   "outputs": [
    {
     "data": {
      "text/plain": [
       "(144, 10999)"
      ]
     },
     "execution_count": 44,
     "metadata": {},
     "output_type": "execute_result"
    }
   ],
   "source": [
    "df.shape"
   ]
  },
  {
   "cell_type": "code",
   "execution_count": 45,
   "metadata": {},
   "outputs": [
    {
     "data": {
      "text/plain": [
       "Name\n",
       "A1BG      0.058300\n",
       "A2M       0.008676\n",
       "A2ML1     0.317285\n",
       "A4GALT    0.095133\n",
       "AAAS      0.027387\n",
       "            ...   \n",
       "ZXDC     -0.002195\n",
       "ZYG11B   -0.024433\n",
       "ZYX       0.158869\n",
       "ZZEF1    -0.006990\n",
       "ZZZ3      0.029192\n",
       "Length: 10999, dtype: float64"
      ]
     },
     "execution_count": 45,
     "metadata": {},
     "output_type": "execute_result"
    }
   ],
   "source": [
    "df.mean()"
   ]
  },
  {
   "cell_type": "code",
   "execution_count": 12,
   "metadata": {},
   "outputs": [
    {
     "data": {
      "text/plain": [
       "Text(0, 0.5, 'proportion of samples')"
      ]
     },
     "execution_count": 12,
     "metadata": {},
     "output_type": "execute_result"
    },
    {
     "data": {
      "image/png": "[encoded data removed]",
      "text/plain": [
       "<Figure size 432x288 with 1 Axes>"
      ]
     },
     "metadata": {},
     "output_type": "display_data"
    }
   ],
   "source": [
    "sns.distplot(df.mean())\n",
    "plt.xlabel('log2 mean protein expression')\n",
    "plt.ylabel('proportion of samples')"
   ]
  },
  {
   "cell_type": "code",
   "execution_count": 46,
   "metadata": {},
   "outputs": [
    {
     "data": {
      "text/html": [
       "<div>\n",
       "<style scoped>\n",
       "    .dataframe tbody tr th:only-of-type {\n",
       "        vertical-align: middle;\n",
       "    }\n",
       "\n",
       "    .dataframe tbody tr th {\n",
       "        vertical-align: top;\n",
       "    }\n",
       "\n",
       "    .dataframe thead th {\n",
       "        text-align: right;\n",
       "    }\n",
       "</style>\n",
       "<table border=\"1\" class=\"dataframe\">\n",
       "  <thead>\n",
       "    <tr style=\"text-align: right;\">\n",
       "      <th>Name</th>\n",
       "      <th>FLT1</th>\n",
       "      <th>EMC8</th>\n",
       "      <th>PDCD2L</th>\n",
       "      <th>TMEM59</th>\n",
       "      <th>GFER</th>\n",
       "      <th>CDS1</th>\n",
       "      <th>SNRPA1</th>\n",
       "      <th>CLDN4</th>\n",
       "      <th>CEP350</th>\n",
       "      <th>COX5A</th>\n",
       "      <th>...</th>\n",
       "      <th>RPP30</th>\n",
       "      <th>TPK1</th>\n",
       "      <th>TCERG1</th>\n",
       "      <th>TAF5L</th>\n",
       "      <th>PTPN18</th>\n",
       "      <th>KIAA0930</th>\n",
       "      <th>CCDC106</th>\n",
       "      <th>TEF</th>\n",
       "      <th>PLA2G16</th>\n",
       "      <th>MED6</th>\n",
       "    </tr>\n",
       "    <tr>\n",
       "      <th>Patient_ID</th>\n",
       "      <th></th>\n",
       "      <th></th>\n",
       "      <th></th>\n",
       "      <th></th>\n",
       "      <th></th>\n",
       "      <th></th>\n",
       "      <th></th>\n",
       "      <th></th>\n",
       "      <th></th>\n",
       "      <th></th>\n",
       "      <th></th>\n",
       "      <th></th>\n",
       "      <th></th>\n",
       "      <th></th>\n",
       "      <th></th>\n",
       "      <th></th>\n",
       "      <th></th>\n",
       "      <th></th>\n",
       "      <th></th>\n",
       "      <th></th>\n",
       "      <th></th>\n",
       "    </tr>\n",
       "  </thead>\n",
       "  <tbody>\n",
       "    <tr>\n",
       "      <th>C3L-00006</th>\n",
       "      <td>-0.492000</td>\n",
       "      <td>0.1580</td>\n",
       "      <td>-0.263</td>\n",
       "      <td>-0.1710</td>\n",
       "      <td>0.349</td>\n",
       "      <td>0.91800</td>\n",
       "      <td>0.1950</td>\n",
       "      <td>0.4630</td>\n",
       "      <td>-0.3100</td>\n",
       "      <td>1.2000</td>\n",
       "      <td>...</td>\n",
       "      <td>0.5050</td>\n",
       "      <td>-0.6160</td>\n",
       "      <td>0.141000</td>\n",
       "      <td>0.03040</td>\n",
       "      <td>-0.6310</td>\n",
       "      <td>0.1170</td>\n",
       "      <td>NaN</td>\n",
       "      <td>NaN</td>\n",
       "      <td>NaN</td>\n",
       "      <td>-0.0537</td>\n",
       "    </tr>\n",
       "    <tr>\n",
       "      <th>C3L-00008</th>\n",
       "      <td>-0.105000</td>\n",
       "      <td>-0.1490</td>\n",
       "      <td>0.731</td>\n",
       "      <td>0.1330</td>\n",
       "      <td>-0.139</td>\n",
       "      <td>0.65700</td>\n",
       "      <td>-0.0146</td>\n",
       "      <td>0.4400</td>\n",
       "      <td>-0.1090</td>\n",
       "      <td>0.4310</td>\n",
       "      <td>...</td>\n",
       "      <td>0.3310</td>\n",
       "      <td>-2.0200</td>\n",
       "      <td>-0.000854</td>\n",
       "      <td>0.01210</td>\n",
       "      <td>-1.0100</td>\n",
       "      <td>0.0158</td>\n",
       "      <td>NaN</td>\n",
       "      <td>NaN</td>\n",
       "      <td>-0.261</td>\n",
       "      <td>0.1230</td>\n",
       "    </tr>\n",
       "    <tr>\n",
       "      <th>C3L-00032</th>\n",
       "      <td>0.000163</td>\n",
       "      <td>0.4910</td>\n",
       "      <td>-0.130</td>\n",
       "      <td>0.0000</td>\n",
       "      <td>-0.182</td>\n",
       "      <td>1.02000</td>\n",
       "      <td>-0.0994</td>\n",
       "      <td>0.4800</td>\n",
       "      <td>0.1980</td>\n",
       "      <td>0.2530</td>\n",
       "      <td>...</td>\n",
       "      <td>0.0095</td>\n",
       "      <td>0.0281</td>\n",
       "      <td>-0.091000</td>\n",
       "      <td>0.13200</td>\n",
       "      <td>0.3370</td>\n",
       "      <td>0.0800</td>\n",
       "      <td>NaN</td>\n",
       "      <td>NaN</td>\n",
       "      <td>NaN</td>\n",
       "      <td>-0.2590</td>\n",
       "    </tr>\n",
       "    <tr>\n",
       "      <th>C3L-00090</th>\n",
       "      <td>0.166000</td>\n",
       "      <td>-0.0299</td>\n",
       "      <td>0.359</td>\n",
       "      <td>-0.4620</td>\n",
       "      <td>-0.279</td>\n",
       "      <td>1.43000</td>\n",
       "      <td>0.2080</td>\n",
       "      <td>0.3920</td>\n",
       "      <td>-0.2530</td>\n",
       "      <td>0.0850</td>\n",
       "      <td>...</td>\n",
       "      <td>0.3350</td>\n",
       "      <td>-0.7150</td>\n",
       "      <td>-0.049800</td>\n",
       "      <td>-0.11200</td>\n",
       "      <td>-0.4010</td>\n",
       "      <td>-0.2160</td>\n",
       "      <td>NaN</td>\n",
       "      <td>NaN</td>\n",
       "      <td>NaN</td>\n",
       "      <td>-0.0528</td>\n",
       "    </tr>\n",
       "    <tr>\n",
       "      <th>C3L-00098</th>\n",
       "      <td>-0.374000</td>\n",
       "      <td>0.3070</td>\n",
       "      <td>1.200</td>\n",
       "      <td>1.5100</td>\n",
       "      <td>0.609</td>\n",
       "      <td>0.64500</td>\n",
       "      <td>-0.0529</td>\n",
       "      <td>-0.0981</td>\n",
       "      <td>0.0699</td>\n",
       "      <td>0.3800</td>\n",
       "      <td>...</td>\n",
       "      <td>0.3460</td>\n",
       "      <td>2.0700</td>\n",
       "      <td>-0.169000</td>\n",
       "      <td>-0.10300</td>\n",
       "      <td>0.7850</td>\n",
       "      <td>1.1400</td>\n",
       "      <td>0.905</td>\n",
       "      <td>-0.181</td>\n",
       "      <td>-0.360</td>\n",
       "      <td>-0.0724</td>\n",
       "    </tr>\n",
       "    <tr>\n",
       "      <th>...</th>\n",
       "      <td>...</td>\n",
       "      <td>...</td>\n",
       "      <td>...</td>\n",
       "      <td>...</td>\n",
       "      <td>...</td>\n",
       "      <td>...</td>\n",
       "      <td>...</td>\n",
       "      <td>...</td>\n",
       "      <td>...</td>\n",
       "      <td>...</td>\n",
       "      <td>...</td>\n",
       "      <td>...</td>\n",
       "      <td>...</td>\n",
       "      <td>...</td>\n",
       "      <td>...</td>\n",
       "      <td>...</td>\n",
       "      <td>...</td>\n",
       "      <td>...</td>\n",
       "      <td>...</td>\n",
       "      <td>...</td>\n",
       "      <td>...</td>\n",
       "    </tr>\n",
       "    <tr>\n",
       "      <th>NX5.N</th>\n",
       "      <td>-0.290000</td>\n",
       "      <td>-0.4030</td>\n",
       "      <td>-0.962</td>\n",
       "      <td>-0.0435</td>\n",
       "      <td>0.111</td>\n",
       "      <td>-0.32000</td>\n",
       "      <td>0.2530</td>\n",
       "      <td>-0.8960</td>\n",
       "      <td>-0.0241</td>\n",
       "      <td>-0.0323</td>\n",
       "      <td>...</td>\n",
       "      <td>-0.1420</td>\n",
       "      <td>0.4110</td>\n",
       "      <td>0.325000</td>\n",
       "      <td>-0.06730</td>\n",
       "      <td>-0.4480</td>\n",
       "      <td>0.0338</td>\n",
       "      <td>0.174</td>\n",
       "      <td>NaN</td>\n",
       "      <td>0.698</td>\n",
       "      <td>0.1440</td>\n",
       "    </tr>\n",
       "    <tr>\n",
       "      <th>NX6.N</th>\n",
       "      <td>-0.101000</td>\n",
       "      <td>0.0040</td>\n",
       "      <td>-0.924</td>\n",
       "      <td>-0.0214</td>\n",
       "      <td>0.195</td>\n",
       "      <td>-0.59100</td>\n",
       "      <td>0.0136</td>\n",
       "      <td>-0.9230</td>\n",
       "      <td>-0.2170</td>\n",
       "      <td>-0.0356</td>\n",
       "      <td>...</td>\n",
       "      <td>-0.1490</td>\n",
       "      <td>-0.2890</td>\n",
       "      <td>-0.009750</td>\n",
       "      <td>-0.07870</td>\n",
       "      <td>-0.1020</td>\n",
       "      <td>0.0192</td>\n",
       "      <td>-0.136</td>\n",
       "      <td>NaN</td>\n",
       "      <td>0.115</td>\n",
       "      <td>0.2580</td>\n",
       "    </tr>\n",
       "    <tr>\n",
       "      <th>NX7.N</th>\n",
       "      <td>-0.112000</td>\n",
       "      <td>-0.3380</td>\n",
       "      <td>-0.969</td>\n",
       "      <td>0.0605</td>\n",
       "      <td>0.327</td>\n",
       "      <td>-0.84600</td>\n",
       "      <td>0.2260</td>\n",
       "      <td>-0.7030</td>\n",
       "      <td>-0.1590</td>\n",
       "      <td>-0.1130</td>\n",
       "      <td>...</td>\n",
       "      <td>-0.1070</td>\n",
       "      <td>-0.1160</td>\n",
       "      <td>0.215000</td>\n",
       "      <td>-0.04260</td>\n",
       "      <td>-0.4960</td>\n",
       "      <td>0.2510</td>\n",
       "      <td>0.136</td>\n",
       "      <td>NaN</td>\n",
       "      <td>0.305</td>\n",
       "      <td>0.2780</td>\n",
       "    </tr>\n",
       "    <tr>\n",
       "      <th>NX8.N</th>\n",
       "      <td>-0.219000</td>\n",
       "      <td>-0.3000</td>\n",
       "      <td>-0.651</td>\n",
       "      <td>-0.1350</td>\n",
       "      <td>-0.427</td>\n",
       "      <td>-0.38200</td>\n",
       "      <td>0.0738</td>\n",
       "      <td>-0.0521</td>\n",
       "      <td>-0.0449</td>\n",
       "      <td>-0.1590</td>\n",
       "      <td>...</td>\n",
       "      <td>0.1060</td>\n",
       "      <td>-0.2130</td>\n",
       "      <td>0.177000</td>\n",
       "      <td>-0.00177</td>\n",
       "      <td>-0.4040</td>\n",
       "      <td>-0.1160</td>\n",
       "      <td>NaN</td>\n",
       "      <td>NaN</td>\n",
       "      <td>0.319</td>\n",
       "      <td>0.1390</td>\n",
       "    </tr>\n",
       "    <tr>\n",
       "      <th>NX9.N</th>\n",
       "      <td>0.001540</td>\n",
       "      <td>-0.3990</td>\n",
       "      <td>-0.902</td>\n",
       "      <td>-0.1730</td>\n",
       "      <td>0.444</td>\n",
       "      <td>-0.00899</td>\n",
       "      <td>-0.2110</td>\n",
       "      <td>-0.8350</td>\n",
       "      <td>-0.0318</td>\n",
       "      <td>-0.1560</td>\n",
       "      <td>...</td>\n",
       "      <td>-0.1570</td>\n",
       "      <td>0.1490</td>\n",
       "      <td>0.033300</td>\n",
       "      <td>-0.24600</td>\n",
       "      <td>-0.0344</td>\n",
       "      <td>-0.1670</td>\n",
       "      <td>NaN</td>\n",
       "      <td>NaN</td>\n",
       "      <td>0.978</td>\n",
       "      <td>-0.1850</td>\n",
       "    </tr>\n",
       "  </tbody>\n",
       "</table>\n",
       "<p>144 rows × 25 columns</p>\n",
       "</div>"
      ],
      "text/plain": [
       "Name            FLT1    EMC8  PDCD2L  TMEM59   GFER     CDS1  SNRPA1   CLDN4  \\\n",
       "Patient_ID                                                                     \n",
       "C3L-00006  -0.492000  0.1580  -0.263 -0.1710  0.349  0.91800  0.1950  0.4630   \n",
       "C3L-00008  -0.105000 -0.1490   0.731  0.1330 -0.139  0.65700 -0.0146  0.4400   \n",
       "C3L-00032   0.000163  0.4910  -0.130  0.0000 -0.182  1.02000 -0.0994  0.4800   \n",
       "C3L-00090   0.166000 -0.0299   0.359 -0.4620 -0.279  1.43000  0.2080  0.3920   \n",
       "C3L-00098  -0.374000  0.3070   1.200  1.5100  0.609  0.64500 -0.0529 -0.0981   \n",
       "...              ...     ...     ...     ...    ...      ...     ...     ...   \n",
       "NX5.N      -0.290000 -0.4030  -0.962 -0.0435  0.111 -0.32000  0.2530 -0.8960   \n",
       "NX6.N      -0.101000  0.0040  -0.924 -0.0214  0.195 -0.59100  0.0136 -0.9230   \n",
       "NX7.N      -0.112000 -0.3380  -0.969  0.0605  0.327 -0.84600  0.2260 -0.7030   \n",
       "NX8.N      -0.219000 -0.3000  -0.651 -0.1350 -0.427 -0.38200  0.0738 -0.0521   \n",
       "NX9.N       0.001540 -0.3990  -0.902 -0.1730  0.444 -0.00899 -0.2110 -0.8350   \n",
       "\n",
       "Name        CEP350   COX5A  ...   RPP30    TPK1    TCERG1    TAF5L  PTPN18  \\\n",
       "Patient_ID                  ...                                              \n",
       "C3L-00006  -0.3100  1.2000  ...  0.5050 -0.6160  0.141000  0.03040 -0.6310   \n",
       "C3L-00008  -0.1090  0.4310  ...  0.3310 -2.0200 -0.000854  0.01210 -1.0100   \n",
       "C3L-00032   0.1980  0.2530  ...  0.0095  0.0281 -0.091000  0.13200  0.3370   \n",
       "C3L-00090  -0.2530  0.0850  ...  0.3350 -0.7150 -0.049800 -0.11200 -0.4010   \n",
       "C3L-00098   0.0699  0.3800  ...  0.3460  2.0700 -0.169000 -0.10300  0.7850   \n",
       "...            ...     ...  ...     ...     ...       ...      ...     ...   \n",
       "NX5.N      -0.0241 -0.0323  ... -0.1420  0.4110  0.325000 -0.06730 -0.4480   \n",
       "NX6.N      -0.2170 -0.0356  ... -0.1490 -0.2890 -0.009750 -0.07870 -0.1020   \n",
       "NX7.N      -0.1590 -0.1130  ... -0.1070 -0.1160  0.215000 -0.04260 -0.4960   \n",
       "NX8.N      -0.0449 -0.1590  ...  0.1060 -0.2130  0.177000 -0.00177 -0.4040   \n",
       "NX9.N      -0.0318 -0.1560  ... -0.1570  0.1490  0.033300 -0.24600 -0.0344   \n",
       "\n",
       "Name        KIAA0930  CCDC106    TEF  PLA2G16    MED6  \n",
       "Patient_ID                                             \n",
       "C3L-00006     0.1170      NaN    NaN      NaN -0.0537  \n",
       "C3L-00008     0.0158      NaN    NaN   -0.261  0.1230  \n",
       "C3L-00032     0.0800      NaN    NaN      NaN -0.2590  \n",
       "C3L-00090    -0.2160      NaN    NaN      NaN -0.0528  \n",
       "C3L-00098     1.1400    0.905 -0.181   -0.360 -0.0724  \n",
       "...              ...      ...    ...      ...     ...  \n",
       "NX5.N         0.0338    0.174    NaN    0.698  0.1440  \n",
       "NX6.N         0.0192   -0.136    NaN    0.115  0.2580  \n",
       "NX7.N         0.2510    0.136    NaN    0.305  0.2780  \n",
       "NX8.N        -0.1160      NaN    NaN    0.319  0.1390  \n",
       "NX9.N        -0.1670      NaN    NaN    0.978 -0.1850  \n",
       "\n",
       "[144 rows x 25 columns]"
      ]
     },
     "execution_count": 46,
     "metadata": {},
     "output_type": "execute_result"
    }
   ],
   "source": [
    "df.sample(25, axis=1)"
   ]
  },
  {
   "cell_type": "code",
   "execution_count": 47,
   "metadata": {},
   "outputs": [
    {
     "data": {
      "text/plain": [
       "Text(0, 0.5, 'proportion of samples')"
      ]
     },
     "execution_count": 47,
     "metadata": {},
     "output_type": "execute_result"
    },
    {
     "data": {
      "image/png": "[encoded data removed]",
      "text/plain": [
       "<Figure size 432x288 with 1 Axes>"
      ]
     },
     "metadata": {},
     "output_type": "display_data"
    }
   ],
   "source": [
    "for gene, col in df.sample(25, axis=1).iteritems():\n",
    "    sns.distplot(col)\n",
    "    \n",
    "plt.xlabel('log2 protein expression value')\n",
    "plt.ylabel('proportion of samples')\n",
    "# Row normalization looks good    "
   ]
  },
  {
   "cell_type": "code",
   "execution_count": 48,
   "metadata": {},
   "outputs": [
    {
     "data": {
      "text/plain": [
       "(-4.0, 4.0)"
      ]
     },
     "execution_count": 48,
     "metadata": {},
     "output_type": "execute_result"
    },
    {
     "data": {
      "image/png": "[encoded data removed]",
      "text/plain": [
       "<Figure size 432x288 with 1 Axes>"
      ]
     },
     "metadata": {},
     "output_type": "display_data"
    }
   ],
   "source": [
    "for sample, row in df.iterrows():\n",
    "    sns.distplot(row)\n",
    "plt.xlabel('log2 expression value')\n",
    "plt.ylabel('proportion of genes')\n",
    "_ = plt.xlim(-4, 4)"
   ]
  },
  {
   "cell_type": "code",
   "execution_count": 51,
   "metadata": {},
   "outputs": [
    {
     "data": {
      "text/plain": [
       "Name\n",
       "A1BG       0\n",
       "A2M        0\n",
       "A2ML1     18\n",
       "A4GALT    48\n",
       "AAAS       0\n",
       "          ..\n",
       "ZXDC       0\n",
       "ZYG11B     0\n",
       "ZYX        0\n",
       "ZZEF1      0\n",
       "ZZZ3       0\n",
       "Length: 10999, dtype: int64"
      ]
     },
     "execution_count": 51,
     "metadata": {},
     "output_type": "execute_result"
    }
   ],
   "source": [
    "df.isnull().sum()"
   ]
  },
  {
   "cell_type": "code",
   "execution_count": 52,
   "metadata": {},
   "outputs": [
    {
     "data": {
      "text/plain": [
       "Text(0, 0.5, '# genes')"
      ]
     },
     "execution_count": 52,
     "metadata": {},
     "output_type": "execute_result"
    },
    {
     "data": {
      "image/png": "[encoded data removed]",
      "text/plain": [
       "<Figure size 432x288 with 1 Axes>"
      ]
     },
     "metadata": {},
     "output_type": "display_data"
    }
   ],
   "source": [
    "# Let's check the distribution of missing values per gene\n",
    "sns.distplot(df.isnull().sum(), kde=False, bins=144)\n",
    "plt.ylim(0, 350)\n",
    "plt.xlabel('# missing')\n",
    "plt.ylabel('# genes')\n",
    "# Interesting pattern!"
   ]
  },
  {
   "cell_type": "code",
   "execution_count": 16,
   "metadata": {},
   "outputs": [
    {
     "data": {
      "text/html": [
       "<div>\n",
       "<style scoped>\n",
       "    .dataframe tbody tr th:only-of-type {\n",
       "        vertical-align: middle;\n",
       "    }\n",
       "\n",
       "    .dataframe tbody tr th {\n",
       "        vertical-align: top;\n",
       "    }\n",
       "\n",
       "    .dataframe thead th {\n",
       "        text-align: right;\n",
       "    }\n",
       "</style>\n",
       "<table border=\"1\" class=\"dataframe\">\n",
       "  <thead>\n",
       "    <tr style=\"text-align: right;\">\n",
       "      <th>Name</th>\n",
       "      <th>Proteomics_TMT_batch</th>\n",
       "      <th>Proteomics_TMT_plex</th>\n",
       "      <th>Proteomics_TMT_channel</th>\n",
       "      <th>Proteomics_Parent_Sample_IDs</th>\n",
       "      <th>Proteomics_Aliquot_ID</th>\n",
       "      <th>Proteomics_OCT</th>\n",
       "      <th>WXS_normal_sample_type</th>\n",
       "      <th>WXS_normal_filename</th>\n",
       "      <th>WXS_normal_UUID</th>\n",
       "      <th>WXS_tumor_sample_type</th>\n",
       "      <th>...</th>\n",
       "      <th>RNAseq_R1_sample_type</th>\n",
       "      <th>RNAseq_R1_filename</th>\n",
       "      <th>RNAseq_R1_UUID</th>\n",
       "      <th>RNAseq_R2_sample_type</th>\n",
       "      <th>RNAseq_R2_filename</th>\n",
       "      <th>RNAseq_R2_UUID</th>\n",
       "      <th>miRNAseq_sample_type</th>\n",
       "      <th>miRNAseq_UUID</th>\n",
       "      <th>Methylation_available</th>\n",
       "      <th>Methylation_quality</th>\n",
       "    </tr>\n",
       "    <tr>\n",
       "      <th>Patient_ID</th>\n",
       "      <th></th>\n",
       "      <th></th>\n",
       "      <th></th>\n",
       "      <th></th>\n",
       "      <th></th>\n",
       "      <th></th>\n",
       "      <th></th>\n",
       "      <th></th>\n",
       "      <th></th>\n",
       "      <th></th>\n",
       "      <th></th>\n",
       "      <th></th>\n",
       "      <th></th>\n",
       "      <th></th>\n",
       "      <th></th>\n",
       "      <th></th>\n",
       "      <th></th>\n",
       "      <th></th>\n",
       "      <th></th>\n",
       "      <th></th>\n",
       "      <th></th>\n",
       "    </tr>\n",
       "  </thead>\n",
       "  <tbody>\n",
       "    <tr>\n",
       "      <th>C3L-00006</th>\n",
       "      <td>2</td>\n",
       "      <td>5</td>\n",
       "      <td>128N</td>\n",
       "      <td>C3L-00006-01</td>\n",
       "      <td>CPT0001460012</td>\n",
       "      <td>No</td>\n",
       "      <td>Blood_normal</td>\n",
       "      <td>92b5e534-6cb0-43eb-8147-ce7d18526f5e_gdc_realn...</td>\n",
       "      <td>53dbb4d6-ce9d-4145-a33a-0c4d67e655df</td>\n",
       "      <td>Tumor</td>\n",
       "      <td>...</td>\n",
       "      <td>Tumor</td>\n",
       "      <td>170802_UNC31-K00269_0072_AHK3GVBBXX_TAGCTT_S17...</td>\n",
       "      <td>8a1efc47-1c29-417f-a425-cdbd09565dcb</td>\n",
       "      <td>Tumor</td>\n",
       "      <td>170802_UNC31-K00269_0072_AHK3GVBBXX_TAGCTT_S17...</td>\n",
       "      <td>8c3fe9b7-7acd-4867-8d9c-a8e5d1516eda</td>\n",
       "      <td>Tumor</td>\n",
       "      <td>37bcba98-1094-459e-83ae-c23a602416fb</td>\n",
       "      <td>YES</td>\n",
       "      <td>PASS</td>\n",
       "    </tr>\n",
       "    <tr>\n",
       "      <th>C3L-00008</th>\n",
       "      <td>4</td>\n",
       "      <td>16</td>\n",
       "      <td>130N</td>\n",
       "      <td>C3L-00008-01</td>\n",
       "      <td>CPT0001300009</td>\n",
       "      <td>No</td>\n",
       "      <td>Blood_normal</td>\n",
       "      <td>243bfb3c-d06b-4de5-a6c3-7fa7e2c5fb74_gdc_realn...</td>\n",
       "      <td>90257622-6bcc-43e7-a04f-f7397975d038</td>\n",
       "      <td>Tumor</td>\n",
       "      <td>...</td>\n",
       "      <td>Tumor</td>\n",
       "      <td>170802_UNC31-K00269_0072_AHK3GVBBXX_GGCTAC_S22...</td>\n",
       "      <td>555725e8-cba5-4676-9b0a-80100cbf9f47</td>\n",
       "      <td>Tumor</td>\n",
       "      <td>170802_UNC31-K00269_0072_AHK3GVBBXX_GGCTAC_S22...</td>\n",
       "      <td>15235b12-b67a-4678-acc4-ed03d642bd5e</td>\n",
       "      <td>Tumor</td>\n",
       "      <td>492b50d8-ec35-46e7-a65d-06512aaee394</td>\n",
       "      <td>YES</td>\n",
       "      <td>PASS</td>\n",
       "    </tr>\n",
       "    <tr>\n",
       "      <th>C3L-00032</th>\n",
       "      <td>1</td>\n",
       "      <td>2</td>\n",
       "      <td>131</td>\n",
       "      <td>C3L-00032-01</td>\n",
       "      <td>CPT0001420009</td>\n",
       "      <td>No</td>\n",
       "      <td>Blood_normal</td>\n",
       "      <td>97e153c1-7be4-4d7b-9d30-9545b56e6ddb_gdc_realn...</td>\n",
       "      <td>75a4369c-5247-427d-aabc-3157d08f2d8f</td>\n",
       "      <td>Tumor</td>\n",
       "      <td>...</td>\n",
       "      <td>Tumor</td>\n",
       "      <td>170802_UNC31-K00269_0072_AHK3GVBBXX_GTCCGC_S18...</td>\n",
       "      <td>9ae968f3-691d-4db3-9977-1ab3e5af9085</td>\n",
       "      <td>Tumor</td>\n",
       "      <td>170802_UNC31-K00269_0072_AHK3GVBBXX_GTCCGC_S18...</td>\n",
       "      <td>423b6b09-02aa-4f47-9241-f75c1dad1161</td>\n",
       "      <td>Tumor</td>\n",
       "      <td>1794ff56-db2d-4d1a-8758-cab7fe3d98c1</td>\n",
       "      <td>YES</td>\n",
       "      <td>PASS</td>\n",
       "    </tr>\n",
       "    <tr>\n",
       "      <th>C3L-00090</th>\n",
       "      <td>3</td>\n",
       "      <td>12</td>\n",
       "      <td>129C</td>\n",
       "      <td>C3L-00090-01</td>\n",
       "      <td>CPT0001140003</td>\n",
       "      <td>No</td>\n",
       "      <td>Blood_normal</td>\n",
       "      <td>7959d3f4-80cb-45f5-99ea-248ac2059877_gdc_realn...</td>\n",
       "      <td>d74368b7-1924-4c44-8079-1858f7ebf85a</td>\n",
       "      <td>Tumor</td>\n",
       "      <td>...</td>\n",
       "      <td>Tumor</td>\n",
       "      <td>170802_UNC31-K00269_0072_AHK3GVBBXX_GAGTGG_S10...</td>\n",
       "      <td>8ce5618d-9ff6-40f9-aeea-8d8e1633ae38</td>\n",
       "      <td>Tumor</td>\n",
       "      <td>170802_UNC31-K00269_0072_AHK3GVBBXX_GAGTGG_S10...</td>\n",
       "      <td>06d3fd4a-a623-4146-8500-4f1f17235253</td>\n",
       "      <td>Tumor</td>\n",
       "      <td>a6524c2d-d7dd-4629-980e-b45dbdc92c49</td>\n",
       "      <td>YES</td>\n",
       "      <td>PASS</td>\n",
       "    </tr>\n",
       "    <tr>\n",
       "      <th>C3L-00098</th>\n",
       "      <td>4</td>\n",
       "      <td>14</td>\n",
       "      <td>129N</td>\n",
       "      <td>C3L-00098-02</td>\n",
       "      <td>CPT0000980012</td>\n",
       "      <td>No</td>\n",
       "      <td>Blood_normal</td>\n",
       "      <td>0f46b9b0-6bff-4156-b505-669d72cc9428_gdc_realn...</td>\n",
       "      <td>b58bdcce-b807-4958-814d-3576dee3ae0c</td>\n",
       "      <td>Tumor</td>\n",
       "      <td>...</td>\n",
       "      <td>Tumor</td>\n",
       "      <td>170802_UNC31-K00269_0072_AHK3GVBBXX_TTAGGC_S8_...</td>\n",
       "      <td>31252ba9-e052-4b77-809a-f936379ae00c</td>\n",
       "      <td>Tumor</td>\n",
       "      <td>170802_UNC31-K00269_0072_AHK3GVBBXX_TTAGGC_S8_...</td>\n",
       "      <td>23be22ae-de50-4d74-a7c0-c890adbc662a</td>\n",
       "      <td>NaN</td>\n",
       "      <td>NaN</td>\n",
       "      <td>YES</td>\n",
       "      <td>PASS</td>\n",
       "    </tr>\n",
       "  </tbody>\n",
       "</table>\n",
       "<p>5 rows × 26 columns</p>\n",
       "</div>"
      ],
      "text/plain": [
       "Name        Proteomics_TMT_batch  Proteomics_TMT_plex Proteomics_TMT_channel  \\\n",
       "Patient_ID                                                                     \n",
       "C3L-00006                      2                    5                   128N   \n",
       "C3L-00008                      4                   16                   130N   \n",
       "C3L-00032                      1                    2                    131   \n",
       "C3L-00090                      3                   12                   129C   \n",
       "C3L-00098                      4                   14                   129N   \n",
       "\n",
       "Name       Proteomics_Parent_Sample_IDs Proteomics_Aliquot_ID Proteomics_OCT  \\\n",
       "Patient_ID                                                                     \n",
       "C3L-00006                  C3L-00006-01         CPT0001460012             No   \n",
       "C3L-00008                  C3L-00008-01         CPT0001300009             No   \n",
       "C3L-00032                  C3L-00032-01         CPT0001420009             No   \n",
       "C3L-00090                  C3L-00090-01         CPT0001140003             No   \n",
       "C3L-00098                  C3L-00098-02         CPT0000980012             No   \n",
       "\n",
       "Name       WXS_normal_sample_type  \\\n",
       "Patient_ID                          \n",
       "C3L-00006            Blood_normal   \n",
       "C3L-00008            Blood_normal   \n",
       "C3L-00032            Blood_normal   \n",
       "C3L-00090            Blood_normal   \n",
       "C3L-00098            Blood_normal   \n",
       "\n",
       "Name                                      WXS_normal_filename  \\\n",
       "Patient_ID                                                      \n",
       "C3L-00006   92b5e534-6cb0-43eb-8147-ce7d18526f5e_gdc_realn...   \n",
       "C3L-00008   243bfb3c-d06b-4de5-a6c3-7fa7e2c5fb74_gdc_realn...   \n",
       "C3L-00032   97e153c1-7be4-4d7b-9d30-9545b56e6ddb_gdc_realn...   \n",
       "C3L-00090   7959d3f4-80cb-45f5-99ea-248ac2059877_gdc_realn...   \n",
       "C3L-00098   0f46b9b0-6bff-4156-b505-669d72cc9428_gdc_realn...   \n",
       "\n",
       "Name                             WXS_normal_UUID WXS_tumor_sample_type  ...  \\\n",
       "Patient_ID                                                              ...   \n",
       "C3L-00006   53dbb4d6-ce9d-4145-a33a-0c4d67e655df                 Tumor  ...   \n",
       "C3L-00008   90257622-6bcc-43e7-a04f-f7397975d038                 Tumor  ...   \n",
       "C3L-00032   75a4369c-5247-427d-aabc-3157d08f2d8f                 Tumor  ...   \n",
       "C3L-00090   d74368b7-1924-4c44-8079-1858f7ebf85a                 Tumor  ...   \n",
       "C3L-00098   b58bdcce-b807-4958-814d-3576dee3ae0c                 Tumor  ...   \n",
       "\n",
       "Name       RNAseq_R1_sample_type  \\\n",
       "Patient_ID                         \n",
       "C3L-00006                  Tumor   \n",
       "C3L-00008                  Tumor   \n",
       "C3L-00032                  Tumor   \n",
       "C3L-00090                  Tumor   \n",
       "C3L-00098                  Tumor   \n",
       "\n",
       "Name                                       RNAseq_R1_filename  \\\n",
       "Patient_ID                                                      \n",
       "C3L-00006   170802_UNC31-K00269_0072_AHK3GVBBXX_TAGCTT_S17...   \n",
       "C3L-00008   170802_UNC31-K00269_0072_AHK3GVBBXX_GGCTAC_S22...   \n",
       "C3L-00032   170802_UNC31-K00269_0072_AHK3GVBBXX_GTCCGC_S18...   \n",
       "C3L-00090   170802_UNC31-K00269_0072_AHK3GVBBXX_GAGTGG_S10...   \n",
       "C3L-00098   170802_UNC31-K00269_0072_AHK3GVBBXX_TTAGGC_S8_...   \n",
       "\n",
       "Name                              RNAseq_R1_UUID RNAseq_R2_sample_type  \\\n",
       "Patient_ID                                                               \n",
       "C3L-00006   8a1efc47-1c29-417f-a425-cdbd09565dcb                 Tumor   \n",
       "C3L-00008   555725e8-cba5-4676-9b0a-80100cbf9f47                 Tumor   \n",
       "C3L-00032   9ae968f3-691d-4db3-9977-1ab3e5af9085                 Tumor   \n",
       "C3L-00090   8ce5618d-9ff6-40f9-aeea-8d8e1633ae38                 Tumor   \n",
       "C3L-00098   31252ba9-e052-4b77-809a-f936379ae00c                 Tumor   \n",
       "\n",
       "Name                                       RNAseq_R2_filename  \\\n",
       "Patient_ID                                                      \n",
       "C3L-00006   170802_UNC31-K00269_0072_AHK3GVBBXX_TAGCTT_S17...   \n",
       "C3L-00008   170802_UNC31-K00269_0072_AHK3GVBBXX_GGCTAC_S22...   \n",
       "C3L-00032   170802_UNC31-K00269_0072_AHK3GVBBXX_GTCCGC_S18...   \n",
       "C3L-00090   170802_UNC31-K00269_0072_AHK3GVBBXX_GAGTGG_S10...   \n",
       "C3L-00098   170802_UNC31-K00269_0072_AHK3GVBBXX_TTAGGC_S8_...   \n",
       "\n",
       "Name                              RNAseq_R2_UUID miRNAseq_sample_type  \\\n",
       "Patient_ID                                                              \n",
       "C3L-00006   8c3fe9b7-7acd-4867-8d9c-a8e5d1516eda                Tumor   \n",
       "C3L-00008   15235b12-b67a-4678-acc4-ed03d642bd5e                Tumor   \n",
       "C3L-00032   423b6b09-02aa-4f47-9241-f75c1dad1161                Tumor   \n",
       "C3L-00090   06d3fd4a-a623-4146-8500-4f1f17235253                Tumor   \n",
       "C3L-00098   23be22ae-de50-4d74-a7c0-c890adbc662a                  NaN   \n",
       "\n",
       "Name                               miRNAseq_UUID Methylation_available  \\\n",
       "Patient_ID                                                               \n",
       "C3L-00006   37bcba98-1094-459e-83ae-c23a602416fb                   YES   \n",
       "C3L-00008   492b50d8-ec35-46e7-a65d-06512aaee394                   YES   \n",
       "C3L-00032   1794ff56-db2d-4d1a-8758-cab7fe3d98c1                   YES   \n",
       "C3L-00090   a6524c2d-d7dd-4629-980e-b45dbdc92c49                   YES   \n",
       "C3L-00098                                    NaN                   YES   \n",
       "\n",
       "Name       Methylation_quality  \n",
       "Patient_ID                      \n",
       "C3L-00006                 PASS  \n",
       "C3L-00008                 PASS  \n",
       "C3L-00032                 PASS  \n",
       "C3L-00090                 PASS  \n",
       "C3L-00098                 PASS  \n",
       "\n",
       "[5 rows x 26 columns]"
      ]
     },
     "execution_count": 16,
     "metadata": {},
     "output_type": "execute_result"
    }
   ],
   "source": [
    "# This periodicity can be explained from the experimental design:\n",
    "\n",
    "exp_des = en.get_experimental_design()\n",
    "exp_des.head()"
   ]
  },
  {
   "cell_type": "code",
   "execution_count": 17,
   "metadata": {},
   "outputs": [
    {
     "data": {
      "text/plain": [
       "17    9\n",
       "8     9\n",
       "3     9\n",
       "4     9\n",
       "5     9\n",
       "6     9\n",
       "7     9\n",
       "9     9\n",
       "12    9\n",
       "14    9\n",
       "1     9\n",
       "16    8\n",
       "13    8\n",
       "15    8\n",
       "2     8\n",
       "10    7\n",
       "11    6\n",
       "Name: Proteomics_TMT_plex, dtype: int64"
      ]
     },
     "execution_count": 17,
     "metadata": {},
     "output_type": "execute_result"
    }
   ],
   "source": [
    "exp_des['Proteomics_TMT_plex'].value_counts()\n",
    "# This traslates to 9 instances of 17, 9 instances of 8, etc.\n",
    "# When a protein isn't detected it's not detected for that whole plex, hence the periodicity of the missing values.\n",
    "# NB This function is EXTREMELY helpful for making sure that categorical table has the correct values in it. "
   ]
  },
  {
   "cell_type": "markdown",
   "metadata": {},
   "source": [
    "### challenge: prove to yourself that this is a batch effect. "
   ]
  },
  {
   "cell_type": "markdown",
   "metadata": {},
   "source": [
    "# Defining biological questions to decide on a machine learning approach\n",
    "\n",
    "Endometrial cancer subtypes are defined from genomics--DNA sequencing--based on the pattern of mutations. Do these subtypes really represent functional differences at the protein level? Specifically focusing on the micro-satellite instability-high (MSI-H) subtype. \n",
    "+ Can we make a classifier that can predict the MSI-H subtype based on protein expression?\n",
    "\n",
    "We want to design an *in situ* hybridization (ISH) experiment that can find MSI-H cases. \n",
    "+ What protein expression features are the most predictive of MSI-H genomic phenotype?\n",
    "\n",
    "Let's use machine learning with sklearn to answer these questions"
   ]
  },
  {
   "cell_type": "markdown",
   "metadata": {},
   "source": [
    "# Scikit-learn\n",
    "\n",
    "## Preprocessing\n",
    "\n",
    "1. We don't want to predict on features withmany missing values, it is more likely to be over fitting. **Remove features with many missing values**. \n",
    "\n",
    "2. Features without much variation are unlikely to be informative, and will just add to the curse of dimensionality. **Remove features with low variance**. \n",
    "\n",
    "3. Most ML algorithms cannot tolerate any missing values. **Impute remaining missing values**"
   ]
  },
  {
   "cell_type": "code",
   "execution_count": 53,
   "metadata": {},
   "outputs": [],
   "source": [
    "data = df.copy()"
   ]
  },
  {
   "cell_type": "code",
   "execution_count": 54,
   "metadata": {},
   "outputs": [
    {
     "data": {
      "text/plain": [
       "(144, 10999)"
      ]
     },
     "execution_count": 54,
     "metadata": {},
     "output_type": "execute_result"
    }
   ],
   "source": [
    "data.shape"
   ]
  },
  {
   "cell_type": "code",
   "execution_count": 57,
   "metadata": {},
   "outputs": [
    {
     "data": {
      "text/plain": [
       "72"
      ]
     },
     "execution_count": 57,
     "metadata": {},
     "output_type": "execute_result"
    }
   ],
   "source": [
    "int(len(data)*0.5)"
   ]
  },
  {
   "cell_type": "code",
   "execution_count": 58,
   "metadata": {},
   "outputs": [],
   "source": [
    "data = data.dropna(thresh=int(len(data)*0.5), axis=1)"
   ]
  },
  {
   "cell_type": "code",
   "execution_count": 59,
   "metadata": {},
   "outputs": [
    {
     "data": {
      "text/plain": [
       "(144, 9868)"
      ]
     },
     "execution_count": 59,
     "metadata": {},
     "output_type": "execute_result"
    }
   ],
   "source": [
    "data.shape"
   ]
  },
  {
   "cell_type": "code",
   "execution_count": 60,
   "metadata": {},
   "outputs": [],
   "source": [
    "model = impute.KNNImputer(n_neighbors=3)\n",
    "\n",
    "imputed_data = model.fit_transform(data)"
   ]
  },
  {
   "cell_type": "code",
   "execution_count": 62,
   "metadata": {},
   "outputs": [
    {
     "data": {
      "text/plain": [
       "(144, 9868)"
      ]
     },
     "execution_count": 62,
     "metadata": {},
     "output_type": "execute_result"
    }
   ],
   "source": [
    "imputed_data.shape"
   ]
  },
  {
   "cell_type": "code",
   "execution_count": 63,
   "metadata": {},
   "outputs": [],
   "source": [
    "imputed_data = pd.DataFrame(imputed_data, index=data.index, columns=data.columns)"
   ]
  },
  {
   "cell_type": "code",
   "execution_count": 67,
   "metadata": {},
   "outputs": [
    {
     "data": {
      "text/plain": [
       "0"
      ]
     },
     "execution_count": 67,
     "metadata": {},
     "output_type": "execute_result"
    }
   ],
   "source": [
    "imputed_data.isnull().sum().sum()"
   ]
  },
  {
   "cell_type": "code",
   "execution_count": 69,
   "metadata": {},
   "outputs": [
    {
     "data": {
      "text/plain": [
       "Patient_ID\n",
       "C3L-00006            MSI-H\n",
       "C3L-00008            MSI-H\n",
       "C3L-00032          CNV_low\n",
       "C3L-00090          CNV_low\n",
       "C3L-00098         CNV_high\n",
       "                 ...      \n",
       "NX5.N        Normal tissue\n",
       "NX6.N        Normal tissue\n",
       "NX7.N        Normal tissue\n",
       "NX8.N        Normal tissue\n",
       "NX9.N        Normal tissue\n",
       "Name: Genomics_subtype, Length: 144, dtype: object"
      ]
     },
     "execution_count": 69,
     "metadata": {},
     "output_type": "execute_result"
    }
   ],
   "source": [
    "sample_annotations['Genomics_subtype']"
   ]
  },
  {
   "cell_type": "code",
   "execution_count": 22,
   "metadata": {},
   "outputs": [],
   "source": [
    "sample_annotations.loc[sample_annotations['Genomics_subtype'].isnull(), 'Genomics_subtype'] = 'Normal tissue'"
   ]
  },
  {
   "cell_type": "code",
   "execution_count": 70,
   "metadata": {},
   "outputs": [
    {
     "data": {
      "text/html": [
       "<div>\n",
       "<style scoped>\n",
       "    .dataframe tbody tr th:only-of-type {\n",
       "        vertical-align: middle;\n",
       "    }\n",
       "\n",
       "    .dataframe tbody tr th {\n",
       "        vertical-align: top;\n",
       "    }\n",
       "\n",
       "    .dataframe thead th {\n",
       "        text-align: right;\n",
       "    }\n",
       "</style>\n",
       "<table border=\"1\" class=\"dataframe\">\n",
       "  <thead>\n",
       "    <tr style=\"text-align: right;\">\n",
       "      <th></th>\n",
       "      <th>PC1</th>\n",
       "      <th>PC2</th>\n",
       "      <th>Genomics_subtype</th>\n",
       "    </tr>\n",
       "    <tr>\n",
       "      <th>Patient_ID</th>\n",
       "      <th></th>\n",
       "      <th></th>\n",
       "      <th></th>\n",
       "    </tr>\n",
       "  </thead>\n",
       "  <tbody>\n",
       "    <tr>\n",
       "      <th>C3L-00006</th>\n",
       "      <td>-23.686246</td>\n",
       "      <td>1.284108</td>\n",
       "      <td>MSI-H</td>\n",
       "    </tr>\n",
       "    <tr>\n",
       "      <th>C3L-00008</th>\n",
       "      <td>-22.390845</td>\n",
       "      <td>4.989212</td>\n",
       "      <td>MSI-H</td>\n",
       "    </tr>\n",
       "    <tr>\n",
       "      <th>C3L-00032</th>\n",
       "      <td>-5.830841</td>\n",
       "      <td>-11.773179</td>\n",
       "      <td>CNV_low</td>\n",
       "    </tr>\n",
       "    <tr>\n",
       "      <th>C3L-00090</th>\n",
       "      <td>-19.667623</td>\n",
       "      <td>-5.545731</td>\n",
       "      <td>CNV_low</td>\n",
       "    </tr>\n",
       "    <tr>\n",
       "      <th>C3L-00098</th>\n",
       "      <td>-38.812530</td>\n",
       "      <td>30.881887</td>\n",
       "      <td>CNV_high</td>\n",
       "    </tr>\n",
       "    <tr>\n",
       "      <th>...</th>\n",
       "      <td>...</td>\n",
       "      <td>...</td>\n",
       "      <td>...</td>\n",
       "    </tr>\n",
       "    <tr>\n",
       "      <th>C3N-01520</th>\n",
       "      <td>-26.502764</td>\n",
       "      <td>6.705697</td>\n",
       "      <td>MSI-H</td>\n",
       "    </tr>\n",
       "    <tr>\n",
       "      <th>C3N-01521</th>\n",
       "      <td>-31.366465</td>\n",
       "      <td>13.660191</td>\n",
       "      <td>CNV_high</td>\n",
       "    </tr>\n",
       "    <tr>\n",
       "      <th>C3N-01537</th>\n",
       "      <td>-9.433915</td>\n",
       "      <td>12.580585</td>\n",
       "      <td>CNV_high</td>\n",
       "    </tr>\n",
       "    <tr>\n",
       "      <th>C3N-01802</th>\n",
       "      <td>-11.850729</td>\n",
       "      <td>5.028707</td>\n",
       "      <td>CNV_high</td>\n",
       "    </tr>\n",
       "    <tr>\n",
       "      <th>C3N-01825</th>\n",
       "      <td>41.527031</td>\n",
       "      <td>-3.951833</td>\n",
       "      <td>CNV_high</td>\n",
       "    </tr>\n",
       "  </tbody>\n",
       "</table>\n",
       "<p>95 rows × 3 columns</p>\n",
       "</div>"
      ],
      "text/plain": [
       "                  PC1        PC2 Genomics_subtype\n",
       "Patient_ID                                       \n",
       "C3L-00006  -23.686246   1.284108            MSI-H\n",
       "C3L-00008  -22.390845   4.989212            MSI-H\n",
       "C3L-00032   -5.830841 -11.773179          CNV_low\n",
       "C3L-00090  -19.667623  -5.545731          CNV_low\n",
       "C3L-00098  -38.812530  30.881887         CNV_high\n",
       "...               ...        ...              ...\n",
       "C3N-01520  -26.502764   6.705697            MSI-H\n",
       "C3N-01521  -31.366465  13.660191         CNV_high\n",
       "C3N-01537   -9.433915  12.580585         CNV_high\n",
       "C3N-01802  -11.850729   5.028707         CNV_high\n",
       "C3N-01825   41.527031  -3.951833         CNV_high\n",
       "\n",
       "[95 rows x 3 columns]"
      ]
     },
     "execution_count": 70,
     "metadata": {},
     "output_type": "execute_result"
    }
   ],
   "source": [
    "pca_transformed"
   ]
  },
  {
   "cell_type": "code",
   "execution_count": 71,
   "metadata": {},
   "outputs": [
    {
     "data": {
      "text/plain": [
       "Text(57.355033791666685, 0.5, 'PC1 - 0.07 explained variance')"
      ]
     },
     "execution_count": 71,
     "metadata": {},
     "output_type": "execute_result"
    },
    {
     "data": {
      "image/png": "[encoded data removed]",
      "text/plain": [
       "<Figure size 498.855x360 with 1 Axes>"
      ]
     },
     "metadata": {},
     "output_type": "display_data"
    }
   ],
   "source": [
    "pca = decomposition.PCA(n_components=2)\n",
    "pca_transformed = pca.fit_transform(imputed_data)\n",
    "pca_transformed = pd.DataFrame(pca_transformed, index=imputed_data.index, columns=['PC1', 'PC2'])\n",
    "pca_transformed = pd.concat([pca_transformed, sample_annotations[['Genomics_subtype']]], axis=1)\n",
    "\n",
    "sns.lmplot(x='PC1', y='PC2', data=pca_transformed, hue='Genomics_subtype', fit_reg=False)\n",
    "plt.xlabel('PC1 - %.2f explained variance'  % pca.explained_variance_ratio_[0])\n",
    "plt.ylabel('PC1 - %.2f explained variance'  % pca.explained_variance_ratio_[1])"
   ]
  },
  {
   "cell_type": "code",
   "execution_count": 24,
   "metadata": {},
   "outputs": [
    {
     "data": {
      "text/plain": [
       "Text(53.179157055555564, 0.5, 'PC1 - 0.09 explained variance')"
      ]
     },
     "execution_count": 24,
     "metadata": {},
     "output_type": "execute_result"
    },
    {
     "data": {
      "image/png": "[encoded data removed]",
      "text/plain": [
       "<Figure size 476.98x360 with 1 Axes>"
      ]
     },
     "metadata": {},
     "output_type": "display_data"
    }
   ],
   "source": [
    "# Removing normal samples. They're adding HUGE variation in the data without a lot of information. \n",
    "tumors = imputed_data.loc[sample_types['Tumor']]\n",
    "\n",
    "pca = decomposition.PCA(n_components=2)\n",
    "pca_transformed = pca.fit_transform(tumors)\n",
    "pca_transformed = pd.DataFrame(pca_transformed, index=tumors.index, columns=['PC1', 'PC2'])\n",
    "pca_transformed = pd.concat([pca_transformed, sample_annotations[['Genomics_subtype']]], join='inner', axis=1)\n",
    "\n",
    "sns.lmplot(x='PC1', y='PC2', data=pca_transformed, hue='Genomics_subtype', fit_reg=False)\n",
    "plt.xlabel('PC1 - %.2f explained variance'  % pca.explained_variance_ratio_[0])\n",
    "plt.ylabel('PC1 - %.2f explained variance'  % pca.explained_variance_ratio_[1])"
   ]
  },
  {
   "cell_type": "markdown",
   "metadata": {},
   "source": [
    "### PCA doesn't make this problem look easy. "
   ]
  },
  {
   "cell_type": "code",
   "execution_count": 25,
   "metadata": {},
   "outputs": [],
   "source": [
    "# Let's go back and make sure that the TUMORS have at least 50% values there. \n",
    "\n",
    "temp = data.loc[sample_types['Tumor']].dropna(thresh=int(len(data)*0.5), axis=1)\n",
    "\n",
    "model = impute.KNNImputer(n_neighbors=3)\n",
    "tumors = model.fit_transform(temp)\n",
    "tumors = pd.DataFrame(tumors, index=temp.index, columns=temp.columns)"
   ]
  },
  {
   "cell_type": "code",
   "execution_count": 75,
   "metadata": {},
   "outputs": [
    {
     "data": {
      "text/plain": [
       "Name\n",
       "A1BG      0.578724\n",
       "A2M       0.724195\n",
       "A2ML1     1.203397\n",
       "AACS      0.549711\n",
       "AADAT     0.631638\n",
       "            ...   \n",
       "ZWILCH    0.554500\n",
       "ZWINT     0.528083\n",
       "ZXDC      0.450050\n",
       "ZYX       0.675080\n",
       "ZZZ3      0.311229\n",
       "Length: 7357, dtype: float64"
      ]
     },
     "execution_count": 75,
     "metadata": {},
     "output_type": "execute_result"
    }
   ],
   "source": [
    "tumors.std()"
   ]
  },
  {
   "cell_type": "code",
   "execution_count": 26,
   "metadata": {},
   "outputs": [
    {
     "data": {
      "text/plain": [
       "[<matplotlib.lines.Line2D at 0x12d220198>]"
      ]
     },
     "execution_count": 26,
     "metadata": {},
     "output_type": "execute_result"
    },
    {
     "data": {
      "image/png": "[encoded data removed]",
      "text/plain": [
       "<Figure size 432x288 with 1 Axes>"
      ]
     },
     "metadata": {},
     "output_type": "display_data"
    }
   ],
   "source": [
    "# Filter for high variance\n",
    "ax = sns.distplot(tumors.std())\n",
    "plt.plot([0.3, 0.3], ax.get_ylim())"
   ]
  },
  {
   "cell_type": "code",
   "execution_count": 27,
   "metadata": {},
   "outputs": [],
   "source": [
    "# let's take genes with a std > 0.3\n",
    "\n",
    "tumors = tumors.loc[:, (tumors.std()> 0.3)]"
   ]
  },
  {
   "cell_type": "code",
   "execution_count": 28,
   "metadata": {},
   "outputs": [
    {
     "data": {
      "text/plain": [
       "(95, 7357)"
      ]
     },
     "execution_count": 28,
     "metadata": {},
     "output_type": "execute_result"
    }
   ],
   "source": [
    "tumors.shape"
   ]
  },
  {
   "cell_type": "markdown",
   "metadata": {},
   "source": [
    "### Let's see how well logitistic regression does. "
   ]
  },
  {
   "cell_type": "code",
   "execution_count": 77,
   "metadata": {},
   "outputs": [
    {
     "data": {
      "text/plain": [
       "Patient_ID\n",
       "C3L-00006       MSI-H\n",
       "C3L-00008       MSI-H\n",
       "C3L-00032     CNV_low\n",
       "C3L-00090     CNV_low\n",
       "C3L-00098    CNV_high\n",
       "               ...   \n",
       "C3N-01520       MSI-H\n",
       "C3N-01521    CNV_high\n",
       "C3N-01537    CNV_high\n",
       "C3N-01802    CNV_high\n",
       "C3N-01825    CNV_high\n",
       "Name: Genomics_subtype, Length: 95, dtype: object"
      ]
     },
     "execution_count": 77,
     "metadata": {},
     "output_type": "execute_result"
    }
   ],
   "source": [
    "sample_annotations.loc[tumors.index, 'Genomics_subtype'] == 'MSI-H'"
   ]
  },
  {
   "cell_type": "code",
   "execution_count": 29,
   "metadata": {},
   "outputs": [
    {
     "data": {
      "text/plain": [
       "Patient_ID\n",
       "C3L-00006     True\n",
       "C3L-00008     True\n",
       "C3L-00032    False\n",
       "C3L-00090    False\n",
       "C3L-00098    False\n",
       "             ...  \n",
       "C3N-01520     True\n",
       "C3N-01521    False\n",
       "C3N-01537    False\n",
       "C3N-01802    False\n",
       "C3N-01825    False\n",
       "Name: Genomics_subtype, Length: 95, dtype: bool"
      ]
     },
     "execution_count": 29,
     "metadata": {},
     "output_type": "execute_result"
    }
   ],
   "source": [
    "labels = (sample_annotations.loc[tumors.index, 'Genomics_subtype'] == 'MSI-H')\n",
    "labels"
   ]
  },
  {
   "cell_type": "code",
   "execution_count": 30,
   "metadata": {},
   "outputs": [
    {
     "name": "stdout",
     "output_type": "stream",
     "text": [
      "(76, 7357)\n",
      "(19, 7357)\n",
      "(76,)\n",
      "(19,)\n"
     ]
    }
   ],
   "source": [
    "X_train, X_test, y_train, y_test = model_selection.train_test_split(\n",
    "    tumors, labels, test_size=0.2\n",
    ")\n",
    "print(X_train.shape)\n",
    "print(X_test.shape)\n",
    "print(y_train.shape)\n",
    "print(y_test.shape)"
   ]
  },
  {
   "cell_type": "code",
   "execution_count": 80,
   "metadata": {},
   "outputs": [
    {
     "name": "stdout",
     "output_type": "stream",
     "text": [
      "0.8947368421052632\n"
     ]
    }
   ],
   "source": [
    "# create a new logistic regression model\n",
    "# There are many different solvers: \n",
    "# .  https://scikit-learn.org/stable/modules/generated/sklearn.linear_model.LogisticRegression.html\n",
    "#   They all have their strenghts/weaknesses\n",
    "classifier = linear_model.LogisticRegression(random_state=0, solver='lbfgs')\n",
    "\n",
    "\n",
    "# train the model using the training data\n",
    "classifier.fit(X_train, y_train)\n",
    "\n",
    "\n",
    "# now that the model has been trained, predict the classes in the test set\n",
    "pred = classifier.predict(X_test)\n",
    "\n",
    "\n",
    "# predict outputs labels, decision_function outputs the confidence scores\n",
    "y_scores = classifier.decision_function(X_test)\n",
    "\n",
    "\n",
    "# print the accuracy sum(predicted == actual) / len(labels)\n",
    "print(accuracy_score(y_test, pred))"
   ]
  },
  {
   "cell_type": "code",
   "execution_count": 81,
   "metadata": {},
   "outputs": [
    {
     "data": {
      "text/plain": [
       "array([False, False, False, False, False, False, False, False, False,\n",
       "       False, False, False, False, False, False, False,  True, False,\n",
       "       False])"
      ]
     },
     "execution_count": 81,
     "metadata": {},
     "output_type": "execute_result"
    }
   ],
   "source": [
    "pred"
   ]
  },
  {
   "cell_type": "code",
   "execution_count": 82,
   "metadata": {},
   "outputs": [
    {
     "data": {
      "text/plain": [
       "array([-8.32220673, -0.77409334, -4.68666455, -6.56502055, -3.03885613,\n",
       "       -8.68076669, -6.93225721, -1.37916424, -0.73131268, -4.34243332,\n",
       "       -1.93496474, -4.79230305, -3.58163441, -6.70921565, -7.52553154,\n",
       "       -3.70588923,  0.82130661, -3.94599485, -3.65850989])"
      ]
     },
     "execution_count": 82,
     "metadata": {},
     "output_type": "execute_result"
    }
   ],
   "source": [
    "y_scores"
   ]
  },
  {
   "cell_type": "code",
   "execution_count": 32,
   "metadata": {},
   "outputs": [
    {
     "data": {
      "text/plain": [
       "0.8947368421052632"
      ]
     },
     "execution_count": 32,
     "metadata": {},
     "output_type": "execute_result"
    }
   ],
   "source": [
    "# scoring the model will return the accuracy\n",
    "# this uses the test features and test labels\n",
    "classifier.score(X_test, y_test)"
   ]
  },
  {
   "cell_type": "code",
   "execution_count": 33,
   "metadata": {},
   "outputs": [],
   "source": [
    "# the roc curve function takes the true labels and confidence scores\n",
    "#  do not use the predicted labels as this will not calculate the correct curve\n",
    "fpr, tpr, _ = roc_curve(y_test, y_scores)\n",
    "# auc is caculated using the false positive rate and true positive rate\n",
    "roc_auc = auc(fpr, tpr)"
   ]
  },
  {
   "cell_type": "code",
   "execution_count": 84,
   "metadata": {},
   "outputs": [
    {
     "data": {
      "text/plain": [
       "array([-8.32220673, -0.77409334, -4.68666455, -6.56502055, -3.03885613,\n",
       "       -8.68076669, -6.93225721, -1.37916424, -0.73131268, -4.34243332,\n",
       "       -1.93496474, -4.79230305, -3.58163441, -6.70921565, -7.52553154,\n",
       "       -3.70588923,  0.82130661, -3.94599485, -3.65850989])"
      ]
     },
     "execution_count": 84,
     "metadata": {},
     "output_type": "execute_result"
    }
   ],
   "source": [
    "y_scores"
   ]
  },
  {
   "cell_type": "code",
   "execution_count": 85,
   "metadata": {},
   "outputs": [
    {
     "data": {
      "text/plain": [
       "array([0.        , 0.33333333, 0.66666667, 0.66666667, 1.        ,\n",
       "       1.        ])"
      ]
     },
     "execution_count": 85,
     "metadata": {},
     "output_type": "execute_result"
    }
   ],
   "source": [
    "tpr"
   ]
  },
  {
   "cell_type": "code",
   "execution_count": 83,
   "metadata": {},
   "outputs": [
    {
     "data": {
      "text/plain": [
       "array([0.    , 0.    , 0.    , 0.0625, 0.0625, 1.    ])"
      ]
     },
     "execution_count": 83,
     "metadata": {},
     "output_type": "execute_result"
    }
   ],
   "source": [
    "fpr"
   ]
  },
  {
   "cell_type": "code",
   "execution_count": 86,
   "metadata": {},
   "outputs": [
    {
     "data": {
      "text/plain": [
       "0.9791666666666666"
      ]
     },
     "execution_count": 86,
     "metadata": {},
     "output_type": "execute_result"
    }
   ],
   "source": [
    "roc_auc"
   ]
  },
  {
   "cell_type": "markdown",
   "metadata": {},
   "source": [
    "# Visualize results"
   ]
  },
  {
   "cell_type": "code",
   "execution_count": 34,
   "metadata": {},
   "outputs": [
    {
     "data": {
      "image/png": "[encoded data removed]",
      "text/plain": [
       "<Figure size 432x288 with 1 Axes>"
      ]
     },
     "metadata": {},
     "output_type": "display_data"
    }
   ],
   "source": [
    "# FROM SKLEARN DOCS: https://scikit-learn.org/stable/auto_examples/model_selection/plot_roc.html#sphx-glr-auto-examples-model-selection-plot-roc-py\n",
    "# Plot the ROC curve using the previously calculated values\n",
    "\n",
    "plt.figure()\n",
    "lw = 2\n",
    "plt.plot(fpr, tpr, color='blue',\n",
    "         lw=lw, label='ROC curve (area = %0.2f)' % roc_auc)\n",
    "\n",
    "plt.xlim([0.0, 1.0])\n",
    "plt.ylim([0.0, 1.05])\n",
    "plt.xlabel('False Positive Rate')\n",
    "plt.ylabel('True Positive Rate')\n",
    "plt.title('Receiver operating characteristic example')\n",
    "plt.legend(loc=\"lower right\")\n",
    "plt.show()"
   ]
  },
  {
   "cell_type": "markdown",
   "metadata": {},
   "source": [
    "https://scikit-learn.org/stable/auto_examples/model_selection/plot_roc.html\n",
    "\n",
    "Now we have a classifier that can predict MSI-H status from protein expression data. That's great! "
   ]
  },
  {
   "cell_type": "markdown",
   "metadata": {},
   "source": [
    "# Question 2: what features are the most predictive?\n",
    "\n",
    "We could use these for a ISH experiment"
   ]
  },
  {
   "cell_type": "code",
   "execution_count": 35,
   "metadata": {},
   "outputs": [
    {
     "data": {
      "text/plain": [
       "(95, 7357)"
      ]
     },
     "execution_count": 35,
     "metadata": {},
     "output_type": "execute_result"
    }
   ],
   "source": [
    "tumors.shape"
   ]
  },
  {
   "cell_type": "code",
   "execution_count": 87,
   "metadata": {},
   "outputs": [
    {
     "data": {
      "text/plain": [
       "array([[-0.00622801,  0.00243918, -0.02518165, ..., -0.00056879,\n",
       "         0.00238448, -0.00311786]])"
      ]
     },
     "execution_count": 87,
     "metadata": {},
     "output_type": "execute_result"
    }
   ],
   "source": [
    "classifier.coef_"
   ]
  },
  {
   "cell_type": "code",
   "execution_count": 36,
   "metadata": {},
   "outputs": [
    {
     "data": {
      "text/plain": [
       "(1, 7357)"
      ]
     },
     "execution_count": 36,
     "metadata": {},
     "output_type": "execute_result"
    }
   ],
   "source": [
    "classifier.coef_.shape"
   ]
  },
  {
   "cell_type": "code",
   "execution_count": 37,
   "metadata": {},
   "outputs": [
    {
     "data": {
      "text/html": [
       "<div>\n",
       "<style scoped>\n",
       "    .dataframe tbody tr th:only-of-type {\n",
       "        vertical-align: middle;\n",
       "    }\n",
       "\n",
       "    .dataframe tbody tr th {\n",
       "        vertical-align: top;\n",
       "    }\n",
       "\n",
       "    .dataframe thead th {\n",
       "        text-align: right;\n",
       "    }\n",
       "</style>\n",
       "<table border=\"1\" class=\"dataframe\">\n",
       "  <thead>\n",
       "    <tr style=\"text-align: right;\">\n",
       "      <th></th>\n",
       "      <th>coefficients</th>\n",
       "    </tr>\n",
       "    <tr>\n",
       "      <th>Name</th>\n",
       "      <th></th>\n",
       "    </tr>\n",
       "  </thead>\n",
       "  <tbody>\n",
       "    <tr>\n",
       "      <th>MLH1</th>\n",
       "      <td>-0.094444</td>\n",
       "    </tr>\n",
       "    <tr>\n",
       "      <th>WIF1</th>\n",
       "      <td>-0.078616</td>\n",
       "    </tr>\n",
       "    <tr>\n",
       "      <th>PMS2</th>\n",
       "      <td>-0.074925</td>\n",
       "    </tr>\n",
       "    <tr>\n",
       "      <th>TUBB2B</th>\n",
       "      <td>-0.073181</td>\n",
       "    </tr>\n",
       "    <tr>\n",
       "      <th>HOXB7</th>\n",
       "      <td>-0.065876</td>\n",
       "    </tr>\n",
       "    <tr>\n",
       "      <th>...</th>\n",
       "      <td>...</td>\n",
       "    </tr>\n",
       "    <tr>\n",
       "      <th>ADH1C</th>\n",
       "      <td>0.061751</td>\n",
       "    </tr>\n",
       "    <tr>\n",
       "      <th>SERPINA5</th>\n",
       "      <td>0.062684</td>\n",
       "    </tr>\n",
       "    <tr>\n",
       "      <th>S100A1</th>\n",
       "      <td>0.078191</td>\n",
       "    </tr>\n",
       "    <tr>\n",
       "      <th>AKR1B10</th>\n",
       "      <td>0.087536</td>\n",
       "    </tr>\n",
       "    <tr>\n",
       "      <th>RPL22L1</th>\n",
       "      <td>0.169889</td>\n",
       "    </tr>\n",
       "  </tbody>\n",
       "</table>\n",
       "<p>7357 rows × 1 columns</p>\n",
       "</div>"
      ],
      "text/plain": [
       "          coefficients\n",
       "Name                  \n",
       "MLH1         -0.094444\n",
       "WIF1         -0.078616\n",
       "PMS2         -0.074925\n",
       "TUBB2B       -0.073181\n",
       "HOXB7        -0.065876\n",
       "...                ...\n",
       "ADH1C         0.061751\n",
       "SERPINA5      0.062684\n",
       "S100A1        0.078191\n",
       "AKR1B10       0.087536\n",
       "RPL22L1       0.169889\n",
       "\n",
       "[7357 rows x 1 columns]"
      ]
     },
     "execution_count": 37,
     "metadata": {},
     "output_type": "execute_result"
    }
   ],
   "source": [
    "coefficients = pd.DataFrame(classifier.coef_.T, index=tumors.columns, columns=['coefficients'])\n",
    "coefficients.sort_values('coefficients')\n",
    "# This ordered list of genes would be a good input for a GSEA analysis. "
   ]
  },
  {
   "cell_type": "code",
   "execution_count": 90,
   "metadata": {},
   "outputs": [
    {
     "data": {
      "text/plain": [
       "Index(['MLH1', 'WIF1', 'PMS2', 'TUBB2B', 'HOXB7'], dtype='object', name='Name')"
      ]
     },
     "execution_count": 90,
     "metadata": {},
     "output_type": "execute_result"
    }
   ],
   "source": [
    "coefficients.sort_values('coefficients').index[0:5]"
   ]
  },
  {
   "cell_type": "code",
   "execution_count": 91,
   "metadata": {},
   "outputs": [
    {
     "data": {
      "text/plain": [
       "Index(['ADH1C', 'SERPINA5', 'S100A1', 'AKR1B10', 'RPL22L1'], dtype='object', name='Name')"
      ]
     },
     "execution_count": 91,
     "metadata": {},
     "output_type": "execute_result"
    }
   ],
   "source": [
    "coefficients.sort_values('coefficients').index[-5:]"
   ]
  },
  {
   "cell_type": "code",
   "execution_count": 38,
   "metadata": {},
   "outputs": [
    {
     "name": "stdout",
     "output_type": "stream",
     "text": [
      "['MLH1', 'WIF1', 'PMS2', 'TUBB2B', 'HOXB7']\n",
      "['ADH1C', 'SERPINA5', 'S100A1', 'AKR1B10', 'RPL22L1']\n"
     ]
    }
   ],
   "source": [
    "top_negative_predictors = list(coefficients.sort_values('coefficients').index[0:5])\n",
    "print(top_negative_predictors)\n",
    "\n",
    "top_positive_predictors = list(coefficients.sort_values('coefficients').index[-5:])\n",
    "print(top_positive_predictors)\n",
    "\n",
    "genes_to_show = top_negative_predictors + top_positive_predictors"
   ]
  },
  {
   "cell_type": "code",
   "execution_count": 92,
   "metadata": {},
   "outputs": [
    {
     "data": {
      "text/plain": [
       "array(['MSI-H', 'CNV_low', 'CNV_high', 'POLE', 'Normal tissue'],\n",
       "      dtype=object)"
      ]
     },
     "execution_count": 92,
     "metadata": {},
     "output_type": "execute_result"
    }
   ],
   "source": [
    "subtypes"
   ]
  },
  {
   "cell_type": "code",
   "execution_count": 99,
   "metadata": {},
   "outputs": [
    {
     "data": {
      "text/plain": [
       "{'MSI-H': '#4c72b0',\n",
       " 'CNV_low': '#dd8452',\n",
       " 'CNV_high': '#55a868',\n",
       " 'POLE': '#c44e52',\n",
       " 'Normal tissue': '#8172b3'}"
      ]
     },
     "execution_count": 99,
     "metadata": {},
     "output_type": "execute_result"
    }
   ],
   "source": [
    "colors = dict(zip(subtypes, sns.color_palette(n_colors=len(subtypes)).as_hex()))"
   ]
  },
  {
   "cell_type": "code",
   "execution_count": 104,
   "metadata": {},
   "outputs": [
    {
     "data": {
      "text/html": [
       "<div>\n",
       "<style scoped>\n",
       "    .dataframe tbody tr th:only-of-type {\n",
       "        vertical-align: middle;\n",
       "    }\n",
       "\n",
       "    .dataframe tbody tr th {\n",
       "        vertical-align: top;\n",
       "    }\n",
       "\n",
       "    .dataframe thead th {\n",
       "        text-align: right;\n",
       "    }\n",
       "</style>\n",
       "<table border=\"1\" class=\"dataframe\">\n",
       "  <thead>\n",
       "    <tr style=\"text-align: right;\">\n",
       "      <th>Name</th>\n",
       "      <th>Genomics_subtype</th>\n",
       "    </tr>\n",
       "    <tr>\n",
       "      <th>Patient_ID</th>\n",
       "      <th></th>\n",
       "    </tr>\n",
       "  </thead>\n",
       "  <tbody>\n",
       "    <tr>\n",
       "      <th>C3L-00006</th>\n",
       "      <td>#4c72b0</td>\n",
       "    </tr>\n",
       "    <tr>\n",
       "      <th>C3L-00008</th>\n",
       "      <td>#4c72b0</td>\n",
       "    </tr>\n",
       "    <tr>\n",
       "      <th>C3L-00032</th>\n",
       "      <td>#dd8452</td>\n",
       "    </tr>\n",
       "    <tr>\n",
       "      <th>C3L-00090</th>\n",
       "      <td>#dd8452</td>\n",
       "    </tr>\n",
       "    <tr>\n",
       "      <th>C3L-00098</th>\n",
       "      <td>#55a868</td>\n",
       "    </tr>\n",
       "    <tr>\n",
       "      <th>...</th>\n",
       "      <td>...</td>\n",
       "    </tr>\n",
       "    <tr>\n",
       "      <th>NX5.N</th>\n",
       "      <td>#8172b3</td>\n",
       "    </tr>\n",
       "    <tr>\n",
       "      <th>NX6.N</th>\n",
       "      <td>#8172b3</td>\n",
       "    </tr>\n",
       "    <tr>\n",
       "      <th>NX7.N</th>\n",
       "      <td>#8172b3</td>\n",
       "    </tr>\n",
       "    <tr>\n",
       "      <th>NX8.N</th>\n",
       "      <td>#8172b3</td>\n",
       "    </tr>\n",
       "    <tr>\n",
       "      <th>NX9.N</th>\n",
       "      <td>#8172b3</td>\n",
       "    </tr>\n",
       "  </tbody>\n",
       "</table>\n",
       "<p>144 rows × 1 columns</p>\n",
       "</div>"
      ],
      "text/plain": [
       "Name       Genomics_subtype\n",
       "Patient_ID                 \n",
       "C3L-00006           #4c72b0\n",
       "C3L-00008           #4c72b0\n",
       "C3L-00032           #dd8452\n",
       "C3L-00090           #dd8452\n",
       "C3L-00098           #55a868\n",
       "...                     ...\n",
       "NX5.N               #8172b3\n",
       "NX6.N               #8172b3\n",
       "NX7.N               #8172b3\n",
       "NX8.N               #8172b3\n",
       "NX9.N               #8172b3\n",
       "\n",
       "[144 rows x 1 columns]"
      ]
     },
     "execution_count": 104,
     "metadata": {},
     "output_type": "execute_result"
    }
   ],
   "source": [
    "sample_annotations[['Genomics_subtype']].replace(colors)"
   ]
  },
  {
   "cell_type": "code",
   "execution_count": 106,
   "metadata": {},
   "outputs": [
    {
     "name": "stdout",
     "output_type": "stream",
     "text": [
      "dict_keys(['MSI-H', 'CNV_low', 'CNV_high', 'POLE', 'Normal tissue'])\n"
     ]
    },
    {
     "data": {
      "text/plain": [
       "<seaborn.matrix.ClusterGrid at 0x12f417940>"
      ]
     },
     "execution_count": 106,
     "metadata": {},
     "output_type": "execute_result"
    },
    {
     "data": {
      "image/png": "[encoded data removed]",
      "text/plain": [
       "<Figure size 360x72 with 1 Axes>"
      ]
     },
     "metadata": {},
     "output_type": "display_data"
    },
    {
     "data": {
      "image/png": "[encoded data removed]",
      "text/plain": [
       "<Figure size 720x720 with 5 Axes>"
      ]
     },
     "metadata": {},
     "output_type": "display_data"
    }
   ],
   "source": [
    "cmap = sns.diverging_palette(220, 10, as_cmap=True)\n",
    "cmap.set_bad('#BDBDBD')\n",
    "cmap.set_over('#9E031A')\n",
    "cmap.set_under('#0C4A60')\n",
    "\n",
    "subtypes = sample_annotations['Genomics_subtype'].unique()\n",
    "colors = dict(zip(subtypes, sns.color_palette(n_colors=len(subtypes)).as_hex()))\n",
    "\n",
    "row_order = sample_annotations['Genomics_subtype'].sort_values().index\n",
    "\n",
    "print(colors.keys())\n",
    "sns.palplot(colors.values())\n",
    "sns.clustermap(\n",
    "    imputed_data.loc[row_order, genes_to_show],\n",
    "    row_colors=sample_annotations[['Genomics_subtype']].replace(colors), \n",
    "    col_cluster=False, \n",
    "    row_cluster=False,\n",
    "    cmap=cmap,\n",
    "    vmin=-2.5, vmax=2.5,\n",
    ")"
   ]
  },
  {
   "cell_type": "markdown",
   "metadata": {},
   "source": [
    "## Cool! We re-discovered MLH1 missing expression as a marker. RPL22L1 looks like a good positive marker. "
   ]
  }
 ],
 "metadata": {
  "kernelspec": {
   "display_name": "Python 3",
   "language": "python",
   "name": "python3"
  },
  "language_info": {
   "codemirror_mode": {
    "name": "ipython",
    "version": 3
   },
   "file_extension": ".py",
   "mimetype": "text/x-python",
   "name": "python",
   "nbconvert_exporter": "python",
   "pygments_lexer": "ipython3",
   "version": "3.7.0"
  }
 },
 "nbformat": 4,
 "nbformat_minor": 4
}
