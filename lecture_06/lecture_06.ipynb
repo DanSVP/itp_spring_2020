{
 "cells": [
  {
   "cell_type": "code",
   "execution_count": null,
   "metadata": {},
   "outputs": [],
   "source": []
  },
  {
   "cell_type": "markdown",
   "metadata": {},
   "source": [
    "# Introduction to Python - Lecture 06 (21 April 2020)\n",
    "\n",
    "### Agenda for today:\n",
    "- Recap\n",
    "- Some more problems that combine concepts we have learned so far\n",
    "---"
   ]
  },
  {
   "cell_type": "markdown",
   "metadata": {},
   "source": [
    "## Conda\n",
    "\n",
    "Questions:\n",
    "+ What is conda?\n",
    "+ Why is it useful?\n",
    "+ How do you create a new environment?\n",
    "+ How do you activate an environment?"
   ]
  },
  {
   "cell_type": "markdown",
   "metadata": {},
   "source": [
    "Your answers here:\n"
   ]
  },
  {
   "cell_type": "markdown",
   "metadata": {},
   "source": [
    "## Git\n",
    "\n",
    "Questions:\n",
    "+ What is git?\n",
    "+ How do you initialize a repository?\n",
    "  + What does this mean?\n",
    "+ What are the steps to creating a commit?\n",
    "+ How are new changes from a remote repository applied?\n",
    "+ What are branches?\n",
    "+ What is the relationship between git and GitHub?"
   ]
  },
  {
   "cell_type": "markdown",
   "metadata": {},
   "source": [
    "Your answers here:\n"
   ]
  },
  {
   "cell_type": "markdown",
   "metadata": {},
   "source": [
    "# Python\n",
    "## Types (3 minutes)\n",
    "\n",
    "Questions:\n",
    "+ What are the four primitive types in python?\n",
    "+ What operators are available for each type?\n",
    "+ How do we find the available methods for each type?"
   ]
  },
  {
   "cell_type": "code",
   "execution_count": null,
   "metadata": {},
   "outputs": [],
   "source": [
    "1\n",
    "1.0\n",
    "True\n",
    "'text'\n",
    "\n",
    "#\n",
    "a = 1\n",
    "b = 2\n",
    "a + b\n",
    "a - b\n",
    "a / b\n",
    "a //b\n",
    "a * b\n",
    "a ** b\n",
    "\n",
    "# \n",
    "a = 'a'\n",
    "b = 'a'\n",
    "a + b\n",
    "a * 5\n",
    "\n"
   ]
  },
  {
   "cell_type": "code",
   "execution_count": null,
   "metadata": {},
   "outputs": [],
   "source": []
  },
  {
   "cell_type": "markdown",
   "metadata": {},
   "source": [
    "## Boolean Expressions\n",
    "\n",
    "Questions:\n",
    "+ What are the two boolean values?\n",
    "+ What would their corresponding representations be for each of the primitive types?\n",
    "+ What are the three boolean operators?\n"
   ]
  },
  {
   "cell_type": "code",
   "execution_count": null,
   "metadata": {},
   "outputs": [],
   "source": [
    "#True and False are int 1 and 0 in Python:\n",
    "False + 0 #returns 0\n",
    "True + 1 #returns 2"
   ]
  },
  {
   "cell_type": "markdown",
   "metadata": {},
   "source": [
    "## Control Flow\n",
    "\n",
    "Questions:\n",
    "+ What are the three control flow statements?\n",
    "+ What is the difference between the following examples?\n",
    "\n",
    "```python\n",
    "a = 5\n",
    "b = 6\n",
    "if a > b:\n",
    "    print('\"a\" is bigger')\n",
    "elif b > a:\n",
    "    print('\"b\" is bigger')\n",
    "elif a % 2 == 0:\n",
    "    print('\"a\" is even')\n",
    "elif b % 2 == 0:\n",
    "    print('\"b\" is even')\n",
    "```\n",
    "---\n",
    "```python\n",
    "a = 5\n",
    "b = 6\n",
    "if a > b:\n",
    "    print('\"a\" is bigger')\n",
    "if b > a:\n",
    "    print('\"b\" is bigger')\n",
    "if a % 2 == 0:\n",
    "    print('\"a\" is even')\n",
    "if b % 2 == 0:\n",
    "    print('\"b\" is even')\n",
    "```"
   ]
  },
  {
   "cell_type": "code",
   "execution_count": null,
   "metadata": {},
   "outputs": [],
   "source": [
    "a = 5\n",
    "b = 6\n",
    "if a > b:\n",
    "    print('\"a\" is bigger')\n",
    "elif b > a:\n",
    "    print('\"b\" is bigger')\n",
    "elif a % 2 == 0:\n",
    "    print('\"a\" is even')\n",
    "elif b % 2 == 0:\n",
    "    print('\"b\" is even')"
   ]
  },
  {
   "cell_type": "code",
   "execution_count": null,
   "metadata": {},
   "outputs": [],
   "source": [
    "a = 5\n",
    "b = 6\n",
    "if a > b:\n",
    "    print('\"a\" is bigger')\n",
    "if b > a:\n",
    "    print('\"b\" is bigger')\n",
    "if a % 2 == 0:\n",
    "    print('\"a\" is even')\n",
    "if b % 2 == 0:\n",
    "    print('\"b\" is even')"
   ]
  },
  {
   "cell_type": "markdown",
   "metadata": {},
   "source": [
    "## Lists\n",
    "\n",
    "Questions:\n",
    "+ What are lists?\n",
    "+ How are lists indexed\n",
    "+ Given this list how would I access 'X'\n",
    "```python\n",
    "lst = ['O', 'X', 'O']\n",
    "```\n",
    "+ Given this list how would I access 'X'\n",
    "```python\n",
    "lst = [\n",
    "    ['O', 'O', 'O'],\n",
    "    ['O', 'X', 'O'],\n",
    "    ['O', 'O', 'O']\n",
    "]\n",
    "```\n",
    "+ When indexing, what do the three values you can use mean [x:y:z]\n",
    "+ Given this code, what is output and its type?\n",
    "```python\n",
    "lst = ['A', 'B', 'C', 'D']\n",
    "lst[1:3]\n",
    "```\n",
    "+ The following code outputs **['F', 'E', 'D']**, what does each bracket do to the lst?\n",
    "```python\n",
    "lst = [\n",
    "    ['A', 'B', 'C'],\n",
    "    ['D', 'E', 'F'],\n",
    "    ['G', 'H', 'I']\n",
    "]\n",
    "lst[:2][::-1][0][::-1]\n",
    "#   __  ____  _  ____\n",
    "#   1    2    3   4\n",
    "```\n",
    "+ What makes tuples different from lists?\n",
    "+ Trick question, what does this output? why does that happen?\n",
    "```python\n",
    "lst = [['O', 'X', 'O']]*3\n",
    "lst[0][1] = 'O'\n",
    "lst\n",
    "```\n",
    "+ What do you think the following code does?\n",
    "```python\n",
    "a = [x for x in range(10)]\n",
    "a\n",
    "```"
   ]
  },
  {
   "cell_type": "code",
   "execution_count": null,
   "metadata": {},
   "outputs": [],
   "source": [
    "a = [[x for x in range(10)] for y in range(3)]\n",
    "a\n",
    "#x"
   ]
  },
  {
   "cell_type": "code",
   "execution_count": null,
   "metadata": {},
   "outputs": [],
   "source": [
    "a = []\n",
    "for y in range(3):\n",
    "    tmp = []\n",
    "    for x in range(10):\n",
    "        tmp.append(x)\n",
    "    a.append(tmp)\n",
    "#x"
   ]
  },
  {
   "cell_type": "code",
   "execution_count": null,
   "metadata": {},
   "outputs": [],
   "source": []
  },
  {
   "cell_type": "markdown",
   "metadata": {},
   "source": [
    "## Dictionaries\n",
    "\n",
    "Questions:\n",
    "+ What are dictionaries?\n",
    "+ What does {'a': 1}.keys() return\n",
    "+ What does {'a': 1}.values() return\n",
    "+ What does {'a': 1}.items() return\n",
    "+ What happens when a key is looked up that does not exist in the dictionary?\n",
    "+ What happens when a value is assigned to an existing key?\n",
    "+ What is the difference between the following code snippets\n",
    "\n",
    "```python\n",
    "char_map = {chr(x): x for x in range(97, 123)}\n",
    "for c in char_map.keys():\n",
    "    print(c)\n",
    "```\n",
    "---\n",
    "```python\n",
    "char_map = {chr(x): x for x in range(97, 123)}\n",
    "for c in char_map:\n",
    "    print(c)\n",
    "```\n",
    "+ What values will **a** and **b** hold in the following code?\n",
    "```python\n",
    "for a, b in char_map.items():\n",
    "    pass\n",
    "```"
   ]
  },
  {
   "cell_type": "code",
   "execution_count": null,
   "metadata": {},
   "outputs": [],
   "source": [
    "a = ['a', 'b', 'c', 'd']\n",
    "# list(enumerate(a))\n",
    "for idx, v in enumerate(a):\n",
    "    print(idx, v)"
   ]
  },
  {
   "cell_type": "code",
   "execution_count": null,
   "metadata": {},
   "outputs": [],
   "source": [
    "char_map = {chr(x): x for x in range(97, 123)}\n",
    "# idx = 0\n",
    "# for k, v in char_map.items():\n",
    "#     idx += 1\n",
    "#     print(idx, k, v)\n",
    "    \n",
    "# for it in enumerate(char_map.items()):\n",
    "#     idx = it[0]\n",
    "#     k = it[1][0]\n",
    "#     v = it[1][1]\n",
    "#     print(idx, k, v)\n",
    "    \n",
    "for idx, (k, v) in enumerate(char_map.items()):\n",
    "    print(idx, k, v)"
   ]
  },
  {
   "cell_type": "markdown",
   "metadata": {},
   "source": [
    "## For loops\n",
    "\n",
    "Questions:\n",
    "+ What are for loops used for?\n",
    "  + What do you need to know to construct a for loop?\n",
    "+ What is the relationship between list dimensions and for loops?\n",
    "+ How can we extract subsets of a 2d list?\n",
    "\n",
    "```python\n",
    "lst = [\n",
    "    [ 1,  2,  3,  4,  5],\n",
    "    [ 6,  7,  8,  9, 10],\n",
    "    [11, 12, 13, 14, 15],\n",
    "    [16, 17, 18, 19, 20],\n",
    "    [21, 22, 23, 24, 25]\n",
    "]\n",
    "# 1) Extract\n",
    "#     [ 6,  7,  8,  9,  10]\n",
    "#     --------------------\n",
    "# 2) Extract\n",
    "#     [1, 6, 11, 16, 21]\n",
    "#     --------------------\n",
    "# 3) Extract\n",
    "#     [\n",
    "#         [ 4],\n",
    "#         [ 9],\n",
    "#         [14],\n",
    "#         [19],\n",
    "#         [24]\n",
    "#     ]\n",
    "# ---------------------\n",
    "# 4) Extract\n",
    "#     [\n",
    "#         [3, 4, 5],\n",
    "#         [8, 9, 10],\n",
    "#     ]\n",
    "# ---------------------\n",
    "# 5) Extract\n",
    "#     [\n",
    "#        [ 1,  3,  5],\n",
    "#        [11, 13, 15],\n",
    "#        [21, 23, 25]\n",
    "#     ]\n",
    "\n",
    "```"
   ]
  },
  {
   "cell_type": "code",
   "execution_count": null,
   "metadata": {},
   "outputs": [],
   "source": [
    "lst = [\n",
    "  [ 1,  2,  3,  4,  5],\n",
    "  [ 6,  7,  8,  9, 10],\n",
    "  [11, 12, 13, 14, 15],\n",
    "  [16, 17, 18, 19, 20],\n",
    "  [21, 22, 23, 24, 25]\n",
    "]\n",
    "\n",
    "# tmp =[[i**2 for i in row] for row in lst]\n",
    "tmp = []\n",
    "for row in lst:\n",
    "    tmp_row = []\n",
    "    for col in row:\n",
    "        tmp_row.append(col**2)\n",
    "    tmp.append(tmp_row)\n",
    "\n",
    "tmp"
   ]
  },
  {
   "cell_type": "code",
   "execution_count": null,
   "metadata": {},
   "outputs": [],
   "source": [
    "# Extract\n",
    "#     [ 6,  7,  8,  9,  10]\n",
    "# lst[1]\n",
    "# Extract\n",
    "#     [1, 6, 11, 16, 21]\n",
    "# tmp = [row[0] for row in lst] \n",
    "# tmp = []\n",
    "# for row in lst:\n",
    "#     tmp.append(row[0])\n",
    "# tmp\n",
    "# Extract\n",
    "#     [\n",
    "#         [ 4],\n",
    "#         [ 9],\n",
    "#         [14],\n",
    "#         [19],\n",
    "#         [24]\n",
    "#     ]\n",
    "# tmp = []\n",
    "# for row in lst:\n",
    "#     tmp.append(row[3:4])\n",
    "# tmp\n",
    "\n",
    "# Extract\n",
    "#     [\n",
    "#         [3, 4, 5],\n",
    "#         [8, 9, 10],\n",
    "#     ]\n",
    "\n",
    "# tmp = []\n",
    "# for row in lst[:2]:\n",
    "#     tmp.append(row[2:5])\n",
    "# tmp\n",
    "# 5) Extract\n",
    "#     [\n",
    "#        [ 1,  3,  5],\n",
    "#        [11, 13, 15],\n",
    "#        [21, 23, 25]\n",
    "#     ]\n",
    "# tmp = []\n",
    "# for row in lst[::2]:\n",
    "#     tmp.append(row[::2])\n",
    "# tmp"
   ]
  },
  {
   "cell_type": "markdown",
   "metadata": {},
   "source": [
    "## Let's solve a children's math puzzle\n",
    "Below is a math puzzle for third graders in a town in Vietnam, that went viral through an [article in the guardian](https://www.theguardian.com/science/alexs-adventures-in-numberland/2015/may/20/can-you-do-the-maths-puzzle-for-vietnamese-eight-year-olds-that-has-stumped-parents-and-teachers). In the below \"number snake\", we have to insert the numbers from 1 to 9 so the equation holds:\n",
    "<img src=\"Vietnam_Third_Grade_Math_Puzzle.jpg\" alt=\"Math Puzzle\" style=\"width: 400px;\"/>\n",
    "First, let's put this into a more readable form, where we use a different letter for each of the missing numbers:\n",
    "```\n",
    "a + 13 * b / c + d + 12 * e - f - 11 + g * h / i - 10 == 66\n",
    "```\n",
    "Immediately from looking at the equation, you might think this is impossible to solve - too many unknowns.\n",
    "The original question however doesn't ask for **THE** solution, just **A** solution to the equation which is because the equation has many possible solutions.\n",
    "\n",
    "If you start cleaning up the equation a little bit, it's not too hard to guess combinations that solve the equation but why do that, when we can have our computer do that for us?\n",
    "\n",
    "The task:\n",
    " + Find all possible solutions to the equation (there are 136)\n",
    "\n",
    "Thought process:\n",
    " + Is it feasible to try all possible mappings? - What's the Big-O for trying out all possible permutations?\n",
    " + Generate all possible permutations of the values 1-9 `*Google this*`\n",
    " + Loop over all possible mappings of the values 1-9 for letters a-i\n",
    " + Store valid mappings in a list of tuples\n",
    "\n",
    ".\n",
    "\n",
    ".\n",
    "\n",
    ".\n",
    "\n",
    ".\n"
   ]
  },
  {
   "cell_type": "code",
   "execution_count": null,
   "metadata": {},
   "outputs": [],
   "source": [
    "from math import factorial\n",
    "print(f\"number of possible mappings: {factorial(9)}\")"
   ]
  },
  {
   "cell_type": "markdown",
   "metadata": {},
   "source": [
    "That's not too bad, that should run relatively quickly!"
   ]
  },
  {
   "cell_type": "code",
   "execution_count": null,
   "metadata": {},
   "outputs": [],
   "source": [
    "import pprint\n",
    "from itertools import permutations\n",
    "\n",
    "values = [1, 2, 3, 4, 5, 6, 7, 8, 9]\n",
    "float_solutions = []\n",
    "for a, b, c, d, e, f, g, h, i in permutations(values):\n",
    "    if a + 13 * b / c + d + 12 * e - f - 11 + g * h / i -10 == 66:\n",
    "        float_solutions.append((a, b, c, d, e, f, g, h, i))\n",
    "\n",
    "pprint.pprint(float_solutions[:5])\n",
    "print(f\"\\nThere are {len(float_solutions)} solutions using floats\")"
   ]
  },
  {
   "cell_type": "markdown",
   "metadata": {},
   "source": [
    "It turns out that there are actually even more than 128 solutions."
   ]
  },
  {
   "cell_type": "code",
   "execution_count": null,
   "metadata": {},
   "outputs": [],
   "source": [
    "import pprint\n",
    "from itertools import permutations\n",
    "from decimal import Decimal\n",
    "\n",
    "values = [Decimal(i) for i in range(1,10)]\n",
    "decimal_solutions = []\n",
    "for a, b, c, d, e, f, g, h, i in permutations(values):\n",
    "    if a + Decimal(13) * b / c + d + Decimal(12) * e - f - Decimal(11) + g * h / i - Decimal(10) == Decimal(66):\n",
    "        decimal_solutions.append((int(a), int(b), int(c), int(d), int(e), int(f), int(g), int(h), int(i)))\n",
    "\n",
    "pprint.pprint(decimal_solutions[:5])\n",
    "print(f\"\\nThere are {len(decimal_solutions)} solutions using decimals\")"
   ]
  },
  {
   "cell_type": "markdown",
   "metadata": {},
   "source": [
    "Now, what's going on here? Why do we get more solutions when using decimals?\n",
    "\n",
    "+ Which solutions are unique to decimals? \n",
    "+ Are all float_solutions included in the decimal_solutions?\n",
    "\n",
    "## Sets\n",
    "This is a perfect use-case for sets! Sets can only contain one of each item, and like dictionary keys, only take hashable, i.e. immutable objects.\n",
    "\n",
    "To accommodate for sets, we made a list of tuples (instead of a list of lists) and converted all decimals to ints when storing them as solutions (turns out we didn't have to, but they print more nicely).\n",
    "\n",
    "Now we can simply make some `sets` and use the `set.difference` function to find non-overlapping parts of the sets:\n"
   ]
  },
  {
   "cell_type": "code",
   "execution_count": null,
   "metadata": {},
   "outputs": [],
   "source": [
    "import pprint\n",
    "decimal_sol_set = set(decimal_solutions)\n",
    "float_sol_set = set(float_solutions)\n",
    "decimal_only_solutions = decimal_sol_set.difference(float_sol_set)\n",
    "print(f\"Are all the float solutions included in the decimal solutions? {float_sol_set.issubset(decimal_sol_set)}\")\n",
    "print(f\"len(decimal_only_solutions): {len(decimal_only_solutions)}\")\n",
    "pprint.pprint(decimal_only_solutions)"
   ]
  },
  {
   "cell_type": "markdown",
   "metadata": {},
   "source": [
    "Let's work through one of these by hand:\n",
    "```\n",
    "numbers order:\n",
    "1, 8, 3, 7, 4, 5, 2, 6, 9\n",
    "\n",
    "equation:\n",
    "a + 13 * b / c + d + 12 * e - f - 11 + g * h / i - 10 == 66\n",
    "\n",
    "1 + 13 * 8 / 3 + 7 + 12 * 4 - 5 - 11 + 2 * 6 / 9 - 10 =\n",
    "1 + 104/3 + 7 + 48 - 5 - 11 + 4/3 - 10 = \n",
    "30 + 108/3 = \n",
    "30 + 36 = 66\n",
    "```\n",
    "Ok, so this comes out correct by hand - why did this not work when we were using floats?"
   ]
  },
  {
   "cell_type": "code",
   "execution_count": null,
   "metadata": {},
   "outputs": [],
   "source": [
    "for a, b, c, d, e, f, g, h, i in decimal_only_solutions:\n",
    "     print(a + 13 * b / c + d + 12 * e - f - 11 + g * h / i -10)"
   ]
  },
  {
   "cell_type": "markdown",
   "metadata": {},
   "source": [
    "This has to do with how floats work and is an artifact of `float-imprecision`. Floats are stored in memory as fractions, where some of the bytes represent the numerator and some the denominator as a power of 2. \n",
    "This also means that the larger your float is, the less precise it is.\n",
    "\n",
    "Below you can see which numbers hypothetical 8-bit float (python floats are 64-bit) could represent:\n",
    "<img src='floatscale-wh.png' style=\"width: 800px;\" />\n",
    "You can see the density of numbers is much larger around 0.\n",
    "\n",
    "As a result of how they represent numbers, floats can have some idiosyncrasies:"
   ]
  },
  {
   "cell_type": "code",
   "execution_count": null,
   "metadata": {},
   "outputs": [],
   "source": [
    "print('floats are weird but useful!')\n",
    "print(f'0.1 + 0.1 + 0.1 == 0.3?\\t{0.1 + 0.1 + 0.1 == 0.3}')\n",
    "print(f'0.1 + 0.2? \\t\\t{0.1 + 0.2}')"
   ]
  },
  {
   "cell_type": "markdown",
   "metadata": {},
   "source": [
    "Does this mean we should be using `decimal` instead of `float` in our computation? \n",
    "\n",
    "**No**, most numeric computation is done with floats, because they're much faster. But now, when you get a bizarre result with floats, consider if it has to do with float imprecision."
   ]
  },
  {
   "cell_type": "markdown",
   "metadata": {},
   "source": [
    "## Lets work with some real data\n",
    "\n",
    "We're using some data from CitiBike NYC, giving us info and status of the CitiBike stations in NYC:\n",
    "```python\n",
    "url_info = 'https://gbfs.citibikenyc.com/gbfs/en/station_information.json'\n",
    "url_status = 'https://gbfs.citibikenyc.com/gbfs/en/station_status.json'\n",
    "```\n",
    "\n",
    "We'll use the `urllib` module to get the data from the web ([info](https://gbfs.citibikenyc.com/gbfs/en/station_information.json), [status](https://gbfs.citibikenyc.com/gbfs/en/station_status.json))\n",
    " and then we'll read it in using the `json` module.\n",
    "\n",
    "Using for-loops, we can extract some statistical information about the stations:\n",
    "\n",
    "+ How many stations are there?\n",
    "+ What's the total capacity of stations in the dataset?\n",
    "+ How many disabled bikes are there?\n",
    "+ What is the shortest distance between stations?\n",
    "+ What is the average distance between a station and its closest station?"
   ]
  },
  {
   "cell_type": "code",
   "execution_count": null,
   "metadata": {},
   "outputs": [],
   "source": [
    "import urllib\n",
    "import json\n",
    "\n",
    "url_info = 'https://gbfs.citibikenyc.com/gbfs/en/station_information.json'\n",
    "url_status = 'https://gbfs.citibikenyc.com/gbfs/en/station_status.json'\n",
    "f_info = urllib.request.urlopen(url_info)\n",
    "info_data = json.load(f_info)\n",
    "\n",
    "f_status = urllib.request.urlopen(url_status)\n",
    "status_data = json.load(f_status)  \n",
    "print(type(info_data))"
   ]
  },
  {
   "cell_type": "code",
   "execution_count": null,
   "metadata": {},
   "outputs": [],
   "source": [
    "urllib.request.urlopen(url_info)"
   ]
  },
  {
   "cell_type": "markdown",
   "metadata": {},
   "source": [
    "What does the data look like?"
   ]
  },
  {
   "cell_type": "code",
   "execution_count": null,
   "metadata": {
    "scrolled": false
   },
   "outputs": [],
   "source": [
    "from pprint import pprint\n",
    "\n",
    "# pprint(info_data)"
   ]
  },
  {
   "cell_type": "code",
   "execution_count": null,
   "metadata": {
    "scrolled": false
   },
   "outputs": [],
   "source": [
    "print('Info Data:\\n',)\n",
    "pprint(info_data['data']['stations'][:1])\n",
    "print('\\n\\nStatus Data:\\n',)\n",
    "pprint(status_data['data']['stations'][:1])"
   ]
  },
  {
   "cell_type": "markdown",
   "metadata": {},
   "source": [
    "### How many stations are there?"
   ]
  },
  {
   "cell_type": "code",
   "execution_count": null,
   "metadata": {},
   "outputs": [],
   "source": [
    "len(info_data['data']['stations']), len(status_data['data']['stations'])"
   ]
  },
  {
   "cell_type": "markdown",
   "metadata": {},
   "source": [
    "### What's the total capacity of stations?"
   ]
  },
  {
   "cell_type": "code",
   "execution_count": null,
   "metadata": {},
   "outputs": [],
   "source": [
    "for entry in info_data['data']['stations']:\n",
    "    total_capacity += entry['capacity']\n",
    "#     break\n",
    "print(total_capacity)"
   ]
  },
  {
   "cell_type": "markdown",
   "metadata": {},
   "source": [
    "### How many disabled bikes are there?"
   ]
  },
  {
   "cell_type": "code",
   "execution_count": null,
   "metadata": {},
   "outputs": [],
   "source": [
    "disabled_bikes = 0\n",
    "for entry in status_data['data']['stations']:\n",
    "    disabled_bikes += entry['num_bikes_disabled']\n",
    "#     break\n",
    "print(disabled_bikes)"
   ]
  },
  {
   "cell_type": "code",
   "execution_count": null,
   "metadata": {
    "scrolled": true
   },
   "outputs": [],
   "source": [
    "sum([entry['num_bikes_disabled'] for entry in status_data['data']['stations']])"
   ]
  },
  {
   "cell_type": "code",
   "execution_count": null,
   "metadata": {},
   "outputs": [],
   "source": [
    "all([entry['num_bikes_disabled'] >= 0 for entry in status_data['data']['stations']])"
   ]
  },
  {
   "cell_type": "markdown",
   "metadata": {},
   "source": [
    "### What is the shortest distance between two stations?\n",
    "\n",
    "Thought process:\n",
    "+ Loop over all combinations of stations latitude/ longitude coordinates\n",
    "+ Calculate the distance between two stations, given their latitude/ longitude ([answer found via google](https://nathanrooy.github.io/posts/2016-09-07/haversine-with-python/))\n",
    "+ Find shortest of the resulting distances"
   ]
  },
  {
   "cell_type": "code",
   "execution_count": null,
   "metadata": {
    "scrolled": true
   },
   "outputs": [],
   "source": [
    "lat_long = []\n",
    "for entry in info_data['data']['stations']:\n",
    "    tmp = (entry['lat'] , entry['lon'])\n",
    "    lat_long.append(tmp)\n",
    "    #pprint(entry)\n",
    "    #break\n",
    "print(lat_long[:5])"
   ]
  },
  {
   "cell_type": "markdown",
   "metadata": {},
   "source": [
    "We will use combinations from the itertools module to get all combinations of stations:"
   ]
  },
  {
   "cell_type": "code",
   "execution_count": null,
   "metadata": {},
   "outputs": [],
   "source": [
    "print(f'There are {len(list(combinations(lat_long, 2)))} unique pairs of stations')"
   ]
  },
  {
   "cell_type": "code",
   "execution_count": null,
   "metadata": {},
   "outputs": [],
   "source": [
    "import math\n",
    "from itertools import combinations\n",
    "\n",
    "distances = []\n",
    "for coord1, coord2 in combinations(lat_long, 2):\n",
    "    lat1, lon1 = coord1\n",
    "    lat2, lon2 = coord2\n",
    "    \n",
    "    ######### Formula to calculate Haversine distance - don't mind the details: #####\n",
    "    R=6371000                               # radius of Earth in meters\n",
    "    phi_1=math.radians(lat1)\n",
    "    phi_2=math.radians(lat2)\n",
    "\n",
    "    delta_phi=math.radians(lat2-lat1)\n",
    "    delta_lambda=math.radians(lon2-lon1)\n",
    "\n",
    "    a=math.sin(delta_phi/2.0)**2+\\\n",
    "       math.cos(phi_1)*math.cos(phi_2)*\\\n",
    "       math.sin(delta_lambda/2.0)**2\n",
    "    c=2*math.atan2(math.sqrt(a),math.sqrt(1-a))\n",
    "    distance_in_meters=R*c\n",
    "    ##################################################################################\n",
    "    distances.append(distance_in_meters)\n",
    "distances[:5]"
   ]
  },
  {
   "cell_type": "code",
   "execution_count": null,
   "metadata": {},
   "outputs": [],
   "source": [
    "print(f'The shortest distance between two CitiBike stations is {min(distances)} m')"
   ]
  },
  {
   "cell_type": "markdown",
   "metadata": {},
   "source": [
    "### What is the average distance between a station and its closest neighbor?\n",
    "Thought process:\n",
    "+ Need to get all pairs of latitudes and longitudes with distances\n",
    "+ Collect all distances for each station\n",
    "+ Collect shortest distance to neighboring station for each station\n"
   ]
  },
  {
   "cell_type": "code",
   "execution_count": null,
   "metadata": {},
   "outputs": [],
   "source": [
    "import math\n",
    "from itertools import combinations\n",
    "\n",
    "distances_with_points = []\n",
    "for coord1, coord2 in combinations(lat_long, 2):\n",
    "    lat1, lon1 = coord1\n",
    "    lat2, lon2 = coord2\n",
    "    \n",
    "    ######### Formula to calculate Haversine distance - don't mind the details: #####\n",
    "    R=6371000                               # radius of Earth in meters\n",
    "    phi_1=math.radians(lat1)\n",
    "    phi_2=math.radians(lat2)\n",
    "\n",
    "    delta_phi=math.radians(lat2-lat1)\n",
    "    delta_lambda=math.radians(lon2-lon1)\n",
    "\n",
    "    a=math.sin(delta_phi/2.0)**2+\\\n",
    "       math.cos(phi_1)*math.cos(phi_2)*\\\n",
    "       math.sin(delta_lambda/2.0)**2\n",
    "    c=2*math.atan2(math.sqrt(a),math.sqrt(1-a))\n",
    "    distance_in_meters=R*c\n",
    "    ##################################################################################\n",
    "    distances_with_points.append((distance_in_meters, coord1, coord2))\n",
    "distances_with_points[:5]"
   ]
  },
  {
   "cell_type": "code",
   "execution_count": null,
   "metadata": {},
   "outputs": [],
   "source": [
    "from collections import defaultdict\n",
    "\n",
    "distance_dict = defaultdict(list)\n",
    "for distance, coord1, coord2 in distances_with_points:\n",
    "    distance_dict[coord1].append(distance)\n",
    "    distance_dict[coord2].append(distance)\n",
    "distance_dict[(40.76727216, -73.99392888)][:5]"
   ]
  },
  {
   "cell_type": "code",
   "execution_count": null,
   "metadata": {},
   "outputs": [],
   "source": [
    "from statistics import mean, median\n",
    "\n",
    "shortest_dists = []\n",
    "for distances in distance_dict.values():\n",
    "    shortest_dists.append(min(distances))\n",
    "\n",
    "print(f'The mean   distance from one station to the closest station is {mean(shortest_dists)} m')\n",
    "print(f'The median distance from one station to the closest station is {median(shortest_dists)} m')"
   ]
  },
  {
   "cell_type": "markdown",
   "metadata": {},
   "source": [
    "## Conclusion\n",
    "We repeated concepts from last lecture, and now you should have a firm grasp of the sequential data types in python and how you can iterate over them. The **itertools** module contains lots of useful functions for dealing with iterables - we will revisit it in a later lecture.\n",
    "\n",
    "Some general practices we have learned - we:\n",
    "+ solve bigger problems by breaking them down into smaller problems\n",
    "+ google concepts that are nontrivial for us to implement on our own because they're likely already implemented\n",
    "+ read the error message and google it if we are not familiar with it\n",
    "\n",
    "You may have noticed that for loops can get a bit messy and hard to read/ figure out, when there is a lot going on.\n",
    "\n",
    "You may have also noticed that we are copying and pasting code a good amount. \n",
    "\n",
    "Next lecture, you will learn how to write your own functions. These will help you reduce the clutter in your code and make it so you don't have to write the same code over and over again.\n",
    "\n",
    "---\n",
    "---"
   ]
  },
  {
   "cell_type": "markdown",
   "metadata": {},
   "source": [
    "# Repetition\n",
    "\n",
    "Here are some more concepts to repeat from last lecture:\n",
    "\n",
    "### Example\n",
    "Common pattern: **Aggregate** and **summarize**\n",
    "+ Say, we have a long list of numbers\n",
    "+ [0,1,1,3,1,3,6,1,8,2,8,7,5,0,2,2,1,5,4,7,0,0,3,1,2,9,9,4,3,2,5,3,1,2,1,3,3,2,2,4,5,1,6,7,9,8,1,4,2,5,6,8,0,0,0,1,1,2,6,1,3,2,4,2,5,7,3,1,3,4,6]\n",
    "+ Count the number of times each number appears (and may be rank-order them according to frequency)\n",
    "+ Thought Process?"
   ]
  },
  {
   "cell_type": "code",
   "execution_count": null,
   "metadata": {},
   "outputs": [],
   "source": []
  },
  {
   "cell_type": "code",
   "execution_count": null,
   "metadata": {},
   "outputs": [],
   "source": [
    "# Using Standard Dictionary\n",
    "if key in d:\n",
    "    d[key] += 1\n",
    "else:\n",
    "    d[key] = 1"
   ]
  },
  {
   "cell_type": "code",
   "execution_count": null,
   "metadata": {},
   "outputs": [],
   "source": [
    "# Using Standard Dictionary with get\n",
    "d[key] = d[key].get(key, 0) + 1"
   ]
  },
  {
   "cell_type": "code",
   "execution_count": null,
   "metadata": {},
   "outputs": [],
   "source": [
    "from collections import defaultdict\n",
    "# Using defaultdict\n",
    "lst = [0,1,1,3,1,3,6,1,8,2,8,7,5,0,2,2,1,5,4,7,0,0,3,1,2,9,9,4,3,2,5,3,1,2,1,3,3,2,2,4,5,1,6,7,9,8,1,4,2,5,6,8,0,0,0,1,1,2,6,1,3,2,4,2,5,7,3,1,3,4,6]\n",
    "counts = defaultdict(int)\n",
    "for num in lst:\n",
    "    defaultdict[num] += 1"
   ]
  },
  {
   "cell_type": "code",
   "execution_count": null,
   "metadata": {},
   "outputs": [],
   "source": [
    "# Using Counter"
   ]
  },
  {
   "cell_type": "markdown",
   "metadata": {},
   "source": [
    "## Control Flow \n",
    "### *<font color='blue'>break</font>* keyword\n",
    "+ to **stop** the current loop from running any further (**break out of the loop**)\n",
    "\n",
    "```python\n",
    "print('\\nbreak statement')\n",
    "numbers = [1, 3, 5, 6, 9, 10]\n",
    "for number in numbers:\n",
    "    if number % 2 == 0:\n",
    "        break\n",
    "    print(number)\n",
    "```\n",
    "\n",
    "### *<font color='blue'>continue</font>* keyword\n",
    "+ to **skip** over the current iteration in current loop (**continue without completing current iteration**)\n",
    "\n",
    "```python\n",
    "print('\\ncontinue statement')\n",
    "numbers = [1, 3, 5, 6, 9, 10]\n",
    "for number in numbers:\n",
    "    if number % 2 == 0:\n",
    "        continue\n",
    "    print(number)\n",
    "```"
   ]
  },
  {
   "cell_type": "code",
   "execution_count": null,
   "metadata": {},
   "outputs": [],
   "source": []
  },
  {
   "cell_type": "markdown",
   "metadata": {},
   "source": [
    "### *<font color='blue'>break</font>* keyword and *<font color='blue'>continue</font>* keyword statements operate on the immediate enclosing for loop\n",
    "\n",
    "```python\n",
    "# Generate all possible pairs, but skip some of them\n",
    "print('\\nbreak statement')\n",
    "letters = ['a', 'b', 'c']\n",
    "numbers = [5, 7, 9, 10, 15]\n",
    "for char in letters:            # outer loop\n",
    "   for number in numbers:       # inner loop; enumerate gives (index, value) tuples (see help)\n",
    "       if number % 2 == 0:\n",
    "           break\n",
    "       print(char, number)\n",
    "\n",
    "###########################\n",
    "\n",
    "print('\\ncontinue statement')\n",
    "letters = ['a', 'b', 'c']\n",
    "numbers = [5, 7, 9, 10, 15]\n",
    "for char in letters:\n",
    "   for number in numbers:\n",
    "       if number % 2 == 0:\n",
    "           continue\n",
    "       print(char, number)\n",
    "```"
   ]
  },
  {
   "cell_type": "code",
   "execution_count": null,
   "metadata": {},
   "outputs": [],
   "source": []
  },
  {
   "cell_type": "markdown",
   "metadata": {},
   "source": [
    "# <font color='blue'>While loops</font>\n",
    "\n",
    "+ Basic format:\n",
    "```python\n",
    "while BOOLEAN_EXPRESSION:\n",
    "    STATEMENTS\n",
    "```\n",
    "\n",
    "+ The loop will continue while the boolean expression remains true.\n",
    "+ Once the boolean expression is false the loop will exit\n",
    "\n",
    "```python\n",
    "count = 0\n",
    "while count < 5:\n",
    "    print('current count: {}'.format(count))\n",
    "    count += 1\n",
    "print('final count: {}'.format(count))\n",
    "```"
   ]
  },
  {
   "cell_type": "code",
   "execution_count": null,
   "metadata": {},
   "outputs": [],
   "source": [
    "count = 0\n",
    "while count < 5:\n",
    "    print('current count: {}'.format(count))\n",
    "    count += 1\n",
    "print('final count: {}'.format(count))"
   ]
  },
  {
   "cell_type": "markdown",
   "metadata": {},
   "source": [
    "## Why have two kinds of looping?\n",
    "\n",
    "+ for loops\n",
    "    + require knowledge on the number of iterations when declaring the loop\n",
    "+ while loops\n",
    "    + Will loop until a condition is met\n",
    "    \n",
    "Example:\n",
    "\n",
    "+ Find the largest number in a list of numbers?\n",
    "    + for loop\n",
    "+ Run a simulation until a certain mean squared error is achieved\n",
    "    + while loop"
   ]
  },
  {
   "cell_type": "markdown",
   "metadata": {},
   "source": [
    "## Infinite loops\n",
    "\n",
    "+ It is possible to create while loops that will never stop.\n",
    "    + These types of loops are known as infinite loops\n",
    "    + This happens only if the loop condition always remain true<br>  \n",
    "**Note:** when on cmd-line / Terminal, use Ctrl+C to break out of an infinite loop to stop the program. In jupyter notebook, use the square \"stop\" button on top to stop execution of a running cell.\n",
    "\n",
    "```python\n",
    "i = 0\n",
    "while i < 5:\n",
    "    print(i)\n",
    "```"
   ]
  },
  {
   "cell_type": "code",
   "execution_count": null,
   "metadata": {},
   "outputs": [],
   "source": []
  },
  {
   "cell_type": "markdown",
   "metadata": {},
   "source": [
    "## While True\n",
    "\n",
    "+ This pattern is useful as it will ensure that the code in the while loop is run at least once\n",
    "+ There will always need to be a condition to break out of the loop\n",
    "\n",
    "**Pattern:**\n",
    "\n",
    "```python\n",
    "while True:\n",
    "    statements\n",
    "    if condition:\n",
    "        break\n",
    "```\n",
    "\n",
    "+ This is useful, for example, for getting user input when you do not know how many elements the user is going to add\n",
    "\n",
    "```python\n",
    "points = []\n",
    "while True:\n",
    "    user_input = input('enter a point (x, y)')\n",
    "    if not user_input:\n",
    "        break\n",
    "    points.append(user_input)\n",
    "print(points)\n",
    "```"
   ]
  },
  {
   "cell_type": "code",
   "execution_count": null,
   "metadata": {},
   "outputs": [],
   "source": [
    "points = []\n",
    "while True:\n",
    "    user_input = input('enter a point (x, y)')\n",
    "    points.append(user_input)\n",
    "    if not user_input:\n",
    "        break\n",
    "    \n",
    "print(points)"
   ]
  }
 ],
 "metadata": {
  "kernelspec": {
   "display_name": "Python 3",
   "language": "python",
   "name": "python3"
  },
  "language_info": {
   "codemirror_mode": {
    "name": "ipython",
    "version": 3
   },
   "file_extension": ".py",
   "mimetype": "text/x-python",
   "name": "python",
   "nbconvert_exporter": "python",
   "pygments_lexer": "ipython3",
   "version": "3.6.10"
  }
 },
 "nbformat": 4,
 "nbformat_minor": 4
}