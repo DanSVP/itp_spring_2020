{
 "cells": [
  {
   "cell_type": "markdown",
   "metadata": {},
   "source": [
    "# Introduction to Python - Lecture 11 (May 7th 2020)\n",
    "<br>\n",
    "\n",
    "## ---------- Numpy & Pandas ---------\n",
    "\n",
    "- easy-to-use data structures\n",
    "- advantage for handling large and mutivariate data\n",
    "- performant tools for data analysis\n",
    "- efficient for mathematical operations\n",
    "- state of the art for all Data Science\n",
    "\n",
    "\n",
    "<br>\n",
    "The goal of this lecture is to give you an overview of the data structures accessible with Numpy and Pandas.\n",
    "\n",
    "<br>\n",
    "\n",
    "**All future lessons and most probably all your future projects will use these two modules!**\n",
    "## ----------------------------------\n",
    "\n",
    "<br>\n",
    "\n",
    "- links for this class\n",
    "\n",
    "Stack Overflow:\n",
    "https://stackoverflow.com/c/nyumc-coding-courses/questions\n",
    "\n",
    "Online Courses Page:\n",
    "http://fenyolab.org/presentations/Bioinformatics_2020/\n",
    "\n",
    "<br>\n",
    "<br>\n",
    "\n",
    "- some useful documentation\n",
    "\n",
    "Numpy and scipy<br>                   \n",
    "https://scipy-lectures.org/<br>\n",
    "https://docs.scipy.org/doc/numpy/reference/arrays.ndarray.html<br>\n",
    "<br>\n",
    "Pandas<br>\n",
    "https://pandas.pydata.org/docs/user_guide/index.html\n",
    "\n",
    "<br>\n",
    "\n",
    "- Tone of examples for data science based on Numpy and Panda<br>\n",
    "\n",
    "https://towardsdatascience.com/\n",
    "\n",
    "https://realpython.com/\n",
    "\n",
    "<br>\n",
    "\n",
    "\n",
    "- A few more examples related to this lecture ...    <br>                \n",
    "\n",
    "https://towardsdatascience.com/top-python-libraries-numpy-pandas-8299b567d955\n",
    "\n",
    "https://towardsdatascience.com/10-python-pandas-tricks-that-make-your-work-more-efficient-2e8e483808ba\n",
    "\n",
    "https://realpython.com/python-pandas-tricks/\n",
    "\n",
    "\n",
    "---------\n",
    "\n",
    "<br>"
   ]
  },
  {
   "cell_type": "markdown",
   "metadata": {},
   "source": [
    "## Let's get ready ....\n",
    "\n",
    "This lesson will cover two aspects of Numpy and Pandas modules:\n",
    "\n",
    "1. How to use their data structures\n",
    " - arrays for Numpy\n",
    " - dataframes for Pandas\n",
    "\n",
    "<br>\n",
    "2. Examples from the large collection of their functions\n",
    "\n",
    "\n",
    "They are not new languages but an advanced or data-oriented version of Python. \n",
    "\n",
    "\n",
    "-------\n",
    "\n",
    "## Don't get overwhelmed, use cheat sheets\n",
    "\n",
    "+ Numpy <br>                                  \n",
    "https://ugoproto.github.io/ugo_py_doc/pdf/Numpy_Python_Cheat_Sheet.pdf\n",
    "\n",
    "<br> \n",
    "\n",
    "+ Panda        <br>                      \n",
    "https://ugoproto.github.io/ugo_py_doc/pdf/pandas-cheat-sheet.pdf\n",
    "https://pandas.pydata.org/Pandas_Cheat_Sheet.pdf\n",
    "\n",
    "------\n",
    "<br>\n",
    "\n",
    "\n",
    "### Why do we need new data structures other than lists, dictionnaries, or sets?\n",
    "\n",
    "\n",
    "**Numpy (and its add-on Scipy)**\n",
    "\n",
    "- NumPy extends python high-level language for manipulating numerical data\n",
    "\n",
    "- NumPy is a library for efficient array computations. Arrays differ from Python lists in the way they are stored and handled. Array elements stay together in memory, so they can be quickly accessed. \n",
    "\n",
    "- NumPy provides vectorized mathematical functions. When, you call numpy.sin(a), the sine function is applied on every element of array a. It works much faster than a Python for loop, even faster than list comprehensions `[sin(i) for i in l]`\n",
    "\n",
    "- NumPy also supports quick subindexing\n",
    "\n",
    "- Nympy is optimized for **homogeneous dataset** signal processing (convolution, Fourier transform, ...) or to analyze multi dimentional data or simulations.\n",
    "\n",
    "\n",
    "---------\n",
    "\n",
    "**Pandas**\n",
    "\n",
    "+ Pandas makes working with **Dataframes**, like **R** or **Matlab**. \n",
    "\n",
    "+ Pandas does a lot of things under the hood. You will get familiar with all funtions and methods that it contains. \n",
    "\n",
    "+ Pandas is efficient to load or to save data\n",
    "\n",
    "+ Pandas handles different types of data (**heterogeneous dataset**) and deals with incomplete data (n/a)\n",
    "\n",
    "+ concatenate/merge/join different datasets\n",
    "\n",
    "+ powerful way to parse/filter the data by column or by row and subindexing (a bit like Structured Query Language SQL).\n",
    "\n",
    "--------\n",
    "\n",
    "**It will pave the way for the use of other important modules for plots, statistics calculations or learning methods**\n",
    "\n",
    "+ scipy\n",
    "+ matplotlib\n",
    "+ seaborn\n",
    "+ SciKit-Learn\n",
    "\n",
    "... with just a couple of lines of code!"
   ]
  },
  {
   "cell_type": "code",
   "execution_count": 2,
   "metadata": {},
   "outputs": [
    {
     "output_type": "stream",
     "name": "stdout",
     "text": [
      "[[0, 1, 2, 3], [2, 3, 4, 5]]\n5\n{'Mary': [1, 2, 3], 'Peter': [2, 3, 4]}\n4\n"
     ]
    }
   ],
   "source": [
    "## type your code here:\n",
    "\n",
    "l=[[0,1,2,3],[2,3,4,5]]\n",
    "print(l)\n",
    "print(l[1][-1])\n",
    "\n",
    "d={}\n",
    "d['Mary']=[1,2,3]\n",
    "d['Peter']=[2,3,4]\n",
    "print(d)\n",
    "print(d['Peter'][2])"
   ]
  },
  {
   "cell_type": "markdown",
   "metadata": {},
   "source": [
    "# 1. Numpy\n",
    "\n",
    "+ A package for scientific computing\n",
    "+ A more powerful version of lists\n",
    "+ All of the methods are optimized to run fast\n",
    "+ Great for linear algebra\n",
    "\n",
    "<br>\n",
    "\n",
    "Numpy is not part of Pythons standard libraries and needs to be installed.\n",
    "\n",
    "This can be done using the conda command if you are using Anaconda:\n",
    "\n",
    "```bash\n",
    "conda install numpy\n",
    "```\n",
    "or\n",
    "```bash\n",
    "conda install --name itp_2020 numpy\n",
    "```\n",
    "\n",
    "Alternatively this can be done using the built in Python package manager Pip\n",
    "\n",
    "```bash\n",
    "pip install numpy\n",
    "```\n",
    "\n",
    "\n",
    "<br>\n",
    "\n",
    "Once numpy is installed it then needs to be imported to use its functionality\n",
    "\n",
    "```python\n",
    "import numpy as np\n",
    "\n",
    "```"
   ]
  },
  {
   "cell_type": "code",
   "execution_count": 2,
   "metadata": {},
   "outputs": [],
   "source": [
    "## type your code here:\n",
    "\n",
    "import numpy as np"
   ]
  },
  {
   "cell_type": "markdown",
   "metadata": {},
   "source": [
    "### 1.1 Lists recap\n",
    "\n",
    "Lists are created using '[]'\n",
    "\n",
    "```python\n",
    "l1 = [1, 2, 3, 4]\n",
    "```\n",
    "\n",
    "Lists can contain mixed types\n",
    "\n",
    "```python\n",
    "l2 = [1, 'a', {'abs': abs}, (1, 2)]\n",
    "```\n",
    "\n",
    "\n",
    "Lists can be joined using the + operator which creates a new list\n",
    "\n",
    "```python\n",
    "l3 = l1 + l2\n",
    "```\n",
    "\n",
    "Lists can be extended using the .extend() method which happens in place\n",
    "\n",
    "```python\n",
    "l1.extend(l2)\n",
    "```\n",
    "\n",
    "The range() function can be used to initialize numeric lists\n",
    "\n",
    "```python\n",
    "base = list(range(0, 101, 2))\n",
    "```\n",
    "\n",
    "To perform calculations using a list, a for loop is required\n",
    "\n",
    "```python\n",
    "base_squared = []\n",
    "for x in base:\n",
    "    base_squared.append(x**2)\n",
    "```"
   ]
  },
  {
   "cell_type": "code",
   "execution_count": 3,
   "metadata": {},
   "outputs": [
    {
     "output_type": "stream",
     "name": "stdout",
     "text": [
      "[1, 2, 3, 4]\n[1, 'a', {'abs': <built-in function abs>}, (1, 2)]\n[1, 2, 3, 4, 1, 'a', {'abs': <built-in function abs>}, (1, 2)]\n[1, 2, 3, 4, 1, 'a', {'abs': <built-in function abs>}, (1, 2)]\n[4, 1, 'a', {'abs': <built-in function abs>}, (1, 2)]\n"
     ]
    }
   ],
   "source": [
    "## type your code here:\n",
    "\n",
    "l1 = [1, 2, 3, 4]\n",
    "print(l1)\n",
    "l2 = [1, 'a', {'abs': abs}, (1, 2)]\n",
    "print(l2)\n",
    "l3 = l1 + l2\n",
    "print(l3)\n",
    "l1.extend(l2)\n",
    "print(l1)\n",
    "print(l1[3:])"
   ]
  },
  {
   "cell_type": "code",
   "execution_count": 4,
   "metadata": {},
   "outputs": [
    {
     "output_type": "stream",
     "name": "stdout",
     "text": [
      "[0, 2, 4, 6, 8, 10, 12, 14, 16, 18, 20, 22, 24, 26, 28, 30, 32, 34, 36, 38, 40, 42, 44, 46, 48, 50, 52, 54, 56, 58, 60, 62, 64, 66, 68, 70, 72, 74, 76, 78, 80, 82, 84, 86, 88, 90, 92, 94, 96, 98, 100]\n[0, 4, 16, 36, 64, 100, 144, 196, 256, 324, 400, 484, 576, 676, 784, 900, 1024, 1156, 1296, 1444, 1600, 1764, 1936, 2116, 2304, 2500, 2704, 2916, 3136, 3364, 3600, 3844, 4096, 4356, 4624, 4900, 5184, 5476, 5776, 6084, 6400, 6724, 7056, 7396, 7744, 8100, 8464, 8836, 9216, 9604, 10000]\n"
     ]
    }
   ],
   "source": [
    "## type your code here:\n",
    "\n",
    "base = list(range(0, 101, 2))\n",
    "base_squared = []\n",
    "for x in base:\n",
    "    base_squared.append(x**2)\n",
    "\n",
    "print(base)\n",
    "print(base_squared)"
   ]
  },
  {
   "cell_type": "markdown",
   "metadata": {},
   "source": [
    "### 1.2 Creating arrays with Numpy\n",
    "\n",
    "There are a number of ways of creating numpy arrays.\n",
    "\n",
    "##### Converting a regular python list into a numpy array:\n",
    "\n",
    "```python\n",
    "var = np.array(< list >)\n",
    "```\n",
    "\n",
    "This is useful when the original list needs to be constructed from a file. Numpy does not have a simple method to append to lists. For this reason it is sometimes easier to build a normal python list before converting it to a numpy array.\n",
    "\n",
    "```python\n",
    "mylist=list(range(10))\n",
    "myarray= np.array(mylist)\n",
    "```\n",
    "\n",
    "\n",
    "You can make an array of characters as well.\n",
    "```python\n",
    "characters = []\n",
    "for i in range(32, 100):\n",
    "    characters.append(chr(i))\n",
    "print(characters)\n",
    "np_char = np.array(characters)\n",
    "print(np_char)\n",
    "```\n"
   ]
  },
  {
   "cell_type": "code",
   "execution_count": 9,
   "metadata": {},
   "outputs": [
    {
     "output_type": "error",
     "ename": "AttributeError",
     "evalue": "'numpy.ndarray' object has no attribute 'pop'",
     "traceback": [
      "\u001b[0;31m---------------------------------------------------------------------------\u001b[0m",
      "\u001b[0;31mAttributeError\u001b[0m                            Traceback (most recent call last)",
      "\u001b[0;32m<ipython-input-9-67f62074ad28>\u001b[0m in \u001b[0;36m<module>\u001b[0;34m\u001b[0m\n\u001b[1;32m      6\u001b[0m \u001b[0;34m\u001b[0m\u001b[0m\n\u001b[1;32m      7\u001b[0m \u001b[0mmylist\u001b[0m\u001b[0;34m.\u001b[0m\u001b[0mpop\u001b[0m\u001b[0;34m(\u001b[0m\u001b[0;34m)\u001b[0m\u001b[0;34m\u001b[0m\u001b[0;34m\u001b[0m\u001b[0m\n\u001b[0;32m----> 8\u001b[0;31m \u001b[0mmyarray\u001b[0m\u001b[0;34m.\u001b[0m\u001b[0mpop\u001b[0m\u001b[0;34m(\u001b[0m\u001b[0;34m)\u001b[0m\u001b[0;34m\u001b[0m\u001b[0;34m\u001b[0m\u001b[0m\n\u001b[0m\u001b[1;32m      9\u001b[0m \u001b[0;34m\u001b[0m\u001b[0m\n\u001b[1;32m     10\u001b[0m \u001b[0mprint\u001b[0m\u001b[0;34m(\u001b[0m\u001b[0mmylist\u001b[0m\u001b[0;34m)\u001b[0m\u001b[0;34m\u001b[0m\u001b[0;34m\u001b[0m\u001b[0m\n",
      "\u001b[0;31mAttributeError\u001b[0m: 'numpy.ndarray' object has no attribute 'pop'"
     ]
    }
   ],
   "source": [
    "## type your code here:\n",
    "\n",
    "mylist=list(range(10))\n",
    "mylist.pop()\n",
    "myarray= np.array(mylist)\n",
    "\n",
    "mylist.pop()\n",
    "#myarray.pop() not gonna work for arrays\n",
    "\n",
    "print(mylist)\n",
    "print(myarray)"
   ]
  },
  {
   "cell_type": "markdown",
   "metadata": {},
   "source": [
    "### 1.3 Initializing arrays using numpy\n",
    "\n",
    "1. Creating an array with *n* zeros\n",
    "\n",
    "```python\n",
    "lst = np.zeros(25)\n",
    "lst_2d = np.zeros((5, 5))\n",
    "```\n",
    "\n",
    "2. Creating an array with *n* ones\n",
    "\n",
    "```python\n",
    "lst = np.ones(25)\n",
    "lst_2d = np.ones((5, 5))\n",
    "```\n",
    "\n",
    "3. Using a range(start, end (exclusive), increment)\n",
    "\n",
    "```python\n",
    "lst = np.arange(10, 20, 2)\n",
    "```\n",
    "\n",
    "4. Linspace is similar to range - linspace(start, end (inclusive), number_of_elements) \n",
    "\n",
    "```python\n",
    "lst = np.linspace(10, 20, 2)\n",
    "```\n",
    "\n",
    "5. Filling a list with random numbers between [0, 1)\n",
    "\n",
    "```python\n",
    "lst = np.random.rand(5)\n",
    "lst_2d = np.random.rand(5, 5)\n",
    "```\n",
    "\n",
    "6. Uses samples from a distribution to fill a list\n",
    "\n",
    "```python\n",
    "lst = np.random.normal(5, 2, 20)\n",
    "lst_2d = np.random.normal(5, 2, (20,20))\n",
    "```"
   ]
  },
  {
   "cell_type": "code",
   "execution_count": 15,
   "metadata": {},
   "outputs": [
    {
     "output_type": "stream",
     "name": "stdout",
     "text": [
      "[[11.10225342  6.10003177  5.65161136  5.53814274  1.30317201  3.98398255\n   3.58939917  5.2627761   6.18250598  4.75285569  6.00770842  6.80254241\n   4.25777245  4.72338415  5.51867324  7.34577083  5.70199092  5.4984118\n   6.96580181  6.19969475]\n [ 1.71003367  8.64271841  4.04984381  6.35064648  2.62776123  7.0367325\n   5.73662654  2.87677417  3.55844968  4.26526537  7.63002565  2.28809362\n   6.54277739  6.70709466  3.03071223  4.21829447  5.43707891  3.05819661\n   7.09849678  5.71775498]\n [ 6.68426194  6.04325234  8.16721085  5.97066819  5.12043337  4.84697405\n   5.62789843  3.82840887  3.6489426   5.87360786  4.91084128  4.15694192\n   4.80470082  8.2149285   4.93004909  3.21859375  2.17174348  5.73472184\n   2.31330832  2.26300102]\n [ 5.16692613  4.48060622  4.95601153  5.43073521  3.19941086  5.23180599\n   5.04889196  4.32321544  2.20664806  7.04677558  4.30398508  5.29406534\n   5.32227538  5.18220171  0.36101394  4.51915751  5.50006062  6.17884306\n   5.28396437  1.38850908]\n [ 3.62611012  2.48474414  4.46832764  2.92271664  4.24704233  4.74708266\n   7.44190086  6.9643634   3.88203077  4.03946085  4.53620041  2.04632241\n   2.24113431  4.10673511  5.20307193  5.20176662  5.31904725 -0.95063006\n   5.24030177  3.01347132]\n [ 5.28303075  3.39162622  8.01743155  3.90277277  4.59094212  3.77890699\n   3.11231602  2.36050022  6.12741602  5.69891557  6.85380937  6.2149689\n   4.57480926  6.81795325  5.54874289  4.01770306  3.84023838  4.61526111\n   4.79322111  5.46195899]\n [ 6.89630509  2.53111942  6.85399062  3.3463499   1.74042966  6.11724316\n   1.71860483  6.46057311  2.20855748  5.11943488  3.01757344  3.57508909\n   5.98772219  5.54193779  6.41647864  5.7149877   3.59856267  2.24399057\n   4.71150005  4.4923694 ]\n [ 6.47034631  8.32683037  4.85281975  3.24189085  5.69177137  3.85687035\n   4.80960644  5.16623235  8.40322165  4.40231883  4.31877993  4.53753593\n   6.22380959  4.36118019  9.21837339  6.60631652  6.68919018  2.05088535\n   5.95964225  9.2062176 ]\n [ 2.25064519  4.62346039  7.42345308  6.97439762  3.93142801  3.80763011\n   1.5291188   8.46466724  3.89668138  3.51497558  7.80224709  2.13609973\n   3.12515006  6.16211904  7.33177196  0.82330553  5.48247313  2.87264023\n   3.70992493  3.67144948]\n [ 0.89149614  6.18273211  6.66728286  3.06685329  5.88148879  7.73430889\n   2.75693939  6.14255987  1.52284144  4.96250502  6.03625702  4.23092935\n   6.0840292   6.3877164   5.35806777  1.08487433  4.13125386  7.5955309\n   6.14930669  1.87684135]\n [ 3.3356152   5.54487252  7.66556142  3.47914783  0.54856183  5.54841085\n   6.08408006  8.51795437  7.09892377  5.28336041  8.23168506  0.61956323\n   4.61943115  4.22320523  3.27018726  2.45800295  1.81939102  5.19729604\n   6.97974568  5.60021488]\n [ 6.71742713  0.88834331  6.61709348  4.57434522  4.76542633  5.12610532\n   7.06208343  2.54341076  6.14214645  4.09845428  8.12238343  2.53992935\n   3.89013485  7.42462047  4.97105015  5.24039481  5.71847475  2.62819245\n   5.96584108  7.56093991]\n [ 5.17867942  5.52427468  2.57395842  5.74353028  4.01047186  4.88233481\n   5.12932931  6.95341997  4.32116062  4.08092756  7.31542831  3.31921774\n   4.6805123   5.22751498  3.93393047  7.06126597  5.68177497  6.63868067\n   5.34611436  2.04026842]\n [10.41435232  2.30125715  7.78510106  5.27713084  8.04400048  2.6891198\n   4.9177273   6.6685204   3.79058046  3.96461253  5.32584502  7.64209924\n   3.88120996  6.89051613  7.28195664  2.99559742  5.02418479  3.84023232\n   2.30115074  5.48323412]\n [ 3.64204911  7.69139295  6.65235845  0.18052345  8.52994397  7.73929649\n  10.55760387  9.12039064  3.05036778  4.67591282  5.44722747  6.88123523\n   5.23006387  0.74514332  6.16886752  3.66409736  5.08711702  5.44662856\n   7.08127483  4.44848039]\n [ 4.23928793  3.88914038  6.17350705  8.01482522  4.38761149  9.802253\n   4.67726249  8.28915666  4.88952921 10.46818004  6.17476884  5.63151241\n   4.49904785  3.89247924  6.67276719  3.88177908  3.10201225  0.79950798\n   5.32181862  5.75498788]\n [ 7.09088338  5.25936211  5.59801166  4.82213389  6.64742806  4.05611139\n   5.14008007  5.66450871  5.18577609  2.6526526   5.34682468  4.31766417\n   5.78296362  7.31691096  6.97395361  3.24280922  1.54516693  4.85222295\n   7.24417122  4.68582148]\n [ 4.23294844  2.742876    2.18324499  4.37634664  8.25317603  2.27508611\n   7.34780692  5.35968685  7.68189783  4.0821373   6.99016486  6.56091565\n   4.34337801  4.55107412  1.77666504  3.26316542  1.73504955  2.77792852\n   1.4923379   2.71773295]\n [ 4.13399795  4.24782041  3.07470507  2.26903717  2.99673688  6.27862756\n   3.33352213  5.27852545  5.88069323  4.07439134  6.41800496  8.3441724\n   4.09174398  4.16346918  1.39197152  5.05186417  5.21468557  5.50007315\n   5.75624955  6.98066273]\n [ 4.71088731  7.31544622  4.70167425  6.25409327  8.34904406  3.67232601\n   7.87504894  3.07901826  2.52149829  4.30585633  4.13185312  3.08626646\n   2.53492276  5.85202814  4.6136427   4.46701813  3.41732533  5.60066458\n   5.30947158  1.857046  ]]\n"
     ]
    }
   ],
   "source": [
    "## type your code here:\n",
    "lst_2d = np.random.normal(5, 2, (20,20))\n",
    "print(lst_2d)"
   ]
  },
  {
   "cell_type": "markdown",
   "metadata": {},
   "source": [
    "### 1.4 Numpy mathematical operations\n",
    "\n",
    "Numpy is a tool which simplifies performing linear algebra in Python, for this reason most operations will match linear algebra operations.\n",
    "\n",
    "1. Addition\n",
    "    1. Adding a scalar to a matrix does not follow normal mathematical rules as the scalar is \n",
    "    added to each object in the matrix\n",
    "  \n",
    "    ```\n",
    "    ```\n",
    "        $\n",
    "            \\begin{bmatrix} \n",
    "            a_{0,0} & a_{0,1} & \\cdots & a_{0,n} \\\\\n",
    "            a_{1,0} & a_{1,1} & \\cdots & a_{1,n} \\\\\n",
    "            \\vdots & \\vdots & \\ddots & \\vdots \\\\\n",
    "            a_{m,0} & a_{m,1} & \\cdots & a_{m,n} \\\\\n",
    "            \\end{bmatrix} + C\n",
    "        $\n",
    "        $ =\n",
    "            \\begin{bmatrix} \n",
    "            a_{0,0} + C & a_{0,1} + C & \\cdots & a_{0,n} + C \\\\\n",
    "            a_{1,0} + C & a_{1,1} + C & \\cdots & a_{1,n} + C \\\\\n",
    "            \\vdots & \\vdots & \\ddots & \\vdots \\\\\n",
    "            a_{m,0} + C & a_{m,1} + C & \\cdots & a_{m,n} + C \\\\\n",
    "            \\end{bmatrix}\n",
    "        $\n",
    "\n",
    "    ```python\n",
    "    lst_2d = np.ones((n, m)) + C\n",
    "    ```"
   ]
  },
  {
   "cell_type": "code",
   "execution_count": 7,
   "metadata": {},
   "outputs": [
    {
     "output_type": "execute_result",
     "data": {
      "text/plain": "array([[6., 6., 6.],\n       [6., 6., 6.]])"
     },
     "metadata": {},
     "execution_count": 7
    }
   ],
   "source": [
    "## type your code here:\n",
    "\n",
    "lst_2d = np.ones((2, 3)) + 5\n",
    "lst_2d"
   ]
  },
  {
   "cell_type": "markdown",
   "metadata": {},
   "source": [
    "1. \n",
    "    2. Adding two numpy arrays requires them to have the same shape\n",
    "  \n",
    "    ```\n",
    "    ```\n",
    "        $\n",
    "            \\begin{bmatrix} \n",
    "            a_{0,0} & a_{0,1} & \\cdots & a_{0,n} \\\\\n",
    "            a_{1,0} & a_{1,1} & \\cdots & a_{1,n} \\\\\n",
    "            \\vdots & \\vdots & \\ddots & \\vdots \\\\\n",
    "            a_{m,0} & a_{m,1} & \\cdots & a_{m,n} \\\\\n",
    "            \\end{bmatrix} + \n",
    "            \\begin{bmatrix} \n",
    "            b_{0,0} & b_{0,1} & \\cdots & b_{0,n} \\\\\n",
    "            b_{1,0} & b_{1,1} & \\cdots & b_{1,n} \\\\\n",
    "            \\vdots & \\vdots & \\ddots & \\vdots \\\\\n",
    "            b_{m,0} & b_{m,1} & \\cdots & b_{m,n} \\\\\n",
    "            \\end{bmatrix} =\n",
    "            \\begin{bmatrix} \n",
    "            a_{0,0} + b_{0,0} & a_{0,1} + b_{0,1} & \\cdots & a_{0,n} + b_{0,n} \\\\\n",
    "            a_{1,0} + b_{1,0} & a_{1,1} + b_{1,1} & \\cdots & a_{1,n} + b_{1,n} \\\\\n",
    "            \\vdots & \\vdots & \\ddots & \\vdots \\\\\n",
    "            a_{m,0} + b_{m,0} & a_{m,1} + b_{m,1} & \\cdots & a_{m,n} + b_{m,n} \\\\\n",
    "            \\end{bmatrix}\n",
    "        $\n",
    "\n",
    "    ```python\n",
    "    lst_2d = np.ones((n, m)) + np.ones((n, m))\n",
    "    ```\n",
    "    "
   ]
  },
  {
   "cell_type": "code",
   "execution_count": 8,
   "metadata": {},
   "outputs": [
    {
     "output_type": "execute_result",
     "data": {
      "text/plain": [
       "array([[2., 2., 2.],\n",
       "       [2., 2., 2.]])"
      ]
     },
     "metadata": {},
     "execution_count": 8
    }
   ],
   "source": [
    "## type your code here:\n",
    "\n",
    "lst_2d = np.ones((2, 3)) + np.ones((2, 3))\n",
    "lst_2d"
   ]
  },
  {
   "cell_type": "code",
   "execution_count": 9,
   "metadata": {},
   "outputs": [
    {
     "output_type": "execute_result",
     "data": {
      "text/plain": "array([[5., 5., 5.],\n       [5., 5., 5.]])"
     },
     "metadata": {},
     "execution_count": 9
    }
   ],
   "source": [
    "## type your code here:\n",
    "\n",
    "lst_2d = np.ones((2, 3)) * 5\n",
    "lst_2d"
   ]
  },
  {
   "cell_type": "code",
   "execution_count": 10,
   "metadata": {},
   "outputs": [
    {
     "output_type": "execute_result",
     "data": {
      "text/plain": "array([[2., 2., 2.],\n       [2., 2., 2.]])"
     },
     "metadata": {},
     "execution_count": 10
    }
   ],
   "source": [
    "## type your code here:\n",
    "\n",
    "lst_2d = np.ones((2, 3)) * (np.ones((2, 3)) * 2)\n",
    "lst_2d"
   ]
  },
  {
   "cell_type": "code",
   "execution_count": 11,
   "metadata": {},
   "outputs": [
    {
     "output_type": "stream",
     "name": "stdout",
     "text": "[[2. 3. 4. 3. 2.]\n [2. 3. 4. 3. 2.]\n [2. 3. 4. 3. 2.]\n [2. 3. 4. 3. 2.]\n [2. 3. 4. 3. 2.]\n [2. 3. 4. 3. 2.]]\n"
    }
   ],
   "source": [
    "## type your code here:\n",
    "\n",
    "lst_2d = np.ones((6, 5)) + np.array([1, 2, 3, 2, 1])\n",
    "\n",
    "#print(np.ones((6, 5)))\n",
    "\n",
    "#print(np.array([1, 2, 3, 2, 1]))\n",
    "\n",
    "print(lst_2d)"
   ]
  },
  {
   "cell_type": "markdown",
   "metadata": {},
   "source": [
    "### 1.5 Accessing elements/rows/columns\n",
    "\n",
    "<br>\n",
    "\n",
    "**Constructing a 2d array for demonstration purposes**\n",
    "\n",
    "\n",
    "```python\n",
    "lst_2d = np.vstack((np.arange(1, 100, 2), np.arange(100, 1, -2)))\n",
    "```\n",
    "\n",
    "This is a 2D array in which the first row comprises of all the odd numbers between [1 and 99] and the second row comprises the even numbers between [100 and 2].\n",
    "<br>"
   ]
  },
  {
   "cell_type": "code",
   "execution_count": 12,
   "metadata": {},
   "outputs": [
    {
     "output_type": "execute_result",
     "data": {
      "text/plain": "array([[  1,   3,   5,   7,   9,  11,  13,  15,  17,  19,  21,  23,  25,\n         27,  29,  31,  33,  35,  37,  39,  41,  43,  45,  47,  49,  51,\n         53,  55,  57,  59,  61,  63,  65,  67,  69,  71,  73,  75,  77,\n         79,  81,  83,  85,  87,  89,  91,  93,  95,  97,  99],\n       [100,  98,  96,  94,  92,  90,  88,  86,  84,  82,  80,  78,  76,\n         74,  72,  70,  68,  66,  64,  62,  60,  58,  56,  54,  52,  50,\n         48,  46,  44,  42,  40,  38,  36,  34,  32,  30,  28,  26,  24,\n         22,  20,  18,  16,  14,  12,  10,   8,   6,   4,   2]])"
     },
     "metadata": {},
     "execution_count": 12
    }
   ],
   "source": [
    "## type your code here:\n",
    "\n",
    "lst_2d = np.vstack((np.arange(1, 100, 2), np.arange(100, 1, -2)))\n",
    "lst_2d\n",
    "\n",
    "# a1=np.arange(1, 100, 2)\n",
    "# a2=np.arange(100, 1, -2)\n",
    "# l=np.array([a1,a2])"
   ]
  },
  {
   "cell_type": "markdown",
   "metadata": {},
   "source": [
    "### 1.6 Accessing individual values\n",
    "\n",
    "1. Using standard list indexing\n",
    "```python\n",
    "# lst_2d[row_index][column_index]\n",
    "lst_2d[1][2]\n",
    "```\n",
    "\n",
    "2. Numpy has more advanced indexing which allows both values to be specified together\n",
    "```python\n",
    "# lst_2d[row_index, column_index]\n",
    "lst_2d[1, 2]\n",
    "```\n",
    "\n",
    "##### Retrieving a row\n",
    "\n",
    "```python\n",
    "# lst_2d[row_index, :]\n",
    "lst_2d[0, :] # return an array of all the elements in the first row\n",
    "lst_2d[1, :] # return an array of all the elements in the second row\n",
    "```\n",
    "\n",
    "##### Retrieving a column\n",
    "\n",
    "```python\n",
    "# lst_2d[:, column_index]\n",
    "lst_2d[:, 5] # return an array of all the elements in the fifth column\n",
    "lst_2d[:, 20] # return an array of all the elements in the twentieth column\n",
    "```\n"
   ]
  },
  {
   "cell_type": "code",
   "execution_count": 13,
   "metadata": {},
   "outputs": [
    {
     "output_type": "execute_result",
     "data": {
      "text/plain": "array([], shape=(0, 50), dtype=int64)"
     },
     "metadata": {},
     "execution_count": 13
    }
   ],
   "source": [
    "## type your code here:\n",
    "\n",
    "lst_2d[2:5]"
   ]
  },
  {
   "cell_type": "markdown",
   "metadata": {},
   "source": [
    "### 1.7 Numpy functions \n",
    "\n",
    "#### Note - There are often two ways of using Numpy functions\n",
    "\n",
    "1. np.<< function >>()\n",
    "2. np_array.<< function >>()\n",
    "\n",
    "#### Example\n",
    "\n",
    "1. Using the np function\n",
    "    ```python\n",
    "lst = np.arange(10)\n",
    "m = np.mean(lst)\n",
    "    ```\n",
    "2. Using the array method\n",
    "    ```python\n",
    "lst = np.arange(10)\n",
    "m = lst.mean()\n",
    "    ```\n",
    "    \n",
    "There are some functions which are only available as one of these two options. But when both are available they are generally interchangable."
   ]
  },
  {
   "cell_type": "code",
   "execution_count": 14,
   "metadata": {},
   "outputs": [
    {
     "output_type": "stream",
     "name": "stdout",
     "text": "4.5\n4.5\n"
    }
   ],
   "source": [
    "## type your code here:\n",
    "\n",
    "lst = np.arange(10)\n",
    "m = np.mean(lst)\n",
    "print(m)\n",
    "\n",
    "lst = np.arange(10)\n",
    "m = lst.mean()\n",
    "print(m)"
   ]
  },
  {
   "cell_type": "markdown",
   "metadata": {},
   "source": [
    "#### Min and Max\n",
    "\n",
    "The names are self explanatory, they will output the minimum and maximum values of the array.\n",
    "\n",
    "\n",
    "```python\n",
    "lst = np.array([21, 19, 11, 17, 20])\n",
    "print(lst.min())\n",
    "print(lst.max())\n",
    "```"
   ]
  },
  {
   "cell_type": "code",
   "execution_count": 15,
   "metadata": {},
   "outputs": [
    {
     "output_type": "stream",
     "name": "stdout",
     "text": "11\n21\n"
    }
   ],
   "source": [
    "## type your code here:\n",
    "\n",
    "lst = np.array([21, 19, 11, 17, 20])\n",
    "print(lst.min())\n",
    "print(lst.max())"
   ]
  },
  {
   "cell_type": "markdown",
   "metadata": {},
   "source": [
    "### 1.8 2D Arrays\n",
    "\n",
    "1. Getting the min and max for the entire 2D array\n",
    "\n",
    "```python\n",
    "# How I generated the random 2D array\n",
    "# lst = np.random.randint(5, 25, (5, 5))\n",
    "lst = np.array(\n",
    "      [[15, 21,  7, 21, 24],\n",
    "       [13, 19, 21, 23,  7],\n",
    "       [ 8, 17, 13, 21, 14],\n",
    "       [11, 16, 20, 20, 12],\n",
    "       [22,  5,  8, 23,  8]]\n",
    ")\n",
    "\n",
    "min_v = lst.min()\n",
    "max_v = lst.max()\n",
    "\n",
    "print('The min is {}'.format(min_v))\n",
    "print('The max is {}'.format(max_v))\n",
    "```"
   ]
  },
  {
   "cell_type": "code",
   "execution_count": 16,
   "metadata": {},
   "outputs": [
    {
     "output_type": "stream",
     "name": "stdout",
     "text": "The min is 5\nThe max is 24\n"
    }
   ],
   "source": [
    "## type your code here:\n",
    "\n",
    "lst = np.array(\n",
    "      [[15, 21,  7, 21, 24],\n",
    "       [13, 19, 21, 23,  7],\n",
    "       [ 8, 17, 13, 21, 14],\n",
    "       [11, 16, 20, 20, 12],\n",
    "       [22,  5,  8, 23,  8]]\n",
    ")\n",
    "\n",
    "min_v = lst.min()\n",
    "max_v = lst.max()\n",
    "\n",
    "print('The min is {}'.format(min_v))\n",
    "print('The max is {}'.format(max_v))"
   ]
  },
  {
   "cell_type": "markdown",
   "metadata": {},
   "source": [
    "### 1.8.1       The axis argument in 2D Arrays\n",
    "```\n",
    "      [[15, 21,  7, 21, 24],  |\n",
    "       [13, 19, 21, 23,  7],  |\n",
    "       [ 8, 17, 13, 21, 14],  | axis = 0\n",
    "       [11, 16, 20, 20, 12],  |\n",
    "       [22,  5,  8, 23,  8]]  V\n",
    "       \n",
    "       ------------------->\n",
    "               axis=1\n",
    "```\n",
    "\n",
    "- axis 0 applies the operation row-wise\n",
    "- axis 1 appries the operation column-wise\n",
    "\n",
    "If the data has a third dimension then axis 2 will apply the function in that dimension and so on..."
   ]
  },
  {
   "cell_type": "code",
   "execution_count": 17,
   "metadata": {},
   "outputs": [
    {
     "output_type": "stream",
     "name": "stdout",
     "text": "[[15 21  7 21 24]\n [13 19 21 23  7]\n [ 8 17 13 21 14]\n [11 16 20 20 12]\n [22  5  8 23  8]]\nThe min for each column is [ 8  5  7 20  7]\nThe max for each column is [22 21 21 23 24]\n"
    }
   ],
   "source": [
    "## type your code here:\n",
    "\n",
    "\n",
    "lst = np.array(\n",
    "      [[15, 21,  7, 21, 24],\n",
    "       [13, 19, 21, 23,  7],\n",
    "       [ 8, 17, 13, 21, 14],\n",
    "       [11, 16, 20, 20, 12],\n",
    "       [22,  5,  8, 23,  8]]\n",
    ")\n",
    "\n",
    "#lst = np.arange(25).reshape((5,5)).transpose()\n",
    "\n",
    "print(lst)\n",
    "\n",
    "min_v = lst.min(axis=0)\n",
    "max_v = lst.max(axis=0)\n",
    "\n",
    "#min_v = lst.min(axis=1)\n",
    "#max_v = lst.max(axis=1)\n",
    "\n",
    "print('The min for each column is {}'.format(min_v))\n",
    "print('The max for each column is {}'.format(max_v))"
   ]
  },
  {
   "cell_type": "code",
   "execution_count": 18,
   "metadata": {},
   "outputs": [
    {
     "output_type": "execute_result",
     "data": {
      "text/plain": "array([[15,  7],\n       [13, 21],\n       [ 8, 13],\n       [11, 20]])"
     },
     "metadata": {},
     "execution_count": 18
    }
   ],
   "source": [
    "## type your code here:\n",
    "\n",
    "# indexing\n",
    "lst[2:5]  #prints items 2 to 4. Index in NumPy arrays starts from 0\n",
    "lst[2::2] #prints items 2 to end skipping 2 items\n",
    "lst[::-1] #rints the array in the reverse order\n",
    "lst[1:]   #prints from row 1 to end\n",
    "lst[0:4,0:4] #\n",
    "lst[0:4,0:4:2]\n",
    "#...."
   ]
  },
  {
   "cell_type": "markdown",
   "metadata": {},
   "source": [
    "### 1.8.2 Example:  Min Max normalization\n",
    "\n",
    "Subtract the minimum value from each element and divide it by the difference between the maximum and the minimum.\n",
    "\n",
    "$$ \\frac{ X - X_{min}}{X_{max} - X_{min}} $$\n",
    "\n",
    "Using numpy it is easy to perform these types of calculations\n",
    "\n",
    "```python\n",
    "lst = np.array([21, 19, 11, 17, 20])\n",
    "lst_norm = (lst - lst.min()) / (lst.max() - lst.min())\n",
    "lst_norm\n",
    "```"
   ]
  },
  {
   "cell_type": "code",
   "execution_count": 19,
   "metadata": {},
   "outputs": [
    {
     "output_type": "execute_result",
     "data": {
      "text/plain": "array([1. , 0.8, 0. , 0.6, 0.9])"
     },
     "metadata": {},
     "execution_count": 19
    }
   ],
   "source": [
    "## type your code here:\n",
    "\n",
    "lst = np.array([21, 19, 11, 17, 20])\n",
    "lst_norm = (lst - lst.min()) / (lst.max() - lst.min())\n",
    "lst_norm"
   ]
  },
  {
   "cell_type": "markdown",
   "metadata": {},
   "source": [
    "The same method will also work even if the data is 2 dimensional\n",
    "\n",
    "```python\n",
    "lst = np.array(\n",
    "      [[15, 21,  7, 21, 24],\n",
    "       [13, 19, 21, 23,  7],\n",
    "       [ 8, 17, 13, 21, 14],\n",
    "       [11, 16, 20, 20, 12],\n",
    "       [22,  5,  8, 23,  8]]\n",
    ")\n",
    "lst_norm = (lst - lst.min()) / (lst.max() - lst.min())\n",
    "lst_norm\n",
    "```"
   ]
  },
  {
   "cell_type": "code",
   "execution_count": 20,
   "metadata": {},
   "outputs": [
    {
     "output_type": "execute_result",
     "data": {
      "text/plain": "array([[0.52631579, 0.84210526, 0.10526316, 0.84210526, 1.        ],\n       [0.42105263, 0.73684211, 0.84210526, 0.94736842, 0.10526316],\n       [0.15789474, 0.63157895, 0.42105263, 0.84210526, 0.47368421],\n       [0.31578947, 0.57894737, 0.78947368, 0.78947368, 0.36842105],\n       [0.89473684, 0.        , 0.15789474, 0.94736842, 0.15789474]])"
     },
     "metadata": {},
     "execution_count": 20
    }
   ],
   "source": [
    "## type your code here:\n",
    "\n",
    "lst = np.array(\n",
    "      [[15, 21,  7, 21, 24],\n",
    "       [13, 19, 21, 23,  7],\n",
    "       [ 8, 17, 13, 21, 14],\n",
    "       [11, 16, 20, 20, 12],\n",
    "       [22,  5,  8, 23,  8]]\n",
    ")\n",
    "lst_norm = (lst - lst.min()) / (lst.max() - lst.min())\n",
    "lst_norm"
   ]
  },
  {
   "cell_type": "markdown",
   "metadata": {},
   "source": [
    "#### Some additional functions to test on 2D arrays\n",
    "<br>\n",
    "\n",
    "\n",
    "\n",
    "```python\n",
    "A = np.array([[1,1],[0,1]])\n",
    "B = np.array([[2,0],[3,4]])\n",
    "A+B              #addition of two array\n",
    "np.add(A,B)      #addition of two array\n",
    "A * B            # elementwise product\n",
    "A @ B            # matrix product\n",
    "A.dot(B)         # another matrix product\n",
    "B.T              #Transpose of B array\n",
    "A.flatten()      #form 1-d array\n",
    "B < 3            #Boolean of Matrix B. True for elements less than 3\n",
    "A.sum()          # sum of all elements of A\n",
    "A.sum(axis=0)    # sum of each column\n",
    "A.sum(axis=1)    # sum of each row\n",
    "A.cumsum(axis=1) # cumulative sum along each row\n",
    "A.min()          # min value of all elements\n",
    "A.max()          # max value of all elements\n",
    "np.exp(B)        # exponential\n",
    "np.sqrt(B)       # squre root\n",
    "A.argmin()       #position of min value of elements \n",
    "A.argmax()       #position of max value of elements\n",
    "A[1,1]           #member of a array in (1,1) position\n",
    "np.concat((np_array, np_array, ...)) \n",
    "```\n",
    "\n",
    "<br>\n",
    "\n",
    "These are just a few of the functions which numpy offers. All of the available functions are listed in their documentation [https://docs.scipy.org/doc/numpy-1.15.1/reference/#]\n"
   ]
  },
  {
   "cell_type": "code",
   "execution_count": 21,
   "metadata": {},
   "outputs": [
    {
     "output_type": "error",
     "ename": "NameError",
     "evalue": "name 'A' is not defined",
     "traceback": [
      "\u001b[0;31m---------------------------------------------------------------------------\u001b[0m",
      "\u001b[0;31mNameError\u001b[0m                                 Traceback (most recent call last)",
      "\u001b[0;32m<ipython-input-21-a7353548a893>\u001b[0m in \u001b[0;36m<module>\u001b[0;34m\u001b[0m\n\u001b[1;32m      1\u001b[0m \u001b[0;31m## type your code here:\u001b[0m\u001b[0;34m\u001b[0m\u001b[0;34m\u001b[0m\u001b[0;34m\u001b[0m\u001b[0m\n\u001b[1;32m      2\u001b[0m \u001b[0;34m\u001b[0m\u001b[0m\n\u001b[0;32m----> 3\u001b[0;31m \u001b[0mprint\u001b[0m\u001b[0;34m(\u001b[0m\u001b[0mA\u001b[0m\u001b[0;34m)\u001b[0m\u001b[0;34m\u001b[0m\u001b[0;34m\u001b[0m\u001b[0m\n\u001b[0m\u001b[1;32m      4\u001b[0m \u001b[0mprint\u001b[0m\u001b[0;34m(\u001b[0m\u001b[0mB\u001b[0m\u001b[0;34m)\u001b[0m\u001b[0;34m\u001b[0m\u001b[0;34m\u001b[0m\u001b[0m\n\u001b[1;32m      5\u001b[0m \u001b[0;34m\u001b[0m\u001b[0m\n",
      "\u001b[0;31mNameError\u001b[0m: name 'A' is not defined"
     ]
    }
   ],
   "source": [
    "## type your code here:\n",
    "\n",
    "print(A)\n",
    "print(B)\n",
    "\n",
    "print(A * B)            # elementwise product\n",
    "print(A @ B)            # matrix product\n",
    "\n",
    "A = np.array([[1,1],[0,1]])\n",
    "B = np.array([[2,0],[3,4]])\n",
    "\n",
    "A.cumsum(axis=1)\n",
    "np.exp(A)"
   ]
  },
  {
   "cell_type": "markdown",
   "metadata": {},
   "source": [
    "\n",
    "-----------------------------------------------------------------------------------------\n",
    "<br>\n"
   ]
  },
  {
   "cell_type": "markdown",
   "metadata": {},
   "source": [
    "# 2. Pandas\n",
    "\n",
    "Pandas is a fast, powerful, flexible and easy to use open source data analysis and manipulation tool, built on top of the Python programming language.\n",
    "\n",
    "\n",
    "### 2.1 The History of Pandas\n",
    "\n",
    "Pandas was created by Wes McKinney in 2008 while he was working for AQR Capital Management. He managed to convince the company to open source the project.\n",
    "\n",
    "Chang She, who also worked for AQR joined the project in 2012 and is the second major contributor.\n",
    "\n",
    "Pandas signed onto NumFOCUS, a nonprofit charity, in 2015.(https://en.wikipedia.org/wiki/Pandas_(software))\n",
    "\n",
    "A book written by Wes McKinney (Reviews indicate that the examples are not great):\n",
    "+ McKinney, Wes. Python for data analysis : data wrangling with pandas, NumPy, and IPython. Sebastopol, CA: O'Reilly Media, Inc, 2018. Print.\n",
    "\n",
    "This book covers using python for data science and includes some machine learning:\n",
    "+ Vanderplas, Jacob T. Python data science handbook : essential tools for working with data. Sebastopol, CA: O'Reilly Media, Inc, 2016. Print.\n",
    "\n",
    "There are also many excelent blog posts on pandas."
   ]
  },
  {
   "cell_type": "code",
   "execution_count": 22,
   "metadata": {},
   "outputs": [
    {
     "output_type": "execute_result",
     "data": {
      "text/plain": "         class  max_speed\nfalcon    bird      389.0\nparrot    bird       24.0\nlion    mammal       80.5\nmonkey  mammal        NaN",
      "text/html": "<div>\n<style scoped>\n    .dataframe tbody tr th:only-of-type {\n        vertical-align: middle;\n    }\n\n    .dataframe tbody tr th {\n        vertical-align: top;\n    }\n\n    .dataframe thead th {\n        text-align: right;\n    }\n</style>\n<table border=\"1\" class=\"dataframe\">\n  <thead>\n    <tr style=\"text-align: right;\">\n      <th></th>\n      <th>class</th>\n      <th>max_speed</th>\n    </tr>\n  </thead>\n  <tbody>\n    <tr>\n      <th>falcon</th>\n      <td>bird</td>\n      <td>389.0</td>\n    </tr>\n    <tr>\n      <th>parrot</th>\n      <td>bird</td>\n      <td>24.0</td>\n    </tr>\n    <tr>\n      <th>lion</th>\n      <td>mammal</td>\n      <td>80.5</td>\n    </tr>\n    <tr>\n      <th>monkey</th>\n      <td>mammal</td>\n      <td>NaN</td>\n    </tr>\n  </tbody>\n</table>\n</div>"
     },
     "metadata": {},
     "execution_count": 22
    }
   ],
   "source": [
    "## type your code here:\n",
    "\n",
    "import pandas as pd\n",
    "\n",
    "df = pd.DataFrame([('bird', 389.0),\n",
    "                   ('bird', 24.0),\n",
    "                   ('mammal', 80.5),\n",
    "                   ('mammal', np.nan)],\n",
    "                  index=['falcon', 'parrot', 'lion', 'monkey'],\n",
    "                  columns=('class', 'max_speed'))\n",
    "\n",
    "df"
   ]
  },
  {
   "cell_type": "markdown",
   "metadata": {},
   "source": [
    "### 2.2 Learning Pandas\n",
    "\n",
    "#### Pandas Use Cases\n",
    "\n",
    "Pandas primary use case is for data analysis.\n",
    "It provides data structures and a tone of functions for quickly manipulating data.\n",
    "Some example usage:\n",
    "  + cleaning data (removing/imputing missing values)\n",
    "  + transforming (changing the form of the dataframe)\n",
    "  + visualizing (Creating plots that summarize the data)\n",
    "  \n",
    "  \n",
    " \n",
    "#### Pandas has extensive documentation with examples\n",
    "If you go for a few months without coding its hard to remember the little details. If you remember the function names you can read up on them when you need them.\n",
    "\n",
    "https://pandas.pydata.org/pandas-docs/stable/\n",
    "\n",
    "I find it hard to navigate their documentation, so I Google 'pandas \\< functionality \\>' and choose the link to the pandas site.\n",
    "\n",
    "Eg:\n",
    "+ Google 'pandas merge'\n",
    "+ https://pandas.pydata.org/pandas-docs/stable/reference/api/pandas.DataFrame.merge.html\n",
    "\n",
    "\n",
    "#### Use Cheat sheets!"
   ]
  },
  {
   "cell_type": "markdown",
   "metadata": {},
   "source": [
    "### 2.3  How to install Pandas\n",
    "\n",
    "\n",
    "- Pandas is an external Python Package\n",
    "  + This means that it is not included with the Python Standard Libraries\n",
    "  + It can be installed using conda (https://anaconda.org/anaconda/pandas)\n",
    "    + `conda install -c anaconda pandas`\n",
    "  + The latest version dropped support for Python 2\n",
    " \n",
    "<br> \n",
    "- Importing Pandas\n",
    "\n",
    "In order to use the functionality provided by pandas the package will need to be imported.\n",
    "The standard practice is to name this import **pd**.\n",
    "\n",
    "\n",
    "```python\n",
    "import pandas as pd\n",
    "```"
   ]
  },
  {
   "cell_type": "code",
   "execution_count": 23,
   "metadata": {},
   "outputs": [],
   "source": [
    "## type your code here:\n",
    "import pandas as pd"
   ]
  },
  {
   "cell_type": "markdown",
   "metadata": {},
   "source": [
    "### 2.4 Creating a Dataframe\n",
    "\n",
    "#### A dataframe is a collection of data where each row consists of a collection of observations.\n",
    "\n",
    "#### There are many ways to create dataframes:\n",
    "\n",
    "+ Converting a list to a dataframe (see above)\n",
    "\n",
    "\n",
    "+ Converting a dictionary to a dataframe\n",
    "    ```python\n",
    "df = pd.Dataframe.from_dict( << dict >> )\n",
    "    ```\n",
    "+ Loading the data from a csv file\n",
    "    ```python\n",
    "df = pd.read_csv( << csv_path >> )\n",
    "    ```\n",
    "+ Load the data from a url\n",
    "    ```python\n",
    "url = \"https://vincentarelbundock.github.io/Rdatasets/csv/datasets/trees.csv\"\n",
    "df = pd.read_csv(url)\n",
    "    ```\n",
    "+ Load the data from an excel file\n",
    "    ```python\n",
    "df = pd.read_excel('tmp.xlsx', index_col=None, header=None, sheet_name='Sheet3') \n",
    "    ```\n",
    "     help(https://pandas.pydata.org/pandas-docs/stable/reference/api/pandas.read_excel.html)"
   ]
  },
  {
   "cell_type": "markdown",
   "metadata": {},
   "source": [
    "\n",
    "Some of these examples are taken from the pandas documentation\n",
    "\n",
    "(https://pandas.pydata.org/pandas-docs/stable/generated/pandas.DataFrame.from_dict.html#pandas.DataFrame.from_dict)"
   ]
  },
  {
   "cell_type": "markdown",
   "metadata": {},
   "source": [
    "### 2.5 Columns and Indices\n",
    "\n",
    "###### By default, each item in the dictionary will represent a column\n",
    "```python\n",
    "data = {'col_1': [3, 2, 1, 0], 'col_2': ['a', 'b', 'c', 'd']}\n",
    "pd.DataFrame.from_dict(data)\n",
    "```"
   ]
  },
  {
   "cell_type": "code",
   "execution_count": 24,
   "metadata": {},
   "outputs": [
    {
     "output_type": "execute_result",
     "data": {
      "text/plain": "   col_1 col_2\n0      3     a\n1      2     b\n2      1     c\n3      0     d",
      "text/html": "<div>\n<style scoped>\n    .dataframe tbody tr th:only-of-type {\n        vertical-align: middle;\n    }\n\n    .dataframe tbody tr th {\n        vertical-align: top;\n    }\n\n    .dataframe thead th {\n        text-align: right;\n    }\n</style>\n<table border=\"1\" class=\"dataframe\">\n  <thead>\n    <tr style=\"text-align: right;\">\n      <th></th>\n      <th>col_1</th>\n      <th>col_2</th>\n    </tr>\n  </thead>\n  <tbody>\n    <tr>\n      <th>0</th>\n      <td>3</td>\n      <td>a</td>\n    </tr>\n    <tr>\n      <th>1</th>\n      <td>2</td>\n      <td>b</td>\n    </tr>\n    <tr>\n      <th>2</th>\n      <td>1</td>\n      <td>c</td>\n    </tr>\n    <tr>\n      <th>3</th>\n      <td>0</td>\n      <td>d</td>\n    </tr>\n  </tbody>\n</table>\n</div>"
     },
     "metadata": {},
     "execution_count": 24
    }
   ],
   "source": [
    "## type your code here:\n",
    "\n",
    "data = {'col_1': [3, 2, 1, 0], 'col_2': ['a', 'b', 'c', 'd']}\n",
    "df = pd.DataFrame.from_dict(data)\n",
    "df"
   ]
  },
  {
   "cell_type": "markdown",
   "metadata": {},
   "source": [
    "###### This can be changed by changing the orient parameter to 'index' (the default is 'column')\n",
    "```python\n",
    "data = {'row_1': [3, 2, 1, 0], 'row_2': ['a', 'b', 'c', 'd']}\n",
    "pd.DataFrame.from_dict(data, orient='index')\n",
    "```"
   ]
  },
  {
   "cell_type": "code",
   "execution_count": 25,
   "metadata": {},
   "outputs": [
    {
     "output_type": "execute_result",
     "data": {
      "text/plain": "       0  1  2  3\nrow_1  3  2  1  0\nrow_2  a  b  c  d",
      "text/html": "<div>\n<style scoped>\n    .dataframe tbody tr th:only-of-type {\n        vertical-align: middle;\n    }\n\n    .dataframe tbody tr th {\n        vertical-align: top;\n    }\n\n    .dataframe thead th {\n        text-align: right;\n    }\n</style>\n<table border=\"1\" class=\"dataframe\">\n  <thead>\n    <tr style=\"text-align: right;\">\n      <th></th>\n      <th>0</th>\n      <th>1</th>\n      <th>2</th>\n      <th>3</th>\n    </tr>\n  </thead>\n  <tbody>\n    <tr>\n      <th>row_1</th>\n      <td>3</td>\n      <td>2</td>\n      <td>1</td>\n      <td>0</td>\n    </tr>\n    <tr>\n      <th>row_2</th>\n      <td>a</td>\n      <td>b</td>\n      <td>c</td>\n      <td>d</td>\n    </tr>\n  </tbody>\n</table>\n</div>"
     },
     "metadata": {},
     "execution_count": 25
    }
   ],
   "source": [
    "## type your code here:\n",
    "\n",
    "data = {'row_1': [3, 2, 1, 0], 'row_2': ['a', 'b', 'c', 'd']}\n",
    "pd.DataFrame.from_dict(data, orient='index')"
   ]
  },
  {
   "cell_type": "markdown",
   "metadata": {},
   "source": [
    "###### The names of the columns can be set using the columns parameter\n",
    "```python\n",
    "data = {'row_1': [3, 2, 1, 0], 'row_2': ['a', 'b', 'c', 'd']}\n",
    "pd.DataFrame.from_dict(data, orient='index',\n",
    "                        columns=['A', 'B', 'C', 'D'])\n",
    "```"
   ]
  },
  {
   "cell_type": "code",
   "execution_count": 26,
   "metadata": {},
   "outputs": [
    {
     "output_type": "execute_result",
     "data": {
      "text/plain": "       A  B  C  D\nrow_1  3  2  1  0\nrow_2  a  b  c  d",
      "text/html": "<div>\n<style scoped>\n    .dataframe tbody tr th:only-of-type {\n        vertical-align: middle;\n    }\n\n    .dataframe tbody tr th {\n        vertical-align: top;\n    }\n\n    .dataframe thead th {\n        text-align: right;\n    }\n</style>\n<table border=\"1\" class=\"dataframe\">\n  <thead>\n    <tr style=\"text-align: right;\">\n      <th></th>\n      <th>A</th>\n      <th>B</th>\n      <th>C</th>\n      <th>D</th>\n    </tr>\n  </thead>\n  <tbody>\n    <tr>\n      <th>row_1</th>\n      <td>3</td>\n      <td>2</td>\n      <td>1</td>\n      <td>0</td>\n    </tr>\n    <tr>\n      <th>row_2</th>\n      <td>a</td>\n      <td>b</td>\n      <td>c</td>\n      <td>d</td>\n    </tr>\n  </tbody>\n</table>\n</div>"
     },
     "metadata": {},
     "execution_count": 26
    }
   ],
   "source": [
    "## type your code here:\n",
    "\n",
    "data = {'row_1': [3, 2, 1, 0], 'row_2': ['a', 'b', 'c', 'd']}\n",
    "pd.DataFrame.from_dict(data, orient='index',\n",
    "                        columns=['A', 'B', 'C', 'D'])"
   ]
  },
  {
   "cell_type": "markdown",
   "metadata": {},
   "source": [
    "###### Alternatively you can specify the column names in the dictionary\n",
    "```python\n",
    "data = {\n",
    "    'Tree1': {'girth': 8.3, 'height': 70, 'volume': 10.3},\n",
    "    'Tree2': {'girth': 8.6, 'height': 65, 'volume': 10.3},\n",
    "    'Tree3': {'girth': 8.8, 'height': 63, 'volume': 10.2}\n",
    "}\n",
    "pd.DataFrame.from_dict(data, orient='index')\n",
    "```\n",
    "\n",
    "https://en.wikipedia.org/wiki/Tree_girth_measurement"
   ]
  },
  {
   "cell_type": "code",
   "execution_count": 27,
   "metadata": {},
   "outputs": [
    {
     "output_type": "execute_result",
     "data": {
      "text/plain": "       girth  height  volume\nTree1    8.3      70    10.3\nTree2    8.6      65    10.3\nTree3    8.8      63    10.2",
      "text/html": "<div>\n<style scoped>\n    .dataframe tbody tr th:only-of-type {\n        vertical-align: middle;\n    }\n\n    .dataframe tbody tr th {\n        vertical-align: top;\n    }\n\n    .dataframe thead th {\n        text-align: right;\n    }\n</style>\n<table border=\"1\" class=\"dataframe\">\n  <thead>\n    <tr style=\"text-align: right;\">\n      <th></th>\n      <th>girth</th>\n      <th>height</th>\n      <th>volume</th>\n    </tr>\n  </thead>\n  <tbody>\n    <tr>\n      <th>Tree1</th>\n      <td>8.3</td>\n      <td>70</td>\n      <td>10.3</td>\n    </tr>\n    <tr>\n      <th>Tree2</th>\n      <td>8.6</td>\n      <td>65</td>\n      <td>10.3</td>\n    </tr>\n    <tr>\n      <th>Tree3</th>\n      <td>8.8</td>\n      <td>63</td>\n      <td>10.2</td>\n    </tr>\n  </tbody>\n</table>\n</div>"
     },
     "metadata": {},
     "execution_count": 27
    }
   ],
   "source": [
    "## type your code here:\n",
    "\n",
    "data = {\n",
    "    'Tree1': {'girth': 8.3, 'height': 70, 'volume': 10.3},\n",
    "    'Tree2': {'girth': 8.6, 'height': 65, 'volume': 10.3},\n",
    "    'Tree3': {'girth': 8.8, 'height': 63, 'volume': 10.2}\n",
    "}\n",
    "pd.DataFrame.from_dict(data, orient='index')\n",
    "\n"
   ]
  },
  {
   "cell_type": "markdown",
   "metadata": {},
   "source": [
    "**Note** Each row needs to have a unique identifier, in the above example this is represented by '**Tree#**'. Generally this is represented by an integer ranging from 0->n. \n",
    "+ In the above example we can reset the index to be the integers using the reset_index() function.\n",
    "```python\n",
    "data = {\n",
    "    'Tree1': {'girth': 8.3, 'height': 70, 'volume': 10.3},\n",
    "    'Tree2': {'girth': 8.6, 'height': 65, 'volume': 10.3},\n",
    "    'Tree3': {'girth': 8.8, 'height': 63, 'volume': 10.2}\n",
    "}\n",
    "pd.DataFrame.from_dict(data, orient='index').reset_index()\n",
    "```"
   ]
  },
  {
   "cell_type": "code",
   "execution_count": 28,
   "metadata": {},
   "outputs": [
    {
     "output_type": "execute_result",
     "data": {
      "text/plain": "   index  girth  height  volume\n0  Tree1    8.3      70    10.3\n1  Tree2    8.6      65    10.3\n2  Tree3    8.8      63    10.2",
      "text/html": "<div>\n<style scoped>\n    .dataframe tbody tr th:only-of-type {\n        vertical-align: middle;\n    }\n\n    .dataframe tbody tr th {\n        vertical-align: top;\n    }\n\n    .dataframe thead th {\n        text-align: right;\n    }\n</style>\n<table border=\"1\" class=\"dataframe\">\n  <thead>\n    <tr style=\"text-align: right;\">\n      <th></th>\n      <th>index</th>\n      <th>girth</th>\n      <th>height</th>\n      <th>volume</th>\n    </tr>\n  </thead>\n  <tbody>\n    <tr>\n      <th>0</th>\n      <td>Tree1</td>\n      <td>8.3</td>\n      <td>70</td>\n      <td>10.3</td>\n    </tr>\n    <tr>\n      <th>1</th>\n      <td>Tree2</td>\n      <td>8.6</td>\n      <td>65</td>\n      <td>10.3</td>\n    </tr>\n    <tr>\n      <th>2</th>\n      <td>Tree3</td>\n      <td>8.8</td>\n      <td>63</td>\n      <td>10.2</td>\n    </tr>\n  </tbody>\n</table>\n</div>"
     },
     "metadata": {},
     "execution_count": 28
    }
   ],
   "source": [
    "## type your code here:\n",
    "\n",
    "data = {\n",
    "  'Tree1': {'girth': 8.3, 'height': 70, 'volume': 10.3},\n",
    "  'Tree2': {'girth': 8.6, 'height': 65, 'volume': 10.3},\n",
    "  'Tree3': {'girth': 8.8, 'height': 63, 'volume': 10.2}\n",
    "}\n",
    "pd.DataFrame.from_dict(data, orient='index').reset_index()\n"
   ]
  },
  {
   "cell_type": "markdown",
   "metadata": {},
   "source": [
    "###### Loading Data from a URL\n",
    "```python\n",
    "url = \"https://vincentarelbundock.github.io/Rdatasets/csv/datasets/trees.csv\"\n",
    "df = pd.read_csv(url)\n",
    "df\n",
    "```\n",
    "\n",
    "And there are many cvs files from https://opendata.cityofnewyork.us/! \n"
   ]
  },
  {
   "cell_type": "code",
   "execution_count": 29,
   "metadata": {},
   "outputs": [
    {
     "output_type": "execute_result",
     "data": {
      "text/plain": "   Unnamed: 0  Girth  Height  Volume\n0           1    8.3      70    10.3\n1           2    8.6      65    10.3\n2           3    8.8      63    10.2\n3           4   10.5      72    16.4\n4           5   10.7      81    18.8",
      "text/html": "<div>\n<style scoped>\n    .dataframe tbody tr th:only-of-type {\n        vertical-align: middle;\n    }\n\n    .dataframe tbody tr th {\n        vertical-align: top;\n    }\n\n    .dataframe thead th {\n        text-align: right;\n    }\n</style>\n<table border=\"1\" class=\"dataframe\">\n  <thead>\n    <tr style=\"text-align: right;\">\n      <th></th>\n      <th>Unnamed: 0</th>\n      <th>Girth</th>\n      <th>Height</th>\n      <th>Volume</th>\n    </tr>\n  </thead>\n  <tbody>\n    <tr>\n      <th>0</th>\n      <td>1</td>\n      <td>8.3</td>\n      <td>70</td>\n      <td>10.3</td>\n    </tr>\n    <tr>\n      <th>1</th>\n      <td>2</td>\n      <td>8.6</td>\n      <td>65</td>\n      <td>10.3</td>\n    </tr>\n    <tr>\n      <th>2</th>\n      <td>3</td>\n      <td>8.8</td>\n      <td>63</td>\n      <td>10.2</td>\n    </tr>\n    <tr>\n      <th>3</th>\n      <td>4</td>\n      <td>10.5</td>\n      <td>72</td>\n      <td>16.4</td>\n    </tr>\n    <tr>\n      <th>4</th>\n      <td>5</td>\n      <td>10.7</td>\n      <td>81</td>\n      <td>18.8</td>\n    </tr>\n  </tbody>\n</table>\n</div>"
     },
     "metadata": {},
     "execution_count": 29
    }
   ],
   "source": [
    "## type your code here:\n",
    "\n",
    "url = \"https://vincentarelbundock.github.io/Rdatasets/csv/datasets/trees.csv\"\n",
    "df = pd.read_csv(url)   # URL or LocalFile\n",
    "df.head()"
   ]
  },
  {
   "cell_type": "code",
   "execution_count": 30,
   "metadata": {},
   "outputs": [
    {
     "output_type": "execute_result",
     "data": {
      "text/plain": "   Girth  Height  Volume\n0    8.3      70    10.3\n1    8.6      65    10.3\n2    8.8      63    10.2\n3   10.5      72    16.4\n4   10.7      81    18.8",
      "text/html": "<div>\n<style scoped>\n    .dataframe tbody tr th:only-of-type {\n        vertical-align: middle;\n    }\n\n    .dataframe tbody tr th {\n        vertical-align: top;\n    }\n\n    .dataframe thead th {\n        text-align: right;\n    }\n</style>\n<table border=\"1\" class=\"dataframe\">\n  <thead>\n    <tr style=\"text-align: right;\">\n      <th></th>\n      <th>Girth</th>\n      <th>Height</th>\n      <th>Volume</th>\n    </tr>\n  </thead>\n  <tbody>\n    <tr>\n      <th>0</th>\n      <td>8.3</td>\n      <td>70</td>\n      <td>10.3</td>\n    </tr>\n    <tr>\n      <th>1</th>\n      <td>8.6</td>\n      <td>65</td>\n      <td>10.3</td>\n    </tr>\n    <tr>\n      <th>2</th>\n      <td>8.8</td>\n      <td>63</td>\n      <td>10.2</td>\n    </tr>\n    <tr>\n      <th>3</th>\n      <td>10.5</td>\n      <td>72</td>\n      <td>16.4</td>\n    </tr>\n    <tr>\n      <th>4</th>\n      <td>10.7</td>\n      <td>81</td>\n      <td>18.8</td>\n    </tr>\n  </tbody>\n</table>\n</div>"
     },
     "metadata": {},
     "execution_count": 30
    }
   ],
   "source": [
    "## type your code here:\n",
    "\n",
    "df = df.drop(columns=['Unnamed: 0'])\n",
    "df.head()"
   ]
  },
  {
   "cell_type": "markdown",
   "metadata": {},
   "source": [
    "### 2.6 Accessing values in the dataframe\n",
    "```python\n",
    "data = {\n",
    "    'Tree1': {'girth': 8.3, 'height': 70, 'volume': 10.3},\n",
    "    'Tree2': {'girth': 8.6, 'height': 65, 'volume': 10.3},\n",
    "    'Tree3': {'girth': 8.8, 'height': 63, 'volume': 10.2}\n",
    "}\n",
    "df = pd.DataFrame.from_dict(data, orient='index')\n",
    "```"
   ]
  },
  {
   "cell_type": "code",
   "execution_count": 31,
   "metadata": {},
   "outputs": [],
   "source": [
    "## type your code here:\n",
    "\n",
    "data = {\n",
    "    'Tree1': {'girth': 8.3, 'height': 70, 'volume': 10.3},\n",
    "    'Tree2': {'girth': 8.6, 'height': 65, 'volume': 10.3},\n",
    "    'Tree3': {'girth': 8.8, 'height': 63, 'volume': 10.2}\n",
    "}\n",
    "\n",
    "df = pd.DataFrame.from_dict(data, orient='index')"
   ]
  },
  {
   "cell_type": "markdown",
   "metadata": {},
   "source": [
    "#### Columns\n",
    "\n",
    "##### Getting Column Names\n",
    "\n",
    "+ To get a list of column names you can covert the dataframe into a list\n",
    "```python\n",
    "list(df) # returns a list of column names\n",
    "# or\n",
    "df.columns.values # returns a numpy array of column names\n",
    "```\n",
    "\n",
    "As with most of programming there are multiple methods of doing the same thing.\n",
    "It is generally preferable to use the option that is easier to understand. In this case `df.columns.values` as this explicitly states what values are being extracted\n"
   ]
  },
  {
   "cell_type": "code",
   "execution_count": 32,
   "metadata": {},
   "outputs": [
    {
     "output_type": "execute_result",
     "data": {
      "text/plain": "['girth', 'height', 'volume']"
     },
     "metadata": {},
     "execution_count": 32
    }
   ],
   "source": [
    "## type your code here:\n",
    "\n",
    "list(df)\n",
    "#df.columns.values"
   ]
  },
  {
   "cell_type": "markdown",
   "metadata": {},
   "source": [
    "##### Pulling a column out of a dataframe\n",
    "\n",
    "+ Access columns using the column name in square brackets to return a series containing the data.\n",
    "```python\n",
    "df[\"column_name\"]\n",
    "```\n",
    "\n",
    "+ A series is a 1D array of id, value pairs"
   ]
  },
  {
   "cell_type": "code",
   "execution_count": 33,
   "metadata": {},
   "outputs": [
    {
     "output_type": "execute_result",
     "data": {
      "text/plain": "Tree1    10.3\nTree2    10.3\nTree3    10.2\nName: volume, dtype: float64"
     },
     "metadata": {},
     "execution_count": 33
    }
   ],
   "source": [
    "## type your code here:\n",
    "\n",
    "df['volume']\n",
    "\n",
    "#df.volume\n",
    "#df['volume'].mean()"
   ]
  },
  {
   "cell_type": "markdown",
   "metadata": {},
   "source": [
    "##### Subsetting a Dataframe using a List of Columns\n",
    "\n",
    "Use a list of column names to extract those columns as a dataframe\n",
    "\n",
    "```python\n",
    "df[[\"column_1\", \"column_2\"]]\n",
    "```\n",
    "\n",
    "A useful way to remember this is 1D indexing \\[ \\] returns a series and 2D indexing \\[\\[ \\]\\] returns a dataframe."
   ]
  },
  {
   "cell_type": "markdown",
   "metadata": {},
   "source": [
    "#### Example\n",
    "Extracting the girth and height from the dataframe of tree measurements.\n",
    "\n",
    "```python\n",
    "df[[\"girth\", \"height\"]]\n",
    "```\n",
    "\n",
    "Extracting the volume as a series (https://pandas.pydata.org/pandas-docs/stable/reference/api/pandas.Series.html)\n",
    "```python\n",
    "df[\"volume\"]\n",
    "```\n",
    "\n",
    "Extracting the volume as a dataframe (https://pandas.pydata.org/pandas-docs/stable/reference/api/pandas.DataFrame.html?highlight=dataframe#pandas.DataFrame)\n",
    "```python\n",
    "df[[\"volume\"]]\n",
    "```"
   ]
  },
  {
   "cell_type": "code",
   "execution_count": 34,
   "metadata": {},
   "outputs": [
    {
     "output_type": "execute_result",
     "data": {
      "text/plain": "pandas.core.series.Series"
     },
     "metadata": {},
     "execution_count": 34
    }
   ],
   "source": [
    "## type your code here:\n",
    "\n",
    "df[[\"girth\", \"height\"]]\n",
    "type(df[[\"volume\",\"height\"]])\n",
    "\n",
    "type(df[\"volume\"])\n"
   ]
  },
  {
   "cell_type": "markdown",
   "metadata": {},
   "source": [
    "### 2.7 Pandas and Numpy\n",
    "\n",
    "+ A package for scientific computing\n",
    "+ A more powerful version of lists\n",
    "+ All of the methods are optimized to run fast\n",
    "+ Great for linear algebra, statistical analysis\n",
    "\n",
    "Pandas makes use of a lot of Numpy functionality under the hood!"
   ]
  },
  {
   "cell_type": "markdown",
   "metadata": {},
   "source": [
    "#### Converting Series and Dataframe types into Arrays\n",
    "\n",
    "The `.values` function will return a numpy array containing the data.\n",
    "\n",
    "For series type data the array will be 1-dimensional and for dataframes the array will be 2-dimensional.\n",
    "\n",
    "```python\n",
    "df[\"volume\"].values\n",
    "```\n",
    "\n",
    "```python\n",
    "df[[\"girth\", \"height\"]].values\n",
    "```"
   ]
  },
  {
   "cell_type": "code",
   "execution_count": 35,
   "metadata": {},
   "outputs": [
    {
     "output_type": "execute_result",
     "data": {
      "text/plain": "array([[ 8.3, 70. ],\n       [ 8.6, 65. ],\n       [ 8.8, 63. ]])"
     },
     "metadata": {},
     "execution_count": 35
    }
   ],
   "source": [
    "## type your code here:\n",
    "\n",
    "df[[\"girth\", \"height\"]].values"
   ]
  },
  {
   "cell_type": "markdown",
   "metadata": {},
   "source": [
    "#### Accessing rows from the dataframe\n",
    "\n",
    "Rows are accessed using either **loc** or **iloc**\n",
    "\n",
    "###### iloc\n",
    "+ This will access rows depending on their integer index\n",
    "+ The first row will have index 0\n",
    "+ Then next will have index 1, ...\n",
    "+ To extract the first row you would use the following command\n",
    "    + This will return a series containing the information from that row\n",
    "```python\n",
    "df.iloc[0]\n",
    "```\n",
    "+ To extract multiple rows you can pass a list of indices\n",
    "    + This will return a dataframe containing the specified rows\n",
    "    + The dataframe will be in the order of the indicies\n",
    "      + \\[0, 1, 2\\] - original order\n",
    "      + \\[2, 1, 0\\] - reversed\n",
    "      + \\[0, 0, 1\\] - repeats\n",
    "      \n",
    "```python\n",
    "df.iloc[[0, 1, 2]]\n",
    "```"
   ]
  },
  {
   "cell_type": "code",
   "execution_count": 36,
   "metadata": {},
   "outputs": [
    {
     "output_type": "execute_result",
     "data": {
      "text/plain": "       girth  height  volume\nTree1    8.3      70    10.3\nTree2    8.6      65    10.3\nTree3    8.8      63    10.2",
      "text/html": "<div>\n<style scoped>\n    .dataframe tbody tr th:only-of-type {\n        vertical-align: middle;\n    }\n\n    .dataframe tbody tr th {\n        vertical-align: top;\n    }\n\n    .dataframe thead th {\n        text-align: right;\n    }\n</style>\n<table border=\"1\" class=\"dataframe\">\n  <thead>\n    <tr style=\"text-align: right;\">\n      <th></th>\n      <th>girth</th>\n      <th>height</th>\n      <th>volume</th>\n    </tr>\n  </thead>\n  <tbody>\n    <tr>\n      <th>Tree1</th>\n      <td>8.3</td>\n      <td>70</td>\n      <td>10.3</td>\n    </tr>\n    <tr>\n      <th>Tree2</th>\n      <td>8.6</td>\n      <td>65</td>\n      <td>10.3</td>\n    </tr>\n    <tr>\n      <th>Tree3</th>\n      <td>8.8</td>\n      <td>63</td>\n      <td>10.2</td>\n    </tr>\n  </tbody>\n</table>\n</div>"
     },
     "metadata": {},
     "execution_count": 36
    }
   ],
   "source": [
    "## type your code here:\n",
    "\n",
    "df\n",
    "df.iloc[[0, 1, 2]]"
   ]
  },
  {
   "cell_type": "markdown",
   "metadata": {},
   "source": [
    "###### loc\n",
    "\n",
    "Various arguments will work with loc to extract rows from a dataframe\n",
    "\n",
    "+ A single index label\n",
    "    + Returns a series for that specific **row**\n",
    "    ```python\n",
    "df.loc[\"Tree2\"]\n",
    "    ```\n",
    "+ A list of index labels\n",
    "    + Returns a dataframe containing those **rows**\n",
    "    ```python\n",
    "df.loc[[\"Tree1\", \"Tree3\"]]\n",
    "    ```\n",
    "+ A boolean list\n",
    "    + Returns a dataframe for **rows** that are labeled true\n",
    "      + The number of booleans should match the number of rows\n",
    "      + row 0 - False\n",
    "      + row 1 - True\n",
    "      + row 2 - False\n",
    "    ```python\n",
    "df.loc[[False, True, False]]\n",
    "    ```"
   ]
  },
  {
   "cell_type": "code",
   "execution_count": 37,
   "metadata": {},
   "outputs": [],
   "source": [
    "## type your code here:\n",
    "\n"
   ]
  },
  {
   "cell_type": "markdown",
   "metadata": {},
   "source": [
    "### 2.8 Extracting data by value\n",
    "\n",
    "Comparison operators can be applied to series objects (which are numpy lists)\n",
    "For each value it will return either True or False depending on the comparison\n",
    "\n",
    "**eg**\n",
    "```python\n",
    "pd.Series([1,1,1,5,5,5]) > 3\n",
    "> [False, False, False, True, True, True]\n",
    "```\n",
    "\n",
    "This is convenient as **.loc** can use an array of booleans to extract rows.\n",
    "\n",
    "\n",
    "This allows for specific rows to be extracted from the dataframe depending on their value\n"
   ]
  },
  {
   "cell_type": "code",
   "execution_count": 38,
   "metadata": {},
   "outputs": [
    {
     "output_type": "execute_result",
     "data": {
      "text/plain": "0     True\n1     True\n2     True\n3     True\n4    False\n5    False\n6    False\n7    False\n8    False\ndtype: bool"
     },
     "metadata": {},
     "execution_count": 38
    }
   ],
   "source": [
    "## type your code here:\n",
    "\n",
    "s=pd.Series(np.arange(10,100,10))\n",
    "\n",
    "cond1=s>80\n",
    "cond2=s<50\n",
    "\n",
    "~(cond1 | ~cond2)"
   ]
  },
  {
   "cell_type": "markdown",
   "metadata": {},
   "source": [
    "+ Trees that are shorter than 70\n",
    "    + df[\"height\"] will return a series\n",
    "    ```python\n",
    "    df[\"height\"]\n",
    "    ```\n",
    "    + df[\"height\"] < 70 will return a list of booleans\n",
    "        + ```python\n",
    "          df[\"height\"] < 70\n",
    "          ```\n",
    "        + ```python\n",
    "        > [False, True, True]\n",
    "        ```\n",
    "    \n",
    "    + We can then use this to extract those rows from the dataframe\n",
    "    ```python\n",
    "df.loc[df[\"height\"] < 70]\n",
    "    ```\n",
    "    \n",
    "\n",
    "|name|girth|\theight|\tvolume|\n",
    "|-    |-      |-      |-|\n",
    "|Tree1|\t8.3|\t70|\t10.3|\n",
    "|Tree2|\t8.6|\t65|\t10.3|\n",
    "|Tree3|\t8.8|\t63|\t10.2|"
   ]
  },
  {
   "cell_type": "code",
   "execution_count": 39,
   "metadata": {},
   "outputs": [
    {
     "output_type": "execute_result",
     "data": {
      "text/plain": "       girth  height  volume\nTree2    8.6      65    10.3\nTree3    8.8      63    10.2",
      "text/html": "<div>\n<style scoped>\n    .dataframe tbody tr th:only-of-type {\n        vertical-align: middle;\n    }\n\n    .dataframe tbody tr th {\n        vertical-align: top;\n    }\n\n    .dataframe thead th {\n        text-align: right;\n    }\n</style>\n<table border=\"1\" class=\"dataframe\">\n  <thead>\n    <tr style=\"text-align: right;\">\n      <th></th>\n      <th>girth</th>\n      <th>height</th>\n      <th>volume</th>\n    </tr>\n  </thead>\n  <tbody>\n    <tr>\n      <th>Tree2</th>\n      <td>8.6</td>\n      <td>65</td>\n      <td>10.3</td>\n    </tr>\n    <tr>\n      <th>Tree3</th>\n      <td>8.8</td>\n      <td>63</td>\n      <td>10.2</td>\n    </tr>\n  </tbody>\n</table>\n</div>"
     },
     "metadata": {},
     "execution_count": 39
    }
   ],
   "source": [
    "## type your code here:\n",
    "\n",
    "df.loc[df[\"height\"] < 70]\n",
    "# df[[\"height\"]] < 70"
   ]
  },
  {
   "cell_type": "code",
   "execution_count": 40,
   "metadata": {},
   "outputs": [],
   "source": [
    "##### How would you get the rows where the volume is equal to 10.3?"
   ]
  },
  {
   "cell_type": "code",
   "execution_count": 41,
   "metadata": {},
   "outputs": [
    {
     "output_type": "execute_result",
     "data": {
      "text/plain": "       girth  height  volume\nTree1    8.3      70    10.3\nTree2    8.6      65    10.3",
      "text/html": "<div>\n<style scoped>\n    .dataframe tbody tr th:only-of-type {\n        vertical-align: middle;\n    }\n\n    .dataframe tbody tr th {\n        vertical-align: top;\n    }\n\n    .dataframe thead th {\n        text-align: right;\n    }\n</style>\n<table border=\"1\" class=\"dataframe\">\n  <thead>\n    <tr style=\"text-align: right;\">\n      <th></th>\n      <th>girth</th>\n      <th>height</th>\n      <th>volume</th>\n    </tr>\n  </thead>\n  <tbody>\n    <tr>\n      <th>Tree1</th>\n      <td>8.3</td>\n      <td>70</td>\n      <td>10.3</td>\n    </tr>\n    <tr>\n      <th>Tree2</th>\n      <td>8.6</td>\n      <td>65</td>\n      <td>10.3</td>\n    </tr>\n  </tbody>\n</table>\n</div>"
     },
     "metadata": {},
     "execution_count": 41
    }
   ],
   "source": [
    "df.loc[df[\"volume\"] == 10.3]"
   ]
  },
  {
   "cell_type": "markdown",
   "metadata": {},
   "source": [
    "##### Combining conditions\n",
    "\n",
    "Numpy has various bitwise operations which work on boolean arrays (bitwise operations work on binary sequences, a boolean list is a binary sequence)\n",
    "```python\n",
    "import numpy as np\n",
    "```\n",
    "+ **&**\n",
    "    + This is equivilant to the **and** logical operator or intersection set operator\n",
    "    + The resulting list will only be true where both conditions are true\n",
    "    ```python\n",
    "l1 = np.array([True, False])\n",
    "l2 = np.array([True, True])\n",
    "l1 & l2\n",
    "    ```\n",
    "+ |\n",
    "    + This is equivilant to the **or** logical operator or union set operator\n",
    "    + The resulting list will be true where any of the conditions is true\n",
    "    ```python\n",
    "l1 = np.array([True, False])\n",
    "l2 = np.array([True, True])\n",
    "l1 | l2\n",
    "    ```\n",
    "+ ~\n",
    "    + This is the **negation** operator and is equivilant to the **not** logical operator\n",
    "    + The resulting True/False values will be flipped\n",
    "        ```python\n",
    "l1 = np.array([True, False])\n",
    "~l1\n",
    "    ```\n",
    "    \n",
    "**When combining multiple conditions they should be put in separate parenthesis**\n",
    "\n",
    "This is to avoid ambiguity. The list of booleans for each condition is calculated then the results are compared.\n",
    "\n",
    "```python\n",
    "l = np.array([1,1,1, 10,10,10])\n",
    "# l % 2 == 0 & l < 10\n",
    "(l % 2 == 0) & (l < 10)\n",
    "```\n"
   ]
  },
  {
   "cell_type": "code",
   "execution_count": 42,
   "metadata": {},
   "outputs": [
    {
     "output_type": "stream",
     "name": "stdout",
     "text": "[ True False] [ True  True]\n"
    }
   ],
   "source": [
    "## type your code here:\n",
    "\n",
    "l1 = np.array([True, False])\n",
    "l2 = np.array([True, True])\n",
    "print(l1, l2)"
   ]
  },
  {
   "cell_type": "code",
   "execution_count": 43,
   "metadata": {},
   "outputs": [
    {
     "output_type": "execute_result",
     "data": {
      "text/plain": "array([ True, False])"
     },
     "metadata": {},
     "execution_count": 43
    }
   ],
   "source": [
    "l1 & l2"
   ]
  },
  {
   "cell_type": "code",
   "execution_count": 44,
   "metadata": {},
   "outputs": [
    {
     "output_type": "execute_result",
     "data": {
      "text/plain": "array([False, False, False, False, False, False])"
     },
     "metadata": {},
     "execution_count": 44
    }
   ],
   "source": [
    "l = np.array([1,1,1, 10,10,10])\n",
    "(l % 2 == 0) & (l < 10)"
   ]
  },
  {
   "cell_type": "markdown",
   "metadata": {},
   "source": [
    "###### Using this how can we extract all rows with height < 70 and volume equal to 10.3?"
   ]
  },
  {
   "cell_type": "code",
   "execution_count": 45,
   "metadata": {},
   "outputs": [
    {
     "output_type": "execute_result",
     "data": {
      "text/plain": "       girth  height  volume\nTree2    8.6      65    10.3",
      "text/html": "<div>\n<style scoped>\n    .dataframe tbody tr th:only-of-type {\n        vertical-align: middle;\n    }\n\n    .dataframe tbody tr th {\n        vertical-align: top;\n    }\n\n    .dataframe thead th {\n        text-align: right;\n    }\n</style>\n<table border=\"1\" class=\"dataframe\">\n  <thead>\n    <tr style=\"text-align: right;\">\n      <th></th>\n      <th>girth</th>\n      <th>height</th>\n      <th>volume</th>\n    </tr>\n  </thead>\n  <tbody>\n    <tr>\n      <th>Tree2</th>\n      <td>8.6</td>\n      <td>65</td>\n      <td>10.3</td>\n    </tr>\n  </tbody>\n</table>\n</div>"
     },
     "metadata": {},
     "execution_count": 45
    }
   ],
   "source": [
    "## type your code here:\n",
    "\n",
    "height_cond = df['height'] < 70\n",
    "volume_cond = df['volume'] == 10.3\n",
    "df.loc[height_cond & volume_cond]"
   ]
  },
  {
   "cell_type": "markdown",
   "metadata": {},
   "source": [
    "###### Using this how can we extract all rows except with height < 70 and volume equal to 10.3?\n"
   ]
  },
  {
   "cell_type": "code",
   "execution_count": 46,
   "metadata": {},
   "outputs": [
    {
     "output_type": "execute_result",
     "data": {
      "text/plain": "       girth  height  volume\nTree1    8.3      70    10.3\nTree3    8.8      63    10.2",
      "text/html": "<div>\n<style scoped>\n    .dataframe tbody tr th:only-of-type {\n        vertical-align: middle;\n    }\n\n    .dataframe tbody tr th {\n        vertical-align: top;\n    }\n\n    .dataframe thead th {\n        text-align: right;\n    }\n</style>\n<table border=\"1\" class=\"dataframe\">\n  <thead>\n    <tr style=\"text-align: right;\">\n      <th></th>\n      <th>girth</th>\n      <th>height</th>\n      <th>volume</th>\n    </tr>\n  </thead>\n  <tbody>\n    <tr>\n      <th>Tree1</th>\n      <td>8.3</td>\n      <td>70</td>\n      <td>10.3</td>\n    </tr>\n    <tr>\n      <th>Tree3</th>\n      <td>8.8</td>\n      <td>63</td>\n      <td>10.2</td>\n    </tr>\n  </tbody>\n</table>\n</div>"
     },
     "metadata": {},
     "execution_count": 46
    }
   ],
   "source": [
    "## type your code here:\n",
    "\n",
    "height_cond = df['height'] < 70\n",
    "volume_cond = df['volume'] == 10.3\n",
    "df.loc[~(height_cond & volume_cond)]"
   ]
  },
  {
   "cell_type": "markdown",
   "metadata": {},
   "source": [
    "### 2.9 Other functions"
   ]
  },
  {
   "cell_type": "code",
   "execution_count": 47,
   "metadata": {},
   "outputs": [],
   "source": [
    "## type your code here:\n",
    "\n",
    "_  = df['volume'].hist()"
   ]
  },
  {
   "cell_type": "markdown",
   "metadata": {},
   "source": [
    "- save dataframe to a csv file\n",
    "\n",
    "df.to_csv()\n",
    "\n",
    "\n",
    "- save dataframe to an excel file\n",
    "\n",
    "df.to_excel()\n",
    "https://pandas.pydata.org/pandas-docs/stable/reference/api/pandas.DataFrame.to_excel.html\n",
    "\n",
    "\n",
    "- apply a function to an entire dataframe\n",
    "\n",
    "```python\n",
    "print(df)\n",
    "print(df.apply(lambda x: x*2))\n",
    "```"
   ]
  },
  {
   "cell_type": "code",
   "execution_count": 49,
   "metadata": {},
   "outputs": [],
   "source": [
    "## type your code here:\n",
    "\n"
   ]
  },
  {
   "cell_type": "markdown",
   "metadata": {},
   "source": [
    "## Summary in the cheat sheets\n",
    "\n",
    "+ Numpy <br>     \n",
    "\n",
    "https://s3.amazonaws.com/assets.datacamp.com/blog_assets/Numpy_Python_Cheat_Sheet.pdf\n",
    "\n",
    "<br> \n",
    "\n",
    "+ Panda        <br>                      \n",
    "\n",
    "http://datacamp-community-prod.s3.amazonaws.com/dbed353d-2757-4617-8206-8767ab379ab3\n",
    "\n",
    "https://pandas.pydata.org/Pandas_Cheat_Sheet.pdf\n",
    "\n",
    " <br>   \n",
    "\n",
    "Many more here:  https://towardsdatascience.com/collecting-data-science-cheat-sheets-d2cdff092855\n",
    "\n",
    "------\n",
    "<br>\n"
   ]
  }
 ],
 "metadata": {
  "kernelspec": {
   "display_name": "Python 3",
   "language": "python",
   "name": "python3"
  },
  "language_info": {
   "codemirror_mode": {
    "name": "ipython",
    "version": 3
   },
   "file_extension": ".py",
   "mimetype": "text/x-python",
   "name": "python",
   "nbconvert_exporter": "python",
   "pygments_lexer": "ipython3",
   "version": "3.8.2-final"
  }
 },
 "nbformat": 4,
 "nbformat_minor": 2
}