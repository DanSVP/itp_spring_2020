{
 "cells": [
  {
   "cell_type": "markdown",
   "metadata": {},
   "source": [
    "# Introduction to Python - Lecture 11 (May 7th 2020)\n",
    "<br>\n",
    "\n",
    "## ---------- Numpy & Pandas ---------\n",
    "\n",
    "- easy-to-use data structures\n",
    "- advantage for handling large and mutivariate data\n",
    "- performant tools for data analysis\n",
    "- efficient for mathematical operations\n",
    "- state of the art for all Data Science\n",
    "\n",
    "\n",
    "<br>\n",
    "The goal of this lecture is to give you an overview of the data structures accessible with Numpy and Pandas.\n",
    "\n",
    "<br>\n",
    "\n",
    "**All future lessons and most probably all your future projects will use these two modules!**\n",
    "## ----------------------------------\n",
    "\n",
    "<br>\n",
    "\n",
    "- links for this class\n",
    "\n",
    "Stack Overflow:\n",
    "https://stackoverflow.com/c/nyumc-coding-courses/questions\n",
    "\n",
    "Online Courses Page:\n",
    "http://fenyolab.org/presentations/Bioinformatics_2020/\n",
    "\n",
    "<br>\n",
    "<br>\n",
    "\n",
    "- some useful documentation\n",
    "\n",
    "Numpy and scipy<br>                   \n",
    "https://scipy-lectures.org/<br>\n",
    "https://docs.scipy.org/doc/numpy/reference/arrays.ndarray.html<br>\n",
    "<br>\n",
    "Pandas<br>\n",
    "https://pandas.pydata.org/docs/user_guide/index.html\n",
    "\n",
    "<br>\n",
    "\n",
    "- Tone of examples for data science based on Numpy and Panda<br>\n",
    "\n",
    "https://towardsdatascience.com/\n",
    "\n",
    "https://realpython.com/\n",
    "\n",
    "<br>\n",
    "\n",
    "\n",
    "- A few more examples related to this lecture ...    <br>                \n",
    "\n",
    "https://towardsdatascience.com/top-python-libraries-numpy-pandas-8299b567d955\n",
    "\n",
    "https://towardsdatascience.com/10-python-pandas-tricks-that-make-your-work-more-efficient-2e8e483808ba\n",
    "\n",
    "https://realpython.com/python-pandas-tricks/\n",
    "\n",
    "\n",
    "---------\n",
    "\n",
    "<br>"
   ]
  },
  {
   "cell_type": "markdown",
   "metadata": {},
   "source": [
    "## Let's get ready ....\n",
    "\n",
    "This lesson will cover two aspects of Numpy and Pandas modules:\n",
    "\n",
    "1. How to use their data structures\n",
    " - arrays for Numpy\n",
    " - dataframes for Pandas\n",
    "\n",
    "<br>\n",
    "2. Examples from the large collection of their functions\n",
    "\n",
    "\n",
    "They are not new languages but an advanced or data-oriented version of Python. \n",
    "\n",
    "\n",
    "-------\n",
    "\n",
    "## cheat sheets\n",
    "\n",
    "+ Numpy <br>                                  \n",
    "https://ugoproto.github.io/ugo_py_doc/pdf/Numpy_Python_Cheat_Sheet.pdf\n",
    "\n",
    "<br> \n",
    "\n",
    "+ Panda        <br>                      \n",
    "https://ugoproto.github.io/ugo_py_doc/pdf/pandas-cheat-sheet.pdf\n",
    "https://pandas.pydata.org/Pandas_Cheat_Sheet.pdf\n",
    "\n",
    "------\n",
    "<br>\n",
    "\n",
    "\n",
    "### Why do we need new data structures other than lists, dictionnaries, or sets?\n",
    "\n",
    "\n",
    "**Numpy (and its add-on Scipy)**\n",
    "\n",
    "- NumPy extends python high-level language for manipulating numerical data\n",
    "\n",
    "- NumPy is a library for efficient array computations. Arrays differ from Python lists in the way they are stored and handled. Array elements stay together in memory, so they can be quickly accessed. \n",
    "\n",
    "- NumPy provides vectorized mathematical functions. When, you call numpy.sin(a), the sine function is applied on every element of array a. It works much faster than a Python for loop, even faster than list comprehensions `[sin(i) for i in l]`\n",
    "\n",
    "- NumPy also supports quick subindexing\n",
    "\n",
    "- Nympy is optimized for **homogeneous dataset** signal processing (convolution, Fourier transform, ...) or to analyze multi dimentional data or simulations.\n",
    "\n",
    "\n",
    "---------\n",
    "\n",
    "**Panda**\n",
    "\n",
    "+ Pandas makes working with **Dataframes**, like **R** or **Matlab**. \n",
    "\n",
    "+ Pandas does a lot of things under the hood. You will get familiar with all funtions and methods that it contains. \n",
    "\n",
    "+ Pandas is efficient to load or to save data\n",
    "\n",
    "+ Pandas handles different types of data (**heterogeneous dataset**) and deals with incomplete data (n/a)\n",
    "\n",
    "+ concatenate/merge/join different datasets\n",
    "\n",
    "+ powerful way to parse/filter the data by column or by row and subindexing (a bit like Structured Query Language SQL).\n",
    "\n",
    "--------\n",
    "\n",
    "**It will pave the way for the use of other important modules for plots, statistics calculations or learning methods**\n",
    "\n",
    "+ scipy\n",
    "+ matplotlib\n",
    "+ seaborn\n",
    "+ SciKit-Learn\n",
    "\n",
    "... with just a couple of lines of code!"
   ]
  },
  {
   "cell_type": "code",
   "execution_count": 50,
   "metadata": {},
   "outputs": [
    {
     "name": "stdout",
     "output_type": "stream",
     "text": [
      "[[0, 1, 2, 3], [2, 3, 4, 5]]\n",
      "5\n"
     ]
    }
   ],
   "source": [
    "## type your code here:\n",
    "\n",
    "l=[[0,1,2,3],[2,3,4,5]]\n",
    "print(l)\n",
    "print(l[1][-1])\n",
    "\n",
    "# d={}\n",
    "# d['Mary']=[1,2,3]\n",
    "# d['Peter']=[2,3,4]\n",
    "# print(d)\n",
    "# print(d['Peter'][2])"
   ]
  },
  {
   "cell_type": "markdown",
   "metadata": {},
   "source": [
    "# 1. Numpy\n",
    "\n",
    "+ A package for scientific computing\n",
    "+ A more powerful version of lists\n",
    "+ All of the methods are optimized to run fast\n",
    "+ Great for linear algebra\n",
    "\n",
    "<br>\n",
    "\n",
    "Numpy is not part of Pythons standard libraries and needs to be installed.\n",
    "\n",
    "This can be done using the conda command if you are using Anaconda:\n",
    "\n",
    "```bash\n",
    "conda install numpy\n",
    "```\n",
    "or\n",
    "```bash\n",
    "conda install --name itp_2020 numpy\n",
    "```\n",
    "\n",
    "Alternatively this can be done using the built in Python package manager Pip\n",
    "\n",
    "```bash\n",
    "pip install numpy\n",
    "```\n",
    "\n",
    "\n",
    "<br>\n",
    "\n",
    "Once numpy is installed it then needs to be imported to use its functionality\n",
    "\n",
    "```python\n",
    "import numpy as np\n",
    "\n",
    "```"
   ]
  },
  {
   "cell_type": "code",
   "execution_count": 3,
   "metadata": {},
   "outputs": [],
   "source": [
    "## type your code here:\n",
    "\n",
    "import numpy as np"
   ]
  },
  {
   "cell_type": "markdown",
   "metadata": {},
   "source": [
    "### 1.1 Lists recap\n",
    "\n",
    "Lists are created using '[]'\n",
    "\n",
    "```python\n",
    "l1 = [1, 2, 3, 4]\n",
    "```\n",
    "\n",
    "Lists can contain mixed types\n",
    "\n",
    "```python\n",
    "l2 = [1, 'a', {'abs': abs}, (1, 2)]\n",
    "```\n",
    "\n",
    "\n",
    "Lists can be joined using the + operator which creates a new list\n",
    "\n",
    "```python\n",
    "l3 = l1 + l2\n",
    "```\n",
    "\n",
    "Lists can be extended using the .extend() method which happens in place\n",
    "\n",
    "```python\n",
    "l1.extend(l2)\n",
    "```\n",
    "\n",
    "The range() function can be used to initialize numeric lists\n",
    "\n",
    "```python\n",
    "base = list(range(0, 101, 2))\n",
    "```\n",
    "\n",
    "To perform calculations using a list, a for loop is required\n",
    "\n",
    "```python\n",
    "base_squared = []\n",
    "for x in base:\n",
    "    base_squared.append(x**2)\n",
    "```"
   ]
  },
  {
   "cell_type": "code",
   "execution_count": 4,
   "metadata": {},
   "outputs": [
    {
     "name": "stdout",
     "output_type": "stream",
     "text": [
      "[1, 2, 3, 4]\n",
      "[1, 'a', {'abs': <built-in function abs>}, (1, 2)]\n",
      "[1, 2, 3, 4, 1, 'a', {'abs': <built-in function abs>}, (1, 2)]\n",
      "[1, 2, 3, 4, 1, 'a', {'abs': <built-in function abs>}, (1, 2)]\n",
      "[4, 1, 'a', {'abs': <built-in function abs>}, (1, 2)]\n"
     ]
    }
   ],
   "source": [
    "## type your code here:\n",
    "\n",
    "l1 = [1, 2, 3, 4]\n",
    "print(l1)\n",
    "l2 = [1, 'a', {'abs': abs}, (1, 2)]\n",
    "print(l2)\n",
    "l3 = l1 + l2\n",
    "print(l3)\n",
    "l1.extend(l2)\n",
    "print(l1)\n",
    "print(l1[3:])"
   ]
  },
  {
   "cell_type": "code",
   "execution_count": 5,
   "metadata": {},
   "outputs": [
    {
     "name": "stdout",
     "output_type": "stream",
     "text": [
      "[0, 2, 4, 6, 8, 10, 12, 14, 16, 18, 20, 22, 24, 26, 28, 30, 32, 34, 36, 38, 40, 42, 44, 46, 48, 50, 52, 54, 56, 58, 60, 62, 64, 66, 68, 70, 72, 74, 76, 78, 80, 82, 84, 86, 88, 90, 92, 94, 96, 98, 100]\n",
      "[0, 4, 16, 36, 64, 100, 144, 196, 256, 324, 400, 484, 576, 676, 784, 900, 1024, 1156, 1296, 1444, 1600, 1764, 1936, 2116, 2304, 2500, 2704, 2916, 3136, 3364, 3600, 3844, 4096, 4356, 4624, 4900, 5184, 5476, 5776, 6084, 6400, 6724, 7056, 7396, 7744, 8100, 8464, 8836, 9216, 9604, 10000]\n"
     ]
    }
   ],
   "source": [
    "## type your code here:\n",
    "\n",
    "base = list(range(0, 101, 2))\n",
    "base_squared = []\n",
    "for x in base:\n",
    "    base_squared.append(x**2)\n",
    "\n",
    "print(base)\n",
    "print(base_squared)"
   ]
  },
  {
   "cell_type": "markdown",
   "metadata": {},
   "source": [
    "### 1.2 Creating arrays with Numpy\n",
    "\n",
    "There are a number of ways of creating numpy arrays.\n",
    "\n",
    "##### Converting a regular python list into a numpy array:\n",
    "\n",
    "```python\n",
    "var = np.array(< list >)\n",
    "```\n",
    "\n",
    "This is useful when the original list needs to be constructed from a file. Numpy does not have a simple method to append to lists. For this reason it is sometimes easier to build a normal python list before converting it to a numpy array.\n",
    "\n",
    "```python\n",
    "mylist=list(range(10))\n",
    "myarray= np.array(mylist)\n",
    "```\n",
    "\n",
    "\n",
    "You can make an array of characters as well.\n",
    "```python\n",
    "characters = []\n",
    "for i in range(32, 100):\n",
    "    characters.append(chr(i))\n",
    "print(characters)\n",
    "np_char = np.array(characters)\n",
    "print(np_char)\n",
    "```\n"
   ]
  },
  {
   "cell_type": "code",
   "execution_count": 6,
   "metadata": {},
   "outputs": [
    {
     "name": "stdout",
     "output_type": "stream",
     "text": [
      "[0 1 2 3 4 5 6 7 8 9]\n"
     ]
    }
   ],
   "source": [
    "## type your code here:\n",
    "\n",
    "mylist=list(range(10))\n",
    "#mylist.pop()\n",
    "myarray= np.array(mylist)\n",
    "\n",
    "#mylist.pop()\n",
    "#myarray.pop()\n",
    "\n",
    "print(myarray)"
   ]
  },
  {
   "cell_type": "markdown",
   "metadata": {},
   "source": [
    "### 1.3 Initializing arrays using numpy\n",
    "\n",
    "1. Creating an array with *n* zeros\n",
    "\n",
    "```python\n",
    "lst = np.zeros(25)\n",
    "lst_2d = np.zeros((5, 5))\n",
    "```\n",
    "\n",
    "2. Creating an array with *n* ones\n",
    "\n",
    "```python\n",
    "lst = np.ones(25)\n",
    "lst_2d = np.ones((5, 5))\n",
    "```\n",
    "\n",
    "3. Using a range(start, end (exclusive), increment)\n",
    "\n",
    "```python\n",
    "lst = np.arange(10, 20, 2)\n",
    "```\n",
    "\n",
    "4. Linspace is similar to range - linspace(start, end (inclusive), number_of_elements) \n",
    "\n",
    "```python\n",
    "lst = np.linspace(10, 20, 2)\n",
    "```\n",
    "\n",
    "5. Filling a list with random numbers between [0, 1)\n",
    "\n",
    "```python\n",
    "lst = np.random.rand(5)\n",
    "lst_2d = np.random.rand(5, 5)\n",
    "```\n",
    "\n",
    "6. Uses samples from a distribution to fill a list\n",
    "\n",
    "```python\n",
    "lst = np.random.normal(5, 2, 20)\n",
    "lst_2d = np.random.normal(5, 2, (20,20))\n",
    "```"
   ]
  },
  {
   "cell_type": "code",
   "execution_count": 21,
   "metadata": {},
   "outputs": [
    {
     "name": "stdout",
     "output_type": "stream",
     "text": [
      "[[0.03176476 0.22493852 0.11702611 0.77617366 0.33418575]\n",
      " [0.92849337 0.36903751 0.69579402 0.49656674 0.19121759]\n",
      " [0.71586893 0.57530182 0.84146784 0.53517594 0.97561907]\n",
      " [0.76426939 0.53091586 0.3021782  0.48793313 0.81012863]\n",
      " [0.18545599 0.48244402 0.86812389 0.8008814  0.43474165]]\n"
     ]
    }
   ],
   "source": [
    "## type your code here:\n",
    "\n",
    "lst = np.zeros(25)\n",
    "lst_2d = np.zeros((5, 5))\n",
    "lst_2d = np.random.rand(5, 5)\n",
    "print(lst_2d )"
   ]
  },
  {
   "cell_type": "markdown",
   "metadata": {},
   "source": [
    "### 1.4 Numpy mathematical operations\n",
    "\n",
    "Numpy is a tool which simplifies performing linear algebra in Python, for this reason most operations will match linear algebra operations.\n",
    "\n",
    "1. Addition\n",
    "    1. Adding a scalar to a matrix does not follow normal mathematical rules as the scalar is \n",
    "    added to each object in the matrix\n",
    "  \n",
    "    ```\n",
    "    ```\n",
    "        $\n",
    "            \\begin{bmatrix} \n",
    "            a_{0,0} & a_{0,1} & \\cdots & a_{0,n} \\\\\n",
    "            a_{1,0} & a_{1,1} & \\cdots & a_{1,n} \\\\\n",
    "            \\vdots & \\vdots & \\ddots & \\vdots \\\\\n",
    "            a_{m,0} & a_{m,1} & \\cdots & a_{m,n} \\\\\n",
    "            \\end{bmatrix} + C\n",
    "        $\n",
    "        $ =\n",
    "            \\begin{bmatrix} \n",
    "            a_{0,0} + C & a_{0,1} + C & \\cdots & a_{0,n} + C \\\\\n",
    "            a_{1,0} + C & a_{1,1} + C & \\cdots & a_{1,n} + C \\\\\n",
    "            \\vdots & \\vdots & \\ddots & \\vdots \\\\\n",
    "            a_{m,0} + C & a_{m,1} + C & \\cdots & a_{m,n} + C \\\\\n",
    "            \\end{bmatrix}\n",
    "        $\n",
    "\n",
    "    ```python\n",
    "    lst_2d = np.ones((n, m)) + C\n",
    "    ```"
   ]
  },
  {
   "cell_type": "code",
   "execution_count": 23,
   "metadata": {},
   "outputs": [],
   "source": [
    "## type your code here:\n",
    "\n",
    "lst_2d = np.zeros((2, 3))\n",
    "\n"
   ]
  },
  {
   "cell_type": "markdown",
   "metadata": {},
   "source": [
    "1. \n",
    "    2. Adding two numpy arrays requires them to have the same shape\n",
    "  \n",
    "    ```\n",
    "    ```\n",
    "        $\n",
    "            \\begin{bmatrix} \n",
    "            a_{0,0} & a_{0,1} & \\cdots & a_{0,n} \\\\\n",
    "            a_{1,0} & a_{1,1} & \\cdots & a_{1,n} \\\\\n",
    "            \\vdots & \\vdots & \\ddots & \\vdots \\\\\n",
    "            a_{m,0} & a_{m,1} & \\cdots & a_{m,n} \\\\\n",
    "            \\end{bmatrix} + \n",
    "            \\begin{bmatrix} \n",
    "            b_{0,0} & b_{0,1} & \\cdots & b_{0,n} \\\\\n",
    "            b_{1,0} & b_{1,1} & \\cdots & b_{1,n} \\\\\n",
    "            \\vdots & \\vdots & \\ddots & \\vdots \\\\\n",
    "            b_{m,0} & b_{m,1} & \\cdots & b_{m,n} \\\\\n",
    "            \\end{bmatrix} =\n",
    "            \\begin{bmatrix} \n",
    "            a_{0,0} + b_{0,0} & a_{0,1} + b_{0,1} & \\cdots & a_{0,n} + b_{0,n} \\\\\n",
    "            a_{1,0} + b_{1,0} & a_{1,1} + b_{1,1} & \\cdots & a_{1,n} + b_{1,n} \\\\\n",
    "            \\vdots & \\vdots & \\ddots & \\vdots \\\\\n",
    "            a_{m,0} + b_{m,0} & a_{m,1} + b_{m,1} & \\cdots & a_{m,n} + b_{m,n} \\\\\n",
    "            \\end{bmatrix}\n",
    "        $\n",
    "\n",
    "    ```python\n",
    "    lst_2d = np.ones((n, m)) + np.ones((n, m))\n",
    "    ```\n",
    "    "
   ]
  },
  {
   "cell_type": "code",
   "execution_count": 25,
   "metadata": {},
   "outputs": [
    {
     "data": {
      "text/plain": [
       "array([[2., 2., 2.],\n",
       "       [2., 2., 2.]])"
      ]
     },
     "execution_count": 25,
     "metadata": {},
     "output_type": "execute_result"
    }
   ],
   "source": [
    "## type your code here:\n",
    "\n",
    "lst_2d = np.ones((2, 3)) + 1 #+ np.ones((2, 3))\n",
    "lst_2d"
   ]
  },
  {
   "cell_type": "code",
   "execution_count": 9,
   "metadata": {},
   "outputs": [
    {
     "data": {
      "text/plain": [
       "array([[5., 5., 5.],\n",
       "       [5., 5., 5.]])"
      ]
     },
     "execution_count": 9,
     "metadata": {},
     "output_type": "execute_result"
    }
   ],
   "source": [
    "## type your code here:\n",
    "\n",
    "lst_2d = np.ones((2, 3)) * 5\n",
    "lst_2d"
   ]
  },
  {
   "cell_type": "code",
   "execution_count": 10,
   "metadata": {},
   "outputs": [
    {
     "data": {
      "text/plain": [
       "array([[2., 2., 2.],\n",
       "       [2., 2., 2.]])"
      ]
     },
     "execution_count": 10,
     "metadata": {},
     "output_type": "execute_result"
    }
   ],
   "source": [
    "## type your code here:\n",
    "\n",
    "lst_2d = np.ones((2, 3)) * (np.ones((2, 3)) * 2)\n",
    "lst_2d"
   ]
  },
  {
   "cell_type": "code",
   "execution_count": 11,
   "metadata": {},
   "outputs": [
    {
     "name": "stdout",
     "output_type": "stream",
     "text": [
      "[[2. 3. 4. 3. 2.]\n",
      " [2. 3. 4. 3. 2.]\n",
      " [2. 3. 4. 3. 2.]\n",
      " [2. 3. 4. 3. 2.]\n",
      " [2. 3. 4. 3. 2.]\n",
      " [2. 3. 4. 3. 2.]]\n"
     ]
    }
   ],
   "source": [
    "## type your code here:\n",
    "\n",
    "lst_2d = np.ones((6, 5)) + np.array([1, 2, 3, 2, 1])\n",
    "\n",
    "#print(np.ones((6, 5)))\n",
    "\n",
    "#print(np.array([1, 2, 3, 2, 1]))\n",
    "\n",
    "print(lst_2d)"
   ]
  },
  {
   "cell_type": "markdown",
   "metadata": {},
   "source": [
    "### 1.5 Accessing elements/rows/columns\n",
    "\n",
    "<br>\n",
    "\n",
    "**Constructing a 2d array for demonstration purposes**\n",
    "\n",
    "\n",
    "```python\n",
    "lst_2d = np.vstack((np.arange(1, 100, 2), np.arange(100, 1, -2)))\n",
    "```\n",
    "\n",
    "This is a 2D array in which the first row comprises of all the odd numbers between [1 and 99] and the second row comprises the even numbers between [100 and 2].\n",
    "<br>"
   ]
  },
  {
   "cell_type": "code",
   "execution_count": 12,
   "metadata": {},
   "outputs": [
    {
     "data": {
      "text/plain": [
       "array([[  1,   3,   5,   7,   9,  11,  13,  15,  17,  19,  21,  23,  25,\n",
       "         27,  29,  31,  33,  35,  37,  39,  41,  43,  45,  47,  49,  51,\n",
       "         53,  55,  57,  59,  61,  63,  65,  67,  69,  71,  73,  75,  77,\n",
       "         79,  81,  83,  85,  87,  89,  91,  93,  95,  97,  99],\n",
       "       [100,  98,  96,  94,  92,  90,  88,  86,  84,  82,  80,  78,  76,\n",
       "         74,  72,  70,  68,  66,  64,  62,  60,  58,  56,  54,  52,  50,\n",
       "         48,  46,  44,  42,  40,  38,  36,  34,  32,  30,  28,  26,  24,\n",
       "         22,  20,  18,  16,  14,  12,  10,   8,   6,   4,   2]])"
      ]
     },
     "execution_count": 12,
     "metadata": {},
     "output_type": "execute_result"
    }
   ],
   "source": [
    "## type your code here:\n",
    "\n",
    "lst_2d = np.vstack((np.arange(1, 100, 2), np.arange(100, 1, -2)))\n",
    "lst_2d\n",
    "\n",
    "# a1=np.arange(1, 100, 2)\n",
    "# a2=np.arange(100, 1, -2)\n",
    "# l=np.array([a1,a2])"
   ]
  },
  {
   "cell_type": "markdown",
   "metadata": {},
   "source": [
    "### 1.6 Accessing individual values\n",
    "\n",
    "1. Using standard list indexing\n",
    "```python\n",
    "# lst_2d[row_index][column_index]\n",
    "lst_2d[1][2]\n",
    "```\n",
    "\n",
    "2. Numpy has more advanced indexing which allows both values to be specified together\n",
    "```python\n",
    "# lst_2d[row_index, column_index]\n",
    "lst_2d[1, 2]\n",
    "```\n",
    "\n",
    "##### Retrieving a row\n",
    "\n",
    "```python\n",
    "# lst_2d[row_index, :]\n",
    "lst_2d[0, :] # return an array of all the elements in the first row\n",
    "lst_2d[1, :] # return an array of all the elements in the second row\n",
    "```\n",
    "\n",
    "##### Retrieving a column\n",
    "\n",
    "```python\n",
    "# lst_2d[:, column_index]\n",
    "lst_2d[:, 5] # return an array of all the elements in the fifth column\n",
    "lst_2d[:, 20] # return an array of all the elements in the twentieth column\n",
    "```\n"
   ]
  },
  {
   "cell_type": "code",
   "execution_count": 31,
   "metadata": {},
   "outputs": [
    {
     "name": "stdout",
     "output_type": "stream",
     "text": [
      "[[  1   3   5   7   9  11  13  15  17  19  21  23  25  27  29  31  33  35\n",
      "   37  39  41  43  45  47  49  51  53  55  57  59  61  63  65  67  69  71\n",
      "   73  75  77  79  81  83  85  87  89  91  93  95  97  99]\n",
      " [100  98  96  94  92  90  88  86  84  82  80  78  76  74  72  70  68  66\n",
      "   64  62  60  58  56  54  52  50  48  46  44  42  40  38  36  34  32  30\n",
      "   28  26  24  22  20  18  16  14  12  10   8   6   4   2]]\n"
     ]
    },
    {
     "data": {
      "text/plain": [
       "array([  1, 100])"
      ]
     },
     "execution_count": 31,
     "metadata": {},
     "output_type": "execute_result"
    }
   ],
   "source": [
    "## type your code here:\n",
    "lst_2d = np.vstack((np.arange(1, 100, 2), np.arange(100, 1, -2)))\n",
    "print(lst_2d)\n",
    "\n",
    "lst_2d[:,0]"
   ]
  },
  {
   "cell_type": "markdown",
   "metadata": {},
   "source": [
    "### 1.7 Numpy functions \n",
    "\n",
    "#### Note - There are often two ways of using Numpy functions\n",
    "\n",
    "1. np.<< function >>()\n",
    "2. np_array.<< function >>()\n",
    "\n",
    "#### Example\n",
    "\n",
    "1. Using the np function\n",
    "    ```python\n",
    "lst = np.arange(10)\n",
    "m = np.mean(lst)\n",
    "    ```\n",
    "2. Using the array method\n",
    "    ```python\n",
    "lst = np.arange(10)\n",
    "m = lst.mean()\n",
    "    ```\n",
    "    \n",
    "There are some functions which are only available as one of these two options. But when both are available they are generally interchangable."
   ]
  },
  {
   "cell_type": "code",
   "execution_count": 32,
   "metadata": {},
   "outputs": [
    {
     "name": "stdout",
     "output_type": "stream",
     "text": [
      "4.5\n",
      "4.5\n"
     ]
    }
   ],
   "source": [
    "## type your code here:\n",
    "\n",
    "lst = np.arange(10)\n",
    "m = np.mean(lst)\n",
    "print(m)\n",
    "\n",
    "lst = np.arange(10)\n",
    "m = lst.mean()\n",
    "print(m)"
   ]
  },
  {
   "cell_type": "markdown",
   "metadata": {},
   "source": [
    "#### Min and Max\n",
    "\n",
    "The names are self explanatory, they will output the minimum and maximum values of the array.\n",
    "\n",
    "\n",
    "```python\n",
    "lst = np.array([21, 19, 11, 17, 20])\n",
    "print(lst.min())\n",
    "print(lst.max())\n",
    "```"
   ]
  },
  {
   "cell_type": "code",
   "execution_count": 15,
   "metadata": {},
   "outputs": [
    {
     "name": "stdout",
     "output_type": "stream",
     "text": [
      "11\n",
      "21\n"
     ]
    }
   ],
   "source": [
    "## type your code here:\n",
    "\n",
    "lst = np.array([21, 19, 11, 17, 20])\n",
    "print(lst.min())\n",
    "print(lst.max())"
   ]
  },
  {
   "cell_type": "markdown",
   "metadata": {},
   "source": [
    "### 1.8 2D Arrays\n",
    "\n",
    "1. Getting the min and max for the entire 2D array\n",
    "\n",
    "```python\n",
    "# How I generated the random 2D array\n",
    "# lst = np.random.randint(5, 25, (5, 5))\n",
    "lst = np.array(\n",
    "      [[15, 21,  7, 21, 24],\n",
    "       [13, 19, 21, 23,  7],\n",
    "       [ 8, 17, 13, 21, 14],\n",
    "       [11, 16, 20, 20, 12],\n",
    "       [22,  5,  8, 23,  8]]\n",
    ")\n",
    "\n",
    "min_v = lst.min()\n",
    "max_v = lst.max()\n",
    "\n",
    "print('The min is {}'.format(min_v))\n",
    "print('The max is {}'.format(max_v))\n",
    "```"
   ]
  },
  {
   "cell_type": "code",
   "execution_count": 33,
   "metadata": {},
   "outputs": [
    {
     "name": "stdout",
     "output_type": "stream",
     "text": [
      "The min is 5\n",
      "The max is 24\n"
     ]
    }
   ],
   "source": [
    "## type your code here:\n",
    "\n",
    "lst = np.array(\n",
    "      [[15, 21,  7, 21, 24],\n",
    "       [13, 19, 21, 23,  7],\n",
    "       [ 8, 17, 13, 21, 14],\n",
    "       [11, 16, 20, 20, 12],\n",
    "       [22,  5,  8, 23,  8]]\n",
    ")\n",
    "\n",
    "min_v = lst.min()\n",
    "max_v = lst.max()\n",
    "\n",
    "print('The min is {}'.format(min_v))\n",
    "print('The max is {}'.format(max_v))"
   ]
  },
  {
   "cell_type": "markdown",
   "metadata": {},
   "source": [
    "### 1.8.1       The axis argument in 2D Arrays\n",
    "```\n",
    "      [[15, 21,  7, 21, 24],  |\n",
    "       [13, 19, 21, 23,  7],  |\n",
    "       [ 8, 17, 13, 21, 14],  | axis = 0\n",
    "       [11, 16, 20, 20, 12],  |\n",
    "       [22,  5,  8, 23,  8]]  V\n",
    "       \n",
    "       ------------------->\n",
    "               axis=1\n",
    "```\n",
    "\n",
    "- axis 0 applies the operation row-wise\n",
    "- axis 1 appries the operation column-wise\n",
    "\n",
    "If the data has a third dimension then axis 2 will apply the function in that dimension and so on..."
   ]
  },
  {
   "cell_type": "code",
   "execution_count": 35,
   "metadata": {},
   "outputs": [
    {
     "name": "stdout",
     "output_type": "stream",
     "text": [
      "[[15 21  7 21 24]\n",
      " [13 19 21 23  7]\n",
      " [ 8 17 13 21 14]\n",
      " [11 16 20 20 12]\n",
      " [22  5  8 23  8]]\n",
      "The min for each column is [ 7  7  8 11  5]\n",
      "The max for each column is [24 23 21 20 23]\n"
     ]
    }
   ],
   "source": [
    "## type your code here:\n",
    "\n",
    "\n",
    "lst = np.array(\n",
    "      [[15, 21,  7, 21, 24],\n",
    "       [13, 19, 21, 23,  7],\n",
    "       [ 8, 17, 13, 21, 14],\n",
    "       [11, 16, 20, 20, 12],\n",
    "       [22,  5,  8, 23,  8]]\n",
    ")\n",
    "\n",
    "#lst = np.arange(25).reshape((5,5)).transpose()\n",
    "\n",
    "print(lst)\n",
    "\n",
    "min_v = lst.min(axis=1)\n",
    "max_v = lst.max(axis=1)\n",
    "\n",
    "#min_v = lst.min(axis=1)\n",
    "#max_v = lst.max(axis=1)\n",
    "\n",
    "print('The min for each column is {}'.format(min_v))\n",
    "print('The max for each column is {}'.format(max_v))"
   ]
  },
  {
   "cell_type": "code",
   "execution_count": 18,
   "metadata": {},
   "outputs": [
    {
     "data": {
      "text/plain": [
       "array([[15,  7],\n",
       "       [13, 21],\n",
       "       [ 8, 13],\n",
       "       [11, 20]])"
      ]
     },
     "execution_count": 18,
     "metadata": {},
     "output_type": "execute_result"
    }
   ],
   "source": [
    "## type your code here:\n",
    "\n",
    "# indexing\n",
    "lst[2:5]  #prints items 2 to 4. Index in NumPy arrays starts from 0\n",
    "lst[2::2] #prints items 2 to end skipping 2 items\n",
    "lst[::-1] #rints the array in the reverse order\n",
    "lst[1:]   #prints from row 1 to end\n",
    "lst[0:4,0:4] #\n",
    "lst[0:4,0:4:2]\n",
    "#...."
   ]
  },
  {
   "cell_type": "code",
   "execution_count": 42,
   "metadata": {},
   "outputs": [
    {
     "name": "stdout",
     "output_type": "stream",
     "text": [
      "[[15 21  7 21 24]\n",
      " [13 19 21 23  7]\n",
      " [ 8 17 13 21 14]\n",
      " [11 16 20 20 12]\n",
      " [22  5  8 23  8]]\n"
     ]
    },
    {
     "data": {
      "text/plain": [
       "array([[15,  7],\n",
       "       [13, 21],\n",
       "       [ 8, 13],\n",
       "       [11, 20]])"
      ]
     },
     "execution_count": 42,
     "metadata": {},
     "output_type": "execute_result"
    }
   ],
   "source": [
    "lst_2d = np.vstack((np.arange(1, 100, 2), np.arange(100, 1, -2)))\n",
    "print(lst)\n",
    "lst[0:4,0:4:2]"
   ]
  },
  {
   "cell_type": "markdown",
   "metadata": {},
   "source": [
    "### 1.8.2 Example:  Min Max normalization\n",
    "\n",
    "Subtract the minimum value from each element and divide it by the difference between the maximum and the minimum.\n",
    "\n",
    "$$ \\frac{ X - X_{min}}{X_{max} - X_{min}} $$\n",
    "\n",
    "Using numpy it is easy to perform these types of calculations\n",
    "\n",
    "```python\n",
    "lst = np.array([21, 19, 11, 17, 20])\n",
    "lst_norm = (lst - lst.min()) / (lst.max() - lst.min())\n",
    "lst_norm\n",
    "```"
   ]
  },
  {
   "cell_type": "code",
   "execution_count": 19,
   "metadata": {},
   "outputs": [
    {
     "data": {
      "text/plain": [
       "array([1. , 0.8, 0. , 0.6, 0.9])"
      ]
     },
     "execution_count": 19,
     "metadata": {},
     "output_type": "execute_result"
    }
   ],
   "source": [
    "## type your code here:\n",
    "\n",
    "lst = np.array([21, 19, 11, 17, 20])\n",
    "lst_norm = (lst - lst.min()) / (lst.max() - lst.min())\n",
    "lst_norm"
   ]
  },
  {
   "cell_type": "markdown",
   "metadata": {},
   "source": [
    "The same method will also work even if the data is 2 dimensional\n",
    "\n",
    "```python\n",
    "lst = np.array(\n",
    "      [[15, 21,  7, 21, 24],\n",
    "       [13, 19, 21, 23,  7],\n",
    "       [ 8, 17, 13, 21, 14],\n",
    "       [11, 16, 20, 20, 12],\n",
    "       [22,  5,  8, 23,  8]]\n",
    ")\n",
    "lst_norm = (lst - lst.min()) / (lst.max() - lst.min())\n",
    "lst_norm\n",
    "```"
   ]
  },
  {
   "cell_type": "code",
   "execution_count": 20,
   "metadata": {},
   "outputs": [
    {
     "data": {
      "text/plain": [
       "array([[0.52631579, 0.84210526, 0.10526316, 0.84210526, 1.        ],\n",
       "       [0.42105263, 0.73684211, 0.84210526, 0.94736842, 0.10526316],\n",
       "       [0.15789474, 0.63157895, 0.42105263, 0.84210526, 0.47368421],\n",
       "       [0.31578947, 0.57894737, 0.78947368, 0.78947368, 0.36842105],\n",
       "       [0.89473684, 0.        , 0.15789474, 0.94736842, 0.15789474]])"
      ]
     },
     "execution_count": 20,
     "metadata": {},
     "output_type": "execute_result"
    }
   ],
   "source": [
    "## type your code here:\n",
    "\n",
    "lst = np.array(\n",
    "      [[15, 21,  7, 21, 24],\n",
    "       [13, 19, 21, 23,  7],\n",
    "       [ 8, 17, 13, 21, 14],\n",
    "       [11, 16, 20, 20, 12],\n",
    "       [22,  5,  8, 23,  8]]\n",
    ")\n",
    "lst_norm = (lst - lst.min()) / (lst.max() - lst.min())\n",
    "lst_norm"
   ]
  },
  {
   "cell_type": "markdown",
   "metadata": {},
   "source": [
    "#### Some additional functions to test on 2D arrays\n",
    "<br>\n",
    "\n",
    "\n",
    "\n",
    "```python\n",
    "A = np.array([[1,1],[0,1]])\n",
    "B = np.array([[2,0],[3,4]])\n",
    "A+B              #addition of two array\n",
    "np.add(A,B)      #addition of two array\n",
    "A * B            # elementwise product\n",
    "A @ B            # matrix product\n",
    "A.dot(B)         # another matrix product\n",
    "B.T              #Transpose of B array\n",
    "A.flatten()      #form 1-d array\n",
    "B < 3            #Boolean of Matrix B. True for elements less than 3\n",
    "A.sum()          # sum of all elements of A\n",
    "A.sum(axis=0)    # sum of each column\n",
    "A.sum(axis=1)    # sum of each row\n",
    "A.cumsum(axis=1) # cumulative sum along each row\n",
    "A.min()          # min value of all elements\n",
    "A.max()          # max value of all elements\n",
    "np.exp(B)        # exponential\n",
    "np.sqrt(B)       # squre root\n",
    "A.argmin()       #position of min value of elements \n",
    "A.argmax()       #position of max value of elements\n",
    "A[1,1]           #member of a array in (1,1) position\n",
    "np.concat((np_array, np_array, ...)) \n",
    "```\n",
    "\n",
    "<br>\n",
    "\n",
    "These are just a few of the functions which numpy offers. All of the available functions are listed in their documentation [https://docs.scipy.org/doc/numpy-1.15.1/reference/#]\n"
   ]
  },
  {
   "cell_type": "code",
   "execution_count": 21,
   "metadata": {},
   "outputs": [
    {
     "ename": "NameError",
     "evalue": "name 'A' is not defined",
     "output_type": "error",
     "traceback": [
      "\u001b[0;31m---------------------------------------------------------------------------\u001b[0m",
      "\u001b[0;31mNameError\u001b[0m                                 Traceback (most recent call last)",
      "\u001b[0;32m<ipython-input-21-a7353548a893>\u001b[0m in \u001b[0;36m<module>\u001b[0;34m\u001b[0m\n\u001b[1;32m      1\u001b[0m \u001b[0;31m## type your code here:\u001b[0m\u001b[0;34m\u001b[0m\u001b[0;34m\u001b[0m\u001b[0;34m\u001b[0m\u001b[0m\n\u001b[1;32m      2\u001b[0m \u001b[0;34m\u001b[0m\u001b[0m\n\u001b[0;32m----> 3\u001b[0;31m \u001b[0mprint\u001b[0m\u001b[0;34m(\u001b[0m\u001b[0mA\u001b[0m\u001b[0;34m)\u001b[0m\u001b[0;34m\u001b[0m\u001b[0;34m\u001b[0m\u001b[0m\n\u001b[0m\u001b[1;32m      4\u001b[0m \u001b[0mprint\u001b[0m\u001b[0;34m(\u001b[0m\u001b[0mB\u001b[0m\u001b[0;34m)\u001b[0m\u001b[0;34m\u001b[0m\u001b[0;34m\u001b[0m\u001b[0m\n\u001b[1;32m      5\u001b[0m \u001b[0;34m\u001b[0m\u001b[0m\n",
      "\u001b[0;31mNameError\u001b[0m: name 'A' is not defined"
     ]
    }
   ],
   "source": [
    "## type your code here:\n",
    "\n",
    "print(A)\n",
    "print(B)\n",
    "\n",
    "print(A * B)            # elementwise product\n",
    "print(A @ B)            # matrix product\n",
    "\n",
    "A = np.array([[1,1],[0,1]])\n",
    "B = np.array([[2,0],[3,4]])\n",
    "\n",
    "A.cumsum(axis=1)\n",
    "np.exp(A)"
   ]
  },
  {
   "cell_type": "markdown",
   "metadata": {},
   "source": [
    "\n",
    "-----------------------------------------------------------------------------------------\n",
    "<br>\n"
   ]
  },
  {
   "cell_type": "markdown",
   "metadata": {},
   "source": [
    "# 2. Pandas\n",
    "\n",
    "Pandas is a fast, powerful, flexible and easy to use open source data analysis and manipulation tool, built on top of the Python programming language.\n",
    "\n",
    "\n",
    "### 2.1 The History of Pandas\n",
    "\n",
    "Pandas was created by Wes McKinney in 2008 while he was working for AQR Capital Management. He managed to convince the company to open source the project.\n",
    "\n",
    "Chang She, who also worked for AQR joined the project in 2012 and is the second major contributor.\n",
    "\n",
    "Pandas signed onto NumFOCUS, a nonprofit charity, in 2015.(https://en.wikipedia.org/wiki/Pandas_(software))\n",
    "\n",
    "A book written by Wes McKinney (Reviews indicate that the examples are not great):\n",
    "+ McKinney, Wes. Python for data analysis : data wrangling with pandas, NumPy, and IPython. Sebastopol, CA: O'Reilly Media, Inc, 2018. Print.\n",
    "\n",
    "This book covers using python for data science and includes some machine learning:\n",
    "+ Vanderplas, Jacob T. Python data science handbook : essential tools for working with data. Sebastopol, CA: O'Reilly Media, Inc, 2016. Print.\n",
    "\n",
    "There are also many excelent blog posts on pandas."
   ]
  },
  {
   "cell_type": "code",
   "execution_count": 43,
   "metadata": {},
   "outputs": [
    {
     "data": {
      "text/html": [
       "<div>\n",
       "<style scoped>\n",
       "    .dataframe tbody tr th:only-of-type {\n",
       "        vertical-align: middle;\n",
       "    }\n",
       "\n",
       "    .dataframe tbody tr th {\n",
       "        vertical-align: top;\n",
       "    }\n",
       "\n",
       "    .dataframe thead th {\n",
       "        text-align: right;\n",
       "    }\n",
       "</style>\n",
       "<table border=\"1\" class=\"dataframe\">\n",
       "  <thead>\n",
       "    <tr style=\"text-align: right;\">\n",
       "      <th></th>\n",
       "      <th>0</th>\n",
       "      <th>1</th>\n",
       "    </tr>\n",
       "  </thead>\n",
       "  <tbody>\n",
       "    <tr>\n",
       "      <th>0</th>\n",
       "      <td>bird</td>\n",
       "      <td>389.0</td>\n",
       "    </tr>\n",
       "    <tr>\n",
       "      <th>1</th>\n",
       "      <td>bird</td>\n",
       "      <td>24.0</td>\n",
       "    </tr>\n",
       "    <tr>\n",
       "      <th>2</th>\n",
       "      <td>mammal</td>\n",
       "      <td>80.5</td>\n",
       "    </tr>\n",
       "    <tr>\n",
       "      <th>3</th>\n",
       "      <td>mammal</td>\n",
       "      <td>NaN</td>\n",
       "    </tr>\n",
       "  </tbody>\n",
       "</table>\n",
       "</div>"
      ],
      "text/plain": [
       "        0      1\n",
       "0    bird  389.0\n",
       "1    bird   24.0\n",
       "2  mammal   80.5\n",
       "3  mammal    NaN"
      ]
     },
     "execution_count": 43,
     "metadata": {},
     "output_type": "execute_result"
    }
   ],
   "source": [
    "## type your code here:\n",
    "\n",
    "import pandas as pd\n",
    "\n",
    "df = pd.DataFrame([('bird', 389.0),\n",
    "                   ('bird', 24.0),\n",
    "                   ('mammal', 80.5),\n",
    "                   ('mammal', np.nan)])\n",
    "\n",
    "df"
   ]
  },
  {
   "cell_type": "markdown",
   "metadata": {},
   "source": [
    "### 2.2 Learning Pandas\n",
    "\n",
    "#### Pandas Use Cases\n",
    "\n",
    "Pandas primary use case is for data analysis.\n",
    "It provides data structures and a tone of functions for quickly manipulating data.\n",
    "Some example usage:\n",
    "  + cleaning data (removing/imputing missing values)\n",
    "  + transforming (changing the form of the dataframe)\n",
    "  + visualizing (Creating plots that summarize the data)\n",
    "  \n",
    "  \n",
    " \n",
    "#### Pandas has extensive documentation with examples\n",
    "If you go for a few months without coding its hard to remember the little details. If you remember the function names you can read up on them when you need them.\n",
    "\n",
    "https://pandas.pydata.org/pandas-docs/stable/\n",
    "\n",
    "I find it hard to navigate their documentation, so I Google 'pandas \\< functionality \\>' and choose the link to the pandas site.\n",
    "\n",
    "Eg:\n",
    "+ Google 'pandas merge'\n",
    "+ https://pandas.pydata.org/pandas-docs/stable/reference/api/pandas.DataFrame.merge.html\n",
    "\n",
    "\n",
    "#### Use Cheat sheets!"
   ]
  },
  {
   "cell_type": "markdown",
   "metadata": {},
   "source": [
    "### 2.3  How to install Pandas\n",
    "\n",
    "\n",
    "- Pandas is an external Python Package\n",
    "  + This means that it is not included with the Python Standard Libraries\n",
    "  + It can be installed using conda (https://anaconda.org/anaconda/pandas)\n",
    "    + `conda install -c anaconda pandas`\n",
    "  + The latest version dropped support for Python 2\n",
    " \n",
    "<br> \n",
    "- Importing Pandas\n",
    "\n",
    "In order to use the functionality provided by pandas the package will need to be imported.\n",
    "The standard practice is to name this import **pd**.\n",
    "\n",
    "\n",
    "```python\n",
    "import pandas as pd\n",
    "```"
   ]
  },
  {
   "cell_type": "code",
   "execution_count": 23,
   "metadata": {},
   "outputs": [],
   "source": [
    "## type your code here:\n",
    "import pandas as pd"
   ]
  },
  {
   "cell_type": "markdown",
   "metadata": {},
   "source": [
    "### 2.4 Creating a Dataframe\n",
    "\n",
    "#### A dataframe is a collection of data where each row consists of a collection of observations.\n",
    "\n",
    "#### There are many ways to create dataframes:\n",
    "\n",
    "+ Converting a list to a dataframe (see above)\n",
    "\n",
    "\n",
    "+ Converting a dictionary to a dataframe\n",
    "    ```python\n",
    "df = pd.Dataframe.from_dict( << dict >> )\n",
    "    ```\n",
    "+ Loading the data from a csv file\n",
    "    ```python\n",
    "df = pd.read_csv( << csv_path >> )\n",
    "    ```\n",
    "+ Load the data from a url\n",
    "    ```python\n",
    "url = \"https://vincentarelbundock.github.io/Rdatasets/csv/datasets/trees.csv\"\n",
    "df = pd.read_csv(url)\n",
    "    ```\n",
    "+ Load the data from an excel file\n",
    "    ```python\n",
    "df = pd.read_excel('tmp.xlsx', index_col=None, header=None, sheet_name='Sheet3') \n",
    "    ```\n",
    "     help(https://pandas.pydata.org/pandas-docs/stable/reference/api/pandas.read_excel.html)"
   ]
  },
  {
   "cell_type": "markdown",
   "metadata": {},
   "source": [
    "\n",
    "Some of these examples are taken from the pandas documentation\n",
    "\n",
    "(https://pandas.pydata.org/pandas-docs/stable/generated/pandas.DataFrame.from_dict.html#pandas.DataFrame.from_dict)"
   ]
  },
  {
   "cell_type": "markdown",
   "metadata": {},
   "source": [
    "### 2.5 Columns and Indices\n",
    "\n",
    "###### By default, each item in the dictionary will represent a column\n",
    "```python\n",
    "data = {'col_1': [3, 2, 1, 0], 'col_2': ['a', 'b', 'c', 'd']}\n",
    "pd.DataFrame.from_dict(data)\n",
    "```"
   ]
  },
  {
   "cell_type": "code",
   "execution_count": 44,
   "metadata": {},
   "outputs": [
    {
     "data": {
      "text/html": [
       "<div>\n",
       "<style scoped>\n",
       "    .dataframe tbody tr th:only-of-type {\n",
       "        vertical-align: middle;\n",
       "    }\n",
       "\n",
       "    .dataframe tbody tr th {\n",
       "        vertical-align: top;\n",
       "    }\n",
       "\n",
       "    .dataframe thead th {\n",
       "        text-align: right;\n",
       "    }\n",
       "</style>\n",
       "<table border=\"1\" class=\"dataframe\">\n",
       "  <thead>\n",
       "    <tr style=\"text-align: right;\">\n",
       "      <th></th>\n",
       "      <th>col_1</th>\n",
       "      <th>col_2</th>\n",
       "    </tr>\n",
       "  </thead>\n",
       "  <tbody>\n",
       "    <tr>\n",
       "      <th>0</th>\n",
       "      <td>3</td>\n",
       "      <td>a</td>\n",
       "    </tr>\n",
       "    <tr>\n",
       "      <th>1</th>\n",
       "      <td>2</td>\n",
       "      <td>b</td>\n",
       "    </tr>\n",
       "    <tr>\n",
       "      <th>2</th>\n",
       "      <td>1</td>\n",
       "      <td>c</td>\n",
       "    </tr>\n",
       "    <tr>\n",
       "      <th>3</th>\n",
       "      <td>0</td>\n",
       "      <td>d</td>\n",
       "    </tr>\n",
       "  </tbody>\n",
       "</table>\n",
       "</div>"
      ],
      "text/plain": [
       "   col_1 col_2\n",
       "0      3     a\n",
       "1      2     b\n",
       "2      1     c\n",
       "3      0     d"
      ]
     },
     "execution_count": 44,
     "metadata": {},
     "output_type": "execute_result"
    }
   ],
   "source": [
    "## type your code here:\n",
    "\n",
    "data = {'col_1': [3, 2, 1, 0], 'col_2': ['a', 'b', 'c', 'd']}\n",
    "df = pd.DataFrame.from_dict(data)\n",
    "df"
   ]
  },
  {
   "cell_type": "markdown",
   "metadata": {},
   "source": [
    "###### This can be changed by changing the orient parameter to 'index' (the default is 'column')\n",
    "```python\n",
    "data = {'row_1': [3, 2, 1, 0], 'row_2': ['a', 'b', 'c', 'd']}\n",
    "pd.DataFrame.from_dict(data, orient='index')\n",
    "```"
   ]
  },
  {
   "cell_type": "code",
   "execution_count": 25,
   "metadata": {},
   "outputs": [
    {
     "data": {
      "text/html": [
       "<div>\n",
       "<style scoped>\n",
       "    .dataframe tbody tr th:only-of-type {\n",
       "        vertical-align: middle;\n",
       "    }\n",
       "\n",
       "    .dataframe tbody tr th {\n",
       "        vertical-align: top;\n",
       "    }\n",
       "\n",
       "    .dataframe thead th {\n",
       "        text-align: right;\n",
       "    }\n",
       "</style>\n",
       "<table border=\"1\" class=\"dataframe\">\n",
       "  <thead>\n",
       "    <tr style=\"text-align: right;\">\n",
       "      <th></th>\n",
       "      <th>0</th>\n",
       "      <th>1</th>\n",
       "      <th>2</th>\n",
       "      <th>3</th>\n",
       "    </tr>\n",
       "  </thead>\n",
       "  <tbody>\n",
       "    <tr>\n",
       "      <th>row_1</th>\n",
       "      <td>3</td>\n",
       "      <td>2</td>\n",
       "      <td>1</td>\n",
       "      <td>0</td>\n",
       "    </tr>\n",
       "    <tr>\n",
       "      <th>row_2</th>\n",
       "      <td>a</td>\n",
       "      <td>b</td>\n",
       "      <td>c</td>\n",
       "      <td>d</td>\n",
       "    </tr>\n",
       "  </tbody>\n",
       "</table>\n",
       "</div>"
      ],
      "text/plain": [
       "       0  1  2  3\n",
       "row_1  3  2  1  0\n",
       "row_2  a  b  c  d"
      ]
     },
     "execution_count": 25,
     "metadata": {},
     "output_type": "execute_result"
    }
   ],
   "source": [
    "## type your code here:\n",
    "\n",
    "data = {'row_1': [3, 2, 1, 0], 'row_2': ['a', 'b', 'c', 'd']}\n",
    "pd.DataFrame.from_dict(data, orient='index')"
   ]
  },
  {
   "cell_type": "markdown",
   "metadata": {},
   "source": [
    "###### The names of the columns can be set using the columns parameter\n",
    "```python\n",
    "data = {'row_1': [3, 2, 1, 0], 'row_2': ['a', 'b', 'c', 'd']}\n",
    "pd.DataFrame.from_dict(data, orient='index',\n",
    "                        columns=['A', 'B', 'C', 'D'])\n",
    "```"
   ]
  },
  {
   "cell_type": "code",
   "execution_count": 26,
   "metadata": {},
   "outputs": [
    {
     "data": {
      "text/html": [
       "<div>\n",
       "<style scoped>\n",
       "    .dataframe tbody tr th:only-of-type {\n",
       "        vertical-align: middle;\n",
       "    }\n",
       "\n",
       "    .dataframe tbody tr th {\n",
       "        vertical-align: top;\n",
       "    }\n",
       "\n",
       "    .dataframe thead th {\n",
       "        text-align: right;\n",
       "    }\n",
       "</style>\n",
       "<table border=\"1\" class=\"dataframe\">\n",
       "  <thead>\n",
       "    <tr style=\"text-align: right;\">\n",
       "      <th></th>\n",
       "      <th>A</th>\n",
       "      <th>B</th>\n",
       "      <th>C</th>\n",
       "      <th>D</th>\n",
       "    </tr>\n",
       "  </thead>\n",
       "  <tbody>\n",
       "    <tr>\n",
       "      <th>row_1</th>\n",
       "      <td>3</td>\n",
       "      <td>2</td>\n",
       "      <td>1</td>\n",
       "      <td>0</td>\n",
       "    </tr>\n",
       "    <tr>\n",
       "      <th>row_2</th>\n",
       "      <td>a</td>\n",
       "      <td>b</td>\n",
       "      <td>c</td>\n",
       "      <td>d</td>\n",
       "    </tr>\n",
       "  </tbody>\n",
       "</table>\n",
       "</div>"
      ],
      "text/plain": [
       "       A  B  C  D\n",
       "row_1  3  2  1  0\n",
       "row_2  a  b  c  d"
      ]
     },
     "execution_count": 26,
     "metadata": {},
     "output_type": "execute_result"
    }
   ],
   "source": [
    "## type your code here:\n",
    "\n",
    "data = {'row_1': [3, 2, 1, 0], 'row_2': ['a', 'b', 'c', 'd']}\n",
    "pd.DataFrame.from_dict(data, orient='index',\n",
    "                        columns=['A', 'B', 'C', 'D'])"
   ]
  },
  {
   "cell_type": "markdown",
   "metadata": {},
   "source": [
    "###### Alternatively you can specify the column names in the dictionary\n",
    "```python\n",
    "data = {\n",
    "    'Tree1': {'girth': 8.3, 'height': 70, 'volume': 10.3},\n",
    "    'Tree2': {'girth': 8.6, 'height': 65, 'volume': 10.3},\n",
    "    'Tree3': {'girth': 8.8, 'height': 63, 'volume': 10.2}\n",
    "}\n",
    "pd.DataFrame.from_dict(data, orient='index')\n",
    "```\n",
    "\n",
    "https://en.wikipedia.org/wiki/Tree_girth_measurement"
   ]
  },
  {
   "cell_type": "code",
   "execution_count": 45,
   "metadata": {},
   "outputs": [
    {
     "data": {
      "text/html": [
       "<div>\n",
       "<style scoped>\n",
       "    .dataframe tbody tr th:only-of-type {\n",
       "        vertical-align: middle;\n",
       "    }\n",
       "\n",
       "    .dataframe tbody tr th {\n",
       "        vertical-align: top;\n",
       "    }\n",
       "\n",
       "    .dataframe thead th {\n",
       "        text-align: right;\n",
       "    }\n",
       "</style>\n",
       "<table border=\"1\" class=\"dataframe\">\n",
       "  <thead>\n",
       "    <tr style=\"text-align: right;\">\n",
       "      <th></th>\n",
       "      <th>girth</th>\n",
       "      <th>height</th>\n",
       "      <th>volume</th>\n",
       "    </tr>\n",
       "  </thead>\n",
       "  <tbody>\n",
       "    <tr>\n",
       "      <th>Tree1</th>\n",
       "      <td>8.3</td>\n",
       "      <td>70</td>\n",
       "      <td>10.3</td>\n",
       "    </tr>\n",
       "    <tr>\n",
       "      <th>Tree2</th>\n",
       "      <td>8.6</td>\n",
       "      <td>65</td>\n",
       "      <td>10.3</td>\n",
       "    </tr>\n",
       "    <tr>\n",
       "      <th>Tree3</th>\n",
       "      <td>8.8</td>\n",
       "      <td>63</td>\n",
       "      <td>10.2</td>\n",
       "    </tr>\n",
       "  </tbody>\n",
       "</table>\n",
       "</div>"
      ],
      "text/plain": [
       "       girth  height  volume\n",
       "Tree1    8.3      70    10.3\n",
       "Tree2    8.6      65    10.3\n",
       "Tree3    8.8      63    10.2"
      ]
     },
     "execution_count": 45,
     "metadata": {},
     "output_type": "execute_result"
    }
   ],
   "source": [
    "## type your code here:\n",
    "\n",
    "data = {\n",
    "    'Tree1': {'girth': 8.3, 'height': 70, 'volume': 10.3},\n",
    "    'Tree2': {'girth': 8.6, 'height': 65, 'volume': 10.3},\n",
    "    'Tree3': {'girth': 8.8, 'height': 63, 'volume': 10.2}\n",
    "}\n",
    "pd.DataFrame.from_dict(data, orient='index')\n",
    "\n"
   ]
  },
  {
   "cell_type": "markdown",
   "metadata": {},
   "source": [
    "**Note** Each row needs to have a unique identifier, in the above example this is represented by '**Tree#**'. Generally this is represented by an integer ranging from 0->n. \n",
    "+ In the above example we can reset the index to be the integers using the reset_index() function.\n",
    "```python\n",
    "data = {\n",
    "    'Tree1': {'girth': 8.3, 'height': 70, 'volume': 10.3},\n",
    "    'Tree2': {'girth': 8.6, 'height': 65, 'volume': 10.3},\n",
    "    'Tree3': {'girth': 8.8, 'height': 63, 'volume': 10.2}\n",
    "}\n",
    "pd.DataFrame.from_dict(data, orient='index').reset_index()\n",
    "```"
   ]
  },
  {
   "cell_type": "code",
   "execution_count": 28,
   "metadata": {},
   "outputs": [
    {
     "data": {
      "text/html": [
       "<div>\n",
       "<style scoped>\n",
       "    .dataframe tbody tr th:only-of-type {\n",
       "        vertical-align: middle;\n",
       "    }\n",
       "\n",
       "    .dataframe tbody tr th {\n",
       "        vertical-align: top;\n",
       "    }\n",
       "\n",
       "    .dataframe thead th {\n",
       "        text-align: right;\n",
       "    }\n",
       "</style>\n",
       "<table border=\"1\" class=\"dataframe\">\n",
       "  <thead>\n",
       "    <tr style=\"text-align: right;\">\n",
       "      <th></th>\n",
       "      <th>index</th>\n",
       "      <th>girth</th>\n",
       "      <th>height</th>\n",
       "      <th>volume</th>\n",
       "    </tr>\n",
       "  </thead>\n",
       "  <tbody>\n",
       "    <tr>\n",
       "      <th>0</th>\n",
       "      <td>Tree1</td>\n",
       "      <td>8.3</td>\n",
       "      <td>70</td>\n",
       "      <td>10.3</td>\n",
       "    </tr>\n",
       "    <tr>\n",
       "      <th>1</th>\n",
       "      <td>Tree2</td>\n",
       "      <td>8.6</td>\n",
       "      <td>65</td>\n",
       "      <td>10.3</td>\n",
       "    </tr>\n",
       "    <tr>\n",
       "      <th>2</th>\n",
       "      <td>Tree3</td>\n",
       "      <td>8.8</td>\n",
       "      <td>63</td>\n",
       "      <td>10.2</td>\n",
       "    </tr>\n",
       "  </tbody>\n",
       "</table>\n",
       "</div>"
      ],
      "text/plain": [
       "   index  girth  height  volume\n",
       "0  Tree1    8.3      70    10.3\n",
       "1  Tree2    8.6      65    10.3\n",
       "2  Tree3    8.8      63    10.2"
      ]
     },
     "execution_count": 28,
     "metadata": {},
     "output_type": "execute_result"
    }
   ],
   "source": [
    "## type your code here:\n",
    "\n",
    "data = {\n",
    "  'Tree1': {'girth': 8.3, 'height': 70, 'volume': 10.3},\n",
    "  'Tree2': {'girth': 8.6, 'height': 65, 'volume': 10.3},\n",
    "  'Tree3': {'girth': 8.8, 'height': 63, 'volume': 10.2}\n",
    "}\n",
    "pd.DataFrame.from_dict(data, orient='index').reset_index()\n"
   ]
  },
  {
   "cell_type": "markdown",
   "metadata": {},
   "source": [
    "###### Loading Data from a URL\n",
    "```python\n",
    "url = \"https://vincentarelbundock.github.io/Rdatasets/csv/datasets/trees.csv\"\n",
    "df = pd.read_csv(url)\n",
    "df\n",
    "```\n",
    "\n",
    "And there are many cvs files from https://opendata.cityofnewyork.us/! \n"
   ]
  },
  {
   "cell_type": "code",
   "execution_count": 56,
   "metadata": {},
   "outputs": [
    {
     "data": {
      "text/html": [
       "<div>\n",
       "<style scoped>\n",
       "    .dataframe tbody tr th:only-of-type {\n",
       "        vertical-align: middle;\n",
       "    }\n",
       "\n",
       "    .dataframe tbody tr th {\n",
       "        vertical-align: top;\n",
       "    }\n",
       "\n",
       "    .dataframe thead th {\n",
       "        text-align: right;\n",
       "    }\n",
       "</style>\n",
       "<table border=\"1\" class=\"dataframe\">\n",
       "  <thead>\n",
       "    <tr style=\"text-align: right;\">\n",
       "      <th></th>\n",
       "      <th>Unnamed: 0</th>\n",
       "      <th>Girth</th>\n",
       "      <th>Height</th>\n",
       "      <th>Volume</th>\n",
       "    </tr>\n",
       "  </thead>\n",
       "  <tbody>\n",
       "    <tr>\n",
       "      <th>0</th>\n",
       "      <td>1</td>\n",
       "      <td>8.3</td>\n",
       "      <td>70</td>\n",
       "      <td>10.3</td>\n",
       "    </tr>\n",
       "    <tr>\n",
       "      <th>1</th>\n",
       "      <td>2</td>\n",
       "      <td>8.6</td>\n",
       "      <td>65</td>\n",
       "      <td>10.3</td>\n",
       "    </tr>\n",
       "    <tr>\n",
       "      <th>2</th>\n",
       "      <td>3</td>\n",
       "      <td>8.8</td>\n",
       "      <td>63</td>\n",
       "      <td>10.2</td>\n",
       "    </tr>\n",
       "    <tr>\n",
       "      <th>3</th>\n",
       "      <td>4</td>\n",
       "      <td>10.5</td>\n",
       "      <td>72</td>\n",
       "      <td>16.4</td>\n",
       "    </tr>\n",
       "    <tr>\n",
       "      <th>4</th>\n",
       "      <td>5</td>\n",
       "      <td>10.7</td>\n",
       "      <td>81</td>\n",
       "      <td>18.8</td>\n",
       "    </tr>\n",
       "  </tbody>\n",
       "</table>\n",
       "</div>"
      ],
      "text/plain": [
       "   Unnamed: 0  Girth  Height  Volume\n",
       "0           1    8.3      70    10.3\n",
       "1           2    8.6      65    10.3\n",
       "2           3    8.8      63    10.2\n",
       "3           4   10.5      72    16.4\n",
       "4           5   10.7      81    18.8"
      ]
     },
     "execution_count": 56,
     "metadata": {},
     "output_type": "execute_result"
    }
   ],
   "source": [
    "## type your code here:\n",
    "\n",
    "url = \"https://vincentarelbundock.github.io/Rdatasets/csv/datasets/trees.csv\"\n",
    "df = pd.read_csv(url)   # URL or LocalFile\n",
    "df.head()"
   ]
  },
  {
   "cell_type": "code",
   "execution_count": 57,
   "metadata": {},
   "outputs": [],
   "source": [
    "## type your code here:\n",
    "\n",
    "df = df.drop(columns=['Unnamed: 0'])\n"
   ]
  },
  {
   "cell_type": "markdown",
   "metadata": {},
   "source": [
    "### 2.6 Accessing values in the dataframe\n",
    "```python\n",
    "data = {\n",
    "    'Tree1': {'girth': 8.3, 'height': 70, 'volume': 10.3},\n",
    "    'Tree2': {'girth': 8.6, 'height': 65, 'volume': 10.3},\n",
    "    'Tree3': {'girth': 8.8, 'height': 63, 'volume': 10.2}\n",
    "}\n",
    "df = pd.DataFrame.from_dict(data, orient='index')\n",
    "```"
   ]
  },
  {
   "cell_type": "code",
   "execution_count": 60,
   "metadata": {},
   "outputs": [
    {
     "name": "stdout",
     "output_type": "stream",
     "text": [
      "       girth  height  volume\n",
      "Tree1    8.3      70    10.3\n",
      "Tree2    8.6      65    10.3\n",
      "Tree3    8.8      63    10.2\n"
     ]
    }
   ],
   "source": [
    "## type your code here:\n",
    "\n",
    "data = {\n",
    "    'Tree1': {'girth': 8.3, 'height': 70, 'volume': 10.3},\n",
    "    'Tree2': {'girth': 8.6, 'height': 65, 'volume': 10.3},\n",
    "    'Tree3': {'girth': 8.8, 'height': 63, 'volume': 10.2}\n",
    "}\n",
    "\n",
    "df = pd.DataFrame.from_dict(data, orient='index')\n",
    "print(df)"
   ]
  },
  {
   "cell_type": "markdown",
   "metadata": {},
   "source": [
    "#### Columns\n",
    "\n",
    "##### Getting Column Names\n",
    "\n",
    "+ To get a list of column names you can covert the dataframe into a list\n",
    "```python\n",
    "list(df) # returns a list of column names\n",
    "# or\n",
    "df.columns.values # returns a numpy array of column names\n",
    "```\n",
    "\n",
    "As with most of programming there are multiple methods of doing the same thing.\n",
    "It is generally preferable to use the option that is easier to understand. In this case `df.columns.values` as this explicitly states what values are being extracted\n"
   ]
  },
  {
   "cell_type": "code",
   "execution_count": 61,
   "metadata": {},
   "outputs": [
    {
     "data": {
      "text/plain": [
       "array(['girth', 'height', 'volume'], dtype=object)"
      ]
     },
     "execution_count": 61,
     "metadata": {},
     "output_type": "execute_result"
    }
   ],
   "source": [
    "## type your code here:\n",
    "\n",
    "list(df)\n",
    "\n",
    "df.columns.values"
   ]
  },
  {
   "cell_type": "markdown",
   "metadata": {},
   "source": [
    "##### Pulling a column out of a dataframe\n",
    "\n",
    "+ Access columns using the column name in square brackets to return a series containing the data.\n",
    "```python\n",
    "df[\"column_name\"]\n",
    "```\n",
    "\n",
    "+ A series is a 1D array of id, value pairs"
   ]
  },
  {
   "cell_type": "code",
   "execution_count": 63,
   "metadata": {},
   "outputs": [
    {
     "data": {
      "text/plain": [
       "10.266666666666667"
      ]
     },
     "execution_count": 63,
     "metadata": {},
     "output_type": "execute_result"
    }
   ],
   "source": [
    "## type your code here:\n",
    "\n",
    "df['volume']\n",
    "\n",
    "#df.volume\n",
    "df['volume'].mean()"
   ]
  },
  {
   "cell_type": "markdown",
   "metadata": {},
   "source": [
    "##### Subsetting a Dataframe using a List of Columns\n",
    "\n",
    "Use a list of column names to extract those columns as a dataframe\n",
    "\n",
    "```python\n",
    "df[[\"column_1\", \"column_2\"]]\n",
    "```\n",
    "\n",
    "A useful way to remember this is 1D indexing \\[ \\] returns a series and 2D indexing \\[\\[ \\]\\] returns a dataframe."
   ]
  },
  {
   "cell_type": "markdown",
   "metadata": {},
   "source": [
    "#### Example\n",
    "Extracting the girth and height from the dataframe of tree measurements.\n",
    "\n",
    "```python\n",
    "df[[\"girth\", \"height\"]]\n",
    "```\n",
    "\n",
    "Extracting the volume as a series (https://pandas.pydata.org/pandas-docs/stable/reference/api/pandas.Series.html)\n",
    "```python\n",
    "df[\"volume\"]\n",
    "```\n",
    "\n",
    "Extracting the volume as a dataframe (https://pandas.pydata.org/pandas-docs/stable/reference/api/pandas.DataFrame.html?highlight=dataframe#pandas.DataFrame)\n",
    "```python\n",
    "df[[\"volume\"]]\n",
    "```"
   ]
  },
  {
   "cell_type": "code",
   "execution_count": 66,
   "metadata": {},
   "outputs": [
    {
     "data": {
      "text/plain": [
       "pandas.core.frame.DataFrame"
      ]
     },
     "execution_count": 66,
     "metadata": {},
     "output_type": "execute_result"
    }
   ],
   "source": [
    "## type your code here:\n",
    "\n",
    "df[[\"girth\", \"height\"]]\n",
    "\n",
    "type(df[[\"volume\",\"height\"]])\n",
    "\n",
    "#type(df[\"volume\"])\n"
   ]
  },
  {
   "cell_type": "markdown",
   "metadata": {},
   "source": [
    "### 2.7 Pandas and Numpy\n",
    "\n",
    "+ A package for scientific computing\n",
    "+ A more powerful version of lists\n",
    "+ All of the methods are optimized to run fast\n",
    "+ Great for linear algebra, statistical analysis\n",
    "\n",
    "Pandas makes use of a lot of Numpy functionality under the hood!"
   ]
  },
  {
   "cell_type": "markdown",
   "metadata": {},
   "source": [
    "#### Converting Series and Dataframe types into Arrays\n",
    "\n",
    "The `.values` function will return a numpy array containing the data.\n",
    "\n",
    "For series type data the array will be 1-dimensional and for dataframes the array will be 2-dimensional.\n",
    "\n",
    "```python\n",
    "df[\"volume\"].values\n",
    "```\n",
    "\n",
    "```python\n",
    "df[[\"girth\", \"height\"]].values\n",
    "```"
   ]
  },
  {
   "cell_type": "code",
   "execution_count": 35,
   "metadata": {},
   "outputs": [
    {
     "data": {
      "text/plain": [
       "array([[ 8.3, 70. ],\n",
       "       [ 8.6, 65. ],\n",
       "       [ 8.8, 63. ]])"
      ]
     },
     "execution_count": 35,
     "metadata": {},
     "output_type": "execute_result"
    }
   ],
   "source": [
    "## type your code here:\n",
    "\n",
    "df[[\"girth\", \"height\"]].values"
   ]
  },
  {
   "cell_type": "markdown",
   "metadata": {},
   "source": [
    "#### Accessing rows from the dataframe\n",
    "\n",
    "Rows are accessed using either **loc** or **iloc**\n",
    "\n",
    "###### iloc\n",
    "+ This will access rows depending on their integer index\n",
    "+ The first row will have index 0\n",
    "+ Then next will have index 1, ...\n",
    "+ To extract the first row you would use the following command\n",
    "    + This will return a series containing the information from that row\n",
    "```python\n",
    "df.iloc[0]\n",
    "```\n",
    "+ To extract multiple rows you can pass a list of indices\n",
    "    + This will return a dataframe containing the specified rows\n",
    "    + The dataframe will be in the order of the indicies\n",
    "      + \\[0, 1, 2\\] - original order\n",
    "      + \\[2, 1, 0\\] - reversed\n",
    "      + \\[0, 0, 1\\] - repeats\n",
    "      \n",
    "```python\n",
    "df.iloc[[0, 1, 2]]\n",
    "```"
   ]
  },
  {
   "cell_type": "code",
   "execution_count": 68,
   "metadata": {},
   "outputs": [
    {
     "data": {
      "text/html": [
       "<div>\n",
       "<style scoped>\n",
       "    .dataframe tbody tr th:only-of-type {\n",
       "        vertical-align: middle;\n",
       "    }\n",
       "\n",
       "    .dataframe tbody tr th {\n",
       "        vertical-align: top;\n",
       "    }\n",
       "\n",
       "    .dataframe thead th {\n",
       "        text-align: right;\n",
       "    }\n",
       "</style>\n",
       "<table border=\"1\" class=\"dataframe\">\n",
       "  <thead>\n",
       "    <tr style=\"text-align: right;\">\n",
       "      <th></th>\n",
       "      <th>girth</th>\n",
       "      <th>height</th>\n",
       "      <th>volume</th>\n",
       "    </tr>\n",
       "  </thead>\n",
       "  <tbody>\n",
       "    <tr>\n",
       "      <th>Tree3</th>\n",
       "      <td>8.8</td>\n",
       "      <td>63</td>\n",
       "      <td>10.2</td>\n",
       "    </tr>\n",
       "    <tr>\n",
       "      <th>Tree2</th>\n",
       "      <td>8.6</td>\n",
       "      <td>65</td>\n",
       "      <td>10.3</td>\n",
       "    </tr>\n",
       "    <tr>\n",
       "      <th>Tree1</th>\n",
       "      <td>8.3</td>\n",
       "      <td>70</td>\n",
       "      <td>10.3</td>\n",
       "    </tr>\n",
       "  </tbody>\n",
       "</table>\n",
       "</div>"
      ],
      "text/plain": [
       "       girth  height  volume\n",
       "Tree3    8.8      63    10.2\n",
       "Tree2    8.6      65    10.3\n",
       "Tree1    8.3      70    10.3"
      ]
     },
     "execution_count": 68,
     "metadata": {},
     "output_type": "execute_result"
    }
   ],
   "source": [
    "## type your code here:\n",
    "\n",
    "df\n",
    "df.iloc[[2, 1, 0]]"
   ]
  },
  {
   "cell_type": "markdown",
   "metadata": {},
   "source": [
    "###### loc\n",
    "\n",
    "Various arguments will work with loc to extract rows from a dataframe\n",
    "\n",
    "+ A single index label\n",
    "    + Returns a series for that specific **row**\n",
    "    ```python\n",
    "df.loc[\"Tree2\"]\n",
    "    ```\n",
    "+ A list of index labels\n",
    "    + Returns a dataframe containing those **rows**\n",
    "    ```python\n",
    "df.loc[[\"Tree1\", \"Tree3\"]]\n",
    "    ```\n",
    "+ A boolean list\n",
    "    + Returns a dataframe for **rows** that are labeled true\n",
    "      + The number of booleans should match the number of rows\n",
    "      + row 0 - False\n",
    "      + row 1 - True\n",
    "      + row 2 - False\n",
    "    ```python\n",
    "df.loc[[False, True, False]]\n",
    "    ```"
   ]
  },
  {
   "cell_type": "code",
   "execution_count": 73,
   "metadata": {},
   "outputs": [
    {
     "name": "stdout",
     "output_type": "stream",
     "text": [
      "       girth  height  volume\n",
      "Tree1    8.3      70    10.3\n",
      "Tree3    8.8      63    10.2\n"
     ]
    }
   ],
   "source": [
    "## type your code here:\n",
    "\n",
    "#print(df)\n",
    "\n",
    "\n",
    "print(df.loc[[\"Tree1\", \"Tree3\"]])\n"
   ]
  },
  {
   "cell_type": "markdown",
   "metadata": {},
   "source": [
    "### 2.8 Extracting data by value\n",
    "\n",
    "Comparison operators can be applied to series objects (which are numpy lists)\n",
    "For each value it will return either True or False depending on the comparison\n",
    "\n",
    "**eg**\n",
    "```python\n",
    "pd.Series([1,1,1,5,5,5]) > 3\n",
    "> [False, False, False, True, True, True]\n",
    "```\n",
    "\n",
    "This is convenient as **.loc** can use an array of booleans to extract rows.\n",
    "\n",
    "\n",
    "This allows for specific rows to be extracted from the dataframe depending on their value\n"
   ]
  },
  {
   "cell_type": "code",
   "execution_count": 38,
   "metadata": {},
   "outputs": [
    {
     "data": {
      "text/plain": [
       "0     True\n",
       "1     True\n",
       "2     True\n",
       "3     True\n",
       "4    False\n",
       "5    False\n",
       "6    False\n",
       "7    False\n",
       "8    False\n",
       "dtype: bool"
      ]
     },
     "execution_count": 38,
     "metadata": {},
     "output_type": "execute_result"
    }
   ],
   "source": [
    "## type your code here:\n",
    "\n",
    "s=pd.Series(np.arange(10,100,10))\n",
    "\n",
    "cond1=s>80\n",
    "cond2=s<50\n",
    "\n",
    "~(cond1 | ~cond2)"
   ]
  },
  {
   "cell_type": "markdown",
   "metadata": {},
   "source": [
    "+ Trees that are shorter than 70\n",
    "    + df[\"height\"] will return a series\n",
    "    ```python\n",
    "    df[\"height\"]\n",
    "    ```\n",
    "    + df[\"height\"] < 70 will return a list of booleans\n",
    "        + ```python\n",
    "          df[\"height\"] < 70\n",
    "          ```\n",
    "        + ```python\n",
    "        > [False, True, True]\n",
    "        ```\n",
    "    \n",
    "    + We can then use this to extract those rows from the dataframe\n",
    "    ```python\n",
    "df.loc[df[\"height\"] < 70]\n",
    "    ```\n",
    "    \n",
    "\n",
    "|name|girth|\theight|\tvolume|\n",
    "|-    |-      |-      |-|\n",
    "|Tree1|\t8.3|\t70|\t10.3|\n",
    "|Tree2|\t8.6|\t65|\t10.3|\n",
    "|Tree3|\t8.8|\t63|\t10.2|"
   ]
  },
  {
   "cell_type": "code",
   "execution_count": 39,
   "metadata": {},
   "outputs": [
    {
     "data": {
      "text/html": [
       "<div>\n",
       "<style scoped>\n",
       "    .dataframe tbody tr th:only-of-type {\n",
       "        vertical-align: middle;\n",
       "    }\n",
       "\n",
       "    .dataframe tbody tr th {\n",
       "        vertical-align: top;\n",
       "    }\n",
       "\n",
       "    .dataframe thead th {\n",
       "        text-align: right;\n",
       "    }\n",
       "</style>\n",
       "<table border=\"1\" class=\"dataframe\">\n",
       "  <thead>\n",
       "    <tr style=\"text-align: right;\">\n",
       "      <th></th>\n",
       "      <th>girth</th>\n",
       "      <th>height</th>\n",
       "      <th>volume</th>\n",
       "    </tr>\n",
       "  </thead>\n",
       "  <tbody>\n",
       "    <tr>\n",
       "      <th>Tree2</th>\n",
       "      <td>8.6</td>\n",
       "      <td>65</td>\n",
       "      <td>10.3</td>\n",
       "    </tr>\n",
       "    <tr>\n",
       "      <th>Tree3</th>\n",
       "      <td>8.8</td>\n",
       "      <td>63</td>\n",
       "      <td>10.2</td>\n",
       "    </tr>\n",
       "  </tbody>\n",
       "</table>\n",
       "</div>"
      ],
      "text/plain": [
       "       girth  height  volume\n",
       "Tree2    8.6      65    10.3\n",
       "Tree3    8.8      63    10.2"
      ]
     },
     "execution_count": 39,
     "metadata": {},
     "output_type": "execute_result"
    }
   ],
   "source": [
    "## type your code here:\n",
    "\n",
    "df.loc[df[\"height\"] < 70]\n",
    "# df[[\"height\"]] < 70"
   ]
  },
  {
   "cell_type": "code",
   "execution_count": 40,
   "metadata": {},
   "outputs": [],
   "source": [
    "##### How would you get the rows where the volume is equal to 10.3?"
   ]
  },
  {
   "cell_type": "code",
   "execution_count": 41,
   "metadata": {},
   "outputs": [
    {
     "data": {
      "text/html": [
       "<div>\n",
       "<style scoped>\n",
       "    .dataframe tbody tr th:only-of-type {\n",
       "        vertical-align: middle;\n",
       "    }\n",
       "\n",
       "    .dataframe tbody tr th {\n",
       "        vertical-align: top;\n",
       "    }\n",
       "\n",
       "    .dataframe thead th {\n",
       "        text-align: right;\n",
       "    }\n",
       "</style>\n",
       "<table border=\"1\" class=\"dataframe\">\n",
       "  <thead>\n",
       "    <tr style=\"text-align: right;\">\n",
       "      <th></th>\n",
       "      <th>girth</th>\n",
       "      <th>height</th>\n",
       "      <th>volume</th>\n",
       "    </tr>\n",
       "  </thead>\n",
       "  <tbody>\n",
       "    <tr>\n",
       "      <th>Tree1</th>\n",
       "      <td>8.3</td>\n",
       "      <td>70</td>\n",
       "      <td>10.3</td>\n",
       "    </tr>\n",
       "    <tr>\n",
       "      <th>Tree2</th>\n",
       "      <td>8.6</td>\n",
       "      <td>65</td>\n",
       "      <td>10.3</td>\n",
       "    </tr>\n",
       "  </tbody>\n",
       "</table>\n",
       "</div>"
      ],
      "text/plain": [
       "       girth  height  volume\n",
       "Tree1    8.3      70    10.3\n",
       "Tree2    8.6      65    10.3"
      ]
     },
     "execution_count": 41,
     "metadata": {},
     "output_type": "execute_result"
    }
   ],
   "source": [
    "df.loc[df[\"volume\"] == 10.3]"
   ]
  },
  {
   "cell_type": "markdown",
   "metadata": {},
   "source": [
    "##### Combining conditions\n",
    "\n",
    "Numpy has various bitwise operations which work on boolean arrays (bitwise operations work on binary sequences, a boolean list is a binary sequence)\n",
    "```python\n",
    "import numpy as np\n",
    "```\n",
    "+ **&**\n",
    "    + This is equivilant to the **and** logical operator or intersection set operator\n",
    "    + The resulting list will only be true where both conditions are true\n",
    "    ```python\n",
    "l1 = np.array([True, False])\n",
    "l2 = np.array([True, True])\n",
    "l1 & l2\n",
    "    ```\n",
    "+ |\n",
    "    + This is equivilant to the **or** logical operator or union set operator\n",
    "    + The resulting list will be true where any of the conditions is true\n",
    "    ```python\n",
    "l1 = np.array([True, False])\n",
    "l2 = np.array([True, True])\n",
    "l1 | l2\n",
    "    ```\n",
    "+ ~\n",
    "    + This is the **negation** operator and is equivilant to the **not** logical operator\n",
    "    + The resulting True/False values will be flipped\n",
    "        ```python\n",
    "l1 = np.array([True, False])\n",
    "~l1\n",
    "    ```\n",
    "    \n",
    "**When combining multiple conditions they should be put in separate parenthesis**\n",
    "\n",
    "This is to avoid ambiguity. The list of booleans for each condition is calculated then the results are compared.\n",
    "\n",
    "```python\n",
    "l = np.array([1,1,1, 10,10,10])\n",
    "# l % 2 == 0 & l < 10\n",
    "(l % 2 == 0) & (l < 10)\n",
    "```\n"
   ]
  },
  {
   "cell_type": "code",
   "execution_count": 42,
   "metadata": {},
   "outputs": [
    {
     "name": "stdout",
     "output_type": "stream",
     "text": [
      "[ True False] [ True  True]\n"
     ]
    }
   ],
   "source": [
    "## type your code here:\n",
    "\n",
    "l1 = np.array([True, False])\n",
    "l2 = np.array([True, True])\n",
    "print(l1, l2)"
   ]
  },
  {
   "cell_type": "code",
   "execution_count": 43,
   "metadata": {},
   "outputs": [
    {
     "data": {
      "text/plain": [
       "array([ True, False])"
      ]
     },
     "execution_count": 43,
     "metadata": {},
     "output_type": "execute_result"
    }
   ],
   "source": [
    "l1 & l2"
   ]
  },
  {
   "cell_type": "code",
   "execution_count": 44,
   "metadata": {},
   "outputs": [
    {
     "data": {
      "text/plain": [
       "array([False, False, False, False, False, False])"
      ]
     },
     "execution_count": 44,
     "metadata": {},
     "output_type": "execute_result"
    }
   ],
   "source": [
    "l = np.array([1,1,1, 10,10,10])\n",
    "(l % 2 == 0) & (l < 10)"
   ]
  },
  {
   "cell_type": "markdown",
   "metadata": {},
   "source": [
    "###### Using this how can we extract all rows with height < 70 and volume equal to 10.3?"
   ]
  },
  {
   "cell_type": "code",
   "execution_count": 45,
   "metadata": {},
   "outputs": [
    {
     "data": {
      "text/html": [
       "<div>\n",
       "<style scoped>\n",
       "    .dataframe tbody tr th:only-of-type {\n",
       "        vertical-align: middle;\n",
       "    }\n",
       "\n",
       "    .dataframe tbody tr th {\n",
       "        vertical-align: top;\n",
       "    }\n",
       "\n",
       "    .dataframe thead th {\n",
       "        text-align: right;\n",
       "    }\n",
       "</style>\n",
       "<table border=\"1\" class=\"dataframe\">\n",
       "  <thead>\n",
       "    <tr style=\"text-align: right;\">\n",
       "      <th></th>\n",
       "      <th>girth</th>\n",
       "      <th>height</th>\n",
       "      <th>volume</th>\n",
       "    </tr>\n",
       "  </thead>\n",
       "  <tbody>\n",
       "    <tr>\n",
       "      <th>Tree2</th>\n",
       "      <td>8.6</td>\n",
       "      <td>65</td>\n",
       "      <td>10.3</td>\n",
       "    </tr>\n",
       "  </tbody>\n",
       "</table>\n",
       "</div>"
      ],
      "text/plain": [
       "       girth  height  volume\n",
       "Tree2    8.6      65    10.3"
      ]
     },
     "execution_count": 45,
     "metadata": {},
     "output_type": "execute_result"
    }
   ],
   "source": [
    "## type your code here:\n",
    "\n",
    "height_cond = df['height'] < 70\n",
    "volume_cond = df['volume'] == 10.3\n",
    "df.loc[height_cond & volume_cond]"
   ]
  },
  {
   "cell_type": "markdown",
   "metadata": {},
   "source": [
    "###### Using this how can we extract all rows except with height < 70 and volume equal to 10.3?\n"
   ]
  },
  {
   "cell_type": "code",
   "execution_count": 46,
   "metadata": {},
   "outputs": [
    {
     "data": {
      "text/html": [
       "<div>\n",
       "<style scoped>\n",
       "    .dataframe tbody tr th:only-of-type {\n",
       "        vertical-align: middle;\n",
       "    }\n",
       "\n",
       "    .dataframe tbody tr th {\n",
       "        vertical-align: top;\n",
       "    }\n",
       "\n",
       "    .dataframe thead th {\n",
       "        text-align: right;\n",
       "    }\n",
       "</style>\n",
       "<table border=\"1\" class=\"dataframe\">\n",
       "  <thead>\n",
       "    <tr style=\"text-align: right;\">\n",
       "      <th></th>\n",
       "      <th>girth</th>\n",
       "      <th>height</th>\n",
       "      <th>volume</th>\n",
       "    </tr>\n",
       "  </thead>\n",
       "  <tbody>\n",
       "    <tr>\n",
       "      <th>Tree1</th>\n",
       "      <td>8.3</td>\n",
       "      <td>70</td>\n",
       "      <td>10.3</td>\n",
       "    </tr>\n",
       "    <tr>\n",
       "      <th>Tree3</th>\n",
       "      <td>8.8</td>\n",
       "      <td>63</td>\n",
       "      <td>10.2</td>\n",
       "    </tr>\n",
       "  </tbody>\n",
       "</table>\n",
       "</div>"
      ],
      "text/plain": [
       "       girth  height  volume\n",
       "Tree1    8.3      70    10.3\n",
       "Tree3    8.8      63    10.2"
      ]
     },
     "execution_count": 46,
     "metadata": {},
     "output_type": "execute_result"
    }
   ],
   "source": [
    "## type your code here:\n",
    "\n",
    "height_cond = df['height'] < 70\n",
    "volume_cond = df['volume'] == 10.3\n",
    "df.loc[~(height_cond & volume_cond)]"
   ]
  },
  {
   "cell_type": "markdown",
   "metadata": {},
   "source": [
    "### 2.9 Other functions"
   ]
  },
  {
   "cell_type": "code",
   "execution_count": 74,
   "metadata": {},
   "outputs": [],
   "source": [
    "## type your code here:\n",
    "\n",
    "_  = df['volume'].hist()"
   ]
  },
  {
   "cell_type": "markdown",
   "metadata": {},
   "source": [
    "- save dataframe to a csv file\n",
    "\n",
    "df.to_csv()\n",
    "\n",
    "\n",
    "- save dataframe to an excel file\n",
    "\n",
    "df.to_excel()\n",
    "https://pandas.pydata.org/pandas-docs/stable/reference/api/pandas.DataFrame.to_excel.html\n",
    "\n",
    "\n",
    "- apply a function to an entire dataframe\n",
    "\n",
    "```python\n",
    "print(df)\n",
    "print(df.apply(lambda x: x*2))\n",
    "```"
   ]
  },
  {
   "cell_type": "code",
   "execution_count": 49,
   "metadata": {},
   "outputs": [],
   "source": [
    "## type your code here:\n",
    "\n"
   ]
  },
  {
   "cell_type": "markdown",
   "metadata": {},
   "source": [
    "## Summary in the cheat sheets\n",
    "\n",
    "+ Numpy <br>     \n",
    "\n",
    "https://s3.amazonaws.com/assets.datacamp.com/blog_assets/Numpy_Python_Cheat_Sheet.pdf\n",
    "\n",
    "<br> \n",
    "\n",
    "+ Panda        <br>                      \n",
    "\n",
    "http://datacamp-community-prod.s3.amazonaws.com/dbed353d-2757-4617-8206-8767ab379ab3\n",
    "\n",
    "https://pandas.pydata.org/Pandas_Cheat_Sheet.pdf\n",
    "\n",
    " <br>   \n",
    "\n",
    "Many more here:  https://towardsdatascience.com/collecting-data-science-cheat-sheets-d2cdff092855\n",
    "\n",
    "------\n",
    "<br>\n"
   ]
  }
 ],
 "metadata": {
  "kernelspec": {
   "display_name": "Python 3",
   "language": "python",
   "name": "python3"
  },
  "language_info": {
   "codemirror_mode": {
    "name": "ipython",
    "version": 3
   },
   "file_extension": ".py",
   "mimetype": "text/x-python",
   "name": "python",
   "nbconvert_exporter": "python",
   "pygments_lexer": "ipython3",
   "version": "3.6.9"
  }
 },
 "nbformat": 4,
 "nbformat_minor": 2
}
