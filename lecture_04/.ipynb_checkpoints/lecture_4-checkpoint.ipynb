{
 "cells": [
  {
   "cell_type": "markdown",
   "metadata": {
    "slideshow": {
     "slide_type": "notes"
    }
   },
   "source": [
    "# Introduction to Python - Lecture 04 (15 October 2018)\n",
    "## Story so far...\n",
    "+ primitive python objects / data-types and operations (numbers, strings)\n",
    "+ logical / boolean operators\n",
    "+ variables and variable naming conventions (pep8, reserved keywords)\n",
    "+ expressions and simple statements (assignment)\n",
    "+ misc (user input, comments, mutability, terminology; git: branching etc.; atom, jupyter lab)\n",
    "+ Compound statements: if/else conditionals\n",
    "<br />\n",
    "\n",
    "\n",
    "# Sequential Types\n",
    "+ Introduce composite objects types (data structures) -> way to organize data for processing\n",
    "    + lists  \n",
    "    + Dictionaries\n",
    "    + Sets\n",
    "    + Tuples\n",
    "<br />\n",
    "---"
   ]
  },
  {
   "cell_type": "markdown",
   "metadata": {},
   "source": [
    "# Using what we have learnt so far how many variables can we store?"
   ]
  },
  {
   "cell_type": "markdown",
   "metadata": {},
   "source": [
    "# Sequential Data Types\n",
    "\n",
    "It is often necessary to group information together. This is the function of sequential data types.\n",
    "The primary difference between different sequential types is how data is accessed and stored.\n",
    "\n",
    "## Strings\n",
    "\n",
    "+ Strings are sequences of characters.\n",
    "+ Each character in a string is assigned a specific index.\n",
    "  + The first index is always **0**\n",
    "  + This always corresponds to the leftmost character\n",
    "  + Each subsequent character will have an index one greater than the previous index.\n",
    " \n",
    "Eg:\n",
    "\n",
    "\n",
    "String: 'ABCDEF'\n",
    "\n",
    "|String|A|B|C|D|E|F|\n",
    "|------|-|-|-|-|-|-|\n",
    "|Index |0|1|2|3|4|5|\n",
    "\n",
    "Each character can be accessed using the relavant index placed in square brackets [] after the string.\n",
    "\n",
    "```python\n",
    "'ABCDEF'[index]\n",
    "```"
   ]
  },
  {
   "cell_type": "code",
   "execution_count": null,
   "metadata": {},
   "outputs": [],
   "source": []
  },
  {
   "cell_type": "markdown",
   "metadata": {},
   "source": [
    "Accessing a subset of the string is similar.\n",
    "\n",
    "Instead of using a single index within the square brackets a start and end index are provided.\n",
    "\n",
    "```python\n",
    "'ABCDEF'[start_index:end_index]\n",
    "```\n",
    "\n",
    "The character at the end index is not included."
   ]
  },
  {
   "cell_type": "code",
   "execution_count": null,
   "metadata": {},
   "outputs": [],
   "source": []
  },
  {
   "cell_type": "markdown",
   "metadata": {},
   "source": [
    "Leaving either the start or end blank will result in the first or last index being used repectively.\n",
    "\n",
    "```python\n",
    "'ABCDEF'[start:]\n",
    "'ABCDEF'[:end]\n",
    "```"
   ]
  },
  {
   "cell_type": "code",
   "execution_count": null,
   "metadata": {},
   "outputs": [],
   "source": []
  },
  {
   "cell_type": "markdown",
   "metadata": {},
   "source": [
    "#### Practice"
   ]
  },
  {
   "cell_type": "code",
   "execution_count": null,
   "metadata": {},
   "outputs": [],
   "source": [
    "# Print B\n",
    "\n",
    "sequence = 'ABCDEF'\n",
    "subseq = sequence[]\n",
    "print(subseq)"
   ]
  },
  {
   "cell_type": "code",
   "execution_count": null,
   "metadata": {},
   "outputs": [],
   "source": [
    "# Print E\n",
    "\n",
    "sequence = 'ABCDEF'\n",
    "subseq = sequence[]\n",
    "print(subseq)"
   ]
  },
  {
   "cell_type": "code",
   "execution_count": null,
   "metadata": {},
   "outputs": [],
   "source": [
    "# Print CD\n",
    "\n",
    "sequence = 'ABCDEF'\n",
    "subseq = sequence[]\n",
    "print(subseq)"
   ]
  },
  {
   "cell_type": "code",
   "execution_count": null,
   "metadata": {},
   "outputs": [],
   "source": [
    "# Print ABC\n",
    "\n",
    "sequence = 'ABCDEF'\n",
    "subseq = sequence[]\n",
    "print(subseq)"
   ]
  },
  {
   "cell_type": "code",
   "execution_count": null,
   "metadata": {},
   "outputs": [],
   "source": [
    "# Print DEF\n",
    "\n",
    "sequence = 'ABCDEF'\n",
    "subseq = sequence[]\n",
    "print(subseq)"
   ]
  },
  {
   "cell_type": "markdown",
   "metadata": {},
   "source": [
    "# Lists\n",
    "\n",
    "+ Another sequence data type (like strings), that stores sequence of objects. For ex.\n",
    "    ```python\n",
    "    [1, 2, 3, 4, 5]\n",
    "    ```\n",
    "+ More generic - elements / items / components can be of **any type**, including **mixed**.  \n",
    "    ```python\n",
    "    [1, 2, 'a', [3, 4]]\n",
    "    ```\n",
    "+ Some examples from real world:\n",
    "    - List of employees in a company\n",
    "    - List of genes associated with a disease\n",
    "    - List of book recommendations for a user\n",
    "    - List of items in an order basket\n",
    "    - List of all citi-bike stations in the city [link](https://gbfs.citibikenyc.com/gbfs/en/station_information.json)\n",
    "<br />\n",
    "+ **Key characteristics**\n",
    "    - Elements have position and order (**ordered collection**)\n",
    "    - Elements can be heterogeneous (**arbitrarily typed**)  \n",
    "    - Lists can expand or contract dynamically\n",
    "    - can be single- or multi-dimensional\n",
    "<br />"
   ]
  },
  {
   "cell_type": "markdown",
   "metadata": {},
   "source": [
    "# Common List operations:\n",
    "    - Create\n",
    "    - Access elements or chunks\n",
    "    - Modify elements or chunks\n",
    "    - Check membership of an element\n",
    "    - Find position / index of a specific element\n",
    "    - Traverse through the list and do something\n",
    "    - Make it bigger / smaller (add and remove elements)\n",
    "    - Sort / reverse\n",
    "    - ...  \n",
    "\n",
    "```python\n",
    "help(list)\n",
    "help(list.index)\n",
    "```\n",
    "\n",
    "+ Some generic operations\n",
    "    - len(x), sum(x), max(x), etc.  \n",
    "<br />\n",
    "+ User-defined operations (will be covered later)"
   ]
  },
  {
   "cell_type": "code",
   "execution_count": null,
   "metadata": {},
   "outputs": [],
   "source": [
    "help(list.pop)"
   ]
  },
  {
   "cell_type": "code",
   "execution_count": null,
   "metadata": {},
   "outputs": [],
   "source": []
  },
  {
   "cell_type": "markdown",
   "metadata": {},
   "source": [
    "# Lists: Create\n",
    "\n",
    "\n",
    "```python\n",
    "x = [1,2,3,4,5]\t\t    # direct assignment\n",
    "y = [1, 'a', [1,2,3]]\n",
    "z = []                     # creates an empty list\n",
    "\n",
    "print(type(x), x)\n",
    "print(type(y), y)\n",
    "\n",
    "# build it incrementally (see below)\n",
    "\n",
    "# More advanced: List comprehensions (chk out for a potential lightning talk...)\n",
    "```"
   ]
  },
  {
   "cell_type": "code",
   "execution_count": null,
   "metadata": {},
   "outputs": [],
   "source": []
  },
  {
   "cell_type": "markdown",
   "metadata": {},
   "source": [
    "# Lists: Access and Modify\n",
    "+ All sequences (lists, strings, ...) support two basic access operations:\n",
    "    - Indexing\n",
    "    - Slicing\n",
    "```python\n",
    "vowels = ['a', 'e', 'i', 'o', 'u']\n",
    "print(vowels[0]) # indexing starts with '0'\n",
    "print(vowels[1])\n",
    "print(vowels[-1]) # negative indices go backwards\n",
    "print(vowels[10]) # out of range raises IndexError: You're responsible to respect list length\n",
    "print(vowels[1:3]) # slicing syntax: [start_idx : stop_idx[ : step_size]]; excludes stop_idx; \n",
    "print(vowels[::2])  # step_size is optional\n",
    "print(vowels[::-1])  # what does this do?\n",
    "```\n",
    "\n",
    "+ Indices are like mappings\n"
   ]
  },
  {
   "cell_type": "code",
   "execution_count": null,
   "metadata": {},
   "outputs": [],
   "source": []
  },
  {
   "cell_type": "markdown",
   "metadata": {},
   "source": [
    "# Lists are mutable (unlike strings)\n",
    "\n",
    "```python\n",
    "vowels = ['a', 'e', 'i', 'o', 'u']\n",
    "print(id(vowels), vowels)\n",
    "vowels[0] = 'A'\n",
    "vowels[1:3] = ['E', 'I']    # slice reassignment\n",
    "print(id(vowels), vowels)\n",
    "```"
   ]
  },
  {
   "cell_type": "code",
   "execution_count": null,
   "metadata": {},
   "outputs": [],
   "source": []
  },
  {
   "cell_type": "markdown",
   "metadata": {},
   "source": [
    "# Lists: Membership\n",
    "+ <font color='blue'>**in**</font> operator, similar to string type\n",
    "\n",
    "```python\n",
    "x = [1,2,3,4,5]\n",
    "print(1 in x)      # boolean expression: evaluates to True/False\n",
    "print(10 not in x) \n",
    "```"
   ]
  },
  {
   "cell_type": "code",
   "execution_count": null,
   "metadata": {},
   "outputs": [],
   "source": []
  },
  {
   "cell_type": "markdown",
   "metadata": {},
   "source": [
    "# Lists: index of a specific element\n",
    "```python\n",
    "x = ['a', 'b', 'c', 'd', 'e']\n",
    "print(x.index('b'))\n",
    "print(x.index('d'))          # ValueError exception\n",
    "```"
   ]
  },
  {
   "cell_type": "code",
   "execution_count": null,
   "metadata": {},
   "outputs": [],
   "source": []
  },
  {
   "cell_type": "markdown",
   "metadata": {},
   "source": [
    "# Lists: Add / remove elements\n",
    "\n",
    "```python\n",
    "x = [1,2,3,4,5]\n",
    "x.append(10)\n",
    "print(x)\n",
    "x.pop()\n",
    "print(x)\n",
    "x.pop(2)\n",
    "print(x)\n",
    "x.extend([11,12,13,14,15])     # or x + [11,12,13,14,15]\n",
    "print(x)\n",
    "```"
   ]
  },
  {
   "cell_type": "code",
   "execution_count": null,
   "metadata": {},
   "outputs": [],
   "source": []
  },
  {
   "cell_type": "markdown",
   "metadata": {},
   "source": [
    "## In-place operations\n",
    "\n",
    "As lists are mutable, some functions will change the original list and others will return a new list.\n",
    "\n",
    "```python\n",
    "x = [5, 5, 2, 6, 1, 9, 8, 3]\n",
    "print(id(x), x)\n",
    "y = sorted(x)\n",
    "x.sort()\n",
    "print('---SORTED---')\n",
    "print(id(x), x)\n",
    "print(id(y), y)\n",
    "```\n",
    "\n",
    "```python\n",
    "help(x.reverse)\n",
    "```"
   ]
  },
  {
   "cell_type": "code",
   "execution_count": null,
   "metadata": {},
   "outputs": [],
   "source": [
    "help(x.sort)"
   ]
  },
  {
   "cell_type": "markdown",
   "metadata": {},
   "source": [
    "# Tuples\n",
    "\n",
    "Tuples and lists are very similar:\n",
    "  + Both store values\n",
    "  + Both can hold different data types\n",
    "  + Both are accessed in the same way\n",
    "  \n",
    "The main difference between them is that tuples are immutable.\n",
    "\n",
    "This means that once a tuple is created it cannot have any additional values added to it.\n",
    "\n",
    "There are performance benefits to this:\n",
    "  + Lists require more memory than they use\n",
    "    + This allows for adding new elements without rebuilding the list (when enough elements are added the list does need to be rebuilt)\n",
    "  + Tuples are a fixed size, so the memory requirement is known in advance\n",
    "  \n",
    "Another use for tuples is as keys for dictionaries which we will discuss next.\n",
    "  + This is due to tuples being immutable\n",
    "  \n",
    "### Defining a tuple\n",
    "Where lists are defined using \\[ \\] tuples are defined using ()\n",
    "```python\n",
    "t = (1, 2, 3)\n",
    "```\n",
    "Alternatively than can be defined using the tuple construct\n",
    "```python\n",
    "t = tuple(1, 2, 3)\n",
    "```\n"
   ]
  },
  {
   "cell_type": "code",
   "execution_count": null,
   "metadata": {},
   "outputs": [],
   "source": []
  },
  {
   "cell_type": "markdown",
   "metadata": {},
   "source": [
    "### Attempting to assign a value to a tuple will result in a TypeError\n",
    "\n",
    "```python\n",
    "t = (1, 2, 3)\n",
    "print(t[0])\n",
    "t[0] = 2\n",
    "```\n"
   ]
  },
  {
   "cell_type": "code",
   "execution_count": 18,
   "metadata": {},
   "outputs": [
    {
     "data": {
      "text/plain": [
       "<generator object <genexpr> at 0x7f95103d9570>"
      ]
     },
     "execution_count": 18,
     "metadata": {},
     "output_type": "execute_result"
    }
   ],
   "source": []
  },
  {
   "cell_type": "markdown",
   "metadata": {},
   "source": [
    "### Tuples allow for mixed types\n",
    "\n",
    "```python\n",
    "t = (1, 'a', (2, 3.0))\n",
    "```"
   ]
  },
  {
   "cell_type": "code",
   "execution_count": null,
   "metadata": {},
   "outputs": [],
   "source": []
  },
  {
   "cell_type": "markdown",
   "metadata": {},
   "source": [
    "---\n",
    "# Dictionaries (a.k.a. HashMap/HashTable)\n",
    "\n",
    "+ Consist of a **set of mappings** between _**<font color='blue'>unique</font>**_ **keys** and their **values**.\n",
    "\n",
    "#### Basic syntax:\n",
    "<font color='magenta'>**\\{**</font> **key1**: value1, **key2**: value2, ...  <font color='magenta'>**}**</font>\n",
    "   \n",
    "```python\n",
    "# Example:\n",
    "genetic_code = {'uuu': 'phe', 'uua': 'leu', 'aug': 'met', 'uaa': 'stop'}\n",
    "```\n",
    "\n",
    "**Comparison with Lists**\n",
    "+ Lists are ordered: the order in which elements are added is the order in which they are stored\n",
    "    + Access by position/index\n",
    "        + Ex. letters = ['a', 'b', 'c', 'd', 'e', 'f']\n",
    "        + letters[0] is 'a' etc.\n",
    "+ Dictionaries are unordered\n",
    "    + Access by key\n",
    "        + Ex. dict_ = {'key1': 'a', 'key2': 'b', 'key3': 'c'}\n",
    "        + dict_['key1'] is 'a'\n",
    "        + {'key1': 'a'}\n",
    "\n",
    "The association between a **key** and a **value** is often refered to as a **key**-**value** pair or an **item**.\n",
    "\n",
    "\n",
    "#### Keys\n",
    "\n",
    "+ must be immutable (string, integer, float, tuple)\n",
    "+ must be unique\n",
    "\n",
    "\n",
    "#### Values\n",
    "+ Can be of any type, mutable or immutable, simple or composite (arbitrarily complex, heterogeneous)\n",
    "    + primitives (character: 'a', integer: 0, float: 3.4)\n",
    "    + sequential Types (string: 'asd', list: [0, 1, 2], another dictionary: {'key':'value'}, tuple: (0, 1, 2)\n",
    "    + user Defined Types (discussed later) (functions, classes, objects etc.)\n",
    "\n",
    "\n",
    "### Some Real World Examples\n",
    "\n",
    "+ {**&lt;gene_id&gt;**: **&lt;**gene sequence**&gt;**, ...}\n",
    "+ {**&lt;email&gt;**: **&lt;**user data**&gt;**, ...}\n",
    "+ {**&lt;soc security&gt;**: **&lt;**individual**&gt;**, ...}\n",
    "+ {**&lt;emp id&gt;**: **&lt;**emp data**&gt;**, ...}\n",
    "\n",
    "#### Lookup Table\n",
    "\n",
    "```python\n",
    "elements = {'H': 'hydrogen',   'He': 'helium', \n",
    "            'Li': 'lithium',  'C': 'carbon', \n",
    "            'O': 'oxygen',  'N': 'nitrogen'}\n",
    "complement = {'A': 'T', 'T': 'A', 'C': 'G', 'G': 'C'}\n",
    "print('H', '->', elements['H'])\n",
    "print('A', '->', complement['A'])\n",
    "```"
   ]
  },
  {
   "cell_type": "code",
   "execution_count": 5,
   "metadata": {},
   "outputs": [
    {
     "ename": "KeyError",
     "evalue": "'Z'",
     "output_type": "error",
     "traceback": [
      "\u001b[0;31m---------------------------------------------------------------------------\u001b[0m",
      "\u001b[0;31mKeyError\u001b[0m                                  Traceback (most recent call last)",
      "\u001b[0;32m<ipython-input-5-6384dd6b691a>\u001b[0m in \u001b[0;36m<module>\u001b[0;34m\u001b[0m\n\u001b[1;32m      1\u001b[0m \u001b[0mcomplement\u001b[0m \u001b[0;34m=\u001b[0m \u001b[0;34m{\u001b[0m\u001b[0;34m'A'\u001b[0m\u001b[0;34m:\u001b[0m \u001b[0;34m'T'\u001b[0m\u001b[0;34m,\u001b[0m \u001b[0;34m'T'\u001b[0m\u001b[0;34m:\u001b[0m \u001b[0;34m'A'\u001b[0m\u001b[0;34m,\u001b[0m \u001b[0;34m'C'\u001b[0m\u001b[0;34m:\u001b[0m \u001b[0;34m'G'\u001b[0m\u001b[0;34m,\u001b[0m \u001b[0;34m'G'\u001b[0m\u001b[0;34m:\u001b[0m \u001b[0;34m'C'\u001b[0m\u001b[0;34m}\u001b[0m\u001b[0;34m\u001b[0m\u001b[0;34m\u001b[0m\u001b[0m\n\u001b[0;32m----> 2\u001b[0;31m \u001b[0mcomplement\u001b[0m\u001b[0;34m[\u001b[0m\u001b[0;34m'Z'\u001b[0m\u001b[0;34m]\u001b[0m\u001b[0;34m\u001b[0m\u001b[0;34m\u001b[0m\u001b[0m\n\u001b[0m",
      "\u001b[0;31mKeyError\u001b[0m: 'Z'"
     ]
    }
   ],
   "source": [
    "complement = {'A': 'T', 'T': 'A', 'C': 'G', 'G': 'C'}\n",
    "complement['Z']"
   ]
  },
  {
   "cell_type": "markdown",
   "metadata": {},
   "source": [
    "#### Database Records\n",
    "```python\n",
    "person = {'name': 'John', \n",
    "          'surname': 'Grisham', \n",
    "          'contact': \n",
    "              {\n",
    "              'phone': {'office': '123-456-7890',\n",
    "                        'cell': '456-789-0123'\n",
    "                       },\n",
    "              'email': ['johnny@gmail.com', 'john.grisham@writers.com']\n",
    "              }\n",
    "          }\n",
    "print(person['name'])\n",
    "print(person['contact'])\n",
    "print(person['contact']['phone'])\n",
    "print(person['contact']['email'])\n",
    "```"
   ]
  },
  {
   "cell_type": "code",
   "execution_count": 8,
   "metadata": {},
   "outputs": [
    {
     "name": "stdout",
     "output_type": "stream",
     "text": [
      "{'office': '123-456-7890', 'cell': '456-789-0123'}\n"
     ]
    }
   ],
   "source": [
    "person = {'name': 'John', \n",
    "          'surname': 'Grisham', \n",
    "          'contact': \n",
    "              {\n",
    "              'phone': {'office': '123-456-7890',\n",
    "                        'cell': '456-789-0123'\n",
    "                       },\n",
    "              'email': ['johnny@gmail.com', 'john.grisham@writers.com']\n",
    "              }\n",
    "          }\n",
    "# print(person['name'])\n",
    "# print(person['contact'])\n",
    "print(person['contact']['phone'])\n",
    "# print(person['contact']['email'])"
   ]
  },
  {
   "cell_type": "markdown",
   "metadata": {},
   "source": [
    "## Operations\n",
    "\n",
    "```python\n",
    "help(dict)\n",
    "```\n",
    "\n",
    "+ Create\n",
    "+ Access keys, values or (key, value) pairs / items\n",
    "+ Modify items\n",
    "+ Check membership of a key\n",
    "+ Traverse through the dictionary and do something\n",
    "+ Make it bigger / smaller (add and remove items)\n",
    "+ …\n"
   ]
  },
  {
   "cell_type": "code",
   "execution_count": 9,
   "metadata": {},
   "outputs": [
    {
     "name": "stdout",
     "output_type": "stream",
     "text": [
      "Help on class dict in module builtins:\n",
      "\n",
      "class dict(object)\n",
      " |  dict() -> new empty dictionary\n",
      " |  dict(mapping) -> new dictionary initialized from a mapping object's\n",
      " |      (key, value) pairs\n",
      " |  dict(iterable) -> new dictionary initialized as if via:\n",
      " |      d = {}\n",
      " |      for k, v in iterable:\n",
      " |          d[k] = v\n",
      " |  dict(**kwargs) -> new dictionary initialized with the name=value pairs\n",
      " |      in the keyword argument list.  For example:  dict(one=1, two=2)\n",
      " |  \n",
      " |  Methods defined here:\n",
      " |  \n",
      " |  __contains__(self, key, /)\n",
      " |      True if the dictionary has the specified key, else False.\n",
      " |  \n",
      " |  __delitem__(self, key, /)\n",
      " |      Delete self[key].\n",
      " |  \n",
      " |  __eq__(self, value, /)\n",
      " |      Return self==value.\n",
      " |  \n",
      " |  __ge__(self, value, /)\n",
      " |      Return self>=value.\n",
      " |  \n",
      " |  __getattribute__(self, name, /)\n",
      " |      Return getattr(self, name).\n",
      " |  \n",
      " |  __getitem__(...)\n",
      " |      x.__getitem__(y) <==> x[y]\n",
      " |  \n",
      " |  __gt__(self, value, /)\n",
      " |      Return self>value.\n",
      " |  \n",
      " |  __init__(self, /, *args, **kwargs)\n",
      " |      Initialize self.  See help(type(self)) for accurate signature.\n",
      " |  \n",
      " |  __iter__(self, /)\n",
      " |      Implement iter(self).\n",
      " |  \n",
      " |  __le__(self, value, /)\n",
      " |      Return self<=value.\n",
      " |  \n",
      " |  __len__(self, /)\n",
      " |      Return len(self).\n",
      " |  \n",
      " |  __lt__(self, value, /)\n",
      " |      Return self<value.\n",
      " |  \n",
      " |  __ne__(self, value, /)\n",
      " |      Return self!=value.\n",
      " |  \n",
      " |  __repr__(self, /)\n",
      " |      Return repr(self).\n",
      " |  \n",
      " |  __setitem__(self, key, value, /)\n",
      " |      Set self[key] to value.\n",
      " |  \n",
      " |  __sizeof__(...)\n",
      " |      D.__sizeof__() -> size of D in memory, in bytes\n",
      " |  \n",
      " |  clear(...)\n",
      " |      D.clear() -> None.  Remove all items from D.\n",
      " |  \n",
      " |  copy(...)\n",
      " |      D.copy() -> a shallow copy of D\n",
      " |  \n",
      " |  get(self, key, default=None, /)\n",
      " |      Return the value for key if key is in the dictionary, else default.\n",
      " |  \n",
      " |  items(...)\n",
      " |      D.items() -> a set-like object providing a view on D's items\n",
      " |  \n",
      " |  keys(...)\n",
      " |      D.keys() -> a set-like object providing a view on D's keys\n",
      " |  \n",
      " |  pop(...)\n",
      " |      D.pop(k[,d]) -> v, remove specified key and return the corresponding value.\n",
      " |      If key is not found, d is returned if given, otherwise KeyError is raised\n",
      " |  \n",
      " |  popitem(...)\n",
      " |      D.popitem() -> (k, v), remove and return some (key, value) pair as a\n",
      " |      2-tuple; but raise KeyError if D is empty.\n",
      " |  \n",
      " |  setdefault(self, key, default=None, /)\n",
      " |      Insert key with a value of default if key is not in the dictionary.\n",
      " |      \n",
      " |      Return the value for key if key is in the dictionary, else default.\n",
      " |  \n",
      " |  update(...)\n",
      " |      D.update([E, ]**F) -> None.  Update D from dict/iterable E and F.\n",
      " |      If E is present and has a .keys() method, then does:  for k in E: D[k] = E[k]\n",
      " |      If E is present and lacks a .keys() method, then does:  for k, v in E: D[k] = v\n",
      " |      In either case, this is followed by: for k in F:  D[k] = F[k]\n",
      " |  \n",
      " |  values(...)\n",
      " |      D.values() -> an object providing a view on D's values\n",
      " |  \n",
      " |  ----------------------------------------------------------------------\n",
      " |  Class methods defined here:\n",
      " |  \n",
      " |  fromkeys(iterable, value=None, /) from builtins.type\n",
      " |      Create a new dictionary with keys from iterable and values set to value.\n",
      " |  \n",
      " |  ----------------------------------------------------------------------\n",
      " |  Static methods defined here:\n",
      " |  \n",
      " |  __new__(*args, **kwargs) from builtins.type\n",
      " |      Create and return a new object.  See help(type) for accurate signature.\n",
      " |  \n",
      " |  ----------------------------------------------------------------------\n",
      " |  Data and other attributes defined here:\n",
      " |  \n",
      " |  __hash__ = None\n",
      "\n"
     ]
    }
   ],
   "source": [
    "help(dict)"
   ]
  },
  {
   "cell_type": "markdown",
   "metadata": {},
   "source": [
    "## Creating a dictionary\n",
    "Several ways to create a dictionary\n",
    "\n",
    "```python\n",
    "dict_x = {'a': 1, 'b': 2}      # initialize by assignment\n",
    "dict_y = dict(a=1, b=2)        # use dict built-in function\n",
    "print(dict_x, dict_y)\n",
    "print(\"The value for key '{}' is {}\".format('a', dict_x['a']))\n",
    "```\n",
    "+ **keys** = 'a', 'b'\n",
    "+ **values** = 1, 2\n",
    "+ **items** = ('a', 1), ('b', 2)\n",
    "\n",
    "+ Access by key:\n",
    "```python\n",
    "print(\"The value for key '{}' is {}\".format('a', dict_x['a']))\n",
    "```\n",
    "\n",
    "#### Dictionaries can also be built incrementally - see example later"
   ]
  },
  {
   "cell_type": "code",
   "execution_count": 10,
   "metadata": {},
   "outputs": [
    {
     "name": "stdout",
     "output_type": "stream",
     "text": [
      "{'a': 1, 'b': 2} {'a': 1, 'b': 2}\n",
      "The value for key 'a' is 1\n"
     ]
    }
   ],
   "source": [
    "dict_x = {'a': 1, 'b': 2}      # initialize by assignment\n",
    "dict_y = dict(a=1, b=2)        # use dict built-in function\n",
    "print(dict_x, dict_y)\n",
    "print(\"The value for key '{}' is {}\".format('a', dict_x['a']))\n"
   ]
  },
  {
   "cell_type": "markdown",
   "metadata": {},
   "source": [
    "# Iterating over a dictionary\n",
    "\n",
    "### Pattern 1: &lt;dict&gt;.keys()\n",
    "<font color='blue'>**Note:**</font> &lt;dict&gt; is a placeholder for a dictionary object\n",
    "\n",
    "```python\n",
    "my_dict = {0: 'a', 1:'b', 2: 'c', 3: 'd'}\n",
    "print('dict_keys lazy obj: ', my_dict.keys())                       # lazy object\n",
    "print('dict_keys unpacked: ', list(my_dict.keys()))                 # forceful typecast\n",
    "print('Inside for loop:')\n",
    "for key in my_dict.keys():               # for loop unpacks the lazy object internally\n",
    "    print('key: ', key)\n",
    "```"
   ]
  },
  {
   "cell_type": "code",
   "execution_count": 14,
   "metadata": {},
   "outputs": [
    {
     "name": "stdout",
     "output_type": "stream",
     "text": [
      "dict_keys lazy obj:  dict_keys([0, 1, 2, 3])\n",
      "dict_keys unpacked:  [0, 1, 2, 3]\n",
      "Inside for loop:\n",
      "key:  0\n",
      "key:  1\n",
      "key:  2\n",
      "key:  3\n"
     ]
    }
   ],
   "source": [
    "my_dict = {0: 'a', 1:'b', 2: 'c', 3: 'd'}\n",
    "print('dict_keys lazy obj: ', my_dict.keys())                       # lazy object\n",
    "print('dict_keys unpacked: ', list(my_dict.keys()))                 # forceful \n",
    "print('Inside for loop:')\n",
    "for key in my_dict.keys():               # for loop unpacks the lazy object internally\n",
    "    print('key: ', key)"
   ]
  },
  {
   "cell_type": "markdown",
   "metadata": {},
   "source": [
    "### Pattern 2: &lt;dict&gt;.values()\n",
    "\n",
    "\n",
    "```python\n",
    "my_dict = {0: 'a', 1:'b', 2: 'c', 3: 'd'}\n",
    "print('dict_values lazy obj: ', my_dict.values())                    # lazy object\n",
    "print('dict_values unpacked: ', list(my_dict.values()))\n",
    "print('Inside for loop')\n",
    "for value in my_dict.values():\n",
    "    print('value: ', value)\n",
    "```"
   ]
  },
  {
   "cell_type": "code",
   "execution_count": 15,
   "metadata": {},
   "outputs": [
    {
     "name": "stdout",
     "output_type": "stream",
     "text": [
      "dict_values lazy obj:  dict_values(['a', 'b', 'c', 'd'])\n",
      "dict_values unpacked:  ['a', 'b', 'c', 'd']\n",
      "Inside for loop\n",
      "value:  a\n",
      "value:  b\n",
      "value:  c\n",
      "value:  d\n"
     ]
    }
   ],
   "source": [
    "my_dict = {0: 'a', 1:'b', 2: 'c', 3: 'd'}\n",
    "print('dict_values lazy obj: ', my_dict.values())                    # lazy object\n",
    "print('dict_values unpacked: ', list(my_dict.values()))\n",
    "print('Inside for loop')\n",
    "for value in my_dict.values():\n",
    "    print('value: ', value)"
   ]
  },
  {
   "cell_type": "markdown",
   "metadata": {},
   "source": [
    "### Pattern 3: &lt;dict&gt;.items()\n",
    "\n",
    "```python\n",
    "my_dict = {0: 'a', 1:'b', 2: 'c', 3: 'd'}\n",
    "print('dict_items lazy obj: ', my_dict.items())                     # lazy object\n",
    "print('dict_items unpacked: ', list(my_dict.items()))\n",
    "print('Inside for loop: ')\n",
    "for item in my_dict.items():\n",
    "    print(item)\n",
    "    # print('item: {}, key: {}, value: {}'.format(item, item[0], item[1]))\n",
    "```"
   ]
  },
  {
   "cell_type": "code",
   "execution_count": 16,
   "metadata": {},
   "outputs": [
    {
     "name": "stdout",
     "output_type": "stream",
     "text": [
      "dict_items lazy obj:  dict_items([(0, 'a'), (1, 'b'), (2, 'c'), (3, 'd')])\n",
      "dict_items unpacked:  [(0, 'a'), (1, 'b'), (2, 'c'), (3, 'd')]\n",
      "Inside for loop: \n",
      "(0, 'a')\n",
      "(1, 'b')\n",
      "(2, 'c')\n",
      "(3, 'd')\n"
     ]
    }
   ],
   "source": [
    "my_dict = {0: 'a', 1:'b', 2: 'c', 3: 'd'}\n",
    "print('dict_items lazy obj: ', my_dict.items())                     # lazy object\n",
    "print('dict_items unpacked: ', list(my_dict.items()))\n",
    "print('Inside for loop: ')\n",
    "for item in my_dict.items():\n",
    "    print(item)"
   ]
  },
  {
   "cell_type": "markdown",
   "metadata": {},
   "source": [
    "#### <font color='blue' size=3>Sidebar: List/Tuple unpacking</font> \n",
    "If there are the same number of variables as elements in a sequence, python will assign each element to a variable\n",
    "```python\n",
    "val1, val2 = [1, 2]\n",
    "print(val1, val2)\n",
    "```\n",
    "If there are more or less elements, python will throw a ValueError\n",
    "```python\n",
    "val1, val2 = [1]\n",
    "val1, val2 = [1, 2, 3]\n",
    "```"
   ]
  },
  {
   "cell_type": "code",
   "execution_count": 19,
   "metadata": {},
   "outputs": [
    {
     "ename": "ValueError",
     "evalue": "too many values to unpack (expected 2)",
     "output_type": "error",
     "traceback": [
      "\u001b[0;31m---------------------------------------------------------------------------\u001b[0m",
      "\u001b[0;31mValueError\u001b[0m                                Traceback (most recent call last)",
      "\u001b[0;32m<ipython-input-19-1cf6e869b8b6>\u001b[0m in \u001b[0;36m<module>\u001b[0;34m\u001b[0m\n\u001b[0;32m----> 1\u001b[0;31m \u001b[0mval1\u001b[0m\u001b[0;34m,\u001b[0m \u001b[0mval2\u001b[0m \u001b[0;34m=\u001b[0m \u001b[0;34m[\u001b[0m\u001b[0;36m1\u001b[0m\u001b[0;34m,\u001b[0m \u001b[0;36m2\u001b[0m\u001b[0;34m,\u001b[0m \u001b[0;36m3\u001b[0m\u001b[0;34m]\u001b[0m\u001b[0;34m\u001b[0m\u001b[0;34m\u001b[0m\u001b[0m\n\u001b[0m\u001b[1;32m      2\u001b[0m \u001b[0mprint\u001b[0m\u001b[0;34m(\u001b[0m\u001b[0mval1\u001b[0m\u001b[0;34m,\u001b[0m \u001b[0mval2\u001b[0m\u001b[0;34m)\u001b[0m\u001b[0;34m\u001b[0m\u001b[0;34m\u001b[0m\u001b[0m\n",
      "\u001b[0;31mValueError\u001b[0m: too many values to unpack (expected 2)"
     ]
    }
   ],
   "source": [
    "val1, val2 = [1, 2, 3]\n",
    "print(val1, val2)"
   ]
  },
  {
   "cell_type": "markdown",
   "metadata": {},
   "source": [
    "### Pattern 4: Item split into key/value\n",
    "```python\n",
    "my_dict = {0: 'a', 1:'b', 2: 'c', 3: 'd'}\n",
    "print('dict_items lazy obj:', my_dict.items())\n",
    "print('Inside for loop:')\n",
    "for key, value in my_dict.items():\n",
    "    print(\"key: {}, value: {}\".format(key, value))\n",
    "```"
   ]
  },
  {
   "cell_type": "code",
   "execution_count": 20,
   "metadata": {},
   "outputs": [
    {
     "name": "stdout",
     "output_type": "stream",
     "text": [
      "dict_items lazy obj: dict_items([(0, 'a'), (1, 'b'), (2, 'c'), (3, 'd')])\n",
      "Inside for loop:\n",
      "key: 0, value: a\n",
      "key: 1, value: b\n",
      "key: 2, value: c\n",
      "key: 3, value: d\n"
     ]
    }
   ],
   "source": [
    "my_dict = {0: 'a', 1:'b', 2: 'c', 3: 'd'}\n",
    "print('dict_items lazy obj:', my_dict.items())\n",
    "print('Inside for loop:')\n",
    "for key, value in my_dict.items():\n",
    "    print(\"key: {}, value: {}\".format(key, value))"
   ]
  },
  {
   "cell_type": "markdown",
   "metadata": {},
   "source": [
    "### Membership - check if a key exists in a dictionary\n",
    "\n",
    "```python\n",
    "some_dict = {'a': 0, 'b': 1, 'c': 2}\n",
    "print(\"our dict: \", some_dict)\n",
    "print(\"a in our dict: \", 'a' in some_dict)\n",
    "```"
   ]
  },
  {
   "cell_type": "code",
   "execution_count": 22,
   "metadata": {},
   "outputs": [
    {
     "name": "stdout",
     "output_type": "stream",
     "text": [
      "our dict:  {'a': 0, 'b': 1, 'c': 2}\n",
      "a in our dict:  False\n"
     ]
    }
   ],
   "source": [
    "some_dict = {'a': 0, 'b': 1, 'c': 2}\n",
    "print(\"our dict: \", some_dict)\n",
    "print(\"a in our dict: \", 'z' in some_dict)"
   ]
  },
  {
   "cell_type": "code",
   "execution_count": 23,
   "metadata": {},
   "outputs": [
    {
     "name": "stdout",
     "output_type": "stream",
     "text": [
      "a\n",
      "b\n",
      "c\n"
     ]
    }
   ],
   "source": [
    "for a in some_dict:\n",
    "    print(a)"
   ]
  },
  {
   "cell_type": "markdown",
   "metadata": {},
   "source": [
    "\n",
    "### Modifications\n",
    "\n",
    "+ Changing the value for a key\n",
    "\n",
    "```python\n",
    "some_dict['a'] = 10\n",
    "print(\"our dict (now): \", some_dict)\n",
    "```\n",
    "\n",
    "+ Adding individual key-value pair to a dictionary\n",
    "\n",
    "```python\n",
    "some_dict['d'] = 3\n",
    "print(\"our dict (now): \", some_dict)\n",
    "```\n",
    "\n",
    "+ Updating a dictionary with another dictionary (updates existing values; adds new key-value pairs)\n",
    "```python\n",
    "some_other_dict = {'a': 99, 'e': 999}\n",
    "some_dict.update(some_other_dict)           # This is an in-place operation (check out help(dict.update))\n",
    "print(\"our dict (now): \", some_dict)\n",
    "```"
   ]
  },
  {
   "cell_type": "code",
   "execution_count": 26,
   "metadata": {},
   "outputs": [
    {
     "name": "stdout",
     "output_type": "stream",
     "text": [
      "{'a': 10, 'b': 1, 'c': 2}\n",
      "{'a': 10, 'b': 1, 'c': 2, 'd': 3}\n"
     ]
    }
   ],
   "source": [
    "print(some_dict)\n",
    "some_dict['d'] = 3\n",
    "print(some_dict)"
   ]
  },
  {
   "cell_type": "code",
   "execution_count": 28,
   "metadata": {},
   "outputs": [
    {
     "name": "stdout",
     "output_type": "stream",
     "text": [
      "{'a': 10, 'b': 1, 'c': 2, 'd': 3}\n",
      "{'a': 99, 'b': 1, 'c': 2, 'd': 3, 'e': 999}\n"
     ]
    }
   ],
   "source": [
    "# help(some_dict.update)\n",
    "print(some_dict)\n",
    "some_other_dict = {'a': 99, 'e': 999}\n",
    "some_dict.update(some_other_dict)\n",
    "print(some_dict)"
   ]
  },
  {
   "cell_type": "markdown",
   "metadata": {},
   "source": [
    "### Extra - pretty Printing\n",
    "\n",
    "+ Complicated dictionaries do not print nicely.\n",
    "+ pprint is a library that prints dictionaries in a more structured manner\n",
    "    + external library that needs to be imported\n",
    "    + it comes standard with python installation\n",
    "+ If you want to configure the output, create a pretty printer object first before using it (ow default config is used)\n",
    "\n",
    "```python\n",
    "import pprint\n",
    "dict_ = {'name': 'Joe', 'Surname': 'van Niekerk', 'email': 'jvn@c.m', \n",
    "        'friends': [{'name': 'Sally'}, {'name': 'Dave'}, {'name': 'Rick'}, {'name': 'James'}]}\n",
    "print('\\n' +'-'*50)\n",
    "print(\"No pretty printing\")\n",
    "print('-'*50)\n",
    "print(dict_)\n",
    "print('\\n' + '-'*50)\n",
    "print(\"Default pretty printing\")\n",
    "print('-'*50)\n",
    "pprint.pprint(dict_)\n",
    "print('\\n' + '-'*50)\n",
    "print(\"Custom pretty printing\")\n",
    "print('-'*50)\n",
    "pp = pprint.PrettyPrinter(indent=4)   # create a pprint object with desired attributes (more on this later)\n",
    "pp.pprint(dict_)\n",
    "```"
   ]
  },
  {
   "cell_type": "code",
   "execution_count": 33,
   "metadata": {},
   "outputs": [
    {
     "name": "stdout",
     "output_type": "stream",
     "text": [
      "{   'Surname': 'van Niekerk',\n",
      "    'email': 'jvn@c.m',\n",
      "    'friends': [   {'name': 'Sally'},\n",
      "                   {'name': 'Dave'},\n",
      "                   {'name': 'Rick'},\n",
      "                   {'name': 'James'}],\n",
      "    'name': 'Joe'}\n"
     ]
    }
   ],
   "source": [
    "import pprint\n",
    "dict_ = {'name': 'Joe', 'Surname': 'van Niekerk', 'email': 'jvn@c.m', \n",
    "        'friends': [{'name': 'Sally'}, {'name': 'Dave'}, {'name': 'Rick'}, {'name': 'James'}]}\n",
    "pp = pprint.PrettyPrinter(indent=4)\n",
    "pp.pprint(dict_)\n",
    "# dict_"
   ]
  }
 ],
 "metadata": {
  "anaconda-cloud": {},
  "kernelspec": {
   "display_name": "Python 3",
   "language": "python",
   "name": "python3"
  },
  "language_info": {
   "codemirror_mode": {
    "name": "ipython",
    "version": 3
   },
   "file_extension": ".py",
   "mimetype": "text/x-python",
   "name": "python",
   "nbconvert_exporter": "python",
   "pygments_lexer": "ipython3",
   "version": "3.7.3"
  }
 },
 "nbformat": 4,
 "nbformat_minor": 4
}
